{
 "cells": [
  {
   "cell_type": "code",
   "execution_count": 2,
   "metadata": {},
   "outputs": [],
   "source": [
    "import numpy as np\n",
    "import matplotlib.pyplot as plt\n",
    "import pickle"
   ]
  },
  {
   "cell_type": "code",
   "execution_count": 7,
   "metadata": {},
   "outputs": [],
   "source": [
    "# Load data\n",
    "\n",
    "def load_list(filename):\n",
    "    vocabulary = []\n",
    "    with open(filename, 'r') as f:\n",
    "        for l in f:\n",
    "            vocabulary.append(l.strip())\n",
    "    return np.asarray(vocabulary)\n",
    "\n",
    "def load_csv(filename):\n",
    "    import csv\n",
    "    \n",
    "    sentence = []\n",
    "    with open(filename, 'r') as csvfile:\n",
    "        reader = csv.reader(csvfile)\n",
    "        for row in reader:\n",
    "            sentence.append(str(row))\n",
    "    return np.asarray(sentence).flatten()\n",
    "    \n",
    "import pickle\n",
    "\n",
    "def save_pickle(path, X):\n",
    "    with open(path, 'wb') as f:\n",
    "        pickle.dump(X, f)\n",
    "def open_pickle(path):\n",
    "    with open(path, 'rb') as f:\n",
    "        X = pickle.load(f)\n",
    "    return X\n",
    "\n",
    "X_train_sent = open_pickle('./sentence_data/imdb_sentence_xtrain.pickle')\n",
    "X_test_sent = open_pickle('./sentence_data/imdb_sentence_xtest.pickle')\n",
    "y_train = open_pickle('./sentence_data/imdb_sentence_ytrain.pickle')\n",
    "y_test = open_pickle('./sentence_data/imdb_sentence_ytest.pickle')"
   ]
  },
  {
   "cell_type": "code",
   "execution_count": 8,
   "metadata": {},
   "outputs": [
    {
     "data": {
      "text/plain": [
       "(2000,)"
      ]
     },
     "execution_count": 8,
     "metadata": {},
     "output_type": "execute_result"
    }
   ],
   "source": [
    "X = np.hstack((X_train_sent, X_test_sent))\n",
    "y = np.hstack((y_train, y_test))\n",
    "# X.shape\n",
    "y.shape"
   ]
  },
  {
   "cell_type": "code",
   "execution_count": 9,
   "metadata": {},
   "outputs": [
    {
     "data": {
      "text/plain": [
       "(1000,)"
      ]
     },
     "execution_count": 9,
     "metadata": {},
     "output_type": "execute_result"
    }
   ],
   "source": [
    "X_rel = X[y==1]\n",
    "X_unrel = X[y==0]\n",
    "\n",
    "X_rel.shape"
   ]
  },
  {
   "cell_type": "code",
   "execution_count": 10,
   "metadata": {},
   "outputs": [
    {
     "name": "stdout",
     "output_type": "stream",
     "text": [
      "\n",
      "-- Related Sentence Statistics --\n",
      "Total sentences  1000\n",
      "Max \t:  84\n",
      "Min \t:  1\n",
      "Mean \t:  15\n",
      "Median \t:  13\n",
      "\n",
      "\n",
      "-- Unrelated Sentence Statistics --\n",
      "Total sentences  1000\n",
      "Max \t:  109\n",
      "Min \t:  1\n",
      "Mean \t:  17\n",
      "Median \t:  15\n",
      "\n"
     ]
    }
   ],
   "source": [
    "X_rel_sent = np.zeros(len(X_rel))\n",
    "X_unrel_sent = np.zeros(len(X_unrel))\n",
    "\n",
    "for i in range(len(X_rel_sent)):\n",
    "    X_rel_sent[i] = len(X_rel[i].split())\n",
    "\n",
    "for i in range(len(X_unrel_sent)):\n",
    "    X_unrel_sent[i] = len(X_unrel[i].split())\n",
    "\n",
    "def print_word_stat(title, X):\n",
    "    print()\n",
    "    print('--', title, 'Statistics --')\n",
    "\n",
    "    print('Total sentences ', len(X))\n",
    "    print('Max \\t: ', int(np.max(X)))\n",
    "    print('Min \\t: ', int(np.min(X)))\n",
    "    print('Mean \\t: ', int(np.mean(X)))\n",
    "    print('Median \\t: ', int(np.median(X)))\n",
    "    print()\n",
    "\n",
    "# print_word_stat('Whole corpus', X_sent_len)\n",
    "print_word_stat('Related Sentence', X_rel_sent)\n",
    "print_word_stat('Unrelated Sentence', X_unrel_sent)\n"
   ]
  },
  {
   "cell_type": "code",
   "execution_count": 11,
   "metadata": {},
   "outputs": [],
   "source": [
    "from sklearn.feature_extraction.text import CountVectorizer\n",
    "\n",
    "token = r\"(?u)\\b[\\w\\'/]+\\b\"\n",
    "tf_vectorizer = CountVectorizer(lowercase=True, max_df=1.0, min_df=1, binary=True, token_pattern=token)\n",
    "tf_vectorizer.set_params(ngram_range=(1,1))\n",
    "\n",
    "X_train = tf_vectorizer.fit_transform(X_train_sent)\n",
    "X_test = tf_vectorizer.transform(X_test_sent)\n",
    "\n",
    "# from sklearn.model_selection import train_test_split\n",
    "# X_train, X_test, y_train, y_test = train_test_split(X_vectorized, y, test_size=0.33, random_state=42)"
   ]
  },
  {
   "cell_type": "code",
   "execution_count": 12,
   "metadata": {},
   "outputs": [
    {
     "name": "stdout",
     "output_type": "stream",
     "text": [
      "4532\n"
     ]
    }
   ],
   "source": [
    "words = tf_vectorizer.get_feature_names()\n",
    "print(len(words))\n",
    "# print(words[500:600])"
   ]
  },
  {
   "cell_type": "code",
   "execution_count": 13,
   "metadata": {},
   "outputs": [
    {
     "name": "stdout",
     "output_type": "stream",
     "text": [
      "(1333,)\n",
      "(667,)\n"
     ]
    }
   ],
   "source": [
    "print(y_train.shape)\n",
    "print(y_test.shape)"
   ]
  },
  {
   "cell_type": "code",
   "execution_count": 45,
   "metadata": {},
   "outputs": [],
   "source": [
    "from sklearn.utils import shuffle\n",
    "X_train, y_train = shuffle(X_train, y_train, random_state=42)\n",
    "X_test, y_test = shuffle(X_test, y_test, random_state=42)"
   ]
  },
  {
   "cell_type": "code",
   "execution_count": 57,
   "metadata": {},
   "outputs": [],
   "source": [
    "def lr_classifier_report(X_tr, y_tr, X_te, y_te, random_state=42, C=1.0):\n",
    "    from sklearn.linear_model import LogisticRegression\n",
    "    from sklearn.metrics import precision_recall_curve\n",
    "    from sklearn.metrics import average_precision_score\n",
    "    from sklearn.metrics import roc_curve, auc\n",
    "    from sklearn.metrics import classification_report\n",
    "    import matplotlib.pyplot as plt\n",
    "\n",
    "    clf = LogisticRegression(random_state=random_state, C=C)\n",
    "    clf.fit(X_tr, y_tr)\n",
    "\n",
    "    y_predict = clf.predict(X_te)\n",
    "\n",
    "    print('--------------')\n",
    "    print('C=%.2f' %(C))\n",
    "    print('--------------')\n",
    "    print('Accuracy')\n",
    "    print('Train:\\t%.5f ' %(clf.score(X_tr, y_tr)))\n",
    "    print('Test:\\t%.5f ' %(clf.score(X_te, y_te)))\n",
    "    \n",
    "    print(classification_report(y_te,y_predict))\n",
    "    #############################################################################\n",
    "    y_score = clf.decision_function(X_te)\n",
    "    \n",
    "    precision, recall, _ = precision_recall_curve(y_te, y_score)\n",
    "    average_precision = average_precision_score(y_te, y_score)\n",
    "    \n",
    "    plt.step(recall, precision, color='b', alpha=0.2, where='post')\n",
    "    plt.fill_between(recall, precision, step='post', alpha=0.2, color='b')\n",
    "\n",
    "    \n",
    "    plt.xlabel('Recall')\n",
    "    plt.ylabel('Precision')\n",
    "    plt.ylim([0.0, 1.05])\n",
    "    plt.xlim([0.0, 1.0])\n",
    "    plt.title('2-class Precision-Recall curve: AP={0:0.2f}'.format(\n",
    "          average_precision))\n",
    "    plt.show()\n",
    "    plt.clf()\n",
    "    \n",
    "    false_positive_rate, true_positive_rate, thresholds = roc_curve(y_te, y_score)\n",
    "    roc_auc = auc(false_positive_rate, true_positive_rate)\n",
    "    \n",
    "    plt.title('Receiver Operating Characteristic')\n",
    "    plt.plot(false_positive_rate, true_positive_rate, 'b',\n",
    "    label='AUC = %0.2f'% roc_auc)\n",
    "    plt.legend(loc='lower right')\n",
    "    plt.plot([0,1],[0,1],'r--')\n",
    "    plt.xlim([-0.1,1.2])\n",
    "    plt.ylim([-0.1,1.2])\n",
    "    plt.ylabel('True Positive Rate')\n",
    "    plt.xlabel('False Positive Rate')\n",
    "    plt.show()\n",
    "    \n",
    "    return clf"
   ]
  },
  {
   "cell_type": "code",
   "execution_count": 58,
   "metadata": {},
   "outputs": [
    {
     "name": "stdout",
     "output_type": "stream",
     "text": [
      "--------------\n",
      "C=1.00\n",
      "--------------\n",
      "Accuracy\n",
      "Train:\t0.98575 \n",
      "Test:\t0.75562 \n",
      "             precision    recall  f1-score   support\n",
      "\n",
      "        0.0       0.80      0.73      0.76       363\n",
      "        1.0       0.71      0.79      0.75       304\n",
      "\n",
      "avg / total       0.76      0.76      0.76       667\n",
      "\n"
     ]
    },
    {
     "data": {
      "image/png": "[encoded data removed]",
      "text/plain": [
       "<matplotlib.figure.Figure at 0x25dcb3a15f8>"
      ]
     },
     "metadata": {},
     "output_type": "display_data"
    },
    {
     "data": {
      "image/png": "[encoded data removed]",
      "text/plain": [
       "<matplotlib.figure.Figure at 0x25dcb40ab00>"
      ]
     },
     "metadata": {},
     "output_type": "display_data"
    }
   ],
   "source": [
    "clf1 = lr_classifier_report(X_train, y_train, X_test, y_test, C=1.0)"
   ]
  },
  {
   "cell_type": "code",
   "execution_count": 59,
   "metadata": {},
   "outputs": [
    {
     "name": "stdout",
     "output_type": "stream",
     "text": [
      "--------------\n",
      "C=0.10\n",
      "--------------\n",
      "Accuracy\n",
      "Train:\t0.88897 \n",
      "Test:\t0.75862 \n",
      "             precision    recall  f1-score   support\n",
      "\n",
      "        0.0       0.80      0.74      0.77       363\n",
      "        1.0       0.71      0.79      0.75       304\n",
      "\n",
      "avg / total       0.76      0.76      0.76       667\n",
      "\n"
     ]
    },
    {
     "data": {
      "image/png": "[encoded data removed]",
      "text/plain": [
       "<matplotlib.figure.Figure at 0x25dcb3a1438>"
      ]
     },
     "metadata": {},
     "output_type": "display_data"
    },
    {
     "data": {
      "image/png": "[encoded data removed]",
      "text/plain": [
       "<matplotlib.figure.Figure at 0x25dcb44b320>"
      ]
     },
     "metadata": {},
     "output_type": "display_data"
    }
   ],
   "source": [
    "clf2 = lr_classifier_report(X_train, y_train, X_test, y_test, C=0.1)"
   ]
  },
  {
   "cell_type": "code",
   "execution_count": 60,
   "metadata": {},
   "outputs": [
    {
     "name": "stdout",
     "output_type": "stream",
     "text": [
      "--------------\n",
      "C=0.01\n",
      "--------------\n",
      "Accuracy\n",
      "Train:\t0.76819 \n",
      "Test:\t0.69415 \n",
      "             precision    recall  f1-score   support\n",
      "\n",
      "        0.0       0.77      0.63      0.69       363\n",
      "        1.0       0.64      0.77      0.70       304\n",
      "\n",
      "avg / total       0.71      0.69      0.69       667\n",
      "\n"
     ]
    },
    {
     "data": {
      "image/png": "[encoded data removed]",
      "text/plain": [
       "<matplotlib.figure.Figure at 0x25dc62ea908>"
      ]
     },
     "metadata": {},
     "output_type": "display_data"
    },
    {
     "data": {
      "image/png": "[encoded data removed]",
      "text/plain": [
       "<matplotlib.figure.Figure at 0x25dcaffa4e0>"
      ]
     },
     "metadata": {},
     "output_type": "display_data"
    }
   ],
   "source": [
    "clf3 = lr_classifier_report(X_train, y_train, X_test, y_test, C=0.01)"
   ]
  },
  {
   "cell_type": "code",
   "execution_count": 61,
   "metadata": {},
   "outputs": [
    {
     "name": "stdout",
     "output_type": "stream",
     "text": [
      "--------------\n",
      "C=0.00\n",
      "--------------\n",
      "Accuracy\n",
      "Train:\t0.70893 \n",
      "Test:\t0.63268 \n",
      "             precision    recall  f1-score   support\n",
      "\n",
      "        0.0       0.81      0.42      0.56       363\n",
      "        1.0       0.56      0.88      0.69       304\n",
      "\n",
      "avg / total       0.70      0.63      0.62       667\n",
      "\n"
     ]
    },
    {
     "data": {
      "image/png": "[encoded data removed]",
      "text/plain": [
       "<matplotlib.figure.Figure at 0x25dcb03eeb8>"
      ]
     },
     "metadata": {},
     "output_type": "display_data"
    },
    {
     "data": {
      "image/png": "[encoded data removed]",
      "text/plain": [
       "<matplotlib.figure.Figure at 0x25dcaf75358>"
      ]
     },
     "metadata": {},
     "output_type": "display_data"
    }
   ],
   "source": [
    "clf3 = lr_classifier_report(X_train, y_train, X_test, y_test, C=0.001)"
   ]
  },
  {
   "cell_type": "code",
   "execution_count": 34,
   "metadata": {},
   "outputs": [],
   "source": [
    "weights = clf3.coef_.flatten()\n",
    "\n",
    "\n",
    "def negative_positive_counts(X, y, word_index):\n",
    "    neg_count = np.sum(X[y==0, word_index])\n",
    "    pos_count = np.sum(X[y==1, word_index])    \n",
    "    return neg_count, pos_count"
   ]
  },
  {
   "cell_type": "code",
   "execution_count": 30,
   "metadata": {},
   "outputs": [
    {
     "name": "stdout",
     "output_type": "stream",
     "text": [
      "word\tweight\trelated\tunrelated\n",
      "in\t-0.24\t108\t178\n",
      "he\t-0.18\t11\t59\n",
      "to\t-0.17\t158\t209\n",
      "on\t-0.14\t55\t92\n",
      "who\t-0.14\t23\t61\n",
      "when\t-0.13\t18\t50\n",
      "the\t-0.12\t331\t353\n",
      "into\t-0.12\t5\t32\n",
      "about\t-0.11\t27\t48\n",
      "from\t-0.09\t28\t50\n"
     ]
    }
   ],
   "source": [
    "not_related_indices = np.argsort(weights)\n",
    "related_indices = not_related_indices[::-1]\n",
    "\n",
    "print(\"word\\tweight\\trelated\\tunrelated\")\n",
    "for i in not_related_indices[:10]:\n",
    "    unrel_cnt, rel_cnt = negative_positive_counts(X_train, y_train, i)\n",
    "    print(\"%s\\t%0.2f\\t%d\\t%d\" %(words[i], weights[i], rel_cnt, unrel_cnt))"
   ]
  },
  {
   "cell_type": "code",
   "execution_count": 32,
   "metadata": {},
   "outputs": [
    {
     "name": "stdout",
     "output_type": "stream",
     "text": [
      "word\t\tweight\trelated\tunrelated\n",
      "this\t\t0.34\t281\t124\n",
      "movie\t\t0.30\t184\t67\n",
      "is\t\t0.27\t281\t160\n",
      "film\t\t0.20\t136\t63\n",
      "it\t\t0.14\t185\t122\n",
      "very\t\t0.12\t39\t8\n",
      "good\t\t0.12\t43\t11\n",
      "all\t\t0.10\t60\t34\n",
      "great\t\t0.09\t35\t9\n",
      "ever\t\t0.09\t31\t6\n",
      "watch\t\t0.08\t32\t9\n",
      "but\t\t0.08\t79\t51\n",
      "acting\t\t0.07\t19\t2\n",
      "recommend\t\t0.07\t17\t0\n",
      "actor\t\t0.07\t17\t1\n",
      "worth\t\t0.07\t16\t0\n",
      "most\t\t0.06\t22\t7\n",
      "was\t\t0.06\t117\t90\n",
      "scene\t\t0.06\t23\t8\n",
      "well\t\t0.06\t22\t7\n",
      "worst\t\t0.06\t19\t2\n",
      "plot\t\t0.06\t25\t10\n",
      "even\t\t0.06\t21\t7\n",
      "best\t\t0.06\t24\t8\n",
      "awful\t\t0.06\t14\t0\n",
      "performance\t\t0.06\t14\t2\n",
      "bad\t\t0.06\t23\t6\n",
      "excellent\t\t0.05\t14\t1\n",
      "pretty\t\t0.05\t17\t3\n",
      "script\t\t0.05\t13\t0\n"
     ]
    }
   ],
   "source": [
    "print(\"word\\t\\tweight\\trelated\\tunrelated\")\n",
    "for i in related_indices[:30]:\n",
    "    unrel_cnt, rel_cnt = negative_positive_counts(X_train, y_train, i)\n",
    "    print(\"%s\\t\\t%0.2f\\t%d\\t%d\" %(words[i], weights[i], rel_cnt, unrel_cnt))"
   ]
  },
  {
   "cell_type": "code",
   "execution_count": 33,
   "metadata": {},
   "outputs": [
    {
     "name": "stdout",
     "output_type": "stream",
     "text": [
      "word\tweight\trelated\tunrelated\n",
      "this\t0.34\t281\t124\n",
      "movie\t0.30\t184\t67\n",
      "is\t0.27\t281\t160\n",
      "in\t-0.24\t108\t178\n",
      "film\t0.20\t136\t63\n",
      "he\t-0.18\t11\t59\n",
      "to\t-0.17\t158\t209\n",
      "it\t0.14\t185\t122\n",
      "on\t-0.14\t55\t92\n",
      "who\t-0.14\t23\t61\n"
     ]
    }
   ],
   "source": [
    "abs_indices = np.argsort(np.absolute(weights))[::-1]\n",
    "\n",
    "print(\"word\\tweight\\trelated\\tunrelated\")\n",
    "for i in abs_indices[:10]:\n",
    "    unrel_cnt, rel_cnt = negative_positive_counts(X_train, y_train, i)\n",
    "    print(\"%s\\t%0.2f\\t%d\\t%d\" %(words[i], weights[i], rel_cnt, unrel_cnt))"
   ]
  },
  {
   "cell_type": "markdown",
   "metadata": {},
   "source": [
    "## P(related|sentence) and Count\n",
    "\n",
    "### Threshold 0.5, 0.9, 0.99"
   ]
  },
  {
   "cell_type": "code",
   "execution_count": 120,
   "metadata": {},
   "outputs": [],
   "source": [
    "def get_sentences(corpus):\n",
    "    from textblob import TextBlob\n",
    "    text = TextBlob(corpus)\n",
    "    i = 0\n",
    "    sent = []\n",
    "    for sentence in text.raw_sentences:\n",
    "        sent.append(sentence)\n",
    "    return sent\n",
    "\n",
    "def count_related_sentence(clf, cv, X_te, threshold=None):\n",
    "    count = []\n",
    "    \n",
    "    for corpus in X_te:\n",
    "        sentences = get_sentences(corpus)\n",
    "        sentence_set = cv.transform(sentences)\n",
    "        \n",
    "        if threshold==None:\n",
    "            y = clf.predict(sentence_set)\n",
    "            count.append(int(np.sum(y)))\n",
    "        else:\n",
    "            y = clf.decision_function(sentence_set)\n",
    "            count.append(int(np.sum(y>threshold)))\n",
    "        \n",
    "    return count\n",
    "\n",
    "def summary_count(count):\n",
    "    max_count = np.max(count)    \n",
    "    summary = np.zeros(max_count+1, dtype=np.int)\n",
    "    \n",
    "    \n",
    "    for item in count:\n",
    "        summary[item] += 1\n",
    "        \n",
    "    return summary\n",
    "\n",
    "# Load data\n",
    "X_te_clean = open_pickle(\"./pickles/imdb_x_te_clean.pickle\")\n",
    "y_te = open_pickle(\"./pickles/imdb_y_te.pickle\")"
   ]
  },
  {
   "cell_type": "code",
   "execution_count": 112,
   "metadata": {},
   "outputs": [
    {
     "name": "stdout",
     "output_type": "stream",
     "text": [
      "0 : 514\n",
      "1 : 1848\n",
      "2 : 3002\n",
      "3 : 3739\n",
      "4 : 3649\n",
      "5 : 3124\n",
      "6 : 2584\n",
      "7 : 1870\n",
      "8 : 1311\n",
      "9 : 929\n",
      "10 : 646\n",
      "11 : 440\n",
      "12 : 343\n",
      "13 : 267\n",
      "14 : 180\n",
      "15 : 134\n",
      "16 : 100\n",
      "17 : 76\n",
      "18 : 71\n",
      "19 : 34\n",
      "20 : 27\n",
      "21 : 30\n",
      "22 : 20\n",
      "23 : 11\n",
      "24 : 9\n",
      "25 : 15\n",
      "26 : 6\n",
      "27 : 3\n",
      "28 : 2\n",
      "29 : 1\n",
      "30 : 4\n",
      "31 : 4\n",
      "32 : 1\n",
      "33 : 2\n",
      "34 : 2\n",
      "35 : 0\n",
      "36 : 1\n",
      "37 : 0\n",
      "38 : 0\n",
      "39 : 0\n",
      "40 : 0\n",
      "41 : 1\n"
     ]
    }
   ],
   "source": [
    "# no threshold\n",
    "count = count_related_sentence(clf2, tf_vectorizer, X_te_clean)\n",
    "summary = summary_count(count)\n",
    "\n",
    "for i, cnt in enumerate(summary):\n",
    "    print('%d : %d' %(i, cnt))"
   ]
  },
  {
   "cell_type": "code",
   "execution_count": 115,
   "metadata": {},
   "outputs": [
    {
     "name": "stdout",
     "output_type": "stream",
     "text": [
      "0 : 1852\n",
      "1 : 4247\n",
      "2 : 5121\n",
      "3 : 4682\n",
      "4 : 3335\n",
      "5 : 2260\n",
      "6 : 1378\n",
      "7 : 816\n",
      "8 : 465\n",
      "9 : 293\n",
      "10 : 217\n",
      "11 : 113\n",
      "12 : 85\n",
      "13 : 51\n",
      "14 : 28\n",
      "15 : 28\n",
      "16 : 6\n",
      "17 : 9\n",
      "18 : 5\n",
      "19 : 3\n",
      "20 : 1\n",
      "21 : 1\n",
      "22 : 1\n",
      "23 : 0\n",
      "24 : 0\n",
      "25 : 2\n",
      "26 : 1\n"
     ]
    }
   ],
   "source": [
    "count_threshold1 = count_related_sentence(clf2, tf_vectorizer, X_te_clean, threshold=0.5)\n",
    "summary = summary_count(count_threshold1)\n",
    "for i, cnt in enumerate(summary):\n",
    "    print('%d : %d' %(i, cnt))"
   ]
  },
  {
   "cell_type": "code",
   "execution_count": 116,
   "metadata": {},
   "outputs": [
    {
     "name": "stdout",
     "output_type": "stream",
     "text": [
      "0 : 4388\n",
      "1 : 6856\n",
      "2 : 5901\n",
      "3 : 3722\n",
      "4 : 2042\n",
      "5 : 1032\n",
      "6 : 533\n",
      "7 : 246\n",
      "8 : 138\n",
      "9 : 69\n",
      "10 : 40\n",
      "11 : 19\n",
      "12 : 7\n",
      "13 : 2\n",
      "14 : 1\n",
      "15 : 3\n",
      "16 : 0\n",
      "17 : 0\n",
      "18 : 0\n",
      "19 : 1\n"
     ]
    }
   ],
   "source": [
    "count_threshold2 = count_related_sentence(clf2, tf_vectorizer, X_te_clean, threshold=0.9)\n",
    "summary = summary_count(count_threshold2)\n",
    "for i, cnt in enumerate(summary):\n",
    "    print('%d : %d' %(i, cnt))"
   ]
  },
  {
   "cell_type": "code",
   "execution_count": 119,
   "metadata": {},
   "outputs": [
    {
     "name": "stdout",
     "output_type": "stream",
     "text": [
      "0 : 5189\n",
      "1 : 7339\n",
      "2 : 5781\n",
      "3 : 3400\n",
      "4 : 1732\n",
      "5 : 819\n",
      "6 : 404\n",
      "7 : 155\n",
      "8 : 95\n",
      "9 : 43\n",
      "10 : 22\n",
      "11 : 15\n",
      "12 : 2\n",
      "13 : 2\n",
      "14 : 1\n",
      "15 : 0\n",
      "16 : 0\n",
      "17 : 0\n",
      "18 : 0\n",
      "19 : 1\n"
     ]
    }
   ],
   "source": [
    "count_threshold3 = count_related_sentence(clf2, tf_vectorizer, X_te_clean, threshold=0.99)\n",
    "summary = summary_count(count_threshold3)\n",
    "for i, cnt in enumerate(summary):\n",
    "    print('%d : %d' %(i, cnt))"
   ]
  },
  {
   "cell_type": "code",
   "execution_count": 137,
   "metadata": {},
   "outputs": [
    {
     "data": {
      "text/plain": [
       "'first, let me review the movie. this movie creeps me out, and i do not even believe in alien! however, the movie has its flaws.there are three act to this movie. act one is perfect. it sets up the movie, and really builds up the creep factor. i must say the score is great! everything is set up and it is set up perfectly.act two begin when jillian, playing sherry burton, goes to the shrink. they hypnotize her, and she recalls the abduction. act two ruins the film when the alien show up. \"screaming mad george\" did the effect for the alien. i must say they did a good job, except with their depiction of the \"gray\" alien. no offense, but the gray looked like inflatable door prizes.on a side note, i liked how they treated hypnosis in act one and two. if you paid attention, you would notice that the husband and wife had two different memory. in the husband\\'s version of event, the blue light zaps them and his wife says, \"somebody\\'s here,\" or something like it. it makes sense. the husband is concerned for his wife. \"someone\" may hurt her. that is his issue. however in her version of event, she says, \"help me!\" she does not say \"somebody\\'s here.\" this also makes sense. the alien are after her. wanting her husband to help and save her is her issue. now back to the film.act three turns the film into a gore fest. it begin with a \"strange\" ultrasound procedure. it is a typical gore fest, but it does have a surprise ending. i will not ruin it because it is actually an interesting development. the dvd and commentary takes itself too seriously, but if you think wilford brimley saying \"horsesh**\" is funny, you might want to check it out in the cast interviews section. now on to my praise of jillian mcwhirter.i could only hope jillian will read this. i had never seen her before, but wow, what a performance! let me tell the rest of you this. first of all, this is supposed to be a serious film. the detail i will now describe may sound campy and fun, like \"humanoid from the deep\" (1980), but it really is not. got that? okay.jillian is hot, naturally good-looking. she is naked for a lot of the film, a good thing. unfortunately, she is usually being assaulted, terrorized, and raped, a very bad thing. however, she must act in a lot of this film naked. she gets point for overcoming that. she has to act happy, sad, horny, afraid, and physically hurt all in the span of a few moment. the turnaround of emotion is astounding! she has to cheer for joy when she learns she is pregnant. she has to scream in terror when the alien take out her gut. she has to act very angry when her husband suggests that the baby is not his. she has to act like she is in denial, saying nothing is wrong with her baby, when her husband says otherwise. a denial, i should note, that is really forced upon her by the alien controlling her. i am talking oscar-caliber performance here!then there is the rape scene. it is disturbing, but since it is just some rubber alien, it is not too bad. in this scene, the alien is not a \"gray\" alien, so i will describe it. the alien has tentacle, and it is kind of like a table. jillian is on the table-like part, restrained by the tentacle. by her head is the alien\\'s head. the alien\\'s head is long, and it flips down so that its head is now above jillian\\'s leg. then, the alien\\'s hey-nanu-nanu comes out of his forehead. it is forehead! sound pretty campy, right? well, jillian plays it straight, and she pulls it off! she has to act like an alien with its hey-nanu-nanu coming from its forehead is raping her, and she pulls it off! it is a very intense scene, but that is not what makes it. you see, this scene is done in a flashback. what makes the scene is jillian\\'s performance recalling these event. she is just lying in a hospital bed under hypnosis recalling the alien abduction, but her acting here is more intense than the actual rape scene! how many actor can pull off a performance in a scene that describes a rape that is more intense than the scene with the rape? not many! however, jillian does it.i could go on and on. jillian, if you ever read this, i want you to know that i, (name withheld) alias of megamanx-1, believe you are the best actress ever. you are the best actress ever! i could only hope you read this and take it with you always.as for everyone else, \"progeny\" (1999) is an okay to good film. i would recommend it.'"
      ]
     },
     "execution_count": 137,
     "metadata": {},
     "output_type": "execute_result"
    }
   ],
   "source": [
    "cnt = np.asarray(count)\n",
    "ind = np.argsort(cnt)[::-1]\n",
    "X_te_clean[ind[0]]"
   ]
  },
  {
   "cell_type": "markdown",
   "metadata": {},
   "source": [
    "## Classification +/-"
   ]
  },
  {
   "cell_type": "code",
   "execution_count": null,
   "metadata": {},
   "outputs": [],
   "source": []
  },
  {
   "cell_type": "markdown",
   "metadata": {},
   "source": [
    "## Other"
   ]
  },
  {
   "cell_type": "code",
   "execution_count": 93,
   "metadata": {},
   "outputs": [
    {
     "ename": "NameError",
     "evalue": "name 'clf' is not defined",
     "output_type": "error",
     "traceback": [
      "\u001b[1;31m---------------------------------------------------------------------------\u001b[0m",
      "\u001b[1;31mNameError\u001b[0m                                 Traceback (most recent call last)",
      "\u001b[1;32m<ipython-input-93-416098272af5>\u001b[0m in \u001b[0;36m<module>\u001b[1;34m()\u001b[0m\n\u001b[0;32m      4\u001b[0m \u001b[0mtest_matrix\u001b[0m\u001b[1;33m.\u001b[0m\u001b[0mshape\u001b[0m\u001b[1;33m\u001b[0m\u001b[0m\n\u001b[0;32m      5\u001b[0m \u001b[1;33m\u001b[0m\u001b[0m\n\u001b[1;32m----> 6\u001b[1;33m \u001b[0my_pred_test\u001b[0m \u001b[1;33m=\u001b[0m \u001b[0mclf\u001b[0m\u001b[1;33m.\u001b[0m\u001b[0mpredict\u001b[0m\u001b[1;33m(\u001b[0m\u001b[0mtest_matrix\u001b[0m\u001b[1;33m)\u001b[0m\u001b[1;33m\u001b[0m\u001b[0m\n\u001b[0m\u001b[0;32m      7\u001b[0m \u001b[0mx_extracted_1\u001b[0m \u001b[1;33m=\u001b[0m \u001b[1;34m''\u001b[0m\u001b[1;33m\u001b[0m\u001b[0m\n\u001b[0;32m      8\u001b[0m \u001b[0mprint\u001b[0m\u001b[1;33m(\u001b[0m\u001b[0my_te\u001b[0m\u001b[1;33m[\u001b[0m\u001b[1;36m1\u001b[0m\u001b[1;33m]\u001b[0m\u001b[1;33m)\u001b[0m\u001b[1;33m\u001b[0m\u001b[0m\n",
      "\u001b[1;31mNameError\u001b[0m: name 'clf' is not defined"
     ]
    }
   ],
   "source": [
    "test = print_sentence(X_te_clean[1])\n",
    "\n",
    "test_matrix = tf_vectorizer.transform(test) \n",
    "test_matrix.shape\n",
    "\n",
    "y_pred_test = clf.predict(test_matrix)\n",
    "x_extracted_1 = ''\n",
    "print(y_te[1])\n",
    "for i in range(len(test)):\n",
    "    if y_pred_test[i] == 1:\n",
    "        x_extracted_1 += test[i]\n",
    "        print('-', test[i])"
   ]
  },
  {
   "cell_type": "code",
   "execution_count": 29,
   "metadata": {},
   "outputs": [
    {
     "name": "stdout",
     "output_type": "stream",
     "text": [
      "0\n",
      "- i have yet to watch the first entry in this series, however, fortunately, i was still able to follow the complex and intricate plot, with all its unexpected twist and turn, and i applaud them for the utter originality of the concept herein.\n",
      "- in case there is any confusion, let me leave no doubt as to the fact that everything i have just said is coated in pure, carefully nurtured sarcasm, the kind that flourish and grow exponentially when exposed to crap like this flick.\n",
      "- a clear sign that this is unimpressive is that it was directed by a visual effect creator, whose only other credit in that field is a henry rooker film that was not well received.\n",
      "- the action is not terrible.\n",
      "- cinematography and editing are fine.\n",
      "- language is infrequent, if even that.\n",
      "- violence is fairly bloody.\n",
      "- i recommend this solely to fan of b-movie, and i will say that you can do worse than this.\n"
     ]
    }
   ],
   "source": [
    "test = print_sentence(X_te_clean[3])\n",
    "\n",
    "test_matrix = tf_vectorizer.transform(test) \n",
    "test_matrix.shape\n",
    "\n",
    "y_pred_test = clf.predict(test_matrix)\n",
    "x_extracted_3 = ''\n",
    "print(y_te[3])\n",
    "for i in range(len(test)):\n",
    "    if y_pred_test[i] == 1:\n",
    "        x_extracted_3 += test[i]\n",
    "        print('-',test[i])"
   ]
  },
  {
   "cell_type": "code",
   "execution_count": 30,
   "metadata": {},
   "outputs": [],
   "source": [
    "## Test the clf 3\n",
    "\n",
    "X_tr_clean = open_pickle(\"./pickles/imdb_x_tr_clean.pickle\")\n",
    "y_tr = open_pickle(\"./pickles/imdb_y_tr.pickle\")\n",
    "cv = CountVectorizer(min_df=5, token_pattern=token)\n",
    "X_train_ = cv.fit_transform(X_tr_clean)"
   ]
  },
  {
   "cell_type": "code",
   "execution_count": 31,
   "metadata": {},
   "outputs": [
    {
     "data": {
      "text/plain": [
       "(25000,)"
      ]
     },
     "execution_count": 31,
     "metadata": {},
     "output_type": "execute_result"
    }
   ],
   "source": [
    "X_train_.shape\n",
    "y_tr.shape"
   ]
  },
  {
   "cell_type": "code",
   "execution_count": 32,
   "metadata": {},
   "outputs": [],
   "source": [
    "x_extracted = np.hstack((x_extracted_1, x_extracted_3))\n",
    "X_test_ = cv.transform(x_extracted)\n",
    "y_test_ = [1, 0]"
   ]
  },
  {
   "cell_type": "code",
   "execution_count": null,
   "metadata": {},
   "outputs": [],
   "source": []
  },
  {
   "cell_type": "code",
   "execution_count": 33,
   "metadata": {},
   "outputs": [
    {
     "data": {
      "text/plain": [
       "(2, 26255)"
      ]
     },
     "execution_count": 33,
     "metadata": {},
     "output_type": "execute_result"
    }
   ],
   "source": [
    "X_test_.shape"
   ]
  },
  {
   "cell_type": "code",
   "execution_count": 34,
   "metadata": {},
   "outputs": [
    {
     "data": {
      "text/plain": [
       "LogisticRegression(C=1.0, class_weight=None, dual=False, fit_intercept=True,\n",
       "          intercept_scaling=1, max_iter=100, multi_class='ovr', n_jobs=1,\n",
       "          penalty='l2', random_state=None, solver='liblinear', tol=0.0001,\n",
       "          verbose=0, warm_start=False)"
      ]
     },
     "execution_count": 34,
     "metadata": {},
     "output_type": "execute_result"
    }
   ],
   "source": [
    "clf_2 = LogisticRegression()\n",
    "clf_2.fit(X_train_, y_tr)\n",
    "\n"
   ]
  },
  {
   "cell_type": "code",
   "execution_count": 35,
   "metadata": {},
   "outputs": [
    {
     "data": {
      "text/plain": [
       "1.0"
      ]
     },
     "execution_count": 35,
     "metadata": {},
     "output_type": "execute_result"
    }
   ],
   "source": [
    "clf_2.score(X_test_, y_test_)"
   ]
  },
  {
   "cell_type": "code",
   "execution_count": null,
   "metadata": {},
   "outputs": [],
   "source": []
  }
 ],
 "metadata": {
  "kernelspec": {
   "display_name": "Python 3",
   "language": "python",
   "name": "python3"
  },
  "language_info": {
   "codemirror_mode": {
    "name": "ipython",
    "version": 3
   },
   "file_extension": ".py",
   "mimetype": "text/x-python",
   "name": "python",
   "nbconvert_exporter": "python",
   "pygments_lexer": "ipython3",
   "version": "3.6.4"
  }
 },
 "nbformat": 4,
 "nbformat_minor": 2
}
