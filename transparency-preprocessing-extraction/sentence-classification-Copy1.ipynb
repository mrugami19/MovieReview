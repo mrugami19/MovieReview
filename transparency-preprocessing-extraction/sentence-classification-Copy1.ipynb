{
 "cells": [
  {
   "cell_type": "code",
   "execution_count": 1,
   "metadata": {},
   "outputs": [],
   "source": [
    "import numpy as np\n",
    "import matplotlib.pyplot as plt\n",
    "import pickle"
   ]
  },
  {
   "cell_type": "code",
   "execution_count": 2,
   "metadata": {},
   "outputs": [],
   "source": [
    "# Load data\n",
    "\n",
    "def load_list(filename):\n",
    "    vocabulary = []\n",
    "    with open(filename, 'r') as f:\n",
    "        for l in f:\n",
    "            vocabulary.append(l.strip())\n",
    "    return np.asarray(vocabulary)\n",
    "\n",
    "def load_csv(filename):\n",
    "    import csv\n",
    "    \n",
    "    sentence = []\n",
    "    with open(filename, 'r') as csvfile:\n",
    "        reader = csv.reader(csvfile)\n",
    "        for row in reader:\n",
    "            sentence.append(str(row))\n",
    "    return np.asarray(sentence).flatten()\n",
    "    \n",
    "pos_related = load_csv('./sentence_data/pos_related.csv')\n",
    "neg_related = load_csv('./sentence_data/neg_related.csv')\n",
    "pos_unrelated = load_csv('./sentence_data/pos_unrelated.csv')\n",
    "neg_unrelated = load_csv('./sentence_data/neg_unrelated.csv')"
   ]
  },
  {
   "cell_type": "code",
   "execution_count": 3,
   "metadata": {},
   "outputs": [
    {
     "name": "stdout",
     "output_type": "stream",
     "text": [
      "(500,)\n",
      "(500,)\n",
      "(500,)\n",
      "(500,)\n"
     ]
    }
   ],
   "source": [
    "print(pos_related.shape)\n",
    "print(neg_related.shape)\n",
    "print(pos_unrelated.shape)\n",
    "print(neg_unrelated.shape)"
   ]
  },
  {
   "cell_type": "code",
   "execution_count": 5,
   "metadata": {},
   "outputs": [
    {
     "name": "stdout",
     "output_type": "stream",
     "text": [
      "[\"['not perfect by a long shot, but definitely good for a smile on a bad day.']\"\n",
      " \"['the whole cast was great, each character had their own personality and charm.']\"\n",
      " '[\\'even though it has one of the standard \"revenge price plot,\" this film is my favorite of vincent price\\\\\\'s work.\\']'\n",
      " \"['i really enjoyed this movie, it is really fun to watch get elvira into all these adventure, she is just great.']\"\n",
      " \"['with more laugh than any other third-in-a-disney-series movie, hakuna matata is worth watching - if only for the hot tub scene which is still funny despite being a little bit predictable.']\"\n",
      " \"['it is really a wonderful thriller i enjoyed very much']\"\n",
      " \"['when my sister said this movie was gonna be good i had second thought but i watched it and it was actually funny']\"\n",
      " \"['it touched me in a way that, even all these year later, still affects me.']\"\n",
      " \"['i strongly recommend seeing for all']\"\n",
      " \"['without a doubt, the best late night television ever.']\"]\n"
     ]
    }
   ],
   "source": [
    "print(pos_related[:10])"
   ]
  },
  {
   "cell_type": "code",
   "execution_count": 6,
   "metadata": {},
   "outputs": [
    {
     "name": "stdout",
     "output_type": "stream",
     "text": [
      "[\"['i had numerous problem with this film']\"\n",
      " \"['dear god i do not know where to start why this movie sucked too much']\"\n",
      " \"['i was pretty disappointed']\"\n",
      " \"['if you are tempted to watch this movie, rip your eyeball out and flush them down the toilet']\"\n",
      " \"['the music there was was annoying, and boring']\"\n",
      " \"['someone must have been seriously joking when they made this film']\"\n",
      " \"['ugly then, uglier now']\" \"['this film is predictable']\"\n",
      " '[\\'even the supporting male character are all \"bad\"\\']'\n",
      " \"['trust me, this is one let down movie that you want to avoid and this comes from one huge denzel washington fan']\"]\n"
     ]
    }
   ],
   "source": [
    "print(neg_related[:10])"
   ]
  },
  {
   "cell_type": "code",
   "execution_count": 7,
   "metadata": {},
   "outputs": [
    {
     "name": "stdout",
     "output_type": "stream",
     "text": [
      "(1000,)\n",
      "(1000,)\n"
     ]
    }
   ],
   "source": [
    "related_set = np.hstack((pos_related, neg_related))\n",
    "print(related_set.shape)\n",
    "y_related = np.ones(related_set.shape)\n",
    "print(y_related.shape)\n",
    "\n",
    "# pos_set = pos_related\n",
    "# y_pos = np.ones(pos_set.shape)\n",
    "# neg_set = neg_related\n",
    "# y_neg = np.zeros(neg_set.shape)"
   ]
  },
  {
   "cell_type": "code",
   "execution_count": 8,
   "metadata": {},
   "outputs": [
    {
     "name": "stdout",
     "output_type": "stream",
     "text": [
      "(1000,)\n",
      "(1000,)\n"
     ]
    }
   ],
   "source": [
    "unrelated_set = np.hstack((pos_unrelated, neg_unrelated))\n",
    "print(unrelated_set.shape)\n",
    "y_unrelated = np.zeros(unrelated_set.shape)\n",
    "print(y_unrelated.shape)"
   ]
  },
  {
   "cell_type": "code",
   "execution_count": 9,
   "metadata": {},
   "outputs": [
    {
     "data": {
      "text/plain": [
       "(2000,)"
      ]
     },
     "execution_count": 9,
     "metadata": {},
     "output_type": "execute_result"
    }
   ],
   "source": [
    "X = np.hstack((related_set, unrelated_set))\n",
    "y = np.hstack((y_related, y_unrelated))\n",
    "\n",
    "# X = np.hstack((pos_set, neg_set))\n",
    "# y = np.hstack((y_pos, y_neg))\n",
    "\n",
    "X.shape"
   ]
  },
  {
   "cell_type": "code",
   "execution_count": 10,
   "metadata": {},
   "outputs": [],
   "source": [
    "import pickle\n",
    "\n",
    "def save_pickle(path, X):\n",
    "    with open(path, 'wb') as f:\n",
    "        pickle.dump(X, f)\n",
    "def open_pickle(path):\n",
    "    with open(path, 'rb') as f:\n",
    "        X = pickle.load(f)\n",
    "    return X\n",
    "\n",
    "X_train_sent = open_pickle('./sentence_data/imdb_sentence_xtrain.pickle')\n",
    "X_test_sent = open_pickle('./sentence_data/imdb_sentence_xtest.pickle')\n",
    "y_train = open_pickle('./sentence_data/imdb_sentence_ytrain.pickle')\n",
    "y_test = open_pickle('./sentence_data/imdb_sentence_ytest.pickle')"
   ]
  },
  {
   "cell_type": "code",
   "execution_count": 11,
   "metadata": {},
   "outputs": [
    {
     "data": {
      "text/plain": [
       "(2000,)"
      ]
     },
     "execution_count": 11,
     "metadata": {},
     "output_type": "execute_result"
    }
   ],
   "source": [
    "X = np.hstack((X_train_sent, X_test_sent))\n",
    "y = np.hstack((y_train, y_test))\n",
    "# X.shape\n",
    "y.shape"
   ]
  },
  {
   "cell_type": "code",
   "execution_count": 13,
   "metadata": {},
   "outputs": [],
   "source": [
    "X_rel = X[y==1]\n",
    "X_unrel = X[y==0]"
   ]
  },
  {
   "cell_type": "code",
   "execution_count": 15,
   "metadata": {},
   "outputs": [
    {
     "data": {
      "text/plain": [
       "(1000,)"
      ]
     },
     "execution_count": 15,
     "metadata": {},
     "output_type": "execute_result"
    }
   ],
   "source": [
    "X_rel.shape"
   ]
  },
  {
   "cell_type": "code",
   "execution_count": 19,
   "metadata": {},
   "outputs": [
    {
     "name": "stdout",
     "output_type": "stream",
     "text": [
      "11\n",
      "this film really surprised me as it is a comedy masterpiece\n",
      "\n",
      "-- Related Sentence Statistics --\n",
      "Total sentences  1000\n",
      "Max \t:  84\n",
      "Min \t:  1\n",
      "Mean \t:  15\n",
      "Median \t:  13\n",
      "\n",
      "\n",
      "-- Unrelated Sentence Statistics --\n",
      "Total sentences  1000\n",
      "Max \t:  109\n",
      "Min \t:  1\n",
      "Mean \t:  17\n",
      "Median \t:  15\n",
      "\n"
     ]
    }
   ],
   "source": [
    "\n",
    "\n",
    "print(len(X_rel[4].split()))\n",
    "print(X_rel[4])\n",
    "\n",
    "# X_sent_len = np.zeros(X_rel.shape[0])\n",
    "\n",
    "# for i in range(len(X_sent_len)):\n",
    "#     X_sent_len[i] = len(X_rel[i].split())\n",
    "\n",
    "X_rel_sent = np.zeros(len(X_rel))\n",
    "X_unrel_sent = np.zeros(len(X_unrel))\n",
    "\n",
    "for i in range(len(X_rel_sent)):\n",
    "    X_rel_sent[i] = len(X_rel[i].split())\n",
    "\n",
    "for i in range(len(X_unrel_sent)):\n",
    "    X_unrel_sent[i] = len(X_unrel[i].split())\n",
    "\n",
    "def print_word_stat(title, X):\n",
    "    print()\n",
    "    print('--', title, 'Statistics --')\n",
    "\n",
    "    print('Total sentences ', len(X))\n",
    "    print('Max \\t: ', int(np.max(X)))\n",
    "    print('Min \\t: ', int(np.min(X)))\n",
    "    print('Mean \\t: ', int(np.mean(X)))\n",
    "    print('Median \\t: ', int(np.median(X)))\n",
    "    print()\n",
    "\n",
    "# print_word_stat('Whole corpus', X_sent_len)\n",
    "print_word_stat('Related Sentence', X_rel_sent)\n",
    "print_word_stat('Unrelated Sentence', X_unrel_sent)\n"
   ]
  },
  {
   "cell_type": "code",
   "execution_count": 20,
   "metadata": {},
   "outputs": [],
   "source": [
    "from sklearn.feature_extraction.text import CountVectorizer\n",
    "\n",
    "token = r\"(?u)\\b[\\w\\'/]+\\b\"\n",
    "tf_vectorizer = CountVectorizer(lowercase=True, max_df=1.0, min_df=1, binary=True, token_pattern=token)\n",
    "tf_vectorizer.set_params(ngram_range=(1,1))\n",
    "\n",
    "X_train = tf_vectorizer.fit_transform(X_train_sent)\n",
    "X_test = tf_vectorizer.transform(X_test_sent)\n",
    "\n",
    "# from sklearn.model_selection import train_test_split\n",
    "# X_train, X_test, y_train, y_test = train_test_split(X_vectorized, y, test_size=0.33, random_state=42)"
   ]
  },
  {
   "cell_type": "code",
   "execution_count": 27,
   "metadata": {},
   "outputs": [
    {
     "name": "stdout",
     "output_type": "stream",
     "text": [
      "4532\n"
     ]
    }
   ],
   "source": [
    "words = tf_vectorizer.get_feature_names()\n",
    "print(len(words))\n",
    "# print(words[500:600])"
   ]
  },
  {
   "cell_type": "code",
   "execution_count": 26,
   "metadata": {},
   "outputs": [
    {
     "name": "stdout",
     "output_type": "stream",
     "text": [
      "(1333,)\n",
      "(667,)\n"
     ]
    }
   ],
   "source": [
    "print(y_train.shape)\n",
    "print(y_test.shape)"
   ]
  },
  {
   "cell_type": "code",
   "execution_count": 97,
   "metadata": {},
   "outputs": [],
   "source": [
    "def lr_classifier_report(X_tr, y_tr, X_te, y_te, random_state=42, C=1.0):\n",
    "    from sklearn.linear_model import LogisticRegression\n",
    "    from sklearn.metrics import precision_recall_curve\n",
    "    import matplotlib.pyplot as plt\n",
    "    from sklearn.metrics import average_precision_score\n",
    "    from sklearn.metrics import roc_curve, auc\n",
    "\n",
    "    clf = LogisticRegression(random_state=random_state, C=C)\n",
    "    clf.fit(X_tr, y_tr)\n",
    "\n",
    "    y_predict = clf.predict(X_te)\n",
    "\n",
    "    print('--------------')\n",
    "    print('C=%.2f' %(C))\n",
    "    print('--------------')\n",
    "    print('Accuracy')\n",
    "    print('Train:\\t%.5f ' %(clf.score(X_tr, y_tr)))\n",
    "    print('Test:\\t%.5f ' %(clf.score(X_te, y_te)))\n",
    "    \n",
    "    print(classification_report(y_te,y_predict))\n",
    "    \n",
    "    precision, recall, _ = precision_recall_curve(y_te, y_predict)\n",
    "    average_precision = average_precision_score(y_te, y_predict)\n",
    "    \n",
    "    plt.step(recall, precision, color='b', alpha=0.2, where='post')\n",
    "    plt.fill_between(recall, precision, step='post', alpha=0.2, color='b')\n",
    "\n",
    "    plt.xlabel('Recall')\n",
    "    plt.ylabel('Precision')\n",
    "    plt.ylim([0.0, 1.05])\n",
    "    plt.xlim([0.0, 1.0])\n",
    "    plt.title('2-class Precision-Recall curve: AP={0:0.2f}'.format(\n",
    "          average_precision))\n",
    "    plt.show()\n",
    "    plt.clf()\n",
    "    \n",
    "    false_positive_rate, true_positive_rate, thresholds = roc_curve(y_te, y_predict)\n",
    "    roc_auc = auc(false_positive_rate, true_positive_rate)\n",
    "    \n",
    "    plt.title('Receiver Operating Characteristic')\n",
    "    plt.plot(false_positive_rate, true_positive_rate, 'b',\n",
    "    label='AUC = %0.2f'% roc_auc)\n",
    "    plt.legend(loc='lower right')\n",
    "    plt.plot([0,1],[0,1],'r--')\n",
    "    plt.xlim([-0.1,1.2])\n",
    "    plt.ylim([-0.1,1.2])\n",
    "    plt.ylabel('True Positive Rate')\n",
    "    plt.xlabel('False Positive Rate')\n",
    "    plt.show()\n",
    "    \n",
    "    return clf"
   ]
  },
  {
   "cell_type": "code",
   "execution_count": 98,
   "metadata": {},
   "outputs": [
    {
     "name": "stdout",
     "output_type": "stream",
     "text": [
      "--------------\n",
      "C=1.00\n",
      "--------------\n",
      "Accuracy\n",
      "Train:\t0.98575 \n",
      "Test:\t0.75562 \n",
      "             precision    recall  f1-score   support\n",
      "\n",
      "        0.0       0.80      0.73      0.76       363\n",
      "        1.0       0.71      0.79      0.75       304\n",
      "\n",
      "avg / total       0.76      0.76      0.76       667\n",
      "\n"
     ]
    },
    {
     "data": {
      "image/png": "[encoded data removed]",
      "text/plain": [
       "<matplotlib.figure.Figure at 0x1d027c3f6d8>"
      ]
     },
     "metadata": {},
     "output_type": "display_data"
    },
    {
     "data": {
      "image/png": "[encoded data removed]",
      "text/plain": [
       "<matplotlib.figure.Figure at 0x1d0282a3550>"
      ]
     },
     "metadata": {},
     "output_type": "display_data"
    }
   ],
   "source": [
    "clf1 = lr_classifier_report(X_train, y_train, X_test, y_test, C=1.0)"
   ]
  },
  {
   "cell_type": "code",
   "execution_count": 99,
   "metadata": {},
   "outputs": [
    {
     "name": "stdout",
     "output_type": "stream",
     "text": [
      "--------------\n",
      "C=0.10\n",
      "--------------\n",
      "Accuracy\n",
      "Train:\t0.88897 \n",
      "Test:\t0.75862 \n",
      "             precision    recall  f1-score   support\n",
      "\n",
      "        0.0       0.80      0.74      0.77       363\n",
      "        1.0       0.71      0.79      0.75       304\n",
      "\n",
      "avg / total       0.76      0.76      0.76       667\n",
      "\n"
     ]
    },
    {
     "data": {
      "image/png": "[encoded data removed]",
      "text/plain": [
       "<matplotlib.figure.Figure at 0x1d028309a20>"
      ]
     },
     "metadata": {},
     "output_type": "display_data"
    },
    {
     "data": {
      "image/png": "[encoded data removed]",
      "text/plain": [
       "<matplotlib.figure.Figure at 0x1d0283a7f28>"
      ]
     },
     "metadata": {},
     "output_type": "display_data"
    }
   ],
   "source": [
    "clf2 = lr_classifier_report(X_train, y_train, X_test, y_test, C=0.1)"
   ]
  },
  {
   "cell_type": "code",
   "execution_count": 100,
   "metadata": {},
   "outputs": [
    {
     "name": "stdout",
     "output_type": "stream",
     "text": [
      "--------------\n",
      "C=0.01\n",
      "--------------\n",
      "Accuracy\n",
      "Train:\t0.76819 \n",
      "Test:\t0.69415 \n",
      "             precision    recall  f1-score   support\n",
      "\n",
      "        0.0       0.77      0.63      0.69       363\n",
      "        1.0       0.64      0.77      0.70       304\n",
      "\n",
      "avg / total       0.71      0.69      0.69       667\n",
      "\n"
     ]
    },
    {
     "data": {
      "image/png": "[encoded data removed]",
      "text/plain": [
       "<matplotlib.figure.Figure at 0x1d028373ba8>"
      ]
     },
     "metadata": {},
     "output_type": "display_data"
    },
    {
     "data": {
      "image/png": "[encoded data removed]",
      "text/plain": [
       "<matplotlib.figure.Figure at 0x1d028105748>"
      ]
     },
     "metadata": {},
     "output_type": "display_data"
    }
   ],
   "source": [
    "clf3 = lr_classifier_report(X_train, y_train, X_test, y_test, C=0.01)"
   ]
  },
  {
   "cell_type": "code",
   "execution_count": 96,
   "metadata": {},
   "outputs": [],
   "source": [
    "weights = clf.coef_.flatten()\n",
    "def negative_positive_counts(X, y, word_index):\n",
    "    neg_count = np.sum(X[y==0, word_index])\n",
    "    pos_count = np.sum(X[y==1, word_index])    \n",
    "    return neg_count, pos_count"
   ]
  },
  {
   "cell_type": "code",
   "execution_count": 36,
   "metadata": {},
   "outputs": [
    {
     "name": "stdout",
     "output_type": "stream",
     "text": [
      "word\tweight\trelated\tunrelated\n",
      "he\t-1.42\t11\t59\n",
      "remember\t-1.35\t1\t15\n",
      "into\t-1.30\t5\t32\n",
      "we\t-1.01\t8\t24\n",
      "try\t-0.98\t2\t6\n",
      "who\t-0.98\t23\t61\n",
      "lets\t-0.95\t0\t8\n",
      "art\t-0.94\t0\t10\n",
      "about\t-0.91\t27\t48\n",
      "school\t-0.91\t0\t12\n"
     ]
    }
   ],
   "source": [
    "not_related_indices = np.argsort(weights)\n",
    "related_indices = not_related_indices[::-1]\n",
    "\n",
    "print(\"word\\tweight\\trelated\\tunrelated\")\n",
    "for i in not_related_indices[:10]:\n",
    "    unrel_cnt, rel_cnt = negative_positive_counts(X_train, y_train, i)\n",
    "    print(\"%s\\t%0.2f\\t%d\\t%d\" %(words[i], weights[i], rel_cnt, unrel_cnt))"
   ]
  },
  {
   "cell_type": "code",
   "execution_count": 37,
   "metadata": {},
   "outputs": [
    {
     "name": "stdout",
     "output_type": "stream",
     "text": [
      "word\t\tweight\trelated\tunrelated\n",
      "awful\t\t1.45\t14\t0\n",
      "boring\t\t1.39\t11\t1\n",
      "disappointed\t\t1.35\t11\t0\n",
      "worth\t\t1.32\t16\t0\n",
      "recommend\t\t1.28\t17\t0\n",
      "performance\t\t1.25\t14\t2\n",
      "even\t\t1.24\t21\t7\n",
      "ever\t\t1.23\t31\t6\n",
      "scene\t\t1.18\t23\t8\n",
      "great\t\t1.16\t35\t9\n"
     ]
    }
   ],
   "source": [
    "print(\"word\\t\\tweight\\trelated\\tunrelated\")\n",
    "for i in related_indices[:10]:\n",
    "    unrel_cnt, rel_cnt = negative_positive_counts(X_train, y_train, i)\n",
    "    print(\"%s\\t\\t%0.2f\\t%d\\t%d\" %(words[i], weights[i], rel_cnt, unrel_cnt))"
   ]
  },
  {
   "cell_type": "code",
   "execution_count": 39,
   "metadata": {},
   "outputs": [
    {
     "name": "stdout",
     "output_type": "stream",
     "text": [
      "word\tweight\trelated\tunrelated\n",
      "awful\t1.45\t14\t0\n",
      "he\t-1.42\t11\t59\n",
      "boring\t1.39\t11\t1\n",
      "disappointed\t1.35\t11\t0\n",
      "remember\t-1.35\t1\t15\n",
      "worth\t1.32\t16\t0\n",
      "into\t-1.30\t5\t32\n",
      "recommend\t1.28\t17\t0\n",
      "performance\t1.25\t14\t2\n",
      "even\t1.24\t21\t7\n"
     ]
    }
   ],
   "source": [
    "abs_indices = np.argsort(np.absolute(weights))[::-1]\n",
    "\n",
    "print(\"word\\tweight\\trelated\\tunrelated\")\n",
    "for i in abs_indices[:10]:\n",
    "    unrel_cnt, rel_cnt = negative_positive_counts(X_train, y_train, i)\n",
    "    print(\"%s\\t%0.2f\\t%d\\t%d\" %(words[i], weights[i], rel_cnt, unrel_cnt))"
   ]
  },
  {
   "cell_type": "code",
   "execution_count": 25,
   "metadata": {},
   "outputs": [],
   "source": [
    "def save_pickle(path, X):\n",
    "    with open(path, 'wb') as f:\n",
    "        pickle.dump(X, f)\n",
    "def open_pickle(path):\n",
    "    with open(path, 'rb') as f:\n",
    "        X = pickle.load(f)\n",
    "    return X\n",
    "\n",
    "X_te_clean = open_pickle(\"./pickles/imdb_x_te_clean.pickle\")\n",
    "y_te = open_pickle(\"./pickles/imdb_y_te.pickle\")"
   ]
  },
  {
   "cell_type": "code",
   "execution_count": 26,
   "metadata": {},
   "outputs": [],
   "source": [
    "def print_sentence(corpus):\n",
    "    from textblob import TextBlob\n",
    "    text = TextBlob(corpus)\n",
    "    i = 0\n",
    "    sent = []\n",
    "    for sentence in text.raw_sentences:\n",
    "        sent.append(sentence)\n",
    "    return sent"
   ]
  },
  {
   "cell_type": "code",
   "execution_count": 27,
   "metadata": {},
   "outputs": [
    {
     "name": "stdout",
     "output_type": "stream",
     "text": [
      "1.0 : this was an excellent show.\n",
      "0.0 : it came on pbs back home in chicago and i remember cindy herron (from envogue) played the teen aged daughter.\n",
      "0.0 : the show dealt with subject such as sex, peer pressure and puberty.\n",
      "0.0 : it was about a middle class black family who had a teen aged daughter and son who moved to a middle class neighborhood from oakland or somewhere (i can not remember).\n",
      "0.0 : i remember several episode but the one i remember most was when their cousin got her period for the first time.\n",
      "0.0 : i was probably 7-8 when i first watched it and i was able to keep up with the program.\n",
      "1.0 : this was a great show.\n",
      "0.0 : i can not remember the name of the guy who played the son on the show, but i always got him confused with kevin hook.\n"
     ]
    }
   ],
   "source": [
    "# import nltk\n",
    "# nltk.download('punkt')\n",
    "test = print_sentence(X_te_clean[0])\n",
    "\n",
    "test_matrix = tf_vectorizer.transform(test) \n",
    "test_matrix.shape\n",
    "\n",
    "y_pred_test = clf.predict(test_matrix)\n",
    "for i in range(len(test)):\n",
    "    print(y_pred_test[i], ':' , test[i])"
   ]
  },
  {
   "cell_type": "code",
   "execution_count": 28,
   "metadata": {},
   "outputs": [
    {
     "name": "stdout",
     "output_type": "stream",
     "text": [
      "1\n",
      "- age cannot tarnish the beauty of this east-west love story for me.\n",
      "- as mark elliott, william holden is intelligent, breezy and a bit weak; jennifer jone is perhaps well-nigh-perfect as dr. han suyin, by turns doubt-torn and ecstatic, eager and hesitant.\n",
      "- other in the large cast include torin thatcher, isobel elsom, murray matheson, virginia gregg, richard loo, soo yong, philip ahn, jorja curtright and donna martell; many of hollywood's best oriental actor played smaller uncredited part also.\n",
      "- the film is unarguably physically busy, interesting and often beautiful also.\n",
      "- with cinematography by leon shamroy, ben nye's makeup and helen turpin's hairstyle, the great work by set decorator, sound and lighting, art department and all concerned, this has to be one of the most memorable production set in a major non-u.s. city of all time, and one of the most difficult to capture on film.\n",
      "- truly, love is a many-splendored thing, dr. han says; and this movie stands as one of that doctrine's shining proofs, lucent as a pearl, timeless as a chinese proverb and lovely as polished jade set against a rough background.\n"
     ]
    }
   ],
   "source": [
    "test = print_sentence(X_te_clean[1])\n",
    "\n",
    "test_matrix = tf_vectorizer.transform(test) \n",
    "test_matrix.shape\n",
    "\n",
    "y_pred_test = clf.predict(test_matrix)\n",
    "x_extracted_1 = ''\n",
    "print(y_te[1])\n",
    "for i in range(len(test)):\n",
    "    if y_pred_test[i] == 1:\n",
    "        x_extracted_1 += test[i]\n",
    "        print('-', test[i])"
   ]
  },
  {
   "cell_type": "code",
   "execution_count": 29,
   "metadata": {},
   "outputs": [
    {
     "name": "stdout",
     "output_type": "stream",
     "text": [
      "0\n",
      "- i have yet to watch the first entry in this series, however, fortunately, i was still able to follow the complex and intricate plot, with all its unexpected twist and turn, and i applaud them for the utter originality of the concept herein.\n",
      "- in case there is any confusion, let me leave no doubt as to the fact that everything i have just said is coated in pure, carefully nurtured sarcasm, the kind that flourish and grow exponentially when exposed to crap like this flick.\n",
      "- a clear sign that this is unimpressive is that it was directed by a visual effect creator, whose only other credit in that field is a henry rooker film that was not well received.\n",
      "- the action is not terrible.\n",
      "- cinematography and editing are fine.\n",
      "- language is infrequent, if even that.\n",
      "- violence is fairly bloody.\n",
      "- i recommend this solely to fan of b-movie, and i will say that you can do worse than this.\n"
     ]
    }
   ],
   "source": [
    "test = print_sentence(X_te_clean[3])\n",
    "\n",
    "test_matrix = tf_vectorizer.transform(test) \n",
    "test_matrix.shape\n",
    "\n",
    "y_pred_test = clf.predict(test_matrix)\n",
    "x_extracted_3 = ''\n",
    "print(y_te[3])\n",
    "for i in range(len(test)):\n",
    "    if y_pred_test[i] == 1:\n",
    "        x_extracted_3 += test[i]\n",
    "        print('-',test[i])"
   ]
  },
  {
   "cell_type": "code",
   "execution_count": 30,
   "metadata": {},
   "outputs": [],
   "source": [
    "## Test the clf 3\n",
    "\n",
    "X_tr_clean = open_pickle(\"./pickles/imdb_x_tr_clean.pickle\")\n",
    "y_tr = open_pickle(\"./pickles/imdb_y_tr.pickle\")\n",
    "cv = CountVectorizer(min_df=5, token_pattern=token)\n",
    "X_train_ = cv.fit_transform(X_tr_clean)"
   ]
  },
  {
   "cell_type": "code",
   "execution_count": 31,
   "metadata": {},
   "outputs": [
    {
     "data": {
      "text/plain": [
       "(25000,)"
      ]
     },
     "execution_count": 31,
     "metadata": {},
     "output_type": "execute_result"
    }
   ],
   "source": [
    "X_train_.shape\n",
    "y_tr.shape"
   ]
  },
  {
   "cell_type": "code",
   "execution_count": 32,
   "metadata": {},
   "outputs": [],
   "source": [
    "x_extracted = np.hstack((x_extracted_1, x_extracted_3))\n",
    "X_test_ = cv.transform(x_extracted)\n",
    "y_test_ = [1, 0]"
   ]
  },
  {
   "cell_type": "code",
   "execution_count": null,
   "metadata": {},
   "outputs": [],
   "source": []
  },
  {
   "cell_type": "code",
   "execution_count": 33,
   "metadata": {},
   "outputs": [
    {
     "data": {
      "text/plain": [
       "(2, 26255)"
      ]
     },
     "execution_count": 33,
     "metadata": {},
     "output_type": "execute_result"
    }
   ],
   "source": [
    "X_test_.shape"
   ]
  },
  {
   "cell_type": "code",
   "execution_count": 34,
   "metadata": {},
   "outputs": [
    {
     "data": {
      "text/plain": [
       "LogisticRegression(C=1.0, class_weight=None, dual=False, fit_intercept=True,\n",
       "          intercept_scaling=1, max_iter=100, multi_class='ovr', n_jobs=1,\n",
       "          penalty='l2', random_state=None, solver='liblinear', tol=0.0001,\n",
       "          verbose=0, warm_start=False)"
      ]
     },
     "execution_count": 34,
     "metadata": {},
     "output_type": "execute_result"
    }
   ],
   "source": [
    "clf_2 = LogisticRegression()\n",
    "clf_2.fit(X_train_, y_tr)\n",
    "\n"
   ]
  },
  {
   "cell_type": "code",
   "execution_count": 35,
   "metadata": {},
   "outputs": [
    {
     "data": {
      "text/plain": [
       "1.0"
      ]
     },
     "execution_count": 35,
     "metadata": {},
     "output_type": "execute_result"
    }
   ],
   "source": [
    "clf_2.score(X_test_, y_test_)"
   ]
  },
  {
   "cell_type": "code",
   "execution_count": null,
   "metadata": {},
   "outputs": [],
   "source": []
  }
 ],
 "metadata": {
  "kernelspec": {
   "display_name": "Python 3",
   "language": "python",
   "name": "python3"
  },
  "language_info": {
   "codemirror_mode": {
    "name": "ipython",
    "version": 3
   },
   "file_extension": ".py",
   "mimetype": "text/x-python",
   "name": "python",
   "nbconvert_exporter": "python",
   "pygments_lexer": "ipython3",
   "version": "3.6.4"
  }
 },
 "nbformat": 4,
 "nbformat_minor": 2
}
