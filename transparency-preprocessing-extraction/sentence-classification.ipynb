{
 "cells": [
  {
   "cell_type": "code",
   "execution_count": 1,
   "metadata": {},
   "outputs": [],
   "source": [
    "import numpy as np\n",
    "import matplotlib.pyplot as plt\n",
    "import pickle"
   ]
  },
  {
   "cell_type": "code",
   "execution_count": 2,
   "metadata": {},
   "outputs": [],
   "source": [
    "# Load data\n",
    "\n",
    "def load_list(filename):\n",
    "    vocabulary = []\n",
    "    with open(filename, 'r') as f:\n",
    "        for l in f:\n",
    "            vocabulary.append(l.strip())\n",
    "    return np.asarray(vocabulary)\n",
    "\n",
    "def load_csv(filename):\n",
    "    import csv\n",
    "    \n",
    "    sentence = []\n",
    "    with open(filename, 'r') as csvfile:\n",
    "        reader = csv.reader(csvfile)\n",
    "        for row in reader:\n",
    "            sentence.append(str(row))\n",
    "    return np.asarray(sentence).flatten()\n",
    "    \n",
    "import pickle\n",
    "\n",
    "def save_pickle(path, X):\n",
    "    with open(path, 'wb') as f:\n",
    "        pickle.dump(X, f)\n",
    "def open_pickle(path):\n",
    "    with open(path, 'rb') as f:\n",
    "        X = pickle.load(f)\n",
    "    return X\n",
    "\n",
    "X_train_sent = open_pickle('./sentence_data/imdb_sentence_xtrain.pickle')\n",
    "X_test_sent = open_pickle('./sentence_data/imdb_sentence_xtest.pickle')\n",
    "y_train = open_pickle('./sentence_data/imdb_sentence_ytrain.pickle')\n",
    "y_test = open_pickle('./sentence_data/imdb_sentence_ytest.pickle')"
   ]
  },
  {
   "cell_type": "code",
   "execution_count": 3,
   "metadata": {},
   "outputs": [
    {
     "data": {
      "text/plain": [
       "(2000,)"
      ]
     },
     "execution_count": 3,
     "metadata": {},
     "output_type": "execute_result"
    }
   ],
   "source": [
    "X = np.hstack((X_train_sent, X_test_sent))\n",
    "y = np.hstack((y_train, y_test))\n",
    "# X.shape\n",
    "y.shape"
   ]
  },
  {
   "cell_type": "code",
   "execution_count": 4,
   "metadata": {},
   "outputs": [
    {
     "data": {
      "text/plain": [
       "(1000,)"
      ]
     },
     "execution_count": 4,
     "metadata": {},
     "output_type": "execute_result"
    }
   ],
   "source": [
    "X_rel = X[y==1]\n",
    "X_unrel = X[y==0]\n",
    "\n",
    "X_rel.shape"
   ]
  },
  {
   "cell_type": "code",
   "execution_count": 5,
   "metadata": {},
   "outputs": [
    {
     "name": "stdout",
     "output_type": "stream",
     "text": [
      "\n",
      "-- Related Sentence Statistics --\n",
      "Total sentences  1000\n",
      "Max \t:  84\n",
      "Min \t:  1\n",
      "Mean \t:  15\n",
      "Median \t:  13\n",
      "\n",
      "\n",
      "-- Unrelated Sentence Statistics --\n",
      "Total sentences  1000\n",
      "Max \t:  109\n",
      "Min \t:  1\n",
      "Mean \t:  17\n",
      "Median \t:  15\n",
      "\n"
     ]
    }
   ],
   "source": [
    "X_rel_sent = np.zeros(len(X_rel))\n",
    "X_unrel_sent = np.zeros(len(X_unrel))\n",
    "\n",
    "for i in range(len(X_rel_sent)):\n",
    "    X_rel_sent[i] = len(X_rel[i].split())\n",
    "\n",
    "for i in range(len(X_unrel_sent)):\n",
    "    X_unrel_sent[i] = len(X_unrel[i].split())\n",
    "\n",
    "def print_word_stat(title, X):\n",
    "    print()\n",
    "    print('--', title, 'Statistics --')\n",
    "\n",
    "    print('Total sentences ', len(X))\n",
    "    print('Max \\t: ', int(np.max(X)))\n",
    "    print('Min \\t: ', int(np.min(X)))\n",
    "    print('Mean \\t: ', int(np.mean(X)))\n",
    "    print('Median \\t: ', int(np.median(X)))\n",
    "    print()\n",
    "\n",
    "# print_word_stat('Whole corpus', X_sent_len)\n",
    "print_word_stat('Related Sentence', X_rel_sent)\n",
    "print_word_stat('Unrelated Sentence', X_unrel_sent)\n"
   ]
  },
  {
   "cell_type": "code",
   "execution_count": 6,
   "metadata": {},
   "outputs": [],
   "source": [
    "from sklearn.feature_extraction.text import CountVectorizer\n",
    "\n",
    "token = r\"(?u)\\b[\\w\\'/]+\\b\"\n",
    "tf_vectorizer = CountVectorizer(lowercase=True, max_df=1.0, min_df=1, binary=True, token_pattern=token)\n",
    "tf_vectorizer.set_params(ngram_range=(1,1))\n",
    "\n",
    "X_train = tf_vectorizer.fit_transform(X_train_sent)\n",
    "X_test = tf_vectorizer.transform(X_test_sent)\n",
    "\n",
    "# from sklearn.model_selection import train_test_split\n",
    "# X_train, X_test, y_train, y_test = train_test_split(X_vectorized, y, test_size=0.33, random_state=42)"
   ]
  },
  {
   "cell_type": "code",
   "execution_count": 7,
   "metadata": {},
   "outputs": [
    {
     "name": "stdout",
     "output_type": "stream",
     "text": [
      "4532\n"
     ]
    }
   ],
   "source": [
    "words = tf_vectorizer.get_feature_names()\n",
    "print(len(words))\n",
    "# print(words[500:600])"
   ]
  },
  {
   "cell_type": "code",
   "execution_count": 8,
   "metadata": {},
   "outputs": [
    {
     "name": "stdout",
     "output_type": "stream",
     "text": [
      "(1333,)\n",
      "(667,)\n"
     ]
    }
   ],
   "source": [
    "print(y_train.shape)\n",
    "print(y_test.shape)"
   ]
  },
  {
   "cell_type": "code",
   "execution_count": 9,
   "metadata": {},
   "outputs": [],
   "source": [
    "from sklearn.utils import shuffle\n",
    "X_train, y_train = shuffle(X_train, y_train, random_state=42)\n",
    "X_test, y_test = shuffle(X_test, y_test, random_state=42)"
   ]
  },
  {
   "cell_type": "code",
   "execution_count": 10,
   "metadata": {},
   "outputs": [],
   "source": [
    "def lr_classifier_report(X_tr, y_tr, X_te, y_te, random_state=42, C=1.0):\n",
    "    from sklearn.linear_model import LogisticRegression\n",
    "    from sklearn.metrics import precision_recall_curve\n",
    "    from sklearn.metrics import average_precision_score\n",
    "    from sklearn.metrics import roc_curve, auc\n",
    "    from sklearn.metrics import classification_report\n",
    "    import matplotlib.pyplot as plt\n",
    "\n",
    "    clf = LogisticRegression(random_state=random_state, C=C)\n",
    "    clf.fit(X_tr, y_tr)\n",
    "\n",
    "    y_predict = clf.predict(X_te)\n",
    "\n",
    "    print('--------------')\n",
    "    print('C=%.2f' %(C))\n",
    "    print('--------------')\n",
    "    print('Accuracy')\n",
    "    print('Train:\\t%.5f ' %(clf.score(X_tr, y_tr)))\n",
    "    print('Test:\\t%.5f ' %(clf.score(X_te, y_te)))\n",
    "    \n",
    "    print(classification_report(y_te,y_predict))\n",
    "    #############################################################################\n",
    "    y_score = clf.decision_function(X_te)\n",
    "    \n",
    "    precision, recall, _ = precision_recall_curve(y_te, y_score)\n",
    "    average_precision = average_precision_score(y_te, y_score)\n",
    "    \n",
    "    plt.step(recall, precision, color='b', alpha=0.2, where='post')\n",
    "    plt.fill_between(recall, precision, step='post', alpha=0.2, color='b')\n",
    "\n",
    "    \n",
    "    plt.xlabel('Recall')\n",
    "    plt.ylabel('Precision')\n",
    "    plt.ylim([0.0, 1.05])\n",
    "    plt.xlim([0.0, 1.0])\n",
    "    plt.title('2-class Precision-Recall curve: AP={0:0.2f}'.format(\n",
    "          average_precision))\n",
    "    plt.show()\n",
    "    plt.clf()\n",
    "    \n",
    "    false_positive_rate, true_positive_rate, thresholds = roc_curve(y_te, y_score)\n",
    "    roc_auc = auc(false_positive_rate, true_positive_rate)\n",
    "    \n",
    "    plt.title('Receiver Operating Characteristic')\n",
    "    plt.plot(false_positive_rate, true_positive_rate, 'b',\n",
    "    label='AUC = %0.2f'% roc_auc)\n",
    "    plt.legend(loc='lower right')\n",
    "    plt.plot([0,1],[0,1],'r--')\n",
    "    plt.xlim([-0.1,1.2])\n",
    "    plt.ylim([-0.1,1.2])\n",
    "    plt.ylabel('True Positive Rate')\n",
    "    plt.xlabel('False Positive Rate')\n",
    "    plt.show()\n",
    "    \n",
    "    return clf"
   ]
  },
  {
   "cell_type": "code",
   "execution_count": 11,
   "metadata": {},
   "outputs": [
    {
     "name": "stdout",
     "output_type": "stream",
     "text": [
      "--------------\n",
      "C=1.00\n",
      "--------------\n",
      "Accuracy\n",
      "Train:\t0.98575 \n",
      "Test:\t0.75562 \n",
      "             precision    recall  f1-score   support\n",
      "\n",
      "        0.0       0.80      0.73      0.76       363\n",
      "        1.0       0.71      0.79      0.75       304\n",
      "\n",
      "avg / total       0.76      0.76      0.76       667\n",
      "\n"
     ]
    },
    {
     "data": {
      "image/png": "[encoded data removed]",
      "text/plain": [
       "<matplotlib.figure.Figure at 0x135785ac2b0>"
      ]
     },
     "metadata": {},
     "output_type": "display_data"
    },
    {
     "data": {
      "image/png": "[encoded data removed]",
      "text/plain": [
       "<matplotlib.figure.Figure at 0x1357e15d2e8>"
      ]
     },
     "metadata": {},
     "output_type": "display_data"
    }
   ],
   "source": [
    "clf1 = lr_classifier_report(X_train, y_train, X_test, y_test, C=1.0)"
   ]
  },
  {
   "cell_type": "code",
   "execution_count": 12,
   "metadata": {},
   "outputs": [
    {
     "name": "stdout",
     "output_type": "stream",
     "text": [
      "--------------\n",
      "C=0.10\n",
      "--------------\n",
      "Accuracy\n",
      "Train:\t0.88897 \n",
      "Test:\t0.75862 \n",
      "             precision    recall  f1-score   support\n",
      "\n",
      "        0.0       0.80      0.74      0.77       363\n",
      "        1.0       0.71      0.79      0.75       304\n",
      "\n",
      "avg / total       0.76      0.76      0.76       667\n",
      "\n"
     ]
    },
    {
     "data": {
      "image/png": "[encoded data removed]",
      "text/plain": [
       "<matplotlib.figure.Figure at 0x1357e3f63c8>"
      ]
     },
     "metadata": {},
     "output_type": "display_data"
    },
    {
     "data": {
      "image/png": "[encoded data removed]",
      "text/plain": [
       "<matplotlib.figure.Figure at 0x1357f4974e0>"
      ]
     },
     "metadata": {},
     "output_type": "display_data"
    }
   ],
   "source": [
    "clf2 = lr_classifier_report(X_train, y_train, X_test, y_test, C=0.1)"
   ]
  },
  {
   "cell_type": "code",
   "execution_count": 13,
   "metadata": {},
   "outputs": [
    {
     "name": "stdout",
     "output_type": "stream",
     "text": [
      "--------------\n",
      "C=0.01\n",
      "--------------\n",
      "Accuracy\n",
      "Train:\t0.76819 \n",
      "Test:\t0.69415 \n",
      "             precision    recall  f1-score   support\n",
      "\n",
      "        0.0       0.77      0.63      0.69       363\n",
      "        1.0       0.64      0.77      0.70       304\n",
      "\n",
      "avg / total       0.71      0.69      0.69       667\n",
      "\n"
     ]
    },
    {
     "data": {
      "image/png": "[encoded data removed]",
      "text/plain": [
       "<matplotlib.figure.Figure at 0x1357f4f3f28>"
      ]
     },
     "metadata": {},
     "output_type": "display_data"
    },
    {
     "data": {
      "image/png": "[encoded data removed]",
      "text/plain": [
       "<matplotlib.figure.Figure at 0x1357f5597b8>"
      ]
     },
     "metadata": {},
     "output_type": "display_data"
    }
   ],
   "source": [
    "clf3 = lr_classifier_report(X_train, y_train, X_test, y_test, C=0.01)"
   ]
  },
  {
   "cell_type": "code",
   "execution_count": 14,
   "metadata": {},
   "outputs": [
    {
     "name": "stdout",
     "output_type": "stream",
     "text": [
      "--------------\n",
      "C=0.00\n",
      "--------------\n",
      "Accuracy\n",
      "Train:\t0.70893 \n",
      "Test:\t0.63268 \n",
      "             precision    recall  f1-score   support\n",
      "\n",
      "        0.0       0.81      0.42      0.56       363\n",
      "        1.0       0.56      0.88      0.69       304\n",
      "\n",
      "avg / total       0.70      0.63      0.62       667\n",
      "\n"
     ]
    },
    {
     "data": {
      "image/png": "[encoded data removed]",
      "text/plain": [
       "<matplotlib.figure.Figure at 0x1357de34fd0>"
      ]
     },
     "metadata": {},
     "output_type": "display_data"
    },
    {
     "data": {
      "image/png": "[encoded data removed]",
      "text/plain": [
       "<matplotlib.figure.Figure at 0x1357f6212b0>"
      ]
     },
     "metadata": {},
     "output_type": "display_data"
    }
   ],
   "source": [
    "clf3 = lr_classifier_report(X_train, y_train, X_test, y_test, C=0.001)"
   ]
  },
  {
   "cell_type": "code",
   "execution_count": 15,
   "metadata": {},
   "outputs": [],
   "source": [
    "weights = clf3.coef_.flatten()\n",
    "\n",
    "\n",
    "def negative_positive_counts(X, y, word_index):\n",
    "    neg_count = np.sum(X[y==0, word_index])\n",
    "    pos_count = np.sum(X[y==1, word_index])    \n",
    "    return neg_count, pos_count"
   ]
  },
  {
   "cell_type": "code",
   "execution_count": 16,
   "metadata": {},
   "outputs": [
    {
     "name": "stdout",
     "output_type": "stream",
     "text": [
      "word\tweight\trelated\tunrelated\n",
      "in\t-0.04\t108\t178\n",
      "to\t-0.03\t158\t209\n",
      "he\t-0.02\t11\t59\n",
      "on\t-0.02\t55\t92\n",
      "who\t-0.02\t23\t61\n",
      "the\t-0.02\t331\t353\n",
      "when\t-0.02\t18\t50\n",
      "into\t-0.01\t5\t32\n",
      "his\t-0.01\t21\t45\n",
      "from\t-0.01\t28\t50\n"
     ]
    }
   ],
   "source": [
    "not_related_indices = np.argsort(weights)\n",
    "related_indices = not_related_indices[::-1]\n",
    "\n",
    "print(\"word\\tweight\\trelated\\tunrelated\")\n",
    "for i in not_related_indices[:10]:\n",
    "    unrel_cnt, rel_cnt = negative_positive_counts(X_train, y_train, i)\n",
    "    print(\"%s\\t%0.2f\\t%d\\t%d\" %(words[i], weights[i], rel_cnt, unrel_cnt))"
   ]
  },
  {
   "cell_type": "code",
   "execution_count": 17,
   "metadata": {},
   "outputs": [
    {
     "name": "stdout",
     "output_type": "stream",
     "text": [
      "word\t\tweight\trelated\tunrelated\n",
      "this\t\t0.07\t281\t124\n",
      "movie\t\t0.05\t184\t67\n",
      "is\t\t0.05\t281\t160\n",
      "film\t\t0.03\t136\t63\n",
      "it\t\t0.03\t185\t122\n",
      "good\t\t0.01\t43\t11\n",
      "very\t\t0.01\t39\t8\n",
      "great\t\t0.01\t35\t9\n",
      "but\t\t0.01\t79\t51\n",
      "all\t\t0.01\t60\t34\n",
      "ever\t\t0.01\t31\t6\n",
      "watch\t\t0.01\t32\t9\n",
      "was\t\t0.01\t117\t90\n",
      "that\t\t0.01\t126\t100\n",
      "i\t\t0.01\t215\t184\n",
      "one\t\t0.01\t68\t47\n",
      "acting\t\t0.01\t19\t2\n",
      "recommend\t\t0.01\t17\t0\n",
      "worst\t\t0.01\t19\t2\n",
      "bad\t\t0.01\t23\t6\n",
      "actor\t\t0.01\t17\t1\n",
      "worth\t\t0.01\t16\t0\n",
      "best\t\t0.01\t24\t8\n",
      "most\t\t0.01\t22\t7\n",
      "well\t\t0.01\t22\t7\n",
      "scene\t\t0.01\t23\t8\n",
      "seen\t\t0.01\t29\t13\n",
      "plot\t\t0.01\t25\t10\n",
      "you\t\t0.01\t64\t47\n",
      "awful\t\t0.01\t14\t0\n"
     ]
    }
   ],
   "source": [
    "print(\"word\\t\\tweight\\trelated\\tunrelated\")\n",
    "for i in related_indices[:30]:\n",
    "    unrel_cnt, rel_cnt = negative_positive_counts(X_train, y_train, i)\n",
    "    print(\"%s\\t\\t%0.2f\\t%d\\t%d\" %(words[i], weights[i], rel_cnt, unrel_cnt))"
   ]
  },
  {
   "cell_type": "code",
   "execution_count": 18,
   "metadata": {},
   "outputs": [
    {
     "name": "stdout",
     "output_type": "stream",
     "text": [
      "word\tweight\trelated\tunrelated\n",
      "this\t0.07\t281\t124\n",
      "movie\t0.05\t184\t67\n",
      "is\t0.05\t281\t160\n",
      "in\t-0.04\t108\t178\n",
      "film\t0.03\t136\t63\n",
      "to\t-0.03\t158\t209\n",
      "it\t0.03\t185\t122\n",
      "he\t-0.02\t11\t59\n",
      "on\t-0.02\t55\t92\n",
      "who\t-0.02\t23\t61\n"
     ]
    }
   ],
   "source": [
    "abs_indices = np.argsort(np.absolute(weights))[::-1]\n",
    "\n",
    "print(\"word\\tweight\\trelated\\tunrelated\")\n",
    "for i in abs_indices[:10]:\n",
    "    unrel_cnt, rel_cnt = negative_positive_counts(X_train, y_train, i)\n",
    "    print(\"%s\\t%0.2f\\t%d\\t%d\" %(words[i], weights[i], rel_cnt, unrel_cnt))"
   ]
  },
  {
   "cell_type": "code",
   "execution_count": 19,
   "metadata": {},
   "outputs": [
    {
     "data": {
      "text/plain": [
       "array([0., 1.])"
      ]
     },
     "execution_count": 19,
     "metadata": {},
     "output_type": "execute_result"
    }
   ],
   "source": [
    "clf2.classes_"
   ]
  },
  {
   "cell_type": "code",
   "execution_count": 20,
   "metadata": {},
   "outputs": [
    {
     "name": "stdout",
     "output_type": "stream",
     "text": [
      "0.9030288387742158\n",
      "0.9278437458117518\n",
      "0.9320359314775554\n",
      "0.931334171135712\n",
      "0.9106035275887772\n",
      "0.9046594636613434\n",
      "0.9292979728745767\n",
      "0.9176841334433236\n",
      "0.9036295603754653\n",
      "0.9294447357494527\n",
      "0.979451851149098\n",
      "0.915961115546778\n",
      "0.9016802948218259\n",
      "0.932509396874115\n",
      "0.9273596405730732\n",
      "0.9197384264780087\n",
      "0.9348721663693018\n",
      "0.9275444754623536\n",
      "0.958131124509027\n",
      "0.9135435684551974\n",
      "0.9164795347684342\n",
      "0.922291553948335\n",
      "0.929011945531871\n"
     ]
    }
   ],
   "source": [
    "y_class = clf2.predict_proba(X_test)\n",
    "\n",
    "for target in y_class:\n",
    "    if target[1] > 0.9:\n",
    "        print(target[1])"
   ]
  },
  {
   "cell_type": "markdown",
   "metadata": {},
   "source": [
    "## P(related|sentence) and Count\n",
    "\n",
    "### Threshold 0.5, 0.9, 0.99"
   ]
  },
  {
   "cell_type": "code",
   "execution_count": 21,
   "metadata": {},
   "outputs": [],
   "source": [
    "def get_sentences(corpus):\n",
    "    from textblob import TextBlob\n",
    "    text = TextBlob(corpus)\n",
    "    i = 0\n",
    "    sent = []\n",
    "    for sentence in text.raw_sentences:\n",
    "        sent.append(sentence)\n",
    "    return sent\n",
    "\n",
    "def count_related_sentence(clf, cv, X, threshold=None):\n",
    "    count = []\n",
    "    \n",
    "    for corpus in X:\n",
    "        sentences = get_sentences(corpus)\n",
    "        sentence_set = cv.transform(sentences)\n",
    "        \n",
    "        if threshold==None:\n",
    "            y = clf.predict(sentence_set)\n",
    "            count.append(int(np.sum(y)))\n",
    "        else:\n",
    "            # class ['0', '1']\n",
    "            y_classes = clf.predict_proba(sentence_set)\n",
    "            count.append(int(np.sum(y_classes[:,1]>threshold)))\n",
    "    return count\n",
    "\n",
    "def summary_count(count):\n",
    "    max_count = np.max(count)    \n",
    "    summary = np.zeros(max_count+1, dtype=np.int)\n",
    "    \n",
    "    for item in count:\n",
    "        summary[item] += 1\n",
    "        \n",
    "    return summary\n",
    "\n",
    "# Load data\n",
    "X_te_clean = open_pickle(\"./pickles/imdb_x_te_clean.pickle\")\n",
    "y_te = open_pickle(\"./pickles/imdb_y_te.pickle\")"
   ]
  },
  {
   "cell_type": "code",
   "execution_count": 22,
   "metadata": {},
   "outputs": [
    {
     "name": "stdout",
     "output_type": "stream",
     "text": [
      "514\n",
      "1848\n",
      "3002\n",
      "3739\n",
      "3649\n",
      "3124\n",
      "2584\n",
      "1870\n",
      "1311\n",
      "929\n",
      "646\n",
      "440\n",
      "343\n",
      "267\n",
      "180\n",
      "134\n",
      "100\n",
      "76\n",
      "71\n",
      "34\n",
      "27\n",
      "30\n",
      "20\n",
      "11\n",
      "9\n",
      "15\n",
      "6\n",
      "3\n",
      "2\n",
      "1\n",
      "4\n",
      "4\n",
      "1\n",
      "2\n",
      "2\n",
      "0\n",
      "1\n",
      "0\n",
      "0\n",
      "0\n",
      "0\n",
      "1\n"
     ]
    }
   ],
   "source": [
    "# no threshold\n",
    "count = count_related_sentence(clf2, tf_vectorizer, X_te_clean)\n",
    "summary = summary_count(count)\n",
    "\n",
    "# for i, cnt in enumerate(summary):\n",
    "#     print('%d' %(cnt))"
   ]
  },
  {
   "cell_type": "code",
   "execution_count": 23,
   "metadata": {},
   "outputs": [
    {
     "name": "stdout",
     "output_type": "stream",
     "text": [
      "6360\n",
      "7754\n",
      "5482\n",
      "2985\n",
      "1334\n",
      "615\n",
      "263\n",
      "102\n",
      "60\n",
      "24\n",
      "11\n",
      "5\n",
      "2\n",
      "1\n",
      "1\n",
      "0\n",
      "1\n"
     ]
    }
   ],
   "source": [
    "count_threshold1 = count_related_sentence(clf2, tf_vectorizer, X_te_clean, threshold=0.75)\n",
    "summary = summary_count(count_threshold1)\n",
    "for i, cnt in enumerate(summary):\n",
    "    print('%d' %(cnt))"
   ]
  },
  {
   "cell_type": "code",
   "execution_count": 24,
   "metadata": {},
   "outputs": [
    {
     "name": "stdout",
     "output_type": "stream",
     "text": [
      "14361\n",
      "7331\n",
      "2421\n",
      "662\n",
      "169\n",
      "48\n",
      "4\n",
      "3\n",
      "1\n"
     ]
    }
   ],
   "source": [
    "count_threshold1 = count_related_sentence(clf2, tf_vectorizer, X_te_clean, threshold=0.85)\n",
    "summary = summary_count(count_threshold1)\n",
    "for i, cnt in enumerate(summary):\n",
    "    print('%d' %(cnt))"
   ]
  },
  {
   "cell_type": "code",
   "execution_count": 25,
   "metadata": {},
   "outputs": [
    {
     "name": "stdout",
     "output_type": "stream",
     "text": [
      "19523\n",
      "4543\n",
      "810\n",
      "104\n",
      "17\n",
      "2\n",
      "1\n"
     ]
    }
   ],
   "source": [
    "count_threshold2 = count_related_sentence(clf2, tf_vectorizer, X_te_clean, threshold=0.9)\n",
    "summary = summary_count(count_threshold2)\n",
    "for i, cnt in enumerate(summary):\n",
    "    print('%d' %(cnt))"
   ]
  },
  {
   "cell_type": "code",
   "execution_count": 26,
   "metadata": {},
   "outputs": [
    {
     "name": "stdout",
     "output_type": "stream",
     "text": [
      "24965\n",
      "35\n"
     ]
    }
   ],
   "source": [
    "count_threshold3 = count_related_sentence(clf2, tf_vectorizer, X_te_clean, threshold=0.99)\n",
    "summary = summary_count(count_threshold3)\n",
    "for i, cnt in enumerate(summary):\n",
    "    print('%d' %(cnt))"
   ]
  },
  {
   "cell_type": "code",
   "execution_count": 27,
   "metadata": {},
   "outputs": [],
   "source": [
    "cnt = np.asarray(count)\n",
    "ind = np.argsort(cnt)[::-1]\n",
    "# X_te_clean[ind[0]]"
   ]
  },
  {
   "cell_type": "markdown",
   "metadata": {},
   "source": [
    "## Classification +/-"
   ]
  },
  {
   "cell_type": "code",
   "execution_count": 28,
   "metadata": {},
   "outputs": [
    {
     "name": "stdout",
     "output_type": "stream",
     "text": [
      "load data...\n",
      "(500,)\n",
      "(500,)\n",
      "Stack the data...\n",
      "Total data : 1000\n",
      "Split train-test data...\n"
     ]
    }
   ],
   "source": [
    "import re\n",
    "\n",
    "print('load data...')\n",
    "pos_related = load_csv('./sentence_data/pos_related.csv')\n",
    "neg_related = load_csv('./sentence_data/neg_related.csv')\n",
    "  \n",
    "print(pos_related.shape)\n",
    "print(neg_related.shape)\n",
    "\n",
    "print('Stack the data...')\n",
    "\n",
    "y_pos = np.ones(pos_related.shape)\n",
    "y_neg = np.zeros(neg_related.shape)\n",
    "\n",
    "X = np.hstack((pos_related, neg_related))\n",
    "y = np.hstack((y_pos, y_neg))\n",
    "\n",
    "# Clean the special characters\n",
    "for i, x in enumerate(X):\n",
    "    X[i] = re.sub('[^A-Za-z0-9 ]+', '', X[i])\n",
    "    \n",
    "print('Total data :', len(X))\n",
    "print('Split train-test data...')\n",
    "import numpy as np\n",
    "import random\n",
    "\n",
    "random.seed(42)\n",
    "param = 2/3\n",
    "partition = int(len(X) * param)\n",
    "indices = random.sample(range(len(X)),partition)\n",
    "\n",
    "X_tr = np.asarray(X[indices])\n",
    "X_te = np.asarray(np.delete(X,indices))\n",
    "y_tr = y[indices]\n",
    "y_te = np.delete(y, indices)\n",
    "\n",
    "save_pickle('./sentence_data/imdb_sentence_np_xtrain.pickle', X_tr)\n",
    "save_pickle('./sentence_data/imdb_sentence_np_ytrain.pickle', y_tr)\n",
    "save_pickle('./sentence_data/imdb_sentence_np_xtest.pickle', X_te)\n",
    "save_pickle('./sentence_data/imdb_sentence_np_ytest.pickle', y_te)"
   ]
  },
  {
   "cell_type": "code",
   "execution_count": 29,
   "metadata": {},
   "outputs": [],
   "source": [
    "X_np_tr = open_pickle(\"./sentence_data/imdb_sentence_np_xtrain.pickle\")\n",
    "X_np_te = open_pickle(\"./sentence_data/imdb_sentence_np_xtest.pickle\")\n",
    "y_np_tr = open_pickle(\"./sentence_data/imdb_sentence_np_ytrain.pickle\")\n",
    "y_np_te = open_pickle(\"./sentence_data/imdb_sentence_np_ytest.pickle\")"
   ]
  },
  {
   "cell_type": "code",
   "execution_count": 30,
   "metadata": {},
   "outputs": [],
   "source": [
    "from sklearn.feature_extraction.text import CountVectorizer\n",
    "\n",
    "token = r\"(?u)\\b[\\w\\'/]+\\b\"\n",
    "cv = CountVectorizer(lowercase=True, max_df=1.0, min_df=1, binary=True, token_pattern=token)\n",
    "cv.set_params(ngram_range=(1,1))\n",
    "\n",
    "X_np_train = tf_vectorizer.transform(X_np_tr)\n",
    "X_np_test = tf_vectorizer.transform(X_np_te)"
   ]
  },
  {
   "cell_type": "code",
   "execution_count": 31,
   "metadata": {},
   "outputs": [
    {
     "name": "stdout",
     "output_type": "stream",
     "text": [
      "--------------\n",
      "C=1.00\n",
      "--------------\n",
      "Accuracy\n",
      "Train:\t0.99249 \n",
      "Test:\t0.76946 \n",
      "             precision    recall  f1-score   support\n",
      "\n",
      "        0.0       0.79      0.72      0.75       163\n",
      "        1.0       0.75      0.82      0.78       171\n",
      "\n",
      "avg / total       0.77      0.77      0.77       334\n",
      "\n"
     ]
    },
    {
     "data": {
      "image/png": "[encoded data removed]",
      "text/plain": [
       "<matplotlib.figure.Figure at 0x1350237dd30>"
      ]
     },
     "metadata": {},
     "output_type": "display_data"
    },
    {
     "data": {
      "image/png": "[encoded data removed]",
      "text/plain": [
       "<matplotlib.figure.Figure at 0x1357f613cc0>"
      ]
     },
     "metadata": {},
     "output_type": "display_data"
    }
   ],
   "source": [
    "clf_np = lr_classifier_report(X_np_train, y_np_tr, X_np_test, y_np_te, C=1)"
   ]
  },
  {
   "cell_type": "code",
   "execution_count": 32,
   "metadata": {},
   "outputs": [
    {
     "name": "stdout",
     "output_type": "stream",
     "text": [
      "--------------\n",
      "C=0.10\n",
      "--------------\n",
      "Accuracy\n",
      "Train:\t0.89640 \n",
      "Test:\t0.73054 \n",
      "             precision    recall  f1-score   support\n",
      "\n",
      "        0.0       0.74      0.70      0.72       163\n",
      "        1.0       0.73      0.76      0.74       171\n",
      "\n",
      "avg / total       0.73      0.73      0.73       334\n",
      "\n"
     ]
    },
    {
     "data": {
      "image/png": "[encoded data removed]",
      "text/plain": [
       "<matplotlib.figure.Figure at 0x1350273e8d0>"
      ]
     },
     "metadata": {},
     "output_type": "display_data"
    },
    {
     "data": {
      "image/png": "[encoded data removed]",
      "text/plain": [
       "<matplotlib.figure.Figure at 0x1357f687be0>"
      ]
     },
     "metadata": {},
     "output_type": "display_data"
    }
   ],
   "source": [
    "clf_np2 = lr_classifier_report(X_np_train, y_np_tr, X_np_test, y_np_te, C=0.1)"
   ]
  },
  {
   "cell_type": "code",
   "execution_count": 33,
   "metadata": {},
   "outputs": [
    {
     "name": "stdout",
     "output_type": "stream",
     "text": [
      "--------------\n",
      "C=0.01\n",
      "--------------\n",
      "Accuracy\n",
      "Train:\t0.76577 \n",
      "Test:\t0.68862 \n",
      "             precision    recall  f1-score   support\n",
      "\n",
      "        0.0       0.69      0.66      0.67       163\n",
      "        1.0       0.69      0.72      0.70       171\n",
      "\n",
      "avg / total       0.69      0.69      0.69       334\n",
      "\n"
     ]
    },
    {
     "data": {
      "image/png": "[encoded data removed]",
      "text/plain": [
       "<matplotlib.figure.Figure at 0x135027f26a0>"
      ]
     },
     "metadata": {},
     "output_type": "display_data"
    },
    {
     "data": {
      "image/png": "[encoded data removed]",
      "text/plain": [
       "<matplotlib.figure.Figure at 0x1350273e2e8>"
      ]
     },
     "metadata": {},
     "output_type": "display_data"
    }
   ],
   "source": [
    "clf_np3 = lr_classifier_report(X_np_train, y_np_tr, X_np_test, y_np_te, C=0.01)"
   ]
  },
  {
   "cell_type": "code",
   "execution_count": 34,
   "metadata": {},
   "outputs": [
    {
     "name": "stdout",
     "output_type": "stream",
     "text": [
      "--------------\n",
      "C=0.00\n",
      "--------------\n",
      "Accuracy\n",
      "Train:\t0.74324 \n",
      "Test:\t0.68263 \n",
      "             precision    recall  f1-score   support\n",
      "\n",
      "        0.0       0.68      0.66      0.67       163\n",
      "        1.0       0.69      0.70      0.69       171\n",
      "\n",
      "avg / total       0.68      0.68      0.68       334\n",
      "\n"
     ]
    },
    {
     "data": {
      "image/png": "[encoded data removed]",
      "text/plain": [
       "<matplotlib.figure.Figure at 0x13502a140b8>"
      ]
     },
     "metadata": {},
     "output_type": "display_data"
    },
    {
     "data": {
      "image/png": "[encoded data removed]",
      "text/plain": [
       "<matplotlib.figure.Figure at 0x13503a4bc50>"
      ]
     },
     "metadata": {},
     "output_type": "display_data"
    }
   ],
   "source": [
    "clf_np3 = lr_classifier_report(X_np_train, y_np_tr, X_np_test, y_np_te, C=0.001)"
   ]
  },
  {
   "cell_type": "markdown",
   "metadata": {},
   "source": [
    "## P(n|related), P(p|related)"
   ]
  },
  {
   "cell_type": "code",
   "execution_count": 66,
   "metadata": {},
   "outputs": [],
   "source": [
    "X_te_clean = open_pickle(\"./pickles/imdb_x_te_clean.pickle\")\n",
    "y_te = open_pickle(\"./pickles/imdb_y_te.pickle\")\n",
    "\n",
    "def get_sentences(corpus):\n",
    "    from textblob import TextBlob\n",
    "    text = TextBlob(corpus)\n",
    "    i = 0\n",
    "    sent = []\n",
    "    for sentence in text.raw_sentences:\n",
    "        sent.append(sentence)\n",
    "    return sent\n",
    "\n",
    "def nested_classifier(clf, clf_np, cv, X, threshold=None):\n",
    "    y_pred = []\n",
    "    for corpus in X:\n",
    "    \n",
    "        sentences = get_sentences(corpus)\n",
    "        sentence_set = cv.transform(sentences)\n",
    "        \n",
    "        if threshold==None:\n",
    "            y_ind = clf.predict(sentence_set)\n",
    "        else:\n",
    "            y_ind = clf.predict_proba(sentence_set)\n",
    "            y_ind = y_ind[:,1]>threshold\n",
    "        \n",
    "        # make case when there is no related sentence\n",
    "        if np.sum(y_ind) == 0:\n",
    "            y_pred.append(-1)\n",
    "            continue\n",
    "        elif np.sum(y_ind) == 1:\n",
    "            y = clf_np.predict(sentence_set[np.array(np.where(y_ind == 1)).T.flatten(), :])\n",
    "            y_pred.append(y[0])\n",
    "        else:\n",
    "            y_pred.append(-2)\n",
    "    \n",
    "    return np.array(y_pred)\n",
    "\n"
   ]
  },
  {
   "cell_type": "code",
   "execution_count": 80,
   "metadata": {},
   "outputs": [
    {
     "name": "stdout",
     "output_type": "stream",
     "text": [
      "total: 1848\n"
     ]
    },
    {
     "data": {
      "text/plain": [
       "0.6737012987012987"
      ]
     },
     "execution_count": 80,
     "metadata": {},
     "output_type": "execute_result"
    }
   ],
   "source": [
    "y = nested_classifier(clf2, clf_np2, tf_vectorizer, X_te_clean, threshold=0.5)\n",
    "\n",
    "# accuracy mong 7754 data which has only one related sentence\n",
    "\n",
    "print('total:', (np.sum(y==0) + np.sum(y==1)))\n",
    "np.sum(y == y_te)/(np.sum(y==0) + np.sum(y==1))"
   ]
  },
  {
   "cell_type": "code",
   "execution_count": 76,
   "metadata": {},
   "outputs": [
    {
     "name": "stdout",
     "output_type": "stream",
     "text": [
      "total: 7754\n"
     ]
    },
    {
     "data": {
      "text/plain": [
       "0.6627547072478721"
      ]
     },
     "execution_count": 76,
     "metadata": {},
     "output_type": "execute_result"
    }
   ],
   "source": [
    "y = nested_classifier(clf2, clf_np2, tf_vectorizer, X_te_clean, threshold=0.75)\n",
    "\n",
    "# accuracy mong 7754 data which has only one related sentence\n",
    "\n",
    "print('total:', (np.sum(y==0) + np.sum(y==1)))\n",
    "np.sum(y == y_te)/(np.sum(y==0) + np.sum(y==1))"
   ]
  },
  {
   "cell_type": "code",
   "execution_count": 77,
   "metadata": {},
   "outputs": [
    {
     "name": "stdout",
     "output_type": "stream",
     "text": [
      "total: 7331\n"
     ]
    },
    {
     "data": {
      "text/plain": [
       "0.6752148410858"
      ]
     },
     "execution_count": 77,
     "metadata": {},
     "output_type": "execute_result"
    }
   ],
   "source": [
    "y = nested_classifier(clf2, clf_np2, tf_vectorizer, X_te_clean, threshold=0.85)\n",
    "\n",
    "# accuracy mong 7754 data which has only one related sentence\n",
    "\n",
    "print('total:', (np.sum(y==0) + np.sum(y==1)))\n",
    "np.sum(y == y_te)/(np.sum(y==0) + np.sum(y==1))"
   ]
  },
  {
   "cell_type": "code",
   "execution_count": 78,
   "metadata": {},
   "outputs": [
    {
     "name": "stdout",
     "output_type": "stream",
     "text": [
      "total: 4543\n"
     ]
    },
    {
     "data": {
      "text/plain": [
       "0.6949152542372882"
      ]
     },
     "execution_count": 78,
     "metadata": {},
     "output_type": "execute_result"
    }
   ],
   "source": [
    "y = nested_classifier(clf2, clf_np2, tf_vectorizer, X_te_clean, threshold=0.9)\n",
    "\n",
    "# accuracy mong 7754 data which has only one related sentence\n",
    "\n",
    "print('total:', (np.sum(y==0) + np.sum(y==1)))\n",
    "np.sum(y == y_te)/(np.sum(y==0) + np.sum(y==1))"
   ]
  },
  {
   "cell_type": "code",
   "execution_count": 79,
   "metadata": {},
   "outputs": [
    {
     "name": "stdout",
     "output_type": "stream",
     "text": [
      "total: 35\n"
     ]
    },
    {
     "data": {
      "text/plain": [
       "0.8857142857142857"
      ]
     },
     "execution_count": 79,
     "metadata": {},
     "output_type": "execute_result"
    }
   ],
   "source": [
    "y = nested_classifier(clf2, clf_np2, tf_vectorizer, X_te_clean, threshold=0.99)\n",
    "\n",
    "print('total:', (np.sum(y==0) + np.sum(y==1)))\n",
    "np.sum(y == y_te)/(np.sum(y==0) + np.sum(y==1))"
   ]
  },
  {
   "cell_type": "code",
   "execution_count": 81,
   "metadata": {},
   "outputs": [
    {
     "name": "stdout",
     "output_type": "stream",
     "text": [
      "total: 1231\n"
     ]
    },
    {
     "data": {
      "text/plain": [
       "0.7181153533712429"
      ]
     },
     "execution_count": 81,
     "metadata": {},
     "output_type": "execute_result"
    }
   ],
   "source": [
    "y = nested_classifier(clf2, clf_np2, tf_vectorizer, X_te_clean, threshold=0.95)\n",
    "\n",
    "print('total:', (np.sum(y==0) + np.sum(y==1)))\n",
    "np.sum(y == y_te)/(np.sum(y==0) + np.sum(y==1))"
   ]
  },
  {
   "cell_type": "code",
   "execution_count": 85,
   "metadata": {},
   "outputs": [],
   "source": [
    "def double_nested_test():\n",
    "    threshold = np.arange(0.5,1.0,0.02)\n",
    "    \n",
    "    for t in threshold:\n",
    "        y = nested_classifier(clf2, clf_np2, tf_vectorizer, X_te_clean, threshold=t)\n",
    "\n",
    "        #print('total:', (np.sum(y==0) + np.sum(y==1)))\n",
    "        #np.sum(y == y_te)/(np.sum(y==0) + np.sum(y==1))\n",
    "\n",
    "        print('%.2f\\t%d\\t%.5f' %(t, (np.sum(y==0) + np.sum(y==1)), np.sum(y == y_te)/(np.sum(y==0) + np.sum(y==1))))\n",
    "        del y"
   ]
  },
  {
   "cell_type": "code",
   "execution_count": 86,
   "metadata": {},
   "outputs": [
    {
     "name": "stdout",
     "output_type": "stream",
     "text": [
      "0.50\t1848\t0.67370\n",
      "0.52\t2129\t0.67356\n",
      "0.54\t2468\t0.67626\n"
     ]
    },
    {
     "ename": "KeyboardInterrupt",
     "evalue": "",
     "output_type": "error",
     "traceback": [
      "\u001b[1;31m---------------------------------------------------------------------------\u001b[0m",
      "\u001b[1;31mKeyboardInterrupt\u001b[0m                         Traceback (most recent call last)",
      "\u001b[1;32m<ipython-input-86-e04a1cac85be>\u001b[0m in \u001b[0;36m<module>\u001b[1;34m()\u001b[0m\n\u001b[1;32m----> 1\u001b[1;33m \u001b[0mdouble_nested_test\u001b[0m\u001b[1;33m(\u001b[0m\u001b[1;33m)\u001b[0m\u001b[1;33m\u001b[0m\u001b[0m\n\u001b[0m",
      "\u001b[1;32m<ipython-input-85-a62173b99472>\u001b[0m in \u001b[0;36mdouble_nested_test\u001b[1;34m()\u001b[0m\n\u001b[0;32m      3\u001b[0m \u001b[1;33m\u001b[0m\u001b[0m\n\u001b[0;32m      4\u001b[0m     \u001b[1;32mfor\u001b[0m \u001b[0mt\u001b[0m \u001b[1;32min\u001b[0m \u001b[0mthreshold\u001b[0m\u001b[1;33m:\u001b[0m\u001b[1;33m\u001b[0m\u001b[0m\n\u001b[1;32m----> 5\u001b[1;33m         \u001b[0my\u001b[0m \u001b[1;33m=\u001b[0m \u001b[0mnested_classifier\u001b[0m\u001b[1;33m(\u001b[0m\u001b[0mclf2\u001b[0m\u001b[1;33m,\u001b[0m \u001b[0mclf_np2\u001b[0m\u001b[1;33m,\u001b[0m \u001b[0mtf_vectorizer\u001b[0m\u001b[1;33m,\u001b[0m \u001b[0mX_te_clean\u001b[0m\u001b[1;33m,\u001b[0m \u001b[0mthreshold\u001b[0m\u001b[1;33m=\u001b[0m\u001b[0mt\u001b[0m\u001b[1;33m)\u001b[0m\u001b[1;33m\u001b[0m\u001b[0m\n\u001b[0m\u001b[0;32m      6\u001b[0m \u001b[1;33m\u001b[0m\u001b[0m\n\u001b[0;32m      7\u001b[0m         \u001b[1;31m#print('total:', (np.sum(y==0) + np.sum(y==1)))\u001b[0m\u001b[1;33m\u001b[0m\u001b[1;33m\u001b[0m\u001b[0m\n",
      "\u001b[1;32m<ipython-input-66-48058458780d>\u001b[0m in \u001b[0;36mnested_classifier\u001b[1;34m(clf, clf_np, cv, X, threshold)\u001b[0m\n\u001b[0;32m     16\u001b[0m \u001b[1;33m\u001b[0m\u001b[0m\n\u001b[0;32m     17\u001b[0m         \u001b[0msentences\u001b[0m \u001b[1;33m=\u001b[0m \u001b[0mget_sentences\u001b[0m\u001b[1;33m(\u001b[0m\u001b[0mcorpus\u001b[0m\u001b[1;33m)\u001b[0m\u001b[1;33m\u001b[0m\u001b[0m\n\u001b[1;32m---> 18\u001b[1;33m         \u001b[0msentence_set\u001b[0m \u001b[1;33m=\u001b[0m \u001b[0mcv\u001b[0m\u001b[1;33m.\u001b[0m\u001b[0mtransform\u001b[0m\u001b[1;33m(\u001b[0m\u001b[0msentences\u001b[0m\u001b[1;33m)\u001b[0m\u001b[1;33m\u001b[0m\u001b[0m\n\u001b[0m\u001b[0;32m     19\u001b[0m \u001b[1;33m\u001b[0m\u001b[0m\n\u001b[0;32m     20\u001b[0m         \u001b[1;32mif\u001b[0m \u001b[0mthreshold\u001b[0m\u001b[1;33m==\u001b[0m\u001b[1;32mNone\u001b[0m\u001b[1;33m:\u001b[0m\u001b[1;33m\u001b[0m\u001b[0m\n",
      "\u001b[1;32m~\\Anaconda3\\lib\\site-packages\\sklearn\\feature_extraction\\text.py\u001b[0m in \u001b[0;36mtransform\u001b[1;34m(self, raw_documents)\u001b[0m\n\u001b[0;32m    921\u001b[0m \u001b[1;33m\u001b[0m\u001b[0m\n\u001b[0;32m    922\u001b[0m         \u001b[1;31m# use the same matrix-building strategy as fit_transform\u001b[0m\u001b[1;33m\u001b[0m\u001b[1;33m\u001b[0m\u001b[0m\n\u001b[1;32m--> 923\u001b[1;33m         \u001b[0m_\u001b[0m\u001b[1;33m,\u001b[0m \u001b[0mX\u001b[0m \u001b[1;33m=\u001b[0m \u001b[0mself\u001b[0m\u001b[1;33m.\u001b[0m\u001b[0m_count_vocab\u001b[0m\u001b[1;33m(\u001b[0m\u001b[0mraw_documents\u001b[0m\u001b[1;33m,\u001b[0m \u001b[0mfixed_vocab\u001b[0m\u001b[1;33m=\u001b[0m\u001b[1;32mTrue\u001b[0m\u001b[1;33m)\u001b[0m\u001b[1;33m\u001b[0m\u001b[0m\n\u001b[0m\u001b[0;32m    924\u001b[0m         \u001b[1;32mif\u001b[0m \u001b[0mself\u001b[0m\u001b[1;33m.\u001b[0m\u001b[0mbinary\u001b[0m\u001b[1;33m:\u001b[0m\u001b[1;33m\u001b[0m\u001b[0m\n\u001b[0;32m    925\u001b[0m             \u001b[0mX\u001b[0m\u001b[1;33m.\u001b[0m\u001b[0mdata\u001b[0m\u001b[1;33m.\u001b[0m\u001b[0mfill\u001b[0m\u001b[1;33m(\u001b[0m\u001b[1;36m1\u001b[0m\u001b[1;33m)\u001b[0m\u001b[1;33m\u001b[0m\u001b[0m\n",
      "\u001b[1;32m~\\Anaconda3\\lib\\site-packages\\sklearn\\feature_extraction\\text.py\u001b[0m in \u001b[0;36m_count_vocab\u001b[1;34m(self, raw_documents, fixed_vocab)\u001b[0m\n\u001b[0;32m    819\u001b[0m                           \u001b[0mshape\u001b[0m\u001b[1;33m=\u001b[0m\u001b[1;33m(\u001b[0m\u001b[0mlen\u001b[0m\u001b[1;33m(\u001b[0m\u001b[0mindptr\u001b[0m\u001b[1;33m)\u001b[0m \u001b[1;33m-\u001b[0m \u001b[1;36m1\u001b[0m\u001b[1;33m,\u001b[0m \u001b[0mlen\u001b[0m\u001b[1;33m(\u001b[0m\u001b[0mvocabulary\u001b[0m\u001b[1;33m)\u001b[0m\u001b[1;33m)\u001b[0m\u001b[1;33m,\u001b[0m\u001b[1;33m\u001b[0m\u001b[0m\n\u001b[0;32m    820\u001b[0m                           dtype=self.dtype)\n\u001b[1;32m--> 821\u001b[1;33m         \u001b[0mX\u001b[0m\u001b[1;33m.\u001b[0m\u001b[0msort_indices\u001b[0m\u001b[1;33m(\u001b[0m\u001b[1;33m)\u001b[0m\u001b[1;33m\u001b[0m\u001b[0m\n\u001b[0m\u001b[0;32m    822\u001b[0m         \u001b[1;32mreturn\u001b[0m \u001b[0mvocabulary\u001b[0m\u001b[1;33m,\u001b[0m \u001b[0mX\u001b[0m\u001b[1;33m\u001b[0m\u001b[0m\n\u001b[0;32m    823\u001b[0m \u001b[1;33m\u001b[0m\u001b[0m\n",
      "\u001b[1;32m~\\Anaconda3\\lib\\site-packages\\scipy\\sparse\\compressed.py\u001b[0m in \u001b[0;36msort_indices\u001b[1;34m(self)\u001b[0m\n\u001b[0;32m   1053\u001b[0m         \u001b[1;32mif\u001b[0m \u001b[1;32mnot\u001b[0m \u001b[0mself\u001b[0m\u001b[1;33m.\u001b[0m\u001b[0mhas_sorted_indices\u001b[0m\u001b[1;33m:\u001b[0m\u001b[1;33m\u001b[0m\u001b[0m\n\u001b[0;32m   1054\u001b[0m             _sparsetools.csr_sort_indices(len(self.indptr) - 1, self.indptr,\n\u001b[1;32m-> 1055\u001b[1;33m                                           self.indices, self.data)\n\u001b[0m\u001b[0;32m   1056\u001b[0m             \u001b[0mself\u001b[0m\u001b[1;33m.\u001b[0m\u001b[0mhas_sorted_indices\u001b[0m \u001b[1;33m=\u001b[0m \u001b[1;32mTrue\u001b[0m\u001b[1;33m\u001b[0m\u001b[0m\n\u001b[0;32m   1057\u001b[0m \u001b[1;33m\u001b[0m\u001b[0m\n",
      "\u001b[1;31mKeyboardInterrupt\u001b[0m: "
     ]
    }
   ],
   "source": [
    "double_nested_test()"
   ]
  },
  {
   "cell_type": "markdown",
   "metadata": {},
   "source": [
    "### Human Recognizeable Terms (1-5 grams)"
   ]
  },
  {
   "cell_type": "code",
   "execution_count": 65,
   "metadata": {},
   "outputs": [
    {
     "name": "stderr",
     "output_type": "stream",
     "text": [
      "C:\\Users\\Anneke Hidayat\\Anaconda3\\lib\\site-packages\\ipykernel_launcher.py:1: RuntimeWarning: invalid value encountered in arccos\n",
      "  \"\"\"Entry point for launching an IPython kernel.\n"
     ]
    },
    {
     "data": {
      "text/plain": [
       "nan"
      ]
     },
     "execution_count": 65,
     "metadata": {},
     "output_type": "execute_result"
    }
   ],
   "source": []
  },
  {
   "cell_type": "markdown",
   "metadata": {},
   "source": [
    "## Other"
   ]
  }
 ],
 "metadata": {
  "kernelspec": {
   "display_name": "Python 3",
   "language": "python",
   "name": "python3"
  },
  "language_info": {
   "codemirror_mode": {
    "name": "ipython",
    "version": 3
   },
   "file_extension": ".py",
   "mimetype": "text/x-python",
   "name": "python",
   "nbconvert_exporter": "python",
   "pygments_lexer": "ipython3",
   "version": "3.6.4"
  }
 },
 "nbformat": 4,
 "nbformat_minor": 2
}
