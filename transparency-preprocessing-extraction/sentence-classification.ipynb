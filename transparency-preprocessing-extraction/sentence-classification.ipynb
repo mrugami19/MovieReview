{
 "cells": [
  {
   "cell_type": "code",
   "execution_count": 1,
   "metadata": {},
   "outputs": [],
   "source": [
    "import numpy as np\n",
    "import matplotlib.pyplot as plt\n",
    "import pickle"
   ]
  },
  {
   "cell_type": "code",
   "execution_count": 2,
   "metadata": {},
   "outputs": [],
   "source": [
    "def load_list(filename):\n",
    "    vocabulary = []\n",
    "    with open(filename, 'r') as f:\n",
    "        for l in f:\n",
    "            vocabulary.append(l.strip())\n",
    "    return np.asarray(vocabulary)\n",
    "\n",
    "pos_related = load_list('./sentence_data/pos_related.txt')\n",
    "neg_related = load_list('./sentence_data/neg_related.txt')\n",
    "pos_unrelated = load_list('./sentence_data/pos_unrelated.txt')\n",
    "neg_unrelated = load_list('./sentence_data/neg_unrelated.txt')"
   ]
  },
  {
   "cell_type": "code",
   "execution_count": 61,
   "metadata": {},
   "outputs": [
    {
     "name": "stdout",
     "output_type": "stream",
     "text": [
      "(466,)\n",
      "(83,)\n",
      "(388,)\n",
      "(34,)\n"
     ]
    }
   ],
   "source": [
    "print(pos_related.shape)\n",
    "print(neg_related.shape)\n",
    "print(pos_unrelated.shape)\n",
    "print(neg_unrelated.shape)"
   ]
  },
  {
   "cell_type": "code",
   "execution_count": 62,
   "metadata": {},
   "outputs": [
    {
     "name": "stdout",
     "output_type": "stream",
     "text": [
      "['not perfect by a long shot, but definitely good for a smile on a bad day.'\n",
      " 'the whole cast was great, each character had their own personality and charm.'\n",
      " 'even though it has one of the standard \"revenge price plot,\" this film is my favorite of vincent price\\'s work.'\n",
      " 'i really enjoyed this movie, it is really fun to watch get elvira into all these adventure, she is just great.'\n",
      " 'with more laugh than any other third-in-a-disney-series movie, hakuna matata is worth watching - if only for the hot tub scene which is still funny despite being a little bit predictable.'\n",
      " 'it is really a wonderful thriller i enjoyed very much'\n",
      " 'when my sister said this movie was gonna be good i had second thought but i watched it and it was actually funny'\n",
      " 'it touched me in a way that, even all these year later, still affects me.'\n",
      " 'i strongly recommend seeing for all'\n",
      " 'without a doubt, the best late night television ever.']\n"
     ]
    }
   ],
   "source": [
    "print(pos_related[:10])"
   ]
  },
  {
   "cell_type": "code",
   "execution_count": 63,
   "metadata": {},
   "outputs": [
    {
     "name": "stdout",
     "output_type": "stream",
     "text": [
      "['i had numerous problem with this film'\n",
      " 'dear god i do not know where to start why this movie sucked too much'\n",
      " 'i was pretty disappointed'\n",
      " 'if you are tempted to watch this movie, rip your eyeball out and flush them down the toilet'\n",
      " 'the music there was was annoying, and boring'\n",
      " 'someone must have been seriously joking when they made this film'\n",
      " 'ugly then, uglier now' 'this film is predictable'\n",
      " 'even the supporting male character are all \"bad\"'\n",
      " 'trust me, this is one let down movie that you want to avoid and this comes from one huge denzel washington fan']\n"
     ]
    }
   ],
   "source": [
    "print(neg_related[:10])"
   ]
  },
  {
   "cell_type": "code",
   "execution_count": 64,
   "metadata": {},
   "outputs": [
    {
     "name": "stdout",
     "output_type": "stream",
     "text": [
      "(549,)\n",
      "(549,)\n"
     ]
    }
   ],
   "source": [
    "related_set = np.hstack((pos_related, neg_related))\n",
    "print(related_set.shape)\n",
    "y_related = np.ones(related_set.shape)\n",
    "print(y_related.shape)"
   ]
  },
  {
   "cell_type": "code",
   "execution_count": 65,
   "metadata": {},
   "outputs": [
    {
     "name": "stdout",
     "output_type": "stream",
     "text": [
      "(422,)\n",
      "(422,)\n"
     ]
    }
   ],
   "source": [
    "unrelated_set = np.hstack((pos_unrelated, neg_unrelated))\n",
    "print(unrelated_set.shape)\n",
    "y_unrelated = np.zeros(unrelated_set.shape)\n",
    "print(y_unrelated.shape)"
   ]
  },
  {
   "cell_type": "code",
   "execution_count": 66,
   "metadata": {},
   "outputs": [
    {
     "data": {
      "text/plain": [
       "(971,)"
      ]
     },
     "execution_count": 66,
     "metadata": {},
     "output_type": "execute_result"
    }
   ],
   "source": [
    "X = np.hstack((related_set, unrelated_set))\n",
    "y = np.hstack((y_related, y_unrelated))\n",
    "\n",
    "X.shape"
   ]
  },
  {
   "cell_type": "code",
   "execution_count": 80,
   "metadata": {},
   "outputs": [],
   "source": [
    "from sklearn.feature_extraction.text import CountVectorizer\n",
    "\n",
    "token = r\"(?u)\\b[\\w\\'/]+\\b\"\n",
    "tf_vectorizer = CountVectorizer(lowercase=True, max_df=1.0, min_df=1, binary=True, token_pattern=token)\n",
    "tf_vectorizer.set_params(ngram_range=(1,1))\n",
    "\n",
    "X_vectorized = tf_vectorizer.fit_transform(X)\n",
    "\n",
    "from sklearn.model_selection import train_test_split\n",
    "X_train, X_test, y_train, y_test = train_test_split(X_vectorized, y, test_size=0.33, random_state=42)"
   ]
  },
  {
   "cell_type": "code",
   "execution_count": 81,
   "metadata": {},
   "outputs": [
    {
     "name": "stdout",
     "output_type": "stream",
     "text": [
      "3685\n",
      "['buscemi', 'business', 'but', 'button', 'buy', 'buying', 'by', 'cab', 'cable', 'cabot', 'cage', 'calhoun', 'call', 'called', 'callous', 'came', 'camera', 'camerawork', 'camp', 'campeone', 'camper', 'can', 'canada', 'canary', 'canceled', 'canister', 'cannot', 'canvas', 'canyon', 'capable', 'capano', 'capra', 'capture', 'captured', 'captures', 'car', 'care', 'career', 'cares', 'carl', 'carlisle', 'carnal', 'carpet', 'carries', 'cartoon', 'case', 'cassavetes', 'cassidy', 'cast', 'casting', 'cat', \"cat's\", 'catalog', 'catastrophe', 'catch', 'catchy', 'category', 'catherine', 'catholic', 'causes', 'cbc', 'cell', 'central', 'centre', 'century', \"century's\", 'certain', 'certainly', 'cgi', 'challenge', 'chambara', \"chamberlain's\", 'champion', 'championed', 'chance', 'chang', 'change', 'changed', 'channel', 'character', 'characterized', 'charismatic', 'charlie', 'charm', 'chase', 'chasing', 'cheap', 'cheating', 'check', 'checking', 'checkpoint', 'cheesiest', 'cheesy', 'chemistry', 'chester', 'chicago', 'chick', 'child', \"child's\", 'childhood']\n"
     ]
    }
   ],
   "source": [
    "words = tf_vectorizer.get_feature_names()\n",
    "print(len(words))\n",
    "print(words[500:600])"
   ]
  },
  {
   "cell_type": "code",
   "execution_count": 82,
   "metadata": {},
   "outputs": [
    {
     "name": "stdout",
     "output_type": "stream",
     "text": [
      "(650,)\n",
      "(321,)\n"
     ]
    }
   ],
   "source": [
    "print(y_train.shape)\n",
    "print(y_test.shape)"
   ]
  },
  {
   "cell_type": "code",
   "execution_count": 83,
   "metadata": {},
   "outputs": [
    {
     "name": "stdout",
     "output_type": "stream",
     "text": [
      "Train :  0.99538\n",
      "Test :  0.75078\n"
     ]
    }
   ],
   "source": [
    "from sklearn.linear_model import LogisticRegression\n",
    "\n",
    "clf = LogisticRegression()\n",
    "clf.fit(X_train, y_train)\n",
    "\n",
    "print('Train : ', np.around(clf.score(X_train, y_train),5))\n",
    "print('Test : ', np.around(clf.score(X_test, y_test),5))"
   ]
  },
  {
   "cell_type": "code",
   "execution_count": 122,
   "metadata": {},
   "outputs": [
    {
     "data": {
      "text/plain": [
       "array([[142,  46],\n",
       "       [ 39,  94]], dtype=int64)"
      ]
     },
     "execution_count": 122,
     "metadata": {},
     "output_type": "execute_result"
    }
   ],
   "source": [
    "from sklearn.metrics import confusion_matrix, recall_score, classification_report\n",
    "\n",
    "confusion_matrix(y_test, y_predict, labels=[1,0])"
   ]
  },
  {
   "cell_type": "code",
   "execution_count": 123,
   "metadata": {},
   "outputs": [
    {
     "data": {
      "text/plain": [
       "0.735"
      ]
     },
     "execution_count": 123,
     "metadata": {},
     "output_type": "execute_result"
    }
   ],
   "source": [
    "# Balanced Accuracy\n",
    "\n",
    "np.around(recall_score(y_test, y_predict,average='weighted'), 3)"
   ]
  },
  {
   "cell_type": "code",
   "execution_count": 124,
   "metadata": {},
   "outputs": [
    {
     "name": "stdout",
     "output_type": "stream",
     "text": [
      "             precision    recall  f1-score   support\n",
      "\n",
      "        0.0       0.67      0.71      0.69       133\n",
      "        1.0       0.78      0.76      0.77       188\n",
      "\n",
      "avg / total       0.74      0.74      0.74       321\n",
      "\n"
     ]
    }
   ],
   "source": [
    "print(classification_report(y_test,y_predict))"
   ]
  },
  {
   "cell_type": "code",
   "execution_count": 131,
   "metadata": {},
   "outputs": [],
   "source": [
    "weights = clf.coef_.flatten()\n",
    "def negative_positive_counts(X, y, word_index):\n",
    "    neg_count = np.sum(X[y==0, word_index])\n",
    "    pos_count = np.sum(X[y==1, word_index])    \n",
    "    return neg_count, pos_count"
   ]
  },
  {
   "cell_type": "code",
   "execution_count": 140,
   "metadata": {},
   "outputs": [
    {
     "name": "stdout",
     "output_type": "stream",
     "text": [
      "word\tweight\trelated\tunrelated\n",
      "remember\t-1.37\t0\t12\n",
      "saw\t-1.32\t2\t11\n",
      "when\t-1.17\t6\t27\n",
      "man\t-1.13\t1\t15\n",
      "into\t-1.09\t2\t15\n",
      "he\t-1.06\t4\t33\n",
      "big\t-0.99\t5\t8\n",
      "because\t-0.99\t6\t13\n",
      "have\t-0.98\t24\t29\n",
      "to\t-0.94\t82\t126\n",
      "about\t-0.91\t11\t21\n",
      "am\t-0.89\t6\t16\n",
      "too\t-0.85\t2\t7\n",
      "his\t-0.85\t10\t34\n",
      "which\t-0.84\t10\t15\n",
      "there\t-0.83\t9\t18\n",
      "fear\t-0.79\t0\t3\n",
      "we\t-0.79\t2\t9\n",
      "after\t-0.78\t2\t13\n",
      "want\t-0.75\t1\t6\n"
     ]
    }
   ],
   "source": [
    "not_related_indices = np.argsort(weights)\n",
    "related_indices = not_related_indices[::-1]\n",
    "\n",
    "print(\"word\\tweight\\trelated\\tunrelated\")\n",
    "for i in not_related_indices[:20]:\n",
    "    unrel_cnt, rel_cnt = negative_positive_counts(X_train, y_train, i)\n",
    "    print(\"%s\\t%0.2f\\t%d\\t%d\" %(words[i], weights[i], rel_cnt, unrel_cnt))"
   ]
  },
  {
   "cell_type": "code",
   "execution_count": 143,
   "metadata": {},
   "outputs": [
    {
     "name": "stdout",
     "output_type": "stream",
     "text": [
      "word\t\tweight\trelated\tunrelated\n",
      "performance\t\t1.25\t14\t0\n",
      "scene\t\t1.19\t14\t1\n",
      "this\t\t1.17\t147\t50\n",
      "loved\t\t1.09\t8\t0\n",
      "best\t\t1.06\t25\t4\n",
      "recommend\t\t1.05\t13\t0\n",
      "excellent\t\t0.95\t15\t1\n",
      "worth\t\t0.91\t9\t0\n",
      "movie\t\t0.82\t85\t28\n",
      "great\t\t0.82\t26\t6\n",
      "disappointed\t\t0.82\t4\t0\n",
      "most\t\t0.81\t14\t4\n",
      "ever\t\t0.80\t14\t2\n",
      "character\t\t0.75\t14\t4\n",
      "acting\t\t0.75\t13\t1\n",
      "pretty\t\t0.72\t8\t0\n",
      "it\t\t0.70\t100\t57\n",
      "watch\t\t0.67\t14\t3\n",
      "must\t\t0.66\t11\t2\n",
      "wonderful\t\t0.64\t7\t1\n"
     ]
    }
   ],
   "source": [
    "print(\"word\\t\\tweight\\trelated\\tunrelated\")\n",
    "for i in related_indices[:20]:\n",
    "    unrel_cnt, rel_cnt = negative_positive_counts(X_train, y_train, i)\n",
    "    print(\"%s\\t\\t%0.2f\\t%d\\t%d\" %(words[i], weights[i], rel_cnt, unrel_cnt))"
   ]
  },
  {
   "cell_type": "code",
   "execution_count": 144,
   "metadata": {},
   "outputs": [
    {
     "name": "stdout",
     "output_type": "stream",
     "text": [
      "word\tweight\trelated\tunrelated\n",
      "remember\t-1.37\t0\t12\n",
      "saw\t-1.32\t2\t11\n",
      "performance\t1.25\t14\t0\n",
      "scene\t1.19\t14\t1\n",
      "when\t-1.17\t6\t27\n",
      "this\t1.17\t147\t50\n",
      "man\t-1.13\t1\t15\n",
      "into\t-1.09\t2\t15\n",
      "loved\t1.09\t8\t0\n",
      "best\t1.06\t25\t4\n",
      "he\t-1.06\t4\t33\n",
      "recommend\t1.05\t13\t0\n",
      "big\t-0.99\t5\t8\n",
      "because\t-0.99\t6\t13\n",
      "have\t-0.98\t24\t29\n",
      "excellent\t0.95\t15\t1\n",
      "to\t-0.94\t82\t126\n",
      "about\t-0.91\t11\t21\n",
      "worth\t0.91\t9\t0\n",
      "am\t-0.89\t6\t16\n"
     ]
    }
   ],
   "source": [
    "abs_indices = np.argsort(np.absolute(weights))[::-1]\n",
    "\n",
    "print(\"word\\tweight\\trelated\\tunrelated\")\n",
    "for i in abs_indices[:20]:\n",
    "    unrel_cnt, rel_cnt = negative_positive_counts(X_train, y_train, i)\n",
    "    print(\"%s\\t%0.2f\\t%d\\t%d\" %(words[i], weights[i], rel_cnt, unrel_cnt))"
   ]
  },
  {
   "cell_type": "code",
   "execution_count": 14,
   "metadata": {},
   "outputs": [
    {
     "name": "stdout",
     "output_type": "stream",
     "text": [
      "not perfect by a long shot, but definitely good for a smile on a bad day.\n",
      "the whole cast was great, each character had their own personality and charm.\n",
      "even though it has one of the standard \"revenge price plot,\" this film is my favorite of vincent price's work.\n",
      "i really enjoyed this movie, it is really fun to watch get elvira into all these adventure, she is just great.\n",
      "with more laugh than any other third-in-a-disney-series movie, hakuna matata is worth watching - if only for the hot tub scene which is still funny despite being a little bit predictable.\n",
      "it is really a wonderful thriller i enjoyed very much\n",
      "when my sister said this movie was gonna be good i had second thought but i watched it and it was actually funny\n",
      "it touched me in a way that, even all these year later, still affects me.\n",
      "i strongly recommend seeing for all\n",
      "without a doubt, the best late night television ever.\n"
     ]
    }
   ],
   "source": [
    "for sentence in X[:10] :\n",
    "    print(sentence)"
   ]
  },
  {
   "cell_type": "code",
   "execution_count": 15,
   "metadata": {},
   "outputs": [],
   "source": [
    "def save_pickle(path, X):\n",
    "    with open(path, 'wb') as f:\n",
    "        pickle.dump(X, f)\n",
    "def open_pickle(path):\n",
    "    with open(path, 'rb') as f:\n",
    "        X = pickle.load(f)\n",
    "    return X\n",
    "\n",
    "X_te_clean = open_pickle(\"./pickles/imdb_x_te_clean.pickle\")\n",
    "y_te = open_pickle(\"./pickles/imdb_y_te.pickle\")"
   ]
  },
  {
   "cell_type": "code",
   "execution_count": 16,
   "metadata": {},
   "outputs": [],
   "source": [
    "def print_sentence(corpus):\n",
    "    from textblob import TextBlob\n",
    "    text = TextBlob(corpus)\n",
    "    i = 0\n",
    "    sent = []\n",
    "    for sentence in text.raw_sentences:\n",
    "        sent.append(sentence)\n",
    "    return sent"
   ]
  },
  {
   "cell_type": "code",
   "execution_count": 17,
   "metadata": {},
   "outputs": [
    {
     "name": "stdout",
     "output_type": "stream",
     "text": [
      "1.0 : this was an excellent show.\n",
      "0.0 : it came on pbs back home in chicago and i remember cindy herron (from envogue) played the teen aged daughter.\n",
      "0.0 : the show dealt with subject such as sex, peer pressure and puberty.\n",
      "0.0 : it was about a middle class black family who had a teen aged daughter and son who moved to a middle class neighborhood from oakland or somewhere (i can not remember).\n",
      "0.0 : i remember several episode but the one i remember most was when their cousin got her period for the first time.\n",
      "0.0 : i was probably 7-8 when i first watched it and i was able to keep up with the program.\n",
      "1.0 : this was a great show.\n",
      "0.0 : i can not remember the name of the guy who played the son on the show, but i always got him confused with kevin hook.\n"
     ]
    }
   ],
   "source": [
    "# import nltk\n",
    "# nltk.download('punkt')\n",
    "test = print_sentence(X_te_clean[0])\n",
    "\n",
    "test_matrix = tf_vectorizer.transform(test) \n",
    "test_matrix.shape\n",
    "\n",
    "y_pred_test = clf.predict(test_matrix)\n",
    "for i in range(len(test)):\n",
    "    print(y_pred_test[i], ':' , test[i])"
   ]
  },
  {
   "cell_type": "code",
   "execution_count": 18,
   "metadata": {},
   "outputs": [
    {
     "name": "stdout",
     "output_type": "stream",
     "text": [
      "1\n",
      "- age cannot tarnish the beauty of this east-west love story for me.\n",
      "- with hong kong as the backdrop, this movie tells the story of a eurasian doctor and a u.s. journalist who meet and fall in love during the korean war.\n",
      "- as mark elliott, william holden is intelligent, breezy and a bit weak; jennifer jone is perhaps well-nigh-perfect as dr. han suyin, by turns doubt-torn and ecstatic, eager and hesitant.\n",
      "- other in the large cast include torin thatcher, isobel elsom, murray matheson, virginia gregg, richard loo, soo yong, philip ahn, jorja curtright and donna martell; many of hollywood's best oriental actor played smaller uncredited part also.\n",
      "- the film is unarguably physically busy, interesting and often beautiful also.\n",
      "- with cinematography by leon shamroy, ben nye's makeup and helen turpin's hairstyle, the great work by set decorator, sound and lighting, art department and all concerned, this has to be one of the most memorable production set in a major non-u.s. city of all time, and one of the most difficult to capture on film.\n",
      "- truly, love is a many-splendored thing, dr. han says; and this movie stands as one of that doctrine's shining proofs, lucent as a pearl, timeless as a chinese proverb and lovely as polished jade set against a rough background.\n"
     ]
    }
   ],
   "source": [
    "test = print_sentence(X_te_clean[1])\n",
    "\n",
    "test_matrix = tf_vectorizer.transform(test) \n",
    "test_matrix.shape\n",
    "\n",
    "y_pred_test = clf.predict(test_matrix)\n",
    "x_extracted_1 = ''\n",
    "print(y_te[1])\n",
    "for i in range(len(test)):\n",
    "    if y_pred_test[i] == 1:\n",
    "        x_extracted_1 += test[i]\n",
    "        print('-', test[i])"
   ]
  },
  {
   "cell_type": "code",
   "execution_count": 19,
   "metadata": {},
   "outputs": [
    {
     "name": "stdout",
     "output_type": "stream",
     "text": [
      "0\n",
      "- a clear sign that this is unimpressive is that it was directed by a visual effect creator, whose only other credit in that field is a henry rooker film that was not well received.\n",
      "- )'s russian accent laughable and/or irritating.\n",
      "- the action is not terrible.\n",
      "- cinematography and editing are fine.\n",
      "- the music is cool enough.\n",
      "- language is infrequent, if even that.\n",
      "- violence is fairly bloody.\n",
      "- i recommend this solely to fan of b-movie, and i will say that you can do worse than this.\n",
      "- 1/10\n"
     ]
    }
   ],
   "source": [
    "test = print_sentence(X_te_clean[3])\n",
    "\n",
    "test_matrix = tf_vectorizer.transform(test) \n",
    "test_matrix.shape\n",
    "\n",
    "y_pred_test = clf.predict(test_matrix)\n",
    "x_extracted_3 = ''\n",
    "print(y_te[3])\n",
    "for i in range(len(test)):\n",
    "    if y_pred_test[i] == 1:\n",
    "        x_extracted_3 += test[i]\n",
    "        print('-',test[i])"
   ]
  },
  {
   "cell_type": "code",
   "execution_count": 20,
   "metadata": {},
   "outputs": [],
   "source": [
    "## Test the clf 3\n",
    "\n",
    "X_tr_clean = open_pickle(\"./pickles/imdb_x_tr_clean.pickle\")\n",
    "y_tr = open_pickle(\"./pickles/imdb_y_tr.pickle\")\n",
    "cv = CountVectorizer(min_df=100, token_pattern=token)\n",
    "X_train_ = cv.fit_transform(X_tr_clean)"
   ]
  },
  {
   "cell_type": "code",
   "execution_count": 21,
   "metadata": {},
   "outputs": [
    {
     "data": {
      "text/plain": [
       "(25000,)"
      ]
     },
     "execution_count": 21,
     "metadata": {},
     "output_type": "execute_result"
    }
   ],
   "source": [
    "X_train_.shape\n",
    "y_tr.shape"
   ]
  },
  {
   "cell_type": "code",
   "execution_count": 22,
   "metadata": {},
   "outputs": [],
   "source": [
    "x_extracted = np.hstack((x_extracted_1, x_extracted_3))\n",
    "X_test_ = cv.transform(x_extracted)\n",
    "y_test_ = [1, 0]"
   ]
  },
  {
   "cell_type": "code",
   "execution_count": 23,
   "metadata": {},
   "outputs": [
    {
     "data": {
      "text/plain": [
       "(2, 3689)"
      ]
     },
     "execution_count": 23,
     "metadata": {},
     "output_type": "execute_result"
    }
   ],
   "source": [
    "X_test_.shape"
   ]
  },
  {
   "cell_type": "code",
   "execution_count": 24,
   "metadata": {},
   "outputs": [
    {
     "data": {
      "text/plain": [
       "LogisticRegression(C=1.0, class_weight=None, dual=False, fit_intercept=True,\n",
       "          intercept_scaling=1, max_iter=100, multi_class='ovr', n_jobs=1,\n",
       "          penalty='l2', random_state=None, solver='liblinear', tol=0.0001,\n",
       "          verbose=0, warm_start=False)"
      ]
     },
     "execution_count": 24,
     "metadata": {},
     "output_type": "execute_result"
    }
   ],
   "source": [
    "clf_2 = LogisticRegression()\n",
    "clf_2.fit(X_train_, y_tr)\n",
    "\n"
   ]
  },
  {
   "cell_type": "code",
   "execution_count": 25,
   "metadata": {},
   "outputs": [
    {
     "data": {
      "text/plain": [
       "1.0"
      ]
     },
     "execution_count": 25,
     "metadata": {},
     "output_type": "execute_result"
    }
   ],
   "source": [
    "clf_2.score(X_test_, y_test_)"
   ]
  }
 ],
 "metadata": {
  "kernelspec": {
   "display_name": "Python 3",
   "language": "python",
   "name": "python3"
  },
  "language_info": {
   "codemirror_mode": {
    "name": "ipython",
    "version": 3
   },
   "file_extension": ".py",
   "mimetype": "text/x-python",
   "name": "python",
   "nbconvert_exporter": "python",
   "pygments_lexer": "ipython3",
   "version": "3.6.4"
  }
 },
 "nbformat": 4,
 "nbformat_minor": 2
}
