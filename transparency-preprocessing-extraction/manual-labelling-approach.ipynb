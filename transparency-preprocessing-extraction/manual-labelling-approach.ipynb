{
 "cells": [
  {
   "cell_type": "code",
   "execution_count": 1,
   "metadata": {},
   "outputs": [],
   "source": [
    "import numpy as np\n",
    "import matplotlib.pyplot as plt\n",
    "import pickle\n",
    "import functions as f"
   ]
  },
  {
   "cell_type": "markdown",
   "metadata": {},
   "source": [
    "### Load data"
   ]
  },
  {
   "cell_type": "code",
   "execution_count": 2,
   "metadata": {},
   "outputs": [],
   "source": [
    "#Load dataset of [relevant,-relevant]\n",
    "\n",
    "X_train_sentence = f.open_pickle('./sentence_data/imdb_sentence_xtrain.pickle')\n",
    "X_test_sentence = f.open_pickle('./sentence_data/imdb_sentence_xtest.pickle')\n",
    "y_train_sentence = f.open_pickle('./sentence_data/imdb_sentence_ytrain.pickle')\n",
    "y_test_sentence = f.open_pickle('./sentence_data/imdb_sentence_ytest.pickle')\n",
    "\n",
    "#Load dataset of [+/-]\n",
    "\n",
    "X_train_original = f.open_pickle('./sentence_data/imdb_original_xtrain.pickle')\n",
    "X_test_original = f.open_pickle('./sentence_data/imdb_original_xtest.pickle')\n",
    "y_train_original = f.open_pickle('./sentence_data/imdb_original_ytrain.pickle')\n",
    "y_test_original = f.open_pickle('./sentence_data/imdb_original_ytest.pickle')"
   ]
  },
  {
   "cell_type": "markdown",
   "metadata": {},
   "source": [
    "### Count Vectorizer"
   ]
  },
  {
   "cell_type": "code",
   "execution_count": 3,
   "metadata": {},
   "outputs": [
    {
     "name": "stdout",
     "output_type": "stream",
     "text": [
      "4532\n"
     ]
    }
   ],
   "source": [
    "# Count Vectorizer on rel,unrel dataset\n",
    "# Question : Why rel/unrel? Because it trained as the first step? \n",
    "# Any advantages on more vocabulary?\n",
    "\n",
    "from sklearn.feature_extraction.text import CountVectorizer\n",
    "\n",
    "token = r\"(?u)\\b[\\w\\'/]+\\b\"\n",
    "tf_vectorizer = CountVectorizer(lowercase=True, max_df=1.0, min_df=1, binary=True, token_pattern=token)\n",
    "tf_vectorizer.set_params(ngram_range=(1,1))\n",
    "\n",
    "X_train_sentence_bow = tf_vectorizer.fit_transform(X_train_sentence)\n",
    "X_test_sentence_bow = tf_vectorizer.transform(X_test_sentence)\n",
    "\n",
    "X_train_original_bow = tf_vectorizer.transform(X_train_original)\n",
    "X_test_original_bow = tf_vectorizer.transform(X_test_original)\n",
    "\n",
    "\n",
    "words = tf_vectorizer.get_feature_names()\n",
    "print(len(words))"
   ]
  },
  {
   "cell_type": "code",
   "execution_count": 4,
   "metadata": {},
   "outputs": [
    {
     "name": "stdout",
     "output_type": "stream",
     "text": [
      "(1333,)\n",
      "(667,)\n",
      "(25000,)\n",
      "(25000,)\n"
     ]
    }
   ],
   "source": [
    "print(y_train_sentence.shape)\n",
    "print(y_test_sentence.shape)\n",
    "print(y_train_original.shape)\n",
    "print(y_test_original.shape)"
   ]
  },
  {
   "cell_type": "code",
   "execution_count": 5,
   "metadata": {},
   "outputs": [],
   "source": [
    "def lr_classifier_report(X_tr, y_tr, X_te, y_te, random_state=42, C=1.0):\n",
    "    from sklearn.linear_model import LogisticRegression\n",
    "    from sklearn.metrics import precision_recall_curve\n",
    "    from sklearn.metrics import average_precision_score\n",
    "    from sklearn.metrics import roc_curve, auc\n",
    "    from sklearn.metrics import classification_report\n",
    "    import matplotlib.pyplot as plt\n",
    "\n",
    "    clf = LogisticRegression(random_state=random_state, C=C)\n",
    "    clf.fit(X_tr, y_tr)\n",
    "\n",
    "    y_predict = clf.predict(X_te)\n",
    "\n",
    "    print('--------------')\n",
    "    print('C=%.2f' %(C))\n",
    "    print('--------------')\n",
    "    print('Accuracy')\n",
    "    print('Train:\\t%.5f ' %(clf.score(X_tr, y_tr)))\n",
    "    print('Test:\\t%.5f ' %(clf.score(X_te, y_te)))\n",
    "    \n",
    "    print(classification_report(y_te,y_predict))\n",
    "    #############################################################################\n",
    "    y_score = clf.decision_function(X_te)\n",
    "    \n",
    "    precision, recall, _ = precision_recall_curve(y_te, y_score)\n",
    "    average_precision = average_precision_score(y_te, y_score)\n",
    "    \n",
    "    plt.step(recall, precision, color='b', alpha=0.2, where='post')\n",
    "    plt.fill_between(recall, precision, step='post', alpha=0.2, color='b')\n",
    "\n",
    "    \n",
    "    plt.xlabel('Recall')\n",
    "    plt.ylabel('Precision')\n",
    "    plt.ylim([0.0, 1.05])\n",
    "    plt.xlim([0.0, 1.0])\n",
    "    plt.title('2-class Precision-Recall curve: AP={0:0.2f}'.format(\n",
    "          average_precision))\n",
    "    plt.show()\n",
    "    plt.clf()\n",
    "    \n",
    "    false_positive_rate, true_positive_rate, thresholds = roc_curve(y_te, y_score)\n",
    "    roc_auc = auc(false_positive_rate, true_positive_rate)\n",
    "    \n",
    "    plt.title('Receiver Operating Characteristic')\n",
    "    plt.plot(false_positive_rate, true_positive_rate, 'b',\n",
    "    label='AUC = %0.2f'% roc_auc)\n",
    "    plt.legend(loc='lower right')\n",
    "    plt.plot([0,1],[0,1],'r--')\n",
    "    plt.xlim([-0.1,1.2])\n",
    "    plt.ylim([-0.1,1.2])\n",
    "    plt.ylabel('True Positive Rate')\n",
    "    plt.xlabel('False Positive Rate')\n",
    "    plt.show()\n",
    "    \n",
    "    return clf"
   ]
  },
  {
   "cell_type": "markdown",
   "metadata": {},
   "source": [
    "### Train to [rel,unrel] classifier"
   ]
  },
  {
   "cell_type": "code",
   "execution_count": 6,
   "metadata": {},
   "outputs": [
    {
     "name": "stdout",
     "output_type": "stream",
     "text": [
      "--------------\n",
      "C=0.10\n",
      "--------------\n",
      "Accuracy\n",
      "Train:\t0.88897 \n",
      "Test:\t0.75862 \n",
      "             precision    recall  f1-score   support\n",
      "\n",
      "        0.0       0.80      0.74      0.77       363\n",
      "        1.0       0.71      0.79      0.75       304\n",
      "\n",
      "avg / total       0.76      0.76      0.76       667\n",
      "\n"
     ]
    },
    {
     "data": {
      "image/png": "[encoded data removed]",
      "text/plain": [
       "<matplotlib.figure.Figure at 0x1f4044397f0>"
      ]
     },
     "metadata": {},
     "output_type": "display_data"
    },
    {
     "data": {
      "image/png": "[encoded data removed]",
      "text/plain": [
       "<matplotlib.figure.Figure at 0x1f40e125b00>"
      ]
     },
     "metadata": {},
     "output_type": "display_data"
    }
   ],
   "source": [
    "clf_rel = lr_classifier_report(X_train_sentence_bow, y_train_sentence, X_test_sentence_bow, y_test_sentence, C=0.1)"
   ]
  },
  {
   "cell_type": "markdown",
   "metadata": {},
   "source": [
    "### Train [+,-] classifier"
   ]
  },
  {
   "cell_type": "code",
   "execution_count": 7,
   "metadata": {},
   "outputs": [
    {
     "name": "stdout",
     "output_type": "stream",
     "text": [
      "--------------\n",
      "C=0.10\n",
      "--------------\n",
      "Accuracy\n",
      "Train:\t0.91496 \n",
      "Test:\t0.87028 \n",
      "             precision    recall  f1-score   support\n",
      "\n",
      "          0       0.87      0.87      0.87     12500\n",
      "          1       0.87      0.87      0.87     12500\n",
      "\n",
      "avg / total       0.87      0.87      0.87     25000\n",
      "\n"
     ]
    },
    {
     "data": {
      "image/png": "[encoded data removed]",
      "text/plain": [
       "<matplotlib.figure.Figure at 0x1f40e125f98>"
      ]
     },
     "metadata": {},
     "output_type": "display_data"
    },
    {
     "data": {
      "image/png": "[encoded data removed]",
      "text/plain": [
       "<matplotlib.figure.Figure at 0x1f40e56b550>"
      ]
     },
     "metadata": {},
     "output_type": "display_data"
    }
   ],
   "source": [
    "clf_np = lr_classifier_report(X_train_original_bow, y_train_original, X_test_original_bow, y_test_original, C=0.1)"
   ]
  },
  {
   "cell_type": "markdown",
   "metadata": {},
   "source": [
    "### Test"
   ]
  },
  {
   "cell_type": "code",
   "execution_count": 8,
   "metadata": {},
   "outputs": [],
   "source": [
    "# Get the test data\n",
    "\n",
    "def get_sentences(corpus):\n",
    "    from textblob import TextBlob\n",
    "    text = TextBlob(corpus)\n",
    "    i = 0\n",
    "    sent = []\n",
    "    for sentence in text.raw_sentences:\n",
    "        sent.append(sentence)\n",
    "    return sent\n",
    "\n",
    "def nested_classifier(clf_rel, clf_np, cv, X, threshold=None, most_confidence_related=True, most_confidence_label=False):\n",
    "    y_pred = []\n",
    "    \n",
    "    for corpus in X:\n",
    "    \n",
    "        sentences = get_sentences(corpus)\n",
    "        sentence_set = cv.transform(sentences)\n",
    "        \n",
    "        if threshold==None:\n",
    "            y_ind_proba = clf_rel.predict_proba(sentence_set)\n",
    "            y_ind = clf_rel.predict(sentence_set)\n",
    "        else:\n",
    "            y_ind_proba = clf_rel.predict_proba(sentence_set)\n",
    "            y_ind = y_ind_proba[:,1]>threshold\n",
    "        \n",
    "        \n",
    "        \n",
    "        # make case when there is no related sentence\n",
    "        if np.sum(y_ind) == 0:\n",
    "            y_pred.append(-1)\n",
    "            continue\n",
    "        elif np.sum(y_ind) == 1:\n",
    "            y = clf_np.predict(sentence_set[np.array(np.where(y_ind == 1)).T.flatten(), :])\n",
    "            y_pred.append(y[0])\n",
    "        else:\n",
    "            '''\n",
    "            Only picks the highest confidence of related sentence. \n",
    "            '''\n",
    "            \n",
    "#            indices = np.array(np.where(y_ind == 1)).flatten()\n",
    "            indices = np.array(np.argmax(y_ind_proba[:,1])).flatten()\n",
    "            y = clf_np.predict(sentence_set[indices, :])\n",
    "            y_pred.append(y)\n",
    "        #    y_pred.append(-2)\n",
    "    \n",
    "    return np.array(y_pred)"
   ]
  },
  {
   "cell_type": "code",
   "execution_count": 9,
   "metadata": {},
   "outputs": [],
   "source": [
    "# Get the test data\n",
    "\n",
    "def get_sentences(corpus):\n",
    "    from textblob import TextBlob\n",
    "    text = TextBlob(corpus)\n",
    "    sent = []\n",
    "    for sentence in text.raw_sentences:\n",
    "        sent.append(sentence)\n",
    "    return sent\n",
    "\n",
    "# most_confidence related when you pick the highest confidence sentence in the first step. Thus, no need to pick the highest confidence\n",
    "# in the second step. \n",
    "def nested_classifier(clf_rel, clf_np, cv, X, threshold=None, highest_confidence_related=True):\n",
    "    y_pred = []\n",
    "    \n",
    "    for corpus in X:\n",
    "        '''\n",
    "        Breakdown the corpus into sentence and transform into bag-of-words\n",
    "        '''\n",
    "        sentences = get_sentences(corpus)\n",
    "        sentence_set = cv.transform(sentences)\n",
    "        \n",
    "        '''\n",
    "        Related classifier given threshold. \n",
    "        threshold, if None, it only predict the label. If float number given, assign the threshold to the sentence with\n",
    "        probability over threshold\n",
    "        '''\n",
    "        if threshold==None:\n",
    "            y_ind_proba = clf_rel.predict_proba(sentence_set)\n",
    "            y_ind = clf_rel.predict(sentence_set)\n",
    "        else:\n",
    "            y_ind_proba = clf_rel.predict_proba(sentence_set)\n",
    "            y_ind = y_ind_proba[:,1]>threshold\n",
    "        \n",
    "        '''\n",
    "        +/- classifier given the sentences from the previous classifier\n",
    "        if 0, assign the label as -1 (which means it does not have any related sentence)\n",
    "        else, classify the sentence into +/- label according to the given sentence. \n",
    "        '''\n",
    "        if np.sum(y_ind) == 0:\n",
    "            y_pred.append(-1)\n",
    "            continue\n",
    "        else:\n",
    "            \n",
    "            \n",
    "            if highest_confidence_related:\n",
    "                indices = np.array(np.argmax(y_ind_proba[:,1])).flatten()\n",
    "                y = clf_np.predict(sentence_set[indices, :])\n",
    "                y_pred.append(y)\n",
    "            else:\n",
    "                indices = np.array(np.where(y_ind[:,1] == 1)).flatten()\n",
    "                y_np_proba = clf_np.predict_proba(sentence_set[indices, :])\n",
    "                y_neg_proba = np.max(y_np_proba[:,0])\n",
    "                y_pos_proba = np.max(y_np_proba[:,1])\n",
    "                if y_pos_proba > y_neg_proba:\n",
    "                    y_pred.append(1)\n",
    "                else:\n",
    "                    y_pred.append(0)\n",
    "                \n",
    "                \n",
    "    return np.array(y_pred)"
   ]
  },
  {
   "cell_type": "code",
   "execution_count": 10,
   "metadata": {},
   "outputs": [],
   "source": [
    "# Build an accuracy function excluding those -1\n",
    "\n"
   ]
  },
  {
   "cell_type": "code",
   "execution_count": 11,
   "metadata": {},
   "outputs": [
    {
     "name": "stdout",
     "output_type": "stream",
     "text": [
      "0.7298\n",
      "0.747225293853\n"
     ]
    }
   ],
   "source": [
    "y = nested_classifier(clf_rel, clf_np, tf_vectorizer, X_test_original, threshold=None)\n",
    "print(np.sum(y == y_test_original)/len(y_test_original))\n",
    "\n",
    "y_indices = np.array(np.where((y == 1) | (y == 0))).flatten()\n",
    "y_pred = y[y_indices]\n",
    "y_ori = y_test_original[y_indices]\n",
    "\n",
    "print(np.sum(y_pred == y_ori)/len(y_indices))"
   ]
  },
  {
   "cell_type": "code",
   "execution_count": 12,
   "metadata": {},
   "outputs": [
    {
     "name": "stdout",
     "output_type": "stream",
     "text": [
      "0.7298\n",
      "0.747225293853\n"
     ]
    }
   ],
   "source": [
    "print(np.sum(y == y_test_original)/len(y_test_original))\n",
    "print(np.sum(y_pred == y_ori)/len(y_indices))"
   ]
  },
  {
   "cell_type": "code",
   "execution_count": 13,
   "metadata": {},
   "outputs": [
    {
     "name": "stdout",
     "output_type": "stream",
     "text": [
      "0.53768\n",
      "0.764140753795\n"
     ]
    }
   ],
   "source": [
    "y = nested_classifier(clf_rel, clf_np, tf_vectorizer, X_test_original, threshold=0.75)\n",
    "print(np.sum(y == y_test_original)/len(y_test_original))\n",
    "\n",
    "y_indices = np.array(np.where((y == 1) | (y == 0))).flatten()\n",
    "y_pred = y[y_indices]\n",
    "y_ori = y_test_original[y_indices]\n",
    "\n",
    "print(np.sum(y_pred == y_ori)/len(y_indices))"
   ]
  },
  {
   "cell_type": "code",
   "execution_count": 14,
   "metadata": {},
   "outputs": [
    {
     "name": "stdout",
     "output_type": "stream",
     "text": [
      "0.14332\n",
      "0.800670391061\n"
     ]
    }
   ],
   "source": [
    "y = nested_classifier(clf_rel, clf_np, tf_vectorizer, X_test_original, threshold=0.9)\n",
    "print(np.sum(y == y_test_original)/len(y_test_original))\n",
    "\n",
    "y_indices = np.array(np.where((y == 1) | (y == 0))).flatten()\n",
    "y_pred = y[y_indices]\n",
    "y_ori = y_test_original[y_indices]\n",
    "\n",
    "print(np.sum(y_pred == y_ori)/len(y_indices))"
   ]
  },
  {
   "cell_type": "code",
   "execution_count": 15,
   "metadata": {},
   "outputs": [
    {
     "name": "stdout",
     "output_type": "stream",
     "text": [
      "0.00112\n",
      "1.0\n"
     ]
    }
   ],
   "source": [
    "y = nested_classifier(clf_rel, clf_np, tf_vectorizer, X_test_original, threshold=0.99)\n",
    "print(np.sum(y == y_test_original)/len(y_test_original))\n",
    "\n",
    "y_indices = np.array(np.where((y == 1) | (y == 0))).flatten()\n",
    "y_pred = y[y_indices]\n",
    "y_ori = y_test_original[y_indices]\n",
    "\n",
    "print(np.sum(y_pred == y_ori)/len(y_indices))"
   ]
  }
 ],
 "metadata": {
  "kernelspec": {
   "display_name": "Python 3",
   "language": "python",
   "name": "python3"
  },
  "language_info": {
   "codemirror_mode": {
    "name": "ipython",
    "version": 3
   },
   "file_extension": ".py",
   "mimetype": "text/x-python",
   "name": "python",
   "nbconvert_exporter": "python",
   "pygments_lexer": "ipython3",
   "version": "3.6.4"
  }
 },
 "nbformat": 4,
 "nbformat_minor": 2
}
