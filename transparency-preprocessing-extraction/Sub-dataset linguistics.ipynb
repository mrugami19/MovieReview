{
 "cells": [
  {
   "cell_type": "code",
   "execution_count": 55,
   "metadata": {
    "collapsed": true
   },
   "outputs": [],
   "source": [
    "import os\n",
    "import numpy as np\n",
    "import matplotlib.pyplot as plt\n",
    "import pickle\n",
    "from textblob import TextBlob\n",
    "import csv"
   ]
  },
  {
   "cell_type": "code",
   "execution_count": 84,
   "metadata": {
    "collapsed": true
   },
   "outputs": [],
   "source": [
    "def load_data():\n",
    "    #parsing negative phrases\n",
    "    print(\"Loading data...\")\n",
    "    with open('neg_related.tsv') as csvfile:\n",
    "        reader=csv.reader(csvfile, delimiter='\\t')\n",
    "        neg_phrases=[] \n",
    "        for row in reader:\n",
    "             neg_phrases.append(row[2]) \n",
    "    with open('pos_related.tsv') as csvfile:\n",
    "        reader=csv.reader(csvfile, delimiter='\\t')\n",
    "        pos_phrases=[] \n",
    "        for row in reader:\n",
    "             pos_phrases.append(row[2])\n",
    "            \n",
    "        print(\"Data loaded successfully!\")\n",
    "        return pos_phrases, neg_phrases\n",
    "    "
   ]
  },
  {
   "cell_type": "code",
   "execution_count": 92,
   "metadata": {},
   "outputs": [
    {
     "name": "stdout",
     "output_type": "stream",
     "text": [
      "Loading data...\n",
      "Data loaded successfully!\n"
     ]
    }
   ],
   "source": [
    "neg_phrases, pos_phrases=load_data()\n"
   ]
  },
  {
   "cell_type": "code",
   "execution_count": 93,
   "metadata": {},
   "outputs": [
    {
     "name": "stdout",
     "output_type": "stream",
     "text": [
      "Count for 'not' in positive phrases:  136\n",
      "Count for 'not' in positive phrases:  48\n"
     ]
    }
   ],
   "source": [
    "count_pos=0\n",
    "count_neg=0\n",
    "\n",
    "for sent in pos_phrases:\n",
    "    split_words=sent.split()\n",
    "    #print(split_words)\n",
    "    for x in split_words:\n",
    "        #print(type(x))\n",
    "        #word=x\n",
    "        if x=='not':\n",
    "            count_pos+=1\n",
    "            \n",
    "            \n",
    "for sent in neg_phrases:\n",
    "    split_words=sent.split()\n",
    "    #print(split_words)\n",
    "    for x in split_words:\n",
    "        #print(type(x))\n",
    "        #word=x\n",
    "        if x=='not':\n",
    "            count_neg+=1\n",
    "            #print(x)\n",
    "print(\"Count for 'not' in positive phrases: \", count_pos)\n",
    "print(\"Count for 'not' in positive phrases: \", count_neg)"
   ]
  },
  {
   "cell_type": "code",
   "execution_count": 49,
   "metadata": {},
   "outputs": [
    {
     "name": "stdout",
     "output_type": "stream",
     "text": [
      "not\n"
     ]
    }
   ],
   "source": [
    "x=['not','is','uerfe']\n",
    "y='not'\n",
    "\n",
    "for word in x:\n",
    "    if word is 'not':\n",
    "        print(word)"
   ]
  },
  {
   "cell_type": "code",
   "execution_count": null,
   "metadata": {
    "collapsed": true
   },
   "outputs": [],
   "source": []
  }
 ],
 "metadata": {
  "kernelspec": {
   "display_name": "Python 3",
   "language": "python",
   "name": "python3"
  }
 },
 "nbformat": 4,
 "nbformat_minor": 2
}
