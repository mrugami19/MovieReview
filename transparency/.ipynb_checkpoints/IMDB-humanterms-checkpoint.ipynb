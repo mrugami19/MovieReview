{
 "cells": [
  {
   "cell_type": "code",
   "execution_count": 1,
   "metadata": {
    "collapsed": true
   },
   "outputs": [],
   "source": [
    "from glob import glob\n",
    "import csv\n",
    "import operator\n",
    "from sklearn.feature_extraction.text import CountVectorizer\n",
    "import numpy as np\n",
    "import re\n",
    "from sklearn.utils.validation import check_array\n",
    "from sklearn.linear_model import LogisticRegression\n",
    "from sklearn.naive_bayes import MultinomialNB\n",
    "from IPython import display\n",
    "from coloredweighteddoc import ColoredWeightedDoc\n",
    "from scipy.sparse import diags, issparse"
   ]
  },
  {
   "cell_type": "code",
   "execution_count": 2,
   "metadata": {
    "collapsed": true
   },
   "outputs": [],
   "source": [
    "def load_imdb_data(path_to_imdb):\n",
    "    print(\"Loading the imdb reviews data\")\n",
    "    train_neg_files = glob(path_to_imdb + r\"/train/neg/*.txt\")\n",
    "    train_pos_files = glob(path_to_imdb + r\"/train/pos/*.txt\")\n",
    "    train_corpus = []\n",
    "    y_train = []\n",
    "    for tnf in train_neg_files:\n",
    "            with open(tnf, 'r', errors='replace') as f:\n",
    "                line = f.read()\n",
    "                train_corpus.append(line)\n",
    "                y_train.append(0)\n",
    "\n",
    "    for tpf in train_pos_files:\n",
    "        with open(tpf, 'r', errors='replace') as f:\n",
    "            line = f.read()\n",
    "            train_corpus.append(line)\n",
    "            y_train.append(1)\n",
    "\n",
    "    test_neg_files = glob(path_to_imdb + r\"/test/neg/*.txt\")\n",
    "    test_pos_files = glob(path_to_imdb + r\"/test/pos/*.txt\")\n",
    "\n",
    "    test_corpus = []\n",
    "\n",
    "    y_test = []\n",
    "\n",
    "    for tnf in test_neg_files:\n",
    "        with open(tnf, 'r', errors='replace') as f:\n",
    "            test_corpus.append(f.read())\n",
    "            y_test.append(0)\n",
    "\n",
    "    for tpf in test_pos_files:\n",
    "        with open(tpf, 'r', errors='replace') as f:\n",
    "            test_corpus.append(f.read())\n",
    "            y_test.append(1)\n",
    "\n",
    "    print(\"Data loaded.\")\n",
    "    return train_corpus, y_train, test_corpus, y_test"
   ]
  },
  {
   "cell_type": "code",
   "execution_count": 3,
   "metadata": {
    "collapsed": true
   },
   "outputs": [],
   "source": [
    "def load_vocabulary(filename):\n",
    "    vocabulary = []\n",
    "    with open(filename, 'r') as f:\n",
    "        for l in f:\n",
    "            vocabulary.append(l.strip())\n",
    "    return vocabulary"
   ]
  },
  {
   "cell_type": "code",
   "execution_count": 4,
   "metadata": {
    "collapsed": true
   },
   "outputs": [],
   "source": [
    "path_to_imdb = \"C:/Users/mbilgic/Desktop/aclImdb\""
   ]
  },
  {
   "cell_type": "code",
   "execution_count": 5,
   "metadata": {
    "scrolled": true
   },
   "outputs": [
    {
     "name": "stdout",
     "output_type": "stream",
     "text": [
      "Loading the imdb reviews data\n",
      "Data loaded.\n"
     ]
    }
   ],
   "source": [
    "train_corpus, y_train, test_corpus, y_test = load_imdb_data(path_to_imdb)"
   ]
  },
  {
   "cell_type": "code",
   "execution_count": 6,
   "metadata": {
    "collapsed": true
   },
   "outputs": [],
   "source": [
    "train_corpus = np.array(train_corpus)\n",
    "test_corpus = np.array(test_corpus)\n",
    "y_train = np.array(y_train)\n",
    "\n",
    "y_test = np.array(y_test)"
   ]
  },
  {
   "cell_type": "code",
   "execution_count": 7,
   "metadata": {
    "collapsed": true
   },
   "outputs": [],
   "source": [
    "#tp=r\"(?u)\\b\\w\\w+\\b\" # default\n",
    "tp=r\"(?u)\\b[\\w\\'/]+\\b\" # customized"
   ]
  },
  {
   "cell_type": "code",
   "execution_count": 136,
   "metadata": {
    "collapsed": true
   },
   "outputs": [],
   "source": [
    "unigrams = load_vocabulary(\"imdb-unigrams.txt\")"
   ]
  },
  {
   "cell_type": "code",
   "execution_count": 137,
   "metadata": {},
   "outputs": [
    {
     "data": {
      "text/plain": [
       "['1/10',\n",
       " '2/10',\n",
       " '3/10',\n",
       " '4/10',\n",
       " '5/10',\n",
       " '6/10',\n",
       " '7/10',\n",
       " '8/10',\n",
       " '9/10',\n",
       " '10/10',\n",
       " 'amazing',\n",
       " 'annoying',\n",
       " 'avoid',\n",
       " 'awful',\n",
       " 'bad',\n",
       " 'badly',\n",
       " 'beautiful',\n",
       " 'beautifully',\n",
       " 'best',\n",
       " 'bland',\n",
       " 'boring',\n",
       " 'brilliant',\n",
       " 'cheap',\n",
       " 'disappointed',\n",
       " 'disappointing',\n",
       " 'disappointment',\n",
       " 'dreadful',\n",
       " 'dull',\n",
       " 'enjoyable',\n",
       " 'enjoyed',\n",
       " 'excellent',\n",
       " 'fails',\n",
       " 'fantastic',\n",
       " 'fascinating',\n",
       " 'favorite',\n",
       " 'forgettable',\n",
       " 'fun',\n",
       " 'funny',\n",
       " 'funniest',\n",
       " 'gem',\n",
       " 'great',\n",
       " 'horrible',\n",
       " 'incredible',\n",
       " 'insult',\n",
       " 'lacks',\n",
       " 'lame',\n",
       " 'laughable',\n",
       " 'lousy',\n",
       " 'loved',\n",
       " 'mediocre',\n",
       " 'mess',\n",
       " 'mst3k',\n",
       " 'noir',\n",
       " 'obnoxious',\n",
       " 'pathetic',\n",
       " 'perfect',\n",
       " 'perfectly',\n",
       " 'pointless',\n",
       " 'poor',\n",
       " 'poorly',\n",
       " 'predictable',\n",
       " 'rare',\n",
       " 'recommended',\n",
       " 'redeeming',\n",
       " 'refreshing',\n",
       " 'ridiculous',\n",
       " 'sadly',\n",
       " 'solid',\n",
       " 'stupid',\n",
       " 'subtle',\n",
       " 'superb',\n",
       " 'surprisingly',\n",
       " 'tedious',\n",
       " 'terrible',\n",
       " 'unfortunately',\n",
       " 'unfunny',\n",
       " 'waste',\n",
       " 'wasted',\n",
       " 'weak',\n",
       " 'wonderful',\n",
       " 'wonderfully',\n",
       " 'worse',\n",
       " 'worst']"
      ]
     },
     "execution_count": 137,
     "metadata": {},
     "output_type": "execute_result"
    }
   ],
   "source": [
    "unigrams"
   ]
  },
  {
   "cell_type": "code",
   "execution_count": 9,
   "metadata": {
    "collapsed": true
   },
   "outputs": [],
   "source": [
    "vectorizer = CountVectorizer(lowercase=True, vocabulary=unigrams, ngram_range=(1,1), binary=True, token_pattern=tp)"
   ]
  },
  {
   "cell_type": "code",
   "execution_count": 10,
   "metadata": {
    "collapsed": true
   },
   "outputs": [],
   "source": [
    "X_train = vectorizer.fit_transform(train_corpus)\n",
    "X_test = vectorizer.transform(test_corpus)"
   ]
  },
  {
   "cell_type": "code",
   "execution_count": 11,
   "metadata": {},
   "outputs": [
    {
     "data": {
      "text/plain": [
       "(25000, 83)"
      ]
     },
     "execution_count": 11,
     "metadata": {},
     "output_type": "execute_result"
    }
   ],
   "source": [
    "X_train.shape"
   ]
  },
  {
   "cell_type": "code",
   "execution_count": 12,
   "metadata": {
    "collapsed": true
   },
   "outputs": [],
   "source": [
    "words = vectorizer.get_feature_names()\n",
    "#words = np.array(words)"
   ]
  },
  {
   "cell_type": "code",
   "execution_count": 13,
   "metadata": {
    "collapsed": true
   },
   "outputs": [],
   "source": [
    "freq = np.sum(X_train, axis=0)\n",
    "freq = freq.A1"
   ]
  },
  {
   "cell_type": "code",
   "execution_count": 14,
   "metadata": {
    "collapsed": true
   },
   "outputs": [],
   "source": [
    "fi = np.argsort(freq)"
   ]
  },
  {
   "cell_type": "code",
   "execution_count": 15,
   "metadata": {
    "collapsed": true
   },
   "outputs": [],
   "source": [
    "clf = LogisticRegression(penalty='l1', C=0.5)\n",
    "clf.fit(X_train, y_train)\n",
    "weights = clf.coef_[0]\n",
    "bias = clf.intercept_[0]\n",
    "\n",
    "#clf = MultinomialNB(alpha=100)\n",
    "#clf.fit(X_train, y_train)\n",
    "#weights = clf.feature_log_prob_[1] - clf.feature_log_prob_[0]"
   ]
  },
  {
   "cell_type": "code",
   "execution_count": 16,
   "metadata": {},
   "outputs": [
    {
     "data": {
      "text/plain": [
       "0.82016"
      ]
     },
     "execution_count": 16,
     "metadata": {},
     "output_type": "execute_result"
    }
   ],
   "source": [
    "clf.score(X_train, y_train)"
   ]
  },
  {
   "cell_type": "code",
   "execution_count": 17,
   "metadata": {},
   "outputs": [
    {
     "data": {
      "text/plain": [
       "0.81559999999999999"
      ]
     },
     "execution_count": 17,
     "metadata": {},
     "output_type": "execute_result"
    }
   ],
   "source": [
    "clf.score(X_test, y_test)"
   ]
  },
  {
   "cell_type": "code",
   "execution_count": 18,
   "metadata": {},
   "outputs": [
    {
     "data": {
      "text/plain": [
       "82"
      ]
     },
     "execution_count": 18,
     "metadata": {},
     "output_type": "execute_result"
    }
   ],
   "source": [
    "np.sum(weights != 0)"
   ]
  },
  {
   "cell_type": "code",
   "execution_count": 19,
   "metadata": {
    "collapsed": true
   },
   "outputs": [],
   "source": [
    "wi = np.argsort(abs(weights))"
   ]
  },
  {
   "cell_type": "code",
   "execution_count": 20,
   "metadata": {},
   "outputs": [
    {
     "data": {
      "text/plain": [
       "[('1/10', 158, -2.956906254202583),\n",
       " ('2/10', 121, -2.4775399377300573),\n",
       " ('3/10', 170, -3.5222232351512512),\n",
       " ('4/10', 173, -4.2043167783156594),\n",
       " ('5/10', 90, 0.29784363899764604),\n",
       " ('6/10', 29, 0.0),\n",
       " ('7/10', 198, 4.2769770120795361),\n",
       " ('8/10', 222, 3.2961716557129623),\n",
       " ('9/10', 153, 2.2242802100998489),\n",
       " ('10/10', 256, 2.2812518502971146),\n",
       " ('amazing', 1109, 1.0992629837113479),\n",
       " ('annoying', 881, -1.0065289765469307),\n",
       " ('avoid', 728, -1.1680118369150152),\n",
       " ('awful', 1444, -1.6269356479344206),\n",
       " ('bad', 5892, -0.92505027637421033),\n",
       " ('badly', 593, -1.135498547868991),\n",
       " ('beautiful', 1803, 0.75962780569902288),\n",
       " ('beautifully', 413, 1.2472732901992858),\n",
       " ('best', 4892, 0.78068641989742649),\n",
       " ('bland', 257, -0.94527913892289317),\n",
       " ('boring', 1508, -1.1131748811122091),\n",
       " ('brilliant', 1028, 0.84651463434808349),\n",
       " ('cheap', 789, -0.781522527036003),\n",
       " ('disappointed', 857, -0.6385252136443097),\n",
       " ('disappointing', 394, -1.234165085599765),\n",
       " ('disappointment', 388, -1.3591361317419783),\n",
       " ('dreadful', 224, -1.3790081385168673),\n",
       " ('dull', 706, -1.2761129106914149),\n",
       " ('enjoyable', 785, 1.0073251242483565),\n",
       " ('enjoyed', 1141, 0.75600588163927662),\n",
       " ('excellent', 1779, 1.3784360850050386),\n",
       " ('fails', 562, -1.3658319046758398),\n",
       " ('fantastic', 712, 1.0601391970365837),\n",
       " ('fascinating', 362, 1.0799450525651431),\n",
       " ('favorite', 1086, 0.97295216145506569),\n",
       " ('forgettable', 194, -1.3428692527266044),\n",
       " ('fun', 2138, 0.56975588666555976),\n",
       " ('funny', 3136, 0.069747323956954085),\n",
       " ('funniest', 329, 1.0259264951612592),\n",
       " ('gem', 340, 1.278241973075114),\n",
       " ('great', 6311, 0.83357344466330563),\n",
       " ('horrible', 1002, -1.2544683789806153),\n",
       " ('incredible', 496, 1.0072883201070437),\n",
       " ('insult', 207, -1.4250241908247441),\n",
       " ('lacks', 341, -1.1262566263665115),\n",
       " ('lame', 644, -1.3440132199332711),\n",
       " ('laughable', 398, -1.6809203781327537),\n",
       " ('lousy', 202, -1.6860786578186409),\n",
       " ('loved', 1245, 0.82790137551648579),\n",
       " ('mediocre', 346, -1.2747943316634494),\n",
       " ('mess', 592, -1.5295084130630565),\n",
       " ('mst3k', 112, -1.8719553539988083),\n",
       " ('noir', 273, 1.3536201679222069),\n",
       " ('obnoxious', 154, -1.1134942742274767),\n",
       " ('pathetic', 433, -1.3593294192478675),\n",
       " ('perfect', 1358, 1.2376157179051239),\n",
       " ('perfectly', 591, 1.0950828736258964),\n",
       " ('pointless', 458, -1.7588507758785035),\n",
       " ('poor', 1597, -0.95818406092189046),\n",
       " ('poorly', 629, -1.8440987495137737),\n",
       " ('predictable', 774, -0.686445670776613),\n",
       " ('rare', 413, 1.0879481836139344),\n",
       " ('recommended', 484, 1.1481249752368687),\n",
       " ('redeeming', 315, -1.6591362971403929),\n",
       " ('refreshing', 197, 1.7190158753611384),\n",
       " ('ridiculous', 876, -0.84490368509887404),\n",
       " ('sadly', 536, -0.65105726171579326),\n",
       " ('solid', 468, 0.94592091674708201),\n",
       " ('stupid', 1350, -1.1217324041894658),\n",
       " ('subtle', 405, 0.9174832905632484),\n",
       " ('superb', 621, 1.1475477109734571),\n",
       " ('surprisingly', 439, 0.84842959795675643),\n",
       " ('tedious', 210, -1.4753195036519626),\n",
       " ('terrible', 1333, -1.0699403873252307),\n",
       " ('unfortunately', 1242, -0.76455906930853079),\n",
       " ('unfunny', 233, -1.8674942607747189),\n",
       " ('waste', 1302, -2.2256168492087305),\n",
       " ('wasted', 524, -1.5057639961610727),\n",
       " ('weak', 670, -0.73173042239018993),\n",
       " ('wonderful', 1440, 1.1215991904192348),\n",
       " ('wonderfully', 312, 1.6980241667274627),\n",
       " ('worse', 1271, -1.0239298566854782),\n",
       " ('worst', 2264, -1.8486357723817051)]"
      ]
     },
     "execution_count": 20,
     "metadata": {},
     "output_type": "execute_result"
    }
   ],
   "source": [
    "[(words[i], freq[i], weights[i]) for i in range(len(words))]"
   ]
  },
  {
   "cell_type": "code",
   "execution_count": 21,
   "metadata": {},
   "outputs": [
    {
     "data": {
      "text/plain": [
       "[('7/10', 198, 4.2769770120795361),\n",
       " ('4/10', 173, -4.2043167783156594),\n",
       " ('3/10', 170, -3.5222232351512512),\n",
       " ('8/10', 222, 3.2961716557129623),\n",
       " ('1/10', 158, -2.956906254202583),\n",
       " ('2/10', 121, -2.4775399377300573),\n",
       " ('10/10', 256, 2.2812518502971146),\n",
       " ('waste', 1302, -2.2256168492087305),\n",
       " ('9/10', 153, 2.2242802100998489),\n",
       " ('mst3k', 112, -1.8719553539988083),\n",
       " ('unfunny', 233, -1.8674942607747189),\n",
       " ('worst', 2264, -1.8486357723817051),\n",
       " ('poorly', 629, -1.8440987495137737),\n",
       " ('pointless', 458, -1.7588507758785035),\n",
       " ('refreshing', 197, 1.7190158753611384),\n",
       " ('wonderfully', 312, 1.6980241667274627),\n",
       " ('lousy', 202, -1.6860786578186409),\n",
       " ('laughable', 398, -1.6809203781327537),\n",
       " ('redeeming', 315, -1.6591362971403929),\n",
       " ('awful', 1444, -1.6269356479344206),\n",
       " ('mess', 592, -1.5295084130630565),\n",
       " ('wasted', 524, -1.5057639961610727),\n",
       " ('tedious', 210, -1.4753195036519626),\n",
       " ('insult', 207, -1.4250241908247441),\n",
       " ('dreadful', 224, -1.3790081385168673),\n",
       " ('excellent', 1779, 1.3784360850050386),\n",
       " ('fails', 562, -1.3658319046758398),\n",
       " ('pathetic', 433, -1.3593294192478675),\n",
       " ('disappointment', 388, -1.3591361317419783),\n",
       " ('noir', 273, 1.3536201679222069),\n",
       " ('lame', 644, -1.3440132199332711),\n",
       " ('forgettable', 194, -1.3428692527266044),\n",
       " ('gem', 340, 1.278241973075114),\n",
       " ('dull', 706, -1.2761129106914149),\n",
       " ('mediocre', 346, -1.2747943316634494),\n",
       " ('horrible', 1002, -1.2544683789806153),\n",
       " ('beautifully', 413, 1.2472732901992858),\n",
       " ('perfect', 1358, 1.2376157179051239),\n",
       " ('disappointing', 394, -1.234165085599765),\n",
       " ('avoid', 728, -1.1680118369150152),\n",
       " ('recommended', 484, 1.1481249752368687),\n",
       " ('superb', 621, 1.1475477109734571),\n",
       " ('badly', 593, -1.135498547868991),\n",
       " ('lacks', 341, -1.1262566263665115),\n",
       " ('stupid', 1350, -1.1217324041894658),\n",
       " ('wonderful', 1440, 1.1215991904192348),\n",
       " ('obnoxious', 154, -1.1134942742274767),\n",
       " ('boring', 1508, -1.1131748811122091),\n",
       " ('amazing', 1109, 1.0992629837113479),\n",
       " ('perfectly', 591, 1.0950828736258964),\n",
       " ('rare', 413, 1.0879481836139344),\n",
       " ('fascinating', 362, 1.0799450525651431),\n",
       " ('terrible', 1333, -1.0699403873252307),\n",
       " ('fantastic', 712, 1.0601391970365837),\n",
       " ('funniest', 329, 1.0259264951612592),\n",
       " ('worse', 1271, -1.0239298566854782),\n",
       " ('enjoyable', 785, 1.0073251242483565),\n",
       " ('incredible', 496, 1.0072883201070437),\n",
       " ('annoying', 881, -1.0065289765469307),\n",
       " ('favorite', 1086, 0.97295216145506569),\n",
       " ('poor', 1597, -0.95818406092189046),\n",
       " ('solid', 468, 0.94592091674708201),\n",
       " ('bland', 257, -0.94527913892289317),\n",
       " ('bad', 5892, -0.92505027637421033),\n",
       " ('subtle', 405, 0.9174832905632484),\n",
       " ('surprisingly', 439, 0.84842959795675643),\n",
       " ('brilliant', 1028, 0.84651463434808349),\n",
       " ('ridiculous', 876, -0.84490368509887404),\n",
       " ('great', 6311, 0.83357344466330563),\n",
       " ('loved', 1245, 0.82790137551648579),\n",
       " ('cheap', 789, -0.781522527036003),\n",
       " ('best', 4892, 0.78068641989742649),\n",
       " ('unfortunately', 1242, -0.76455906930853079),\n",
       " ('beautiful', 1803, 0.75962780569902288),\n",
       " ('enjoyed', 1141, 0.75600588163927662),\n",
       " ('weak', 670, -0.73173042239018993),\n",
       " ('predictable', 774, -0.686445670776613),\n",
       " ('sadly', 536, -0.65105726171579326),\n",
       " ('disappointed', 857, -0.6385252136443097),\n",
       " ('fun', 2138, 0.56975588666555976),\n",
       " ('5/10', 90, 0.29784363899764604),\n",
       " ('funny', 3136, 0.069747323956954085),\n",
       " ('6/10', 29, 0.0)]"
      ]
     },
     "execution_count": 21,
     "metadata": {},
     "output_type": "execute_result"
    }
   ],
   "source": [
    "[(words[i], freq[i], weights[i]) for i in wi[::-1]]"
   ]
  },
  {
   "cell_type": "code",
   "execution_count": 22,
   "metadata": {
    "collapsed": true
   },
   "outputs": [],
   "source": [
    "tokenizer = re.compile(tp)"
   ]
  },
  {
   "cell_type": "markdown",
   "metadata": {},
   "source": [
    "# Evidences"
   ]
  },
  {
   "cell_type": "code",
   "execution_count": 23,
   "metadata": {
    "collapsed": true
   },
   "outputs": [],
   "source": [
    "def compute_evidences_nonnegative_matrix(weights, X, bias=0):   \n",
    "    X = check_array(X, accept_sparse=\"csr\")\n",
    "    neg_weights = weights * (weights < 0)\n",
    "    pos_weights = weights * (weights > 0)\n",
    "    if issparse(X):\n",
    "        neg_evi = X * neg_weights\n",
    "        pos_evi = X * pos_weights\n",
    "    else:\n",
    "        neg_evi = np.dot(X, neg_weights)\n",
    "        pos_evi = np.dot(X, pos_weights)\n",
    "    \n",
    "    if bias > 0:\n",
    "        pos_evi += bias\n",
    "    else:\n",
    "        neg_evi -= bias\n",
    "    return neg_evi, pos_evi"
   ]
  },
  {
   "cell_type": "code",
   "execution_count": 24,
   "metadata": {
    "collapsed": true
   },
   "outputs": [],
   "source": [
    "def frequency_of_a_phrase(p, corpus):\n",
    "    c = 0\n",
    "    for doc in corpus:\n",
    "        if p in doc:\n",
    "            c += 1\n",
    "    return c"
   ]
  },
  {
   "cell_type": "markdown",
   "metadata": {},
   "source": [
    "## Most"
   ]
  },
  {
   "cell_type": "code",
   "execution_count": 25,
   "metadata": {
    "collapsed": true
   },
   "outputs": [],
   "source": [
    "probs = clf.predict_proba(X_test)\n",
    "neg_evi, pos_evi = compute_evidences_nonnegative_matrix(weights, X_test, bias)"
   ]
  },
  {
   "cell_type": "markdown",
   "metadata": {},
   "source": [
    "### Most Negative wrt Probs"
   ]
  },
  {
   "cell_type": "code",
   "execution_count": 26,
   "metadata": {},
   "outputs": [
    {
     "name": "stdout",
     "output_type": "stream",
     "text": [
      "[  9.99999986e-01   1.42727824e-08]\n",
      "-20.9943073849\n",
      "2.92939595367\n"
     ]
    },
    {
     "data": {
      "text/html": [
       "<font size = 1, color=gray> I </font><font size = 1, color=gray> remember </font><font size = 1, color=gray> seeing </font><font size = 1, color=gray> the </font><font size = 1, color=gray> very </font><font size = 1, color=gray> first </font><font size = 1, color=gray> trailer </font><font size = 1, color=gray> for </font><font size = 1, color=gray> Underdog </font><font size = 1, color=gray> back </font><font size = 1, color=gray> last </font><font size = 1, color=gray> March, </font><font size = 1, color=gray> I </font><font size = 1, color=gray> also </font><font size = 1, color=gray> remember </font><font size = 1, color=gray> at </font><font size = 1, color=gray> the </font><font size = 1, color=gray> time </font><font size = 1, color=gray> smiling </font><font size = 1, color=gray> to </font><font size = 1, color=gray> myself </font><font size = 1, color=gray> ever </font><font size = 1, color=gray> so </font><font size = 1, color=gray> slightly. </font><font size = 1, color=gray> Sure </font><font size = 1, color=gray> it </font><font size = 1, color=gray> was </font><font size = 1, color=gray> a </font><font size = 1, color=gray> cheesy </font><font size = 1, color=gray> idea, </font><font size = 1, color=gray> but </font><font size = 1, color=gray> I </font><font size = 1, color=gray> genuinely </font><font size = 1, color=gray> thought </font><font size = 1, color=gray> at </font><font size = 1, color=gray> the </font><font size = 1, color=gray> time </font><font size = 1, color=gray> the </font><font size = 1, color=gray> concept </font><font size = 1, color=gray> might </font><font size = 1, color=gray> work, </font><font size = 1, color=gray> hell </font><font size = 1, color=gray> it </font><font size = 1, color=gray> couldn't </font><font size = 1, color=gray> be </font><font size = 1, color=gray> any </font><font size = 2, color=red> worse </font><font size = 1, color=gray> than </font><font size = 1, color=gray> the </font><font size = 3, color=red> disappointing </font><font size = 1, color=gray> Cats </font><font size = 1, color=gray> and </font><font size = 1, color=gray> Dogs </font><font size = 1, color=gray> could </font><font size = 1, color=gray> it? </font><font size = 1, color=gray> Then </font><font size = 1, color=gray> by </font><font size = 1, color=gray> December </font><font size = 1, color=gray> and </font><font size = 1, color=gray> I </font><font size = 1, color=gray> suddenly </font><font size = 1, color=gray> remembered </font><font size = 1, color=gray> the </font><font size = 1, color=gray> film </font><font size = 1, color=gray> I </font><font size = 1, color=gray> realised </font><font size = 1, color=gray> how </font><font size = 1, color=gray> likely </font><font size = 1, color=gray> the </font><font size = 1, color=gray> film </font><font size = 1, color=gray> was </font><font size = 1, color=gray> to </font><font size = 1, color=gray> suck, </font><font size = 1, color=gray> the </font><font size = 1, color=gray> fact </font><font size = 1, color=gray> it </font><font size = 1, color=gray> had </font><font size = 1, color=gray> been </font><font size = 1, color=gray> delayed </font><font size = 1, color=gray> in </font><font size = 1, color=gray> the </font><font size = 1, color=gray> UK </font><font size = 1, color=gray> made </font><font size = 1, color=gray> it </font><font size = 1, color=gray> seem </font><font size = 1, color=gray> inevitable </font><font size = 1, color=gray> it </font><font size = 1, color=gray> would </font><font size = 1, color=gray> be </font><font size = 2, color=red> terrible, </font><font size = 1, color=gray> but </font><font size = 1, color=gray> the </font><font size = 1, color=gray> horrendous </font><font size = 1, color=gray> reviews </font><font size = 1, color=gray> just </font><font size = 1, color=gray> made </font><font size = 1, color=gray> me </font><font size = 1, color=gray> realise </font><font size = 1, color=gray> it </font><font size = 1, color=gray> was </font><font size = 1, color=gray> nigh </font><font size = 1, color=gray> on </font><font size = 1, color=gray> impossible </font><font size = 1, color=gray> for </font><font size = 1, color=gray> the </font><font size = 1, color=gray> movie </font><font size = 1, color=gray> to </font><font size = 1, color=gray> be </font><font size = 1, color=gray> any </font><font size = 1, color=gray> good. </font><font size = 1, color=gray> Still </font><font size = 1, color=gray> I </font><font size = 1, color=gray> swallowed </font><font size = 1, color=gray> my </font><font size = 1, color=gray> feelings </font><font size = 1, color=gray> and </font><font size = 1, color=gray> went </font><font size = 1, color=gray> to </font><font size = 1, color=gray> see </font><font size = 1, color=gray> the </font><font size = 1, color=gray> film </font><font size = 1, color=gray> with </font><font size = 1, color=gray> a </font><font size = 1, color=gray> friend </font><font size = 1, color=gray> today, </font><font size = 1, color=gray> as </font><font size = 1, color=gray> I </font><font size = 1, color=gray> entered </font><font size = 1, color=gray> my </font><font size = 1, color=gray> screen </font><font size = 1, color=gray> I </font><font size = 1, color=gray> was </font><font size = 1, color=gray> mortified, </font><font size = 1, color=gray> it </font><font size = 1, color=gray> was </font><font size = 1, color=gray> the </font><font size = 1, color=gray> very </font><font size = 1, color=gray> first </font><font size = 1, color=gray> time </font><font size = 1, color=gray> I'd </font><font size = 1, color=gray> be </font><font size = 1, color=gray> seeing </font><font size = 1, color=gray> a </font><font size = 1, color=gray> movie </font><font size = 1, color=gray> with </font><font size = 1, color=gray> a </font><font size = 1, color=gray> friend </font><font size = 1, color=gray> and </font><font size = 1, color=gray> being </font><font size = 1, color=gray> the </font><font size = 1, color=gray> only </font><font size = 1, color=gray> two </font><font size = 1, color=gray> in </font><font size = 1, color=gray> the </font><font size = 1, color=gray> screen! </font><font size = 1, color=gray> Little </font><font size = 1, color=gray> did </font><font size = 1, color=gray> I </font><font size = 1, color=gray> know </font><font size = 1, color=gray> for </font><font size = 1, color=gray> what </font><font size = 1, color=gray> I </font><font size = 1, color=gray> was </font><font size = 1, color=gray> about </font><font size = 1, color=gray> to </font><font size = 1, color=gray> endure. </font><font size = 1, color=gray> Underdog </font><font size = 1, color=gray> to </font><font size = 1, color=gray> put </font><font size = 1, color=gray> it </font><font size = 1, color=gray> blunt </font><font size = 1, color=gray> is </font><font size = 1, color=gray> horrendous, </font><font size = 1, color=gray> it </font><font size = 1, color=gray> really </font><font size = 1, color=gray> is. </font><font size = 1, color=gray> Imagine </font><font size = 1, color=gray> how </font><font size = 2, color=red> bad </font><font size = 1, color=gray> you </font><font size = 1, color=gray> could </font><font size = 1, color=gray> think </font><font size = 1, color=gray> this </font><font size = 1, color=gray> movie </font><font size = 1, color=gray> is </font><font size = 1, color=gray> and </font><font size = 1, color=gray> then </font><font size = 1, color=gray> prepare </font><font size = 1, color=gray> yourself </font><font size = 1, color=gray> for </font><font size = 1, color=gray> a </font><font size = 1, color=gray> movie </font><font size = 1, color=gray> even </font><font size = 1, color=gray> worse, </font><font size = 1, color=gray> that </font><font size = 1, color=gray> is </font><font size = 1, color=gray> just </font><font size = 1, color=gray> how </font><font size = 3, color=red> pathetic </font><font size = 1, color=gray> the </font><font size = 1, color=gray> movie </font><font size = 1, color=gray> is. </font><font size = 1, color=gray> While </font><font size = 1, color=gray> it </font><font size = 1, color=gray> aims </font><font size = 1, color=gray> to </font><font size = 1, color=gray> entertain </font><font size = 1, color=gray> kids </font><font size = 1, color=gray> it </font><font size = 1, color=gray> just </font><font size = 1, color=gray> seems </font><font size = 1, color=gray> an </font><font size = 1, color=gray> embarrassing </font><font size = 3, color=red> mess </font><font size = 1, color=gray> that </font><font size = 1, color=gray> seems </font><font size = 1, color=gray> to </font><font size = 3, color=red> insult </font><font size = 1, color=gray> kids </font><font size = 1, color=gray> rather </font><font size = 1, color=gray> than </font><font size = 1, color=gray> allow </font><font size = 1, color=gray> them </font><font size = 1, color=gray> to </font><font size = 1, color=gray> enjoy </font><font size = 1, color=gray> the </font><font size = 1, color=gray> movie. </font><font size = 1, color=gray> Matters </font><font size = 1, color=gray> cannot </font><font size = 1, color=gray> be </font><font size = 1, color=gray> helped </font><font size = 1, color=gray> by </font><font size = 1, color=gray> the </font><font size = 1, color=gray> fact </font><font size = 1, color=gray> that </font><font size = 1, color=gray> the </font><font size = 1, color=gray> story </font><font size = 1, color=gray> is </font><font size = 1, color=gray> beyond </font><font size = 1, color=gray> lacklustre, </font><font size = 1, color=gray> the </font><font size = 1, color=gray> acting </font><font size = 1, color=gray> is </font><font size = 1, color=gray> generally </font><font size = 2, color=red> poor, </font><font size = 1, color=gray> and </font><font size = 1, color=gray> the </font><font size = 1, color=gray> movie </font><font size = 1, color=gray> just </font><font size = 1, color=gray> feels </font><font size = 1, color=gray> like </font><font size = 1, color=gray> an </font><font size = 1, color=gray> over-long, </font><font size = 1, color=gray> tired </font><font size = 1, color=gray> and </font><font size = 1, color=gray> downright </font><font size = 2, color=red> boring </font><font size = 1, color=gray> Saturday </font><font size = 1, color=gray> cartoon! </font><font size = 1, color=gray> After </font><font size = 1, color=gray> a </font><font size = 1, color=gray> brief </font><font size = 1, color=gray> five </font><font size = 1, color=gray> minutes </font><font size = 1, color=gray> where </font><font size = 1, color=gray> I </font><font size = 1, color=gray> thought </font><font size = 1, color=gray> the </font><font size = 1, color=gray> movie </font><font size = 1, color=gray> might </font><font size = 1, color=gray> be </font><font size = 1, color=gray> passable </font><font size = 1, color=gray> the </font><font size = 1, color=gray> movie </font><font size = 1, color=gray> just </font><font size = 1, color=gray> suddenly </font><font size = 1, color=gray> seems </font><font size = 1, color=gray> to </font><font size = 1, color=gray> die </font><font size = 1, color=gray> and </font><font size = 1, color=gray> then </font><font size = 1, color=gray> limp </font><font size = 1, color=gray> on </font><font size = 1, color=gray> towards </font><font size = 1, color=gray> the </font><font size = 1, color=gray> already </font><font size = 1, color=gray> sign </font><font size = 1, color=gray> posted </font><font size = 1, color=gray> finale. </font><font size = 1, color=gray> I'm </font><font size = 1, color=gray> just </font><font size = 1, color=gray> amazed </font><font size = 1, color=gray> the </font><font size = 1, color=gray> movie </font><font size = 1, color=gray> was </font><font size = 1, color=gray> actually </font><font size = 1, color=gray> ever </font><font size = 1, color=gray> released, </font><font size = 1, color=gray> it's </font><font size = 1, color=gray> an </font><font size = 1, color=gray> embarrassment </font><font size = 1, color=gray> to </font><font size = 1, color=gray> Disney, </font><font size = 1, color=gray> hell </font><font size = 1, color=gray> half </font><font size = 1, color=gray> their </font><font size = 1, color=gray> straight </font><font size = 1, color=gray> to </font><font size = 1, color=gray> video </font><font size = 1, color=gray> sequels </font><font size = 1, color=gray> are </font><font size = 1, color=gray> better </font><font size = 1, color=gray> than </font><font size = 1, color=gray> this! </font><font size = 1, color=gray> What's </font><font size = 1, color=gray> even </font><font size = 1, color=gray> more </font><font size = 1, color=gray> terrifying </font><font size = 1, color=gray> is </font><font size = 1, color=gray> the </font><font size = 1, color=gray> fact </font><font size = 1, color=gray> the </font><font size = 1, color=gray> ending </font><font size = 1, color=gray> leaves </font><font size = 1, color=gray> room </font><font size = 1, color=gray> for </font><font size = 1, color=gray> a </font><font size = 1, color=gray> sequel!<br </font><font size = 1, color=gray> /><br </font><font size = 1, color=gray> />So </font><font size = 1, color=gray> lets </font><font size = 1, color=gray> get </font><font size = 1, color=gray> onto </font><font size = 1, color=gray> the </font><font size = 1, color=gray> acting </font><font size = 1, color=gray> (cracks </font><font size = 1, color=gray> knuckles). </font><font size = 1, color=gray> Okay </font><font size = 1, color=gray> let </font><font size = 1, color=gray> me </font><font size = 1, color=gray> be </font><font size = 1, color=gray> honest </font><font size = 1, color=gray> Jason </font><font size = 1, color=gray> Lee </font><font size = 1, color=gray> is </font><font size = 1, color=gray> decent, </font><font size = 1, color=gray> his </font><font size = 1, color=gray> voice </font><font size = 1, color=gray> suits </font><font size = 1, color=gray> the </font><font size = 1, color=gray> canine, </font><font size = 1, color=gray> and </font><font size = 1, color=gray> had </font><font size = 1, color=gray> he </font><font size = 1, color=gray> have </font><font size = 1, color=gray> been </font><font size = 1, color=gray> given </font><font size = 1, color=gray> a </font><font size = 1, color=gray> decent </font><font size = 1, color=gray> script </font><font size = 1, color=gray> he </font><font size = 1, color=gray> might </font><font size = 1, color=gray> have </font><font size = 1, color=gray> made </font><font size = 1, color=gray> the </font><font size = 1, color=gray> performance </font><font size = 1, color=gray> work. </font><font size = 1, color=gray> However, </font><font size = 1, color=gray> with </font><font size = 1, color=gray> such </font><font size = 1, color=gray> a </font><font size = 1, color=gray> dodgy </font><font size = 1, color=gray> script </font><font size = 1, color=gray> he </font><font size = 1, color=gray> just </font><font size = 1, color=gray> seems </font><font size = 1, color=gray> to </font><font size = 1, color=gray> flounder. </font><font size = 1, color=gray> In </font><font size = 1, color=gray> many </font><font size = 1, color=gray> ways </font><font size = 1, color=gray> it </font><font size = 1, color=gray> reminded </font><font size = 1, color=gray> me </font><font size = 1, color=gray> of </font><font size = 1, color=gray> Bill </font><font size = 1, color=gray> Murray </font><font size = 1, color=gray> in </font><font size = 1, color=gray> Garfield, </font><font size = 1, color=gray> Murray </font><font size = 1, color=gray> did </font><font size = 1, color=gray> what </font><font size = 1, color=gray> he </font><font size = 1, color=gray> could </font><font size = 1, color=gray> with </font><font size = 1, color=gray> what </font><font size = 1, color=gray> he </font><font size = 1, color=gray> had, </font><font size = 1, color=gray> but </font><font size = 1, color=gray> what </font><font size = 1, color=gray> he </font><font size = 1, color=gray> had </font><font size = 1, color=gray> wasn't </font><font size = 1, color=gray> enough </font><font size = 1, color=gray> to </font><font size = 1, color=gray> make </font><font size = 1, color=gray> it </font><font size = 1, color=gray> passable. </font><font size = 1, color=gray> Then </font><font size = 1, color=gray> we </font><font size = 1, color=gray> get </font><font size = 1, color=gray> onto </font><font size = 1, color=gray> the </font><font size = 1, color=gray> human </font><font size = 1, color=gray> actors, </font><font size = 1, color=gray> and </font><font size = 1, color=gray> well </font><font size = 1, color=gray> the </font><font size = 1, color=gray> majority </font><font size = 1, color=gray> of </font><font size = 1, color=gray> atrocious. </font><font size = 1, color=gray> Alex </font><font size = 1, color=gray> Neuberger </font><font size = 1, color=gray> plays </font><font size = 1, color=gray> the </font><font size = 1, color=gray> friend </font><font size = 1, color=gray> of </font><font size = 1, color=gray> Underdog, </font><font size = 1, color=gray> Jack. </font><font size = 1, color=gray> My </font><font size = 1, color=gray> biggest </font><font size = 1, color=gray> concern </font><font size = 1, color=gray> is </font><font size = 1, color=gray> that </font><font size = 1, color=gray> anybody </font><font size = 1, color=gray> would </font><font size = 1, color=gray> even </font><font size = 1, color=gray> take </font><font size = 1, color=gray> him </font><font size = 1, color=gray> seriously </font><font size = 1, color=gray> in </font><font size = 1, color=gray> an </font><font size = 1, color=gray> audition. </font><font size = 1, color=gray> The </font><font size = 1, color=gray> scene </font><font size = 1, color=gray> where </font><font size = 1, color=gray> he </font><font size = 1, color=gray> gets </font><font size = 1, color=gray> to </font><font size = 1, color=gray> fly </font><font size = 1, color=gray> with </font><font size = 1, color=gray> Underdog </font><font size = 1, color=gray> is </font><font size = 1, color=gray> perhaps </font><font size = 1, color=gray> the </font><font size = 1, color=gray> most </font><font size = 1, color=gray> cringe </font><font size = 1, color=gray> worthy </font><font size = 1, color=gray> scene </font><font size = 1, color=gray> in </font><font size = 1, color=gray> the </font><font size = 1, color=gray> past </font><font size = 1, color=gray> few </font><font size = 1, color=gray> years </font><font size = 1, color=gray> just </font><font size = 1, color=gray> because </font><font size = 1, color=gray> his </font><font size = 1, color=gray> acting </font><font size = 1, color=gray> is </font><font size = 1, color=gray> so </font><font size = 1, color=gray> poor. </font><font size = 1, color=gray> Not </font><font size = 1, color=gray> once </font><font size = 1, color=gray> did </font><font size = 1, color=gray> I </font><font size = 1, color=gray> believe </font><font size = 1, color=gray> he </font><font size = 1, color=gray> was </font><font size = 1, color=gray> a </font><font size = 1, color=gray> real </font><font size = 1, color=gray> person, </font><font size = 1, color=gray> in </font><font size = 1, color=gray> fact </font><font size = 1, color=gray> part </font><font size = 1, color=gray> of </font><font size = 1, color=gray> me </font><font size = 1, color=gray> is </font><font size = 1, color=gray> still </font><font size = 1, color=gray> convinced </font><font size = 1, color=gray> he </font><font size = 1, color=gray> was </font><font size = 1, color=gray> a </font><font size = 1, color=gray> robot </font><font size = 1, color=gray> made </font><font size = 1, color=gray> specially </font><font size = 1, color=gray> for </font><font size = 1, color=gray> the </font><font size = 1, color=gray> movie! </font><font size = 1, color=gray> James </font><font size = 1, color=gray> Belushi </font><font size = 1, color=gray> seems </font><font size = 1, color=gray> half </font><font size = 1, color=gray> dead </font><font size = 1, color=gray> in </font><font size = 1, color=gray> the </font><font size = 1, color=gray> film, </font><font size = 1, color=gray> he </font><font size = 1, color=gray> has </font><font size = 1, color=gray> nothing </font><font size = 1, color=gray> to </font><font size = 1, color=gray> work </font><font size = 1, color=gray> with, </font><font size = 1, color=gray> no </font><font size = 1, color=gray> decent </font><font size = 1, color=gray> lines, </font><font size = 1, color=gray> he </font><font size = 1, color=gray> just </font><font size = 1, color=gray> seems </font><font size = 1, color=gray> to </font><font size = 1, color=gray> wander </font><font size = 1, color=gray> around </font><font size = 1, color=gray> the </font><font size = 1, color=gray> set </font><font size = 1, color=gray> waiting </font><font size = 1, color=gray> to </font><font size = 1, color=gray> become </font><font size = 1, color=gray> relevant </font><font size = 1, color=gray> to </font><font size = 1, color=gray> the </font><font size = 1, color=gray> plot, </font><font size = 1, color=gray> which </font><font size = 1, color=gray> the </font><font size = 1, color=gray> writers </font><font size = 1, color=gray> try </font><font size = 1, color=gray> to </font><font size = 1, color=gray> do </font><font size = 1, color=gray> towards </font><font size = 1, color=gray> the </font><font size = 1, color=gray> end </font><font size = 1, color=gray> but </font><font size = 1, color=gray> do </font><font size = 1, color=gray> it </font><font size = 1, color=gray> in </font><font size = 1, color=gray> such </font><font size = 1, color=gray> a </font><font size = 1, color=gray> poor </font><font size = 1, color=gray> way </font><font size = 1, color=gray> its </font><font size = 3, color=red> laughable. </font><font size = 1, color=gray> Thankfully </font><font size = 1, color=gray> Peter </font><font size = 1, color=gray> Dinklage </font><font size = 1, color=gray> is </font><font size = 1, color=gray> the </font><font size = 1, color=gray> one </font><font size = 3, color=red> redeeming </font><font size = 1, color=gray> factor </font><font size = 1, color=gray> of </font><font size = 1, color=gray> the </font><font size = 1, color=gray> movie, </font><font size = 1, color=gray> he </font><font size = 1, color=gray> is </font><font size = 2, color=blue> great </font><font size = 1, color=gray> as </font><font size = 1, color=gray> Dr </font><font size = 1, color=gray> Barsinister </font><font size = 1, color=gray> and </font><font size = 1, color=gray> seems </font><font size = 1, color=gray> to </font><font size = 1, color=gray> be </font><font size = 1, color=gray> having </font><font size = 1, color=gray> a </font><font size = 1, color=gray> laugh </font><font size = 1, color=gray> in </font><font size = 1, color=gray> the </font><font size = 1, color=gray> role. </font><font size = 1, color=gray> He </font><font size = 1, color=gray> steals </font><font size = 1, color=gray> every </font><font size = 1, color=gray> scene </font><font size = 1, color=gray> he </font><font size = 1, color=gray> is </font><font size = 1, color=gray> in, </font><font size = 1, color=gray> although </font><font size = 1, color=gray> that's </font><font size = 1, color=gray> hardly </font><font size = 1, color=gray> difficult </font><font size = 1, color=gray> when </font><font size = 1, color=gray> he </font><font size = 1, color=gray> shares </font><font size = 1, color=gray> screen </font><font size = 1, color=gray> time </font><font size = 1, color=gray> with </font><font size = 1, color=gray> the </font><font size = 1, color=gray> extremely </font><font size = 2, color=red> annoying </font><font size = 1, color=gray> Patrick </font><font size = 1, color=gray> Warburton. </font><font size = 1, color=gray> The </font><font size = 1, color=gray> rest </font><font size = 1, color=gray> of </font><font size = 1, color=gray> the </font><font size = 1, color=gray> cast </font><font size = 1, color=gray> are </font><font size = 1, color=gray> even </font><font size = 1, color=gray> worse, </font><font size = 1, color=gray> especially </font><font size = 1, color=gray> Taylor </font><font size = 1, color=gray> Momsen, </font><font size = 1, color=gray> she </font><font size = 1, color=gray> just </font><font size = 1, color=gray> needs </font><font size = 1, color=gray> to </font><font size = 1, color=gray> end </font><font size = 1, color=gray> her </font><font size = 1, color=gray> acting </font><font size = 1, color=gray> career </font><font size = 1, color=gray> right </font><font size = 1, color=gray> now!<br </font><font size = 1, color=gray> /><br </font><font size = 1, color=gray> />Underdog </font><font size = 1, color=gray> also </font><font size = 3, color=red> fails </font><font size = 1, color=gray> dramatically </font><font size = 1, color=gray> in </font><font size = 1, color=gray> terms </font><font size = 1, color=gray> of </font><font size = 1, color=gray> delivering </font><font size = 1, color=gray> anything </font><font size = 1, color=gray> like </font><font size = 1, color=gray> a </font><font size = 1, color=blue> funny </font><font size = 1, color=gray> scene. </font><font size = 1, color=gray> When </font><font size = 1, color=gray> the </font><font size = 2, color=blue> funniest </font><font size = 1, color=gray> scene </font><font size = 1, color=gray> involves </font><font size = 1, color=gray> Underdog </font><font size = 1, color=gray> biting </font><font size = 1, color=gray> a </font><font size = 1, color=gray> can </font><font size = 1, color=gray> and </font><font size = 1, color=gray> causing </font><font size = 1, color=gray> dog </font><font size = 1, color=gray> food </font><font size = 1, color=gray> to </font><font size = 1, color=gray> explode </font><font size = 1, color=gray> everywhere </font><font size = 1, color=gray> you </font><font size = 1, color=gray> know </font><font size = 1, color=gray> there </font><font size = 1, color=gray> is </font><font size = 1, color=gray> something </font><font size = 1, color=gray> drastically </font><font size = 1, color=gray> wrong. </font><font size = 1, color=gray> This </font><font size = 1, color=gray> could </font><font size = 1, color=gray> be </font><font size = 1, color=gray> easily </font><font size = 1, color=gray> ignored </font><font size = 1, color=gray> if </font><font size = 1, color=gray> the </font><font size = 1, color=gray> movie </font><font size = 1, color=gray> had </font><font size = 1, color=gray> decent </font><font size = 1, color=gray> action </font><font size = 1, color=gray> or </font><font size = 1, color=gray> a </font><font size = 1, color=gray> good </font><font size = 1, color=gray> story, </font><font size = 1, color=gray> alas </font><font size = 1, color=gray> the </font><font size = 1, color=gray> movie </font><font size = 1, color=gray> is </font><font size = 1, color=gray> even </font><font size = 1, color=gray> worse </font><font size = 1, color=gray> in </font><font size = 1, color=gray> both </font><font size = 1, color=gray> of </font><font size = 1, color=gray> these </font><font size = 1, color=gray> terms. </font><font size = 1, color=gray> The </font><font size = 1, color=gray> effects </font><font size = 1, color=gray> are </font><font size = 1, color=gray> so </font><font size = 1, color=gray> ropey </font><font size = 1, color=gray> that </font><font size = 1, color=gray> any </font><font size = 1, color=gray> scene </font><font size = 1, color=gray> where </font><font size = 1, color=gray> Underdog </font><font size = 1, color=gray> flies </font><font size = 1, color=gray> just </font><font size = 1, color=gray> seems </font><font size = 1, color=gray> absurd, </font><font size = 1, color=gray> and </font><font size = 1, color=gray> the </font><font size = 1, color=gray> dog </font><font size = 1, color=gray> uses </font><font size = 1, color=gray> his </font><font size = 1, color=gray> powers </font><font size = 1, color=gray> to </font><font size = 1, color=gray> such </font><font size = 1, color=gray> little </font><font size = 1, color=gray> effect </font><font size = 1, color=gray> that </font><font size = 1, color=gray> you </font><font size = 1, color=gray> frequently </font><font size = 1, color=gray> forget </font><font size = 1, color=gray> he </font><font size = 1, color=gray> has </font><font size = 1, color=gray> superpowers. </font><font size = 1, color=gray> What's </font><font size = 1, color=gray> the </font><font size = 1, color=gray> point </font><font size = 1, color=gray> in </font><font size = 1, color=gray> making </font><font size = 1, color=gray> a </font><font size = 1, color=gray> film </font><font size = 1, color=gray> about </font><font size = 1, color=gray> a </font><font size = 1, color=gray> super </font><font size = 1, color=gray> dog </font><font size = 1, color=gray> if </font><font size = 1, color=gray> the </font><font size = 1, color=gray> damned </font><font size = 1, color=gray> dog </font><font size = 1, color=gray> never </font><font size = 1, color=gray> appears </font><font size = 1, color=gray> super? </font><font size = 1, color=gray> The </font><font size = 1, color=gray> final </font><font size = 1, color=gray> fight </font><font size = 1, color=gray> also </font><font size = 1, color=gray> verges </font><font size = 1, color=gray> on </font><font size = 1, color=gray> embarrassing </font><font size = 1, color=gray> purely </font><font size = 1, color=gray> because </font><font size = 1, color=gray> its </font><font size = 1, color=gray> ten </font><font size = 1, color=gray> minutes </font><font size = 1, color=gray> of </font><font size = 1, color=gray> nothingness, </font><font size = 1, color=gray> the </font><font size = 1, color=gray> dog </font><font size = 1, color=gray> flies, </font><font size = 1, color=gray> other </font><font size = 1, color=gray> stuff </font><font size = 1, color=gray> happens, </font><font size = 1, color=gray> some </font><font size = 1, color=gray> stuff </font><font size = 1, color=gray> gets </font><font size = 1, color=gray> chucked </font><font size = 1, color=gray> about, </font><font size = 1, color=gray> all </font><font size = 1, color=gray> of </font><font size = 1, color=gray> this </font><font size = 1, color=gray> is </font><font size = 1, color=gray> irrelevant </font><font size = 1, color=gray> as </font><font size = 1, color=gray> this </font><font size = 1, color=gray> stuff </font><font size = 1, color=gray> is </font><font size = 1, color=gray> happening </font><font size = 1, color=gray> for </font><font size = 1, color=gray> the </font><font size = 1, color=gray> sake </font><font size = 1, color=gray> of </font><font size = 1, color=gray> stuff </font><font size = 1, color=gray> happening. </font><font size = 1, color=gray> The </font><font size = 1, color=gray> script </font><font size = 1, color=gray> as </font><font size = 1, color=gray> well </font><font size = 1, color=gray> is </font><font size = 1, color=gray> dodgy </font><font size = 1, color=gray> at </font><font size = 2, color=blue> best </font><font size = 1, color=gray> and </font><font size = 1, color=gray> downright </font><font size = 1, color=gray> pain </font><font size = 1, color=gray> inducingly </font><font size = 3, color=red> awful </font><font size = 1, color=gray> at </font><font size = 4, color=red> worst. </font><font size = 1, color=gray> When </font><font size = 1, color=gray> someone </font><font size = 1, color=gray> says </font><font size = 1, color=gray> \"Look </font><font size = 1, color=gray> its </font><font size = 1, color=gray> a </font><font size = 1, color=gray> plane, </font><font size = 1, color=gray> no </font><font size = 1, color=gray> its </font><font size = 1, color=gray> a </font><font size = 1, color=gray> bird, </font><font size = 1, color=gray> no </font><font size = 1, color=gray> its </font><font size = 1, color=gray> a </font><font size = 1, color=gray> frog...\", </font><font size = 1, color=gray> yes </font><font size = 1, color=gray> you </font><font size = 1, color=gray> read </font><font size = 1, color=gray> that </font><font size = 1, color=gray> right, </font><font size = 1, color=gray> I </font><font size = 1, color=gray> just </font><font size = 1, color=gray> wanted </font><font size = 1, color=gray> to </font><font size = 1, color=gray> burst </font><font size = 1, color=gray> into </font><font size = 1, color=gray> tears </font><font size = 1, color=gray> there </font><font size = 1, color=gray> and </font><font size = 1, color=gray> then. </font><font size = 1, color=gray> Actually </font><font size = 1, color=gray> I </font><font size = 1, color=gray> wanted </font><font size = 1, color=gray> to </font><font size = 1, color=gray> walk </font><font size = 1, color=gray> out </font><font size = 1, color=gray> by </font><font size = 1, color=gray> remained </font><font size = 1, color=gray> compelled </font><font size = 1, color=gray> to </font><font size = 1, color=gray> see </font><font size = 1, color=gray> whether </font><font size = 1, color=gray> it </font><font size = 1, color=gray> could </font><font size = 1, color=gray> get </font><font size = 1, color=gray> any </font><font size = 1, color=gray> lower </font><font size = 1, color=gray> than </font><font size = 1, color=gray> that </font><font size = 1, color=gray> point, </font><font size = 1, color=gray> this </font><font size = 1, color=gray> happens </font><font size = 1, color=gray> near </font><font size = 1, color=gray> the </font><font size = 1, color=gray> end </font><font size = 1, color=gray> so </font><font size = 1, color=gray> it </font><font size = 1, color=gray> doesn't </font><font size = 1, color=gray> thankfully.<br </font><font size = 1, color=gray> /><br </font><font size = 1, color=gray> />Overall </font><font size = 1, color=gray> Underdog </font><font size = 1, color=gray> becomes </font><font size = 1, color=gray> the </font><font size = 1, color=gray> worst </font><font size = 1, color=gray> movie </font><font size = 1, color=gray> of </font><font size = 1, color=gray> 2008 </font><font size = 1, color=gray> at </font><font size = 1, color=gray> this </font><font size = 1, color=gray> early </font><font size = 1, color=gray> period, </font><font size = 1, color=gray> and </font><font size = 1, color=gray> is </font><font size = 1, color=gray> actually </font><font size = 1, color=gray> just </font><font size = 1, color=gray> as </font><font size = 1, color=gray> bad </font><font size = 1, color=gray> as </font><font size = 1, color=gray> last </font><font size = 1, color=gray> years </font><font size = 1, color=gray> Epic </font><font size = 1, color=gray> Movie. </font><font size = 1, color=gray> Luckily </font><font size = 1, color=gray> for </font><font size = 1, color=gray> Underdog, </font><font size = 1, color=gray> Meet </font><font size = 1, color=gray> the </font><font size = 1, color=gray> Spartans </font><font size = 1, color=gray> arrives </font><font size = 1, color=gray> over </font><font size = 1, color=gray> here </font><font size = 1, color=gray> soon </font><font size = 1, color=gray> and </font><font size = 1, color=gray> I </font><font size = 1, color=gray> expect </font><font size = 1, color=gray> that </font><font size = 1, color=gray> to </font><font size = 1, color=gray> be </font><font size = 1, color=gray> even </font><font size = 1, color=gray> worse. </font><font size = 1, color=gray> So </font><font size = 1, color=gray> in </font><font size = 1, color=gray> case </font><font size = 1, color=gray> you </font><font size = 1, color=gray> didn't </font><font size = 1, color=gray> get </font><font size = 1, color=gray> the </font><font size = 1, color=gray> point </font><font size = 1, color=gray> of </font><font size = 1, color=gray> my </font><font size = 1, color=gray> review, </font><font size = 2, color=red> avoid </font><font size = 1, color=gray> the </font><font size = 1, color=gray> film </font><font size = 1, color=gray> at </font><font size = 1, color=gray> all </font><font size = 1, color=gray> costs, </font><font size = 1, color=gray> if </font><font size = 1, color=gray> you </font><font size = 1, color=gray> want </font><font size = 1, color=gray> to </font><font size = 1, color=gray> see </font><font size = 1, color=gray> a </font><font size = 1, color=gray> movie </font><font size = 1, color=gray> with </font><font size = 1, color=gray> a </font><font size = 1, color=gray> dog </font><font size = 1, color=gray> then </font><font size = 1, color=gray> watch </font><font size = 1, color=gray> Cats </font><font size = 1, color=gray> and </font><font size = 1, color=gray> Dogs, </font><font size = 1, color=gray> buy </font><font size = 1, color=gray> a </font><font size = 1, color=gray> real </font><font size = 1, color=gray> dog </font><font size = 1, color=gray> if </font><font size = 1, color=gray> necessary, </font><font size = 1, color=gray> just </font><font size = 1, color=gray> do </font><font size = 1, color=gray> not </font><font size = 1, color=gray> see </font><font size = 1, color=gray> this! </font>"
      ],
      "text/plain": [
       "<coloredweighteddoc.ColoredWeightedDoc at 0x2590429db38>"
      ]
     },
     "metadata": {},
     "output_type": "display_data"
    }
   ],
   "source": [
    "j = np.argmax(probs[:,0])\n",
    "print(probs[j])\n",
    "print(neg_evi[j])\n",
    "print(pos_evi[j])\n",
    "display.display(ColoredWeightedDoc(test_corpus[j], words, weights, token_pattern=tp, binary = True))"
   ]
  },
  {
   "cell_type": "markdown",
   "metadata": {},
   "source": [
    "### Most Positive wrt Probs"
   ]
  },
  {
   "cell_type": "code",
   "execution_count": 27,
   "metadata": {},
   "outputs": [
    {
     "name": "stdout",
     "output_type": "stream",
     "text": [
      "[  1.80472696e-07   9.99999820e-01]\n",
      "-3.4025902141\n",
      "18.930276373\n"
     ]
    },
    {
     "data": {
      "text/html": [
       "<font size = 1, color=gray> True </font><font size = 1, color=gray> stories </font><font size = 1, color=gray> make </font><font size = 1, color=gray> the </font><font size = 2, color=blue> best </font><font size = 1, color=gray> stories </font><font size = 1, color=gray> don't </font><font size = 1, color=gray> they? </font><font size = 1, color=gray> There's </font><font size = 1, color=gray> always </font><font size = 1, color=gray> something </font><font size = 2, color=blue> enjoyable </font><font size = 1, color=gray> about </font><font size = 1, color=gray> a </font><font size = 1, color=gray> story, </font><font size = 1, color=gray> be </font><font size = 1, color=gray> it </font><font size = 1, color=gray> novel </font><font size = 1, color=gray> or </font><font size = 1, color=gray> movie </font><font size = 1, color=gray> or </font><font size = 1, color=gray> whatever, </font><font size = 1, color=gray> simply </font><font size = 1, color=gray> by </font><font size = 1, color=gray> the </font><font size = 1, color=gray> fact </font><font size = 1, color=gray> that </font><font size = 1, color=gray> it's </font><font size = 1, color=gray> real </font><font size = 1, color=gray> makes </font><font size = 1, color=gray> the </font><font size = 1, color=gray> story </font><font size = 1, color=gray> all </font><font size = 1, color=gray> the </font><font size = 1, color=gray> more </font><font size = 2, color=blue> fascinating. </font><font size = 1, color=gray> This </font><font size = 1, color=gray> movie </font><font size = 1, color=gray> is </font><font size = 1, color=gray> based </font><font size = 1, color=gray> on </font><font size = 1, color=gray> a </font><font size = 1, color=gray> true </font><font size = 1, color=gray> story </font><font size = 1, color=gray> of </font><font size = 1, color=gray> two </font><font size = 1, color=gray> young </font><font size = 1, color=gray> American </font><font size = 1, color=gray> men, </font><font size = 1, color=gray> one </font><font size = 1, color=gray> a </font><font size = 1, color=gray> government </font><font size = 1, color=gray> employee </font><font size = 1, color=gray> and </font><font size = 1, color=gray> falcon </font><font size = 1, color=gray> enthusiastÂ—Chris </font><font size = 1, color=gray> Boyce </font><font size = 1, color=gray> (Timothy </font><font size = 1, color=gray> Hutton)Â—and </font><font size = 1, color=gray> the </font><font size = 1, color=gray> otherÂ—Andrew </font><font size = 1, color=gray> Daulton </font><font size = 1, color=gray> Lee </font><font size = 1, color=gray> (Sean </font><font size = 1, color=gray> Penn)Â—is </font><font size = 1, color=gray> a </font><font size = 1, color=gray> drug </font><font size = 1, color=gray> dealer. </font><font size = 1, color=gray> These </font><font size = 1, color=gray> two </font><font size = 1, color=gray> begin </font><font size = 1, color=gray> selling </font><font size = 1, color=gray> government, </font><font size = 1, color=gray> mostly </font><font size = 1, color=gray> CIA, </font><font size = 1, color=gray> secrets </font><font size = 1, color=gray> in </font><font size = 1, color=gray> 1975 </font><font size = 1, color=gray> to </font><font size = 1, color=gray> the </font><font size = 1, color=gray> Soviet </font><font size = 1, color=gray> Union.<br </font><font size = 1, color=gray> /><br </font><font size = 1, color=gray> />The </font><font size = 1, color=gray> film </font><font size = 1, color=gray> focuses </font><font size = 1, color=gray> on </font><font size = 1, color=gray> the </font><font size = 1, color=gray> human </font><font size = 1, color=gray> aspect </font><font size = 1, color=gray> of </font><font size = 1, color=gray> the </font><font size = 1, color=gray> two </font><font size = 1, color=gray> men, </font><font size = 1, color=gray> as </font><font size = 1, color=gray> well </font><font size = 1, color=gray> as </font><font size = 1, color=gray> their </font><font size = 1, color=gray> growing </font><font size = 1, color=gray> personal </font><font size = 1, color=gray> problems </font><font size = 1, color=gray> (especially </font><font size = 1, color=gray> Penn's </font><font size = 1, color=gray> character </font><font size = 1, color=gray> with </font><font size = 1, color=gray> ever-worsening </font><font size = 1, color=gray> drug </font><font size = 1, color=gray> addictions), </font><font size = 1, color=gray> rather </font><font size = 1, color=gray> than </font><font size = 1, color=gray> glorifying </font><font size = 1, color=gray> their </font><font size = 1, color=gray> status </font><font size = 1, color=gray> as </font><font size = 1, color=gray> traitors </font><font size = 1, color=gray> to </font><font size = 1, color=gray> America, </font><font size = 1, color=gray> which </font><font size = 1, color=gray> would, </font><font size = 1, color=gray> no </font><font size = 1, color=gray> doubt, </font><font size = 1, color=gray> hurt </font><font size = 1, color=gray> the </font><font size = 1, color=gray> film's </font><font size = 1, color=gray> credibility </font><font size = 1, color=gray> in </font><font size = 1, color=gray> the </font><font size = 1, color=gray> US. </font><font size = 1, color=gray> Boyce </font><font size = 1, color=gray> gradually </font><font size = 1, color=gray> becomes </font><font size = 1, color=gray> more </font><font size = 1, color=gray> cautious </font><font size = 1, color=gray> and </font><font size = 1, color=gray> eventually </font><font size = 1, color=gray> frustrated </font><font size = 1, color=gray> and </font><font size = 1, color=gray> paranoid </font><font size = 1, color=gray> as </font><font size = 1, color=gray> their </font><font size = 1, color=gray> dealings </font><font size = 1, color=gray> drag </font><font size = 1, color=gray> on </font><font size = 1, color=gray> and </font><font size = 1, color=gray> they </font><font size = 1, color=gray> dig </font><font size = 1, color=gray> ever </font><font size = 1, color=gray> deeper </font><font size = 1, color=gray> into </font><font size = 1, color=gray> treacherous </font><font size = 1, color=gray> territory. </font><font size = 1, color=gray> Daulton </font><font size = 1, color=gray> becomes </font><font size = 1, color=gray> more </font><font size = 1, color=gray> dependent </font><font size = 1, color=gray> and </font><font size = 1, color=gray> addicted </font><font size = 1, color=gray> to </font><font size = 1, color=gray> cocaine </font><font size = 1, color=gray> and </font><font size = 1, color=gray> heroin </font><font size = 1, color=gray> as </font><font size = 1, color=gray> he </font><font size = 1, color=gray> becomes </font><font size = 1, color=gray> more </font><font size = 1, color=gray> frightened, </font><font size = 1, color=gray> and </font><font size = 1, color=gray> more </font><font size = 1, color=gray> desperate </font><font size = 1, color=gray> to </font><font size = 1, color=gray> maintain </font><font size = 1, color=gray> control </font><font size = 1, color=gray> over </font><font size = 1, color=gray> a </font><font size = 1, color=gray> situation </font><font size = 1, color=gray> he </font><font size = 1, color=gray> has </font><font size = 1, color=gray> no </font><font size = 1, color=gray> control </font><font size = 1, color=gray> overÂ—on </font><font size = 1, color=gray> top </font><font size = 1, color=gray> of </font><font size = 1, color=gray> which, </font><font size = 1, color=gray> he </font><font size = 1, color=gray> already </font><font size = 1, color=gray> has </font><font size = 1, color=gray> problems </font><font size = 1, color=gray> with </font><font size = 1, color=gray> the </font><font size = 1, color=gray> law. </font><font size = 1, color=gray> The </font><font size = 1, color=gray> torment </font><font size = 1, color=gray> of </font><font size = 1, color=gray> Boyce </font><font size = 1, color=gray> and </font><font size = 1, color=gray> Daulton's </font><font size = 1, color=gray> families </font><font size = 1, color=gray> because </font><font size = 1, color=gray> of </font><font size = 1, color=gray> the </font><font size = 1, color=gray> way </font><font size = 1, color=gray> they </font><font size = 1, color=gray> lead </font><font size = 1, color=gray> their </font><font size = 1, color=gray> lives </font><font size = 1, color=gray> is </font><font size = 1, color=gray> also </font><font size = 1, color=gray> well </font><font size = 1, color=gray> portrayed </font><font size = 1, color=gray> and </font><font size = 1, color=gray> adds </font><font size = 1, color=gray> well </font><font size = 1, color=gray> to </font><font size = 1, color=gray> the </font><font size = 1, color=gray> idea </font><font size = 1, color=gray> that </font><font size = 1, color=gray> espionage </font><font size = 1, color=gray> against </font><font size = 1, color=gray> one's </font><font size = 1, color=gray> country, </font><font size = 1, color=gray> even </font><font size = 1, color=gray> if </font><font size = 1, color=gray> thought </font><font size = 1, color=gray> to </font><font size = 1, color=gray> be </font><font size = 1, color=gray> done </font><font size = 1, color=gray> justly, </font><font size = 1, color=gray> leads </font><font size = 1, color=gray> only </font><font size = 1, color=gray> to </font><font size = 1, color=gray> major </font><font size = 1, color=gray> problems </font><font size = 1, color=gray> and </font><font size = 1, color=gray> the </font><font size = 1, color=gray> ruination </font><font size = 1, color=gray> of </font><font size = 1, color=gray> livesÂ—including </font><font size = 1, color=gray> the </font><font size = 1, color=gray> degradation </font><font size = 1, color=gray> of </font><font size = 1, color=gray> the </font><font size = 1, color=gray> friendship </font><font size = 1, color=gray> and </font><font size = 1, color=gray> trust </font><font size = 1, color=gray> between </font><font size = 1, color=gray> the </font><font size = 1, color=gray> two </font><font size = 1, color=gray> main </font><font size = 1, color=gray> characters.<br </font><font size = 1, color=gray> /><br </font><font size = 1, color=gray> />Here's </font><font size = 1, color=gray> the </font><font size = 1, color=gray> breakdown:<br </font><font size = 1, color=gray> /><br </font><font size = 1, color=gray> />The </font><font size = 1, color=gray> Good:<br </font><font size = 1, color=gray> /><br </font><font size = 1, color=gray> />--Hutton </font><font size = 1, color=gray> and </font><font size = 1, color=gray> Penn </font><font size = 1, color=gray> each </font><font size = 1, color=gray> did </font><font size = 1, color=gray> extensive </font><font size = 1, color=gray> research </font><font size = 1, color=gray> on </font><font size = 1, color=gray> the </font><font size = 1, color=gray> characters </font><font size = 1, color=gray> to </font><font size = 1, color=gray> capture </font><font size = 1, color=gray> their </font><font size = 1, color=gray> individual </font><font size = 1, color=gray> look </font><font size = 1, color=gray> and </font><font size = 1, color=gray> feel, </font><font size = 1, color=gray> so </font><font size = 1, color=gray> they're </font><font size = 1, color=gray> portrayed </font><font size = 1, color=gray> with </font><font size = 1, color=gray> extensive </font><font size = 1, color=gray> depth </font><font size = 1, color=gray> and </font><font size = 1, color=gray> realism.<br </font><font size = 1, color=gray> /><br </font><font size = 1, color=gray> />--The </font><font size = 1, color=gray> acting </font><font size = 1, color=gray> is </font><font size = 3, color=blue> excellent.<br </font><font size = 1, color=gray> /><br </font><font size = 1, color=gray> />--The </font><font size = 1, color=gray> atmosphere </font><font size = 1, color=gray> of </font><font size = 1, color=gray> paranoia </font><font size = 1, color=gray> builds </font><font size = 1, color=gray> quite </font><font size = 1, color=gray> well.<br </font><font size = 1, color=gray> /><br </font><font size = 1, color=gray> />--The </font><font size = 1, color=gray> story </font><font size = 1, color=gray> is </font><font size = 1, color=gray> fascinating, </font><font size = 1, color=gray> and </font><font size = 1, color=gray> of </font><font size = 1, color=gray> course, </font><font size = 1, color=gray> as </font><font size = 1, color=gray> one </font><font size = 1, color=gray> based </font><font size = 1, color=gray> on </font><font size = 1, color=gray> actual </font><font size = 1, color=gray> events, </font><font size = 1, color=gray> it </font><font size = 1, color=gray> has </font><font size = 1, color=gray> some </font><font size = 1, color=gray> added </font><font size = 1, color=gray> kick.<br </font><font size = 1, color=gray> /><br </font><font size = 1, color=gray> />--Nice </font><font size = 1, color=gray> sets.<br </font><font size = 1, color=gray> /><br </font><font size = 1, color=gray> />--The </font><font size = 1, color=gray> Soviets </font><font size = 1, color=gray> working </font><font size = 1, color=gray> with </font><font size = 1, color=gray> the </font><font size = 1, color=gray> Boyce </font><font size = 1, color=gray> and </font><font size = 1, color=gray> Daulton </font><font size = 1, color=gray> are </font><font size = 1, color=gray> portrayed </font><font size = 1, color=gray> very </font><font size = 1, color=gray> well, </font><font size = 1, color=gray> and </font><font size = 1, color=gray> not </font><font size = 1, color=gray> stereotyped </font><font size = 1, color=gray> or </font><font size = 1, color=gray> given </font><font size = 1, color=gray> evil </font><font size = 1, color=gray> consciences </font><font size = 1, color=gray> just </font><font size = 1, color=gray> for </font><font size = 1, color=gray> the </font><font size = 1, color=gray> sake </font><font size = 1, color=gray> of </font><font size = 1, color=gray> making </font><font size = 1, color=gray> them </font><font size = 1, color=gray> look </font><font size = 2, color=red> bad.<br </font><font size = 1, color=gray> /><br </font><font size = 1, color=gray> />Didn't </font><font size = 1, color=gray> Hurt </font><font size = 1, color=gray> It, </font><font size = 1, color=gray> Didn't </font><font size = 1, color=gray> Help:<br </font><font size = 1, color=gray> /><br </font><font size = 1, color=gray> />--The </font><font size = 1, color=gray> music </font><font size = 1, color=gray> is </font><font size = 1, color=gray> alright, </font><font size = 1, color=gray> nothing </font><font size = 3, color=blue> perfect </font><font size = 1, color=gray> though.<br </font><font size = 1, color=gray> /><br </font><font size = 1, color=gray> />--Sound </font><font size = 1, color=gray> effects </font><font size = 1, color=gray> are </font><font size = 1, color=gray> occasionally </font><font size = 1, color=gray> a </font><font size = 1, color=gray> little </font><font size = 1, color=gray> iffyÂ—such </font><font size = 1, color=gray> was </font><font size = 1, color=gray> the </font><font size = 1, color=gray> case </font><font size = 1, color=gray> with </font><font size = 1, color=gray> a </font><font size = 1, color=gray> lot </font><font size = 1, color=gray> of </font><font size = 1, color=gray> films </font><font size = 1, color=gray> from </font><font size = 1, color=gray> the </font><font size = 1, color=gray> seventies </font><font size = 1, color=gray> through </font><font size = 1, color=gray> the </font><font size = 1, color=gray> eighties.<br </font><font size = 1, color=gray> /><br </font><font size = 1, color=gray> />The </font><font size = 1, color=gray> Bad:<br </font><font size = 1, color=gray> /><br </font><font size = 1, color=gray> />--Chris </font><font size = 1, color=gray> Boyce </font><font size = 1, color=gray> (Timothy </font><font size = 1, color=gray> Hutton) </font><font size = 1, color=gray> has </font><font size = 1, color=gray> a </font><font size = 1, color=gray> relationship </font><font size = 1, color=gray> with </font><font size = 1, color=gray> a </font><font size = 1, color=gray> woman </font><font size = 1, color=gray> that </font><font size = 1, color=gray> we </font><font size = 1, color=gray> hardly </font><font size = 1, color=gray> know. </font><font size = 1, color=gray> Because </font><font size = 1, color=gray> of </font><font size = 1, color=gray> Boyce's </font><font size = 1, color=gray> trouble </font><font size = 1, color=gray> brewing </font><font size = 1, color=gray> with </font><font size = 1, color=gray> the </font><font size = 1, color=gray> US </font><font size = 1, color=gray> and </font><font size = 1, color=gray> Soviet </font><font size = 1, color=gray> Governments, </font><font size = 1, color=gray> her </font><font size = 1, color=gray> life </font><font size = 1, color=gray> can </font><font size = 1, color=gray> be </font><font size = 1, color=gray> put </font><font size = 1, color=gray> in </font><font size = 1, color=gray> jeopardyÂ—but </font><font size = 1, color=gray> this </font><font size = 1, color=gray> isn't </font><font size = 1, color=gray> as </font><font size = 1, color=gray> expanded </font><font size = 1, color=gray> upon </font><font size = 1, color=gray> as </font><font size = 1, color=gray> it </font><font size = 1, color=gray> feels </font><font size = 1, color=gray> it </font><font size = 1, color=gray> should've </font><font size = 1, color=gray> been. </font><font size = 1, color=gray> Minor </font><font size = 1, color=gray> problem, </font><font size = 1, color=gray> though.<br </font><font size = 1, color=gray> /><br </font><font size = 1, color=gray> />The </font><font size = 1, color=gray> Ugly:<br </font><font size = 1, color=gray> /><br </font><font size = 1, color=gray> />--The </font><font size = 1, color=gray> apparent </font><font size = 1, color=gray> simplicity </font><font size = 1, color=gray> required </font><font size = 1, color=gray> to </font><font size = 1, color=gray> sell </font><font size = 1, color=gray> government </font><font size = 1, color=gray> secrets </font><font size = 1, color=gray> is </font><font size = 1, color=gray> a </font><font size = 1, color=gray> little </font><font size = 1, color=gray> unnerving. </font><font size = 1, color=gray> Nothing </font><font size = 1, color=gray> like </font><font size = 1, color=gray> a </font><font size = 1, color=gray> constant </font><font size = 1, color=gray> state </font><font size = 1, color=gray> of </font><font size = 1, color=gray> unreadiness </font><font size = 1, color=gray> to </font><font size = 1, color=gray> keep </font><font size = 1, color=gray> the </font><font size = 1, color=gray> masses </font><font size = 1, color=gray> feeling </font><font size = 1, color=gray> as </font><font size = 1, color=gray> unsafe </font><font size = 1, color=gray> as </font><font size = 1, color=gray> possible.<br </font><font size = 1, color=gray> /><br </font><font size = 1, color=gray> />Memorable </font><font size = 1, color=gray> Scene:<br </font><font size = 1, color=gray> /><br </font><font size = 1, color=gray> />--Seeing </font><font size = 1, color=gray> the </font><font size = 1, color=gray> first </font><font size = 1, color=gray> CIA </font><font size = 1, color=gray> report </font><font size = 1, color=gray> accidentally </font><font size = 1, color=gray> sent </font><font size = 1, color=gray> to </font><font size = 1, color=gray> the </font><font size = 1, color=gray> wrong </font><font size = 1, color=gray> place </font><font size = 1, color=gray> with </font><font size = 1, color=gray> the </font><font size = 1, color=gray> reason </font><font size = 1, color=gray> being, </font><font size = 1, color=gray> \"rough </font><font size = 1, color=gray> night.\"<br </font><font size = 1, color=gray> /><br </font><font size = 1, color=gray> />This </font><font size = 1, color=gray> was </font><font size = 1, color=gray> another </font><font size = 1, color=gray> film </font><font size = 1, color=gray> that </font><font size = 1, color=gray> suffered </font><font size = 1, color=gray> massive </font><font size = 1, color=gray> delays </font><font size = 1, color=gray> due </font><font size = 1, color=gray> to </font><font size = 1, color=gray> the </font><font size = 1, color=gray> controversial </font><font size = 1, color=gray> content </font><font size = 1, color=gray> of </font><font size = 1, color=gray> the </font><font size = 1, color=gray> story. </font><font size = 1, color=gray> Studios </font><font size = 1, color=gray> and </font><font size = 1, color=gray> producers </font><font size = 1, color=gray> didn't </font><font size = 1, color=gray> see </font><font size = 1, color=gray> how </font><font size = 1, color=gray> a </font><font size = 1, color=gray> movie </font><font size = 1, color=gray> about </font><font size = 1, color=gray> two </font><font size = 1, color=gray> American </font><font size = 1, color=gray> traitors </font><font size = 1, color=gray> could </font><font size = 1, color=gray> ever </font><font size = 1, color=gray> be </font><font size = 1, color=gray> accepted </font><font size = 1, color=gray> by </font><font size = 1, color=gray> American </font><font size = 1, color=gray> audiences. </font><font size = 1, color=gray> Luckily, </font><font size = 1, color=gray> it's </font><font size = 1, color=gray> filmed </font><font size = 1, color=gray> and </font><font size = 1, color=gray> portrayed </font><font size = 1, color=gray> with </font><font size = 1, color=gray> a </font><font size = 1, color=gray> high </font><font size = 1, color=gray> degree </font><font size = 1, color=gray> of </font><font size = 1, color=gray> class </font><font size = 1, color=gray> and </font><font size = 1, color=gray> quality. </font><font size = 1, color=gray> Of </font><font size = 1, color=gray> course, </font><font size = 1, color=gray> it </font><font size = 1, color=gray> helps </font><font size = 1, color=gray> that </font><font size = 1, color=gray> the </font><font size = 1, color=gray> traitorous </font><font size = 1, color=gray> anti-heroes </font><font size = 1, color=gray> aren't </font><font size = 1, color=gray> portrayed </font><font size = 1, color=gray> heroicallyÂ—more </font><font size = 1, color=gray> like </font><font size = 1, color=gray> a </font><font size = 1, color=gray> couple </font><font size = 1, color=gray> young </font><font size = 1, color=gray> men </font><font size = 1, color=gray> who've </font><font size = 1, color=gray> made </font><font size = 1, color=gray> gross </font><font size = 1, color=gray> errors </font><font size = 1, color=gray> in </font><font size = 1, color=gray> judgment </font><font size = 1, color=gray> in </font><font size = 1, color=gray> their </font><font size = 1, color=gray> lives. </font><font size = 1, color=gray> As </font><font size = 1, color=gray> such, </font><font size = 1, color=gray> it </font><font size = 1, color=gray> becomes </font><font size = 1, color=gray> a </font><font size = 1, color=gray> very </font><font size = 1, color=gray> human </font><font size = 1, color=gray> drama, </font><font size = 1, color=gray> and </font><font size = 1, color=gray> one </font><font size = 1, color=gray> portrayed </font><font size = 1, color=gray> very </font><font size = 1, color=gray> well </font><font size = 1, color=gray> and </font><font size = 1, color=gray> very </font><font size = 1, color=gray> believably.<br </font><font size = 1, color=gray> /><br </font><font size = 1, color=gray> />Acting: </font><font size = 4, color=blue> 9/10 </font><font size = 1, color=gray> Story: </font><font size = 4, color=blue> 10/10 </font><font size = 1, color=gray> Atmosphere: </font><font size = 6, color=blue> 8/10 </font><font size = 1, color=gray> Cinematography: </font><font size = 1, color=gray> 8/10 </font><font size = 1, color=gray> Character </font><font size = 1, color=gray> Development: </font><font size = 1, color=gray> 9/10 </font><font size = 1, color=gray> Special </font><font size = 1, color=gray> Effects/Make-up: </font><font size = 1, color=gray> 8/10 </font><font size = 1, color=gray> (little </font><font size = 1, color=gray> quantity, </font><font size = 1, color=gray> high </font><font size = 1, color=gray> quality) </font><font size = 1, color=gray> Nudity/Sexuality: </font><font size = 5, color=red> 2/10 </font><font size = 1, color=gray> (one </font><font size = 1, color=gray> scene </font><font size = 1, color=gray> in </font><font size = 1, color=gray> a </font><font size = 1, color=gray> strip </font><font size = 1, color=gray> club) </font><font size = 1, color=gray> Violence/Gore: </font><font size = 6, color=blue> 7/10 </font><font size = 1, color=gray> (no </font><font size = 1, color=gray> gore, </font><font size = 1, color=gray> just </font><font size = 1, color=gray> some </font><font size = 1, color=gray> violence) </font><font size = 1, color=gray> Music: </font><font size = 1, color=gray> 7/10 </font><font size = 1, color=gray> Direction: </font><font size = 1, color=gray> 9/10<br </font><font size = 1, color=gray> /><br </font><font size = 1, color=gray> />Cheesiness: </font><font size = 1, color=gray> 0/10 </font><font size = 1, color=gray> Crappiness: </font><font size = 1, color=gray> 0/10<br </font><font size = 1, color=gray> /><br </font><font size = 1, color=gray> />Overall: </font><font size = 1, color=gray> 8/10<br </font><font size = 1, color=gray> /><br </font><font size = 1, color=gray> />If </font><font size = 1, color=gray> you </font><font size = 1, color=gray> like </font><font size = 1, color=gray> films </font><font size = 1, color=gray> about </font><font size = 1, color=gray> espionage </font><font size = 1, color=gray> and </font><font size = 1, color=gray> spies, </font><font size = 1, color=gray> then </font><font size = 1, color=gray> you </font><font size = 1, color=gray> can't </font><font size = 1, color=gray> go </font><font size = 1, color=gray> wrong </font><font size = 1, color=gray> here. </font><font size = 1, color=gray> If </font><font size = 1, color=gray> you </font><font size = 1, color=gray> like </font><font size = 1, color=gray> dramatic </font><font size = 1, color=gray> films </font><font size = 1, color=gray> with </font><font size = 1, color=gray> a </font><font size = 1, color=gray> strong </font><font size = 1, color=gray> focus </font><font size = 1, color=gray> on </font><font size = 1, color=gray> the </font><font size = 1, color=gray> humanity </font><font size = 1, color=gray> of </font><font size = 1, color=gray> the </font><font size = 1, color=gray> characters, </font><font size = 1, color=gray> then </font><font size = 1, color=gray> this </font><font size = 1, color=gray> may </font><font size = 1, color=gray> also </font><font size = 1, color=gray> work </font><font size = 1, color=gray> for </font><font size = 1, color=gray> you. </font><font size = 1, color=gray> Highly </font><font size = 2, color=blue> recommended.<br </font><font size = 1, color=gray> /><br </font><font size = 1, color=gray> />www.ResidentHazard.com </font>"
      ],
      "text/plain": [
       "<coloredweighteddoc.ColoredWeightedDoc at 0x2590429db00>"
      ]
     },
     "metadata": {},
     "output_type": "display_data"
    }
   ],
   "source": [
    "j = np.argmax(probs[:,1])\n",
    "print(probs[j])\n",
    "print(neg_evi[j])\n",
    "print(pos_evi[j])\n",
    "display.display(ColoredWeightedDoc(test_corpus[j], words, weights, token_pattern=tp, binary = True))"
   ]
  },
  {
   "cell_type": "markdown",
   "metadata": {},
   "source": [
    "### Most-evidence"
   ]
  },
  {
   "cell_type": "code",
   "execution_count": 28,
   "metadata": {
    "collapsed": true
   },
   "outputs": [],
   "source": [
    "total_abs_evi = pos_evi + abs(neg_evi)"
   ]
  },
  {
   "cell_type": "code",
   "execution_count": 29,
   "metadata": {},
   "outputs": [
    {
     "name": "stdout",
     "output_type": "stream",
     "text": [
      "[  9.99993028e-01   6.97216442e-06]\n",
      "-22.90510327\n",
      "11.0315253947\n"
     ]
    },
    {
     "data": {
      "text/html": [
       "<font size = 1, color=gray> Based </font><font size = 1, color=gray> on </font><font size = 1, color=gray> the </font><font size = 3, color=blue> excellent </font><font size = 1, color=gray> novel, </font><font size = 1, color=gray> Watchers </font><font size = 1, color=gray> by </font><font size = 1, color=gray> Dean </font><font size = 1, color=gray> Koontz, </font><font size = 1, color=gray> is </font><font size = 1, color=gray> this </font><font size = 1, color=gray> extremely </font><font size = 3, color=red> awful </font><font size = 1, color=gray> motion </font><font size = 1, color=gray> picture </font><font size = 1, color=gray> that </font><font size = 1, color=gray> probably </font><font size = 1, color=gray> shouldn't </font><font size = 1, color=gray> be </font><font size = 1, color=gray> viewed </font><font size = 1, color=gray> by </font><font size = 1, color=gray> anyone. </font><font size = 1, color=gray> Not </font><font size = 1, color=gray> since </font><font size = 1, color=gray> \"The </font><font size = 1, color=gray> Running </font><font size = 1, color=gray> Man\" </font><font size = 1, color=gray> have </font><font size = 1, color=gray> I </font><font size = 1, color=gray> seen </font><font size = 1, color=gray> a </font><font size = 1, color=gray> book </font><font size = 1, color=gray> butchered </font><font size = 1, color=gray> so </font><font size = 1, color=gray> far </font><font size = 1, color=gray> beyond </font><font size = 1, color=gray> recognition. </font><font size = 1, color=gray> The </font><font size = 1, color=gray> difference, </font><font size = 1, color=gray> however, </font><font size = 1, color=gray> is </font><font size = 1, color=gray> that </font><font size = 1, color=gray> \"The </font><font size = 1, color=gray> Running </font><font size = 1, color=gray> Man\" </font><font size = 1, color=gray> film </font><font size = 1, color=gray> was </font><font size = 1, color=gray> still </font><font size = 2, color=blue> enjoyable </font><font size = 1, color=gray> as </font><font size = 1, color=gray> an </font><font size = 1, color=gray> amusing </font><font size = 1, color=gray> action </font><font size = 1, color=gray> film </font><font size = 1, color=gray> laden </font><font size = 1, color=gray> down </font><font size = 1, color=gray> a </font><font size = 1, color=gray> million </font><font size = 1, color=gray> catch </font><font size = 1, color=gray> phrases. </font><font size = 1, color=gray> This </font><font size = 1, color=gray> filmÂ… </font><font size = 1, color=gray> Nope, </font><font size = 1, color=gray> nothing </font><font size = 1, color=gray> remotely </font><font size = 1, color=gray> amusing. </font><font size = 1, color=gray> In </font><font size = 1, color=gray> fact, </font><font size = 1, color=gray> if </font><font size = 1, color=gray> you </font><font size = 1, color=gray> love </font><font size = 1, color=gray> the </font><font size = 1, color=gray> book, </font><font size = 1, color=gray> as </font><font size = 1, color=gray> I </font><font size = 1, color=gray> do, </font><font size = 1, color=gray> you'll </font><font size = 1, color=gray> hate </font><font size = 1, color=gray> this </font><font size = 1, color=gray> bastardization </font><font size = 1, color=gray> even </font><font size = 1, color=gray> more.<br </font><font size = 1, color=gray> /><br </font><font size = 1, color=gray> />**WARNING**CONTAINS </font><font size = 1, color=gray> SPOILERS** </font><font size = 1, color=gray> Rightio, </font><font size = 1, color=gray> I'm </font><font size = 1, color=gray> basically </font><font size = 1, color=gray> going </font><font size = 1, color=gray> to </font><font size = 1, color=gray> tell </font><font size = 1, color=gray> you </font><font size = 1, color=gray> the </font><font size = 1, color=gray> story </font><font size = 1, color=gray> here, </font><font size = 1, color=gray> almost </font><font size = 1, color=gray> in </font><font size = 1, color=gray> it's </font><font size = 1, color=gray> entirety. </font><font size = 1, color=gray> Why? </font><font size = 1, color=gray> Because </font><font size = 1, color=gray> you, </font><font size = 1, color=gray> dear </font><font size = 1, color=gray> reader, </font><font size = 1, color=gray> do </font><font size = 1, color=gray> not </font><font size = 1, color=gray> also </font><font size = 1, color=gray> need </font><font size = 1, color=gray> to </font><font size = 1, color=gray> suffer </font><font size = 1, color=gray> through </font><font size = 1, color=gray> this </font><font size = 1, color=gray> abominationÂ—it's </font><font size = 1, color=gray> okay </font><font size = 1, color=gray> for </font><font size = 1, color=gray> me, </font><font size = 1, color=gray> because </font><font size = 1, color=gray> I </font><font size = 1, color=gray> enjoy </font><font size = 1, color=gray> watching </font><font size = 1, color=gray> crap. </font><font size = 1, color=gray> Because </font><font size = 1, color=gray> I </font><font size = 1, color=gray> like </font><font size = 1, color=gray> complaining </font><font size = 1, color=gray> about </font><font size = 1, color=gray> sh*tty </font><font size = 1, color=gray> things. </font><font size = 1, color=gray> Now, </font><font size = 1, color=gray> on </font><font size = 1, color=gray> to </font><font size = 1, color=gray> the </font><font size = 1, color=gray> nasty: </font><font size = 1, color=gray> This </font><font size = 1, color=gray> film </font><font size = 1, color=gray> revolves </font><font size = 1, color=gray> around </font><font size = 1, color=gray> a </font><font size = 1, color=gray> boy </font><font size = 1, color=gray> and </font><font size = 1, color=gray> his </font><font size = 1, color=gray> mother </font><font size = 1, color=gray> running </font><font size = 1, color=gray> away </font><font size = 1, color=gray> from </font><font size = 1, color=gray> the </font><font size = 1, color=gray> government </font><font size = 1, color=gray> and </font><font size = 1, color=gray> a </font><font size = 1, color=gray> mutant-monkey-creature-soldier </font><font size = 1, color=gray> which </font><font size = 1, color=gray> escaped </font><font size = 1, color=gray> from </font><font size = 1, color=gray> a </font><font size = 1, color=gray> destroyed </font><font size = 1, color=gray> Government </font><font size = 1, color=gray> genetics </font><font size = 1, color=gray> lab </font><font size = 1, color=gray> with </font><font size = 1, color=gray> a </font><font size = 1, color=gray> super-smart </font><font size = 1, color=gray> golden </font><font size = 1, color=gray> retriever </font><font size = 1, color=gray> which </font><font size = 1, color=gray> the </font><font size = 1, color=gray> \"hero\" </font><font size = 1, color=gray> calls </font><font size = 1, color=gray> \"Furface.\" </font><font size = 1, color=gray> GroanÂ… </font><font size = 1, color=gray> Trust </font><font size = 1, color=gray> me, </font><font size = 1, color=gray> in </font><font size = 1, color=gray> the </font><font size = 1, color=gray> novel, </font><font size = 1, color=gray> this </font><font size = 1, color=gray> story </font><font size = 1, color=gray> rocked. </font><font size = 1, color=gray> I'll </font><font size = 1, color=gray> get </font><font size = 1, color=gray> to </font><font size = 1, color=gray> that </font><font size = 1, color=gray> later. </font><font size = 1, color=gray> Anyway, </font><font size = 1, color=gray> the </font><font size = 1, color=gray> hero </font><font size = 1, color=gray> is </font><font size = 1, color=gray> none </font><font size = 1, color=gray> other </font><font size = 1, color=gray> that </font><font size = 1, color=gray> dreamy </font><font size = 1, color=gray> boy-child </font><font size = 1, color=gray> Corey </font><font size = 1, color=gray> Haim. </font><font size = 1, color=gray> Oh, </font><font size = 1, color=gray> I'm </font><font size = 1, color=gray> not </font><font size = 1, color=gray> kidding. </font><font size = 1, color=gray> Our </font><font size = 1, color=gray> hero </font><font size = 1, color=gray> runs </font><font size = 1, color=gray> around, </font><font size = 1, color=gray> crackly </font><font size = 1, color=gray> voice </font><font size = 1, color=gray> and </font><font size = 1, color=gray> all, </font><font size = 1, color=gray> trying </font><font size = 1, color=gray> to </font><font size = 1, color=gray> convince </font><font size = 1, color=gray> his </font><font size = 1, color=gray> Mom </font><font size = 1, color=gray> to </font><font size = 1, color=gray> help </font><font size = 1, color=gray> save </font><font size = 1, color=gray> this </font><font size = 1, color=gray> dog </font><font size = 1, color=gray> from </font><font size = 1, color=gray> the </font><font size = 1, color=gray> \"evil </font><font size = 1, color=gray> government\" </font><font size = 1, color=gray> which </font><font size = 1, color=gray> birthed </font><font size = 1, color=gray> him </font><font size = 1, color=gray> and </font><font size = 1, color=gray> made </font><font size = 1, color=gray> him </font><font size = 1, color=gray> genetically </font><font size = 1, color=gray> ultra-smart. </font><font size = 1, color=gray> The </font><font size = 1, color=gray> monkey-creature, </font><font size = 1, color=gray> retardedly </font><font size = 1, color=gray> referred </font><font size = 1, color=gray> to </font><font size = 1, color=gray> as </font><font size = 1, color=gray> an </font><font size = 1, color=gray> \"Oxcom\" </font><font size = 1, color=gray> (God </font><font size = 1, color=gray> help </font><font size = 1, color=gray> us) </font><font size = 1, color=gray> is </font><font size = 1, color=gray> also </font><font size = 1, color=gray> a </font><font size = 1, color=gray> genetic-stew </font><font size = 1, color=gray> of </font><font size = 1, color=gray> a </font><font size = 1, color=gray> creature </font><font size = 1, color=gray> built </font><font size = 1, color=gray> to </font><font size = 1, color=gray> be </font><font size = 1, color=gray> the </font><font size = 1, color=gray> ultimate </font><font size = 1, color=gray> fighter </font><font size = 1, color=gray> on </font><font size = 1, color=gray> battlefields </font><font size = 1, color=gray> of </font><font size = 1, color=gray> the </font><font size = 1, color=gray> future. </font><font size = 1, color=gray> Michael </font><font size = 1, color=gray> Ironside </font><font size = 1, color=gray> (Total </font><font size = 1, color=gray> Recall, </font><font size = 1, color=gray> Starship </font><font size = 1, color=gray> TroopersÂ—always </font><font size = 1, color=gray> plays </font><font size = 1, color=gray> a </font><font size = 1, color=gray> badass) </font><font size = 1, color=gray> is </font><font size = 1, color=gray> also </font><font size = 1, color=gray> in </font><font size = 1, color=gray> this </font><font size = 1, color=gray> film, </font><font size = 1, color=gray> and </font><font size = 1, color=gray> no, </font><font size = 1, color=gray> I </font><font size = 1, color=gray> couldn't </font><font size = 1, color=gray> figure </font><font size = 1, color=gray> out </font><font size = 1, color=gray> how </font><font size = 1, color=gray> anyone </font><font size = 1, color=gray> convinced </font><font size = 1, color=gray> him </font><font size = 1, color=gray> this </font><font size = 1, color=gray> would </font><font size = 1, color=gray> be </font><font size = 1, color=gray> a </font><font size = 1, color=gray> good </font><font size = 1, color=gray> idea. </font><font size = 1, color=gray> He </font><font size = 1, color=gray> plays </font><font size = 1, color=gray> a </font><font size = 1, color=gray> government </font><font size = 1, color=gray> agent </font><font size = 1, color=gray> with </font><font size = 1, color=gray> the </font><font size = 1, color=gray> NSO </font><font size = 1, color=gray> hunting </font><font size = 1, color=gray> the </font><font size = 1, color=gray> dog </font><font size = 1, color=gray> and </font><font size = 1, color=gray> creature. </font><font size = 1, color=gray> Oh </font><font size = 1, color=gray> yeah, </font><font size = 1, color=gray> here's </font><font size = 1, color=gray> some </font><font size = 1, color=gray> spoilerama: </font><font size = 1, color=gray> He's </font><font size = 1, color=gray> also </font><font size = 1, color=gray> a </font><font size = 1, color=gray> creation </font><font size = 1, color=gray> from </font><font size = 1, color=gray> the </font><font size = 1, color=gray> government, </font><font size = 1, color=gray> and </font><font size = 1, color=gray> the </font><font size = 1, color=gray> same </font><font size = 1, color=gray> lab, </font><font size = 1, color=gray> and </font><font size = 1, color=gray> lo </font><font size = 1, color=gray> and </font><font size = 1, color=gray> behold </font><font size = 1, color=gray> spends </font><font size = 1, color=gray> most </font><font size = 1, color=gray> of </font><font size = 1, color=gray> the </font><font size = 1, color=gray> movie </font><font size = 1, color=gray> being </font><font size = 1, color=gray> a </font><font size = 1, color=gray> prick </font><font size = 1, color=gray> and </font><font size = 1, color=gray> killing </font><font size = 1, color=gray> peopleÂ—and </font><font size = 1, color=gray> all </font><font size = 1, color=gray> that </font><font size = 1, color=gray> killing </font><font size = 1, color=gray> is </font><font size = 1, color=gray> supposed </font><font size = 1, color=gray> to </font><font size = 1, color=gray> be </font><font size = 1, color=gray> done </font><font size = 1, color=gray> by </font><font size = 1, color=gray> the </font><font size = 1, color=gray> monkey-soldier. </font><font size = 1, color=gray> Instead </font><font size = 1, color=gray> of </font><font size = 1, color=gray> a </font><font size = 1, color=gray> rockin' </font><font size = 1, color=gray> kick-ass, </font><font size = 1, color=gray> creepy </font><font size = 1, color=gray> horror </font><font size = 1, color=gray> film, </font><font size = 1, color=gray> we </font><font size = 1, color=gray> have </font><font size = 1, color=gray> a </font><font size = 1, color=gray> rectal </font><font size = 1, color=gray> hemorrhage </font><font size = 1, color=gray> of </font><font size = 1, color=gray> a </font><font size = 1, color=gray> teenybopper </font><font size = 1, color=gray> horror </font><font size = 1, color=gray> flick. </font><font size = 1, color=gray> The </font><font size = 1, color=gray> dog's </font><font size = 1, color=gray> intelligence </font><font size = 1, color=gray> is </font><font size = 1, color=gray> discovered </font><font size = 1, color=gray> all-too-conveniently, </font><font size = 1, color=gray> and </font><font size = 1, color=gray> believed </font><font size = 1, color=gray> easier </font><font size = 1, color=gray> than </font><font size = 1, color=gray> we </font><font size = 1, color=gray> believe </font><font size = 1, color=gray> we </font><font size = 1, color=gray> can </font><font size = 1, color=gray> see </font><font size = 1, color=gray> clouds </font><font size = 1, color=gray> by </font><font size = 1, color=gray> looking </font><font size = 1, color=gray> outside. </font><font size = 1, color=gray> Breakdown!!<br </font><font size = 1, color=gray> /><br </font><font size = 1, color=gray> />Change </font><font size = 1, color=gray> from </font><font size = 1, color=gray> Book </font><font size = 1, color=gray> to </font><font size = 1, color=gray> Film:<br </font><font size = 1, color=gray> /><br </font><font size = 1, color=gray> />--Lead </font><font size = 1, color=gray> character </font><font size = 1, color=gray> (Travis) </font><font size = 1, color=gray> turned </font><font size = 1, color=gray> from </font><font size = 1, color=gray> man </font><font size = 1, color=gray> to </font><font size = 1, color=gray> boy-child.<br </font><font size = 1, color=gray> /><br </font><font size = 1, color=gray> />--Man's </font><font size = 1, color=gray> love </font><font size = 1, color=gray> interest </font><font size = 1, color=gray> in </font><font size = 1, color=gray> book </font><font size = 1, color=gray> (Nora), </font><font size = 1, color=gray> is </font><font size = 1, color=gray> now </font><font size = 1, color=gray> his </font><font size = 1, color=gray> motherÂ—and </font><font size = 1, color=gray> all </font><font size = 1, color=gray> her </font><font size = 1, color=gray> depth </font><font size = 1, color=gray> and </font><font size = 1, color=gray> character </font><font size = 1, color=gray> growth </font><font size = 1, color=gray> is </font><font size = 1, color=gray> completely </font><font size = 1, color=gray> gone.<br </font><font size = 1, color=gray> /><br </font><font size = 1, color=gray> />--Lem </font><font size = 1, color=gray> Johnson, </font><font size = 1, color=gray> black </font><font size = 1, color=gray> man, </font><font size = 1, color=gray> is </font><font size = 1, color=gray> now </font><font size = 1, color=gray> white </font><font size = 1, color=gray> Mr. </font><font size = 1, color=gray> Ironside. </font><font size = 1, color=gray> This </font><font size = 1, color=gray> matters </font><font size = 1, color=gray> as </font><font size = 1, color=gray> the </font><font size = 1, color=gray> character's </font><font size = 1, color=gray> strength </font><font size = 1, color=gray> was </font><font size = 1, color=gray> built </font><font size = 1, color=gray> on </font><font size = 1, color=gray> his </font><font size = 1, color=gray> heritage </font><font size = 1, color=gray> in </font><font size = 1, color=gray> the </font><font size = 1, color=gray> book.<br </font><font size = 1, color=gray> /><br </font><font size = 1, color=gray> />--Relationship </font><font size = 1, color=gray> between </font><font size = 1, color=gray> two </font><font size = 1, color=gray> authority </font><font size = 1, color=gray> figures </font><font size = 1, color=gray> completely </font><font size = 1, color=gray> ignored, </font><font size = 1, color=gray> Lem </font><font size = 1, color=gray> now </font><font size = 1, color=gray> kills </font><font size = 1, color=gray> the </font><font size = 1, color=gray> guy </font><font size = 1, color=gray> who </font><font size = 1, color=gray> was </font><font size = 1, color=gray> originally </font><font size = 1, color=gray> his </font><font size = 2, color=blue> best </font><font size = 1, color=gray> friend.<br </font><font size = 1, color=gray> /><br </font><font size = 1, color=gray> />--One </font><font size = 1, color=gray> principle </font><font size = 1, color=gray> character </font><font size = 1, color=gray> in </font><font size = 1, color=gray> the </font><font size = 1, color=gray> book </font><font size = 1, color=gray> is </font><font size = 1, color=gray> now </font><font size = 1, color=gray> totally </font><font size = 1, color=gray> absent, </font><font size = 1, color=gray> the </font><font size = 1, color=gray> \"immortal\" </font><font size = 1, color=gray> that </font><font size = 1, color=gray> hunted </font><font size = 1, color=gray> the </font><font size = 1, color=gray> heroes--maybe </font><font size = 1, color=gray> this </font><font size = 1, color=gray> is </font><font size = 1, color=gray> supposed </font><font size = 1, color=gray> to </font><font size = 1, color=gray> be </font><font size = 1, color=gray> Ironside, </font><font size = 1, color=gray> but </font><font size = 1, color=gray> then </font><font size = 1, color=gray> why </font><font size = 1, color=gray> is </font><font size = 1, color=gray> he </font><font size = 1, color=gray> someone </font><font size = 1, color=gray> else?<br </font><font size = 1, color=gray> /><br </font><font size = 1, color=gray> />--Dog </font><font size = 1, color=gray> never </font><font size = 1, color=gray> receives </font><font size = 1, color=gray> deserving </font><font size = 1, color=gray> name </font><font size = 1, color=gray> of </font><font size = 1, color=gray> \"Einstein\" </font><font size = 1, color=gray> in </font><font size = 1, color=gray> the </font><font size = 1, color=gray> movie.<br </font><font size = 1, color=gray> /><br </font><font size = 1, color=gray> />--No </font><font size = 1, color=gray> part </font><font size = 1, color=gray> of </font><font size = 1, color=gray> the </font><font size = 1, color=gray> book </font><font size = 1, color=gray> took </font><font size = 1, color=gray> place </font><font size = 1, color=gray> in </font><font size = 1, color=gray> a </font><font size = 1, color=gray> High </font><font size = 1, color=gray> SchoolÂ—at </font><font size = 1, color=gray> least </font><font size = 1, color=gray> nothing </font><font size = 1, color=gray> that </font><font size = 1, color=gray> had </font><font size = 1, color=gray> strong </font><font size = 1, color=gray> bearing </font><font size = 1, color=gray> on </font><font size = 1, color=gray> the </font><font size = 1, color=gray> plot.<br </font><font size = 1, color=gray> /><br </font><font size = 1, color=gray> />--Takes </font><font size = 1, color=gray> place </font><font size = 1, color=gray> over </font><font size = 1, color=gray> a </font><font size = 1, color=gray> matter </font><font size = 1, color=gray> of </font><font size = 1, color=gray> days, </font><font size = 1, color=gray> rather </font><font size = 1, color=gray> months </font><font size = 1, color=gray> like </font><font size = 1, color=gray> the </font><font size = 1, color=gray> bookÂ—unrealistic </font><font size = 1, color=gray> pacing.<br </font><font size = 1, color=gray> /><br </font><font size = 1, color=gray> />--Corey </font><font size = 1, color=gray> Haim's </font><font size = 1, color=gray> girlfriend </font><font size = 1, color=gray> in </font><font size = 1, color=gray> the </font><font size = 1, color=gray> movie </font><font size = 1, color=gray> appeared </font><font size = 1, color=gray> in </font><font size = 1, color=gray> no </font><font size = 1, color=gray> more </font><font size = 1, color=gray> than </font><font size = 1, color=gray> two </font><font size = 1, color=gray> chapters </font><font size = 1, color=gray> in </font><font size = 1, color=gray> the </font><font size = 1, color=gray> book--and </font><font size = 1, color=gray> they </font><font size = 1, color=gray> never </font><font size = 1, color=gray> met </font><font size = 1, color=gray> in </font><font size = 1, color=gray> the </font><font size = 1, color=gray> book.<br </font><font size = 1, color=gray> /><br </font><font size = 1, color=gray> />--Character </font><font size = 1, color=gray> of </font><font size = 1, color=gray> Lem </font><font size = 1, color=gray> Johnson </font><font size = 1, color=gray> is </font><font size = 1, color=gray> no </font><font size = 1, color=gray> longer </font><font size = 1, color=gray> cool-headed; </font><font size = 1, color=gray> instead, </font><font size = 1, color=gray> he's </font><font size = 1, color=gray> a </font><font size = 1, color=gray> total </font><font size = 1, color=gray> asshole </font><font size = 1, color=gray> that </font><font size = 1, color=gray> bullies </font><font size = 1, color=gray> his </font><font size = 1, color=gray> way </font><font size = 1, color=gray> through </font><font size = 1, color=gray> people.<br </font><font size = 1, color=gray> /><br </font><font size = 1, color=gray> />--Hero </font><font size = 1, color=gray> Travis </font><font size = 1, color=gray> was </font><font size = 1, color=gray> part </font><font size = 1, color=gray> of </font><font size = 1, color=gray> Delta </font><font size = 1, color=gray> Force </font><font size = 1, color=gray> (military </font><font size = 1, color=gray> segment </font><font size = 1, color=gray> specializing </font><font size = 1, color=gray> in </font><font size = 1, color=gray> hunting </font><font size = 1, color=gray> terrorists), </font><font size = 1, color=gray> instead, </font><font size = 1, color=gray> his </font><font size = 1, color=gray> Dad, </font><font size = 1, color=gray> who </font><font size = 1, color=gray> is </font><font size = 1, color=gray> never </font><font size = 1, color=gray> seen </font><font size = 1, color=gray> in </font><font size = 1, color=gray> the </font><font size = 1, color=gray> film, </font><font size = 1, color=gray> was </font><font size = 1, color=gray> part </font><font size = 1, color=gray> of </font><font size = 1, color=gray> that </font><font size = 1, color=gray> group.<br </font><font size = 1, color=gray> /><br </font><font size = 1, color=gray> />--Perceived </font><font size = 1, color=gray> intelligence </font><font size = 1, color=gray> in </font><font size = 1, color=gray> the </font><font size = 1, color=gray> monster </font><font size = 1, color=gray> now </font><font size = 1, color=gray> totally </font><font size = 1, color=gray> absent.<br </font><font size = 1, color=gray> /><br </font><font size = 1, color=gray> />--Subplots </font><font size = 1, color=gray> involving </font><font size = 1, color=gray> Soviets </font><font size = 1, color=gray> and </font><font size = 1, color=gray> The </font><font size = 1, color=gray> Mob </font><font size = 1, color=gray> completely </font><font size = 1, color=gray> gutted </font><font size = 1, color=gray> out </font><font size = 1, color=gray> of </font><font size = 1, color=gray> the </font><font size = 1, color=gray> story.<br </font><font size = 1, color=gray> /><br </font><font size = 1, color=gray> />--These </font><font size = 1, color=gray> are </font><font size = 1, color=gray> just </font><font size = 1, color=gray> the </font><font size = 1, color=gray> most </font><font size = 2, color=red> obnoxious </font><font size = 1, color=gray> changes, </font><font size = 1, color=gray> and </font><font size = 1, color=gray> the </font><font size = 1, color=gray> one's </font><font size = 1, color=gray> I </font><font size = 1, color=gray> could </font><font size = 1, color=gray> remember </font><font size = 1, color=gray> off </font><font size = 1, color=gray> hand </font><font size = 1, color=gray> (and </font><font size = 1, color=gray> a </font><font size = 1, color=gray> day </font><font size = 1, color=gray> later).<br </font><font size = 1, color=gray> /><br </font><font size = 1, color=gray> />The </font><font size = 1, color=gray> Good:<br </font><font size = 1, color=gray> /><br </font><font size = 1, color=gray> />--Eventually, </font><font size = 1, color=gray> after </font><font size = 1, color=gray> 90-odd </font><font size = 1, color=gray> minutes </font><font size = 1, color=gray> of </font><font size = 1, color=gray> pain </font><font size = 1, color=gray> and </font><font size = 1, color=gray> mental </font><font size = 1, color=gray> anguish, </font><font size = 1, color=gray> the </font><font size = 1, color=gray> movie </font><font size = 1, color=gray> ended.<br </font><font size = 1, color=gray> /><br </font><font size = 1, color=gray> />Didn't </font><font size = 1, color=gray> Hurt </font><font size = 1, color=gray> It, </font><font size = 1, color=gray> Didn't </font><font size = 1, color=gray> Help </font><font size = 1, color=gray> It:<br </font><font size = 1, color=gray> /><br </font><font size = 1, color=gray> />--Michael </font><font size = 1, color=gray> IronsideÂ—usually, </font><font size = 1, color=gray> I </font><font size = 1, color=gray> like </font><font size = 1, color=gray> him.<br </font><font size = 1, color=gray> /><br </font><font size = 1, color=gray> />--The </font><font size = 1, color=gray> dog </font><font size = 1, color=gray> is </font><font size = 1, color=gray> still </font><font size = 1, color=gray> fairly </font><font size = 1, color=gray> likable.<br </font><font size = 1, color=gray> /><br </font><font size = 1, color=gray> />--Wacky </font><font size = 1, color=gray> \"totally </font><font size = 1, color=gray> 80's\" </font><font size = 1, color=gray> title </font><font size = 1, color=gray> screen.<br </font><font size = 1, color=gray> /><br </font><font size = 1, color=gray> />The </font><font size = 2, color=red> Bad:<br </font><font size = 1, color=gray> /><br </font><font size = 1, color=gray> />--Okay, </font><font size = 1, color=gray> the </font><font size = 1, color=gray> writing </font><font size = 1, color=gray> for </font><font size = 1, color=gray> one </font><font size = 1, color=gray> is </font><font size = 1, color=gray> extremely </font><font size = 1, color=gray> awful.<br </font><font size = 1, color=gray> /><br </font><font size = 1, color=gray> />--The </font><font size = 1, color=gray> direction </font><font size = 1, color=gray> is </font><font size = 1, color=gray> so </font><font size = 1, color=gray> half-assed </font><font size = 1, color=gray> that </font><font size = 1, color=gray> anyone </font><font size = 1, color=gray> watching </font><font size = 1, color=gray> the </font><font size = 1, color=gray> film </font><font size = 1, color=gray> will </font><font size = 1, color=gray> feel </font><font size = 1, color=gray> superior </font><font size = 1, color=gray> to </font><font size = 1, color=gray> everyone </font><font size = 1, color=gray> involved </font><font size = 1, color=gray> in </font><font size = 1, color=gray> it.<br </font><font size = 1, color=gray> /><br </font><font size = 1, color=gray> />--The </font><font size = 1, color=gray> acting </font><font size = 1, color=gray> is </font><font size = 1, color=gray> crappy </font><font size = 1, color=gray> and </font><font size = 2, color=red> weak, </font><font size = 1, color=gray> especially </font><font size = 1, color=gray> from </font><font size = 1, color=gray> Corey </font><font size = 1, color=gray> Haim.<br </font><font size = 1, color=gray> /><br </font><font size = 1, color=gray> />--Loose, </font><font size = 1, color=gray> weak, </font><font size = 1, color=gray> watered </font><font size = 1, color=gray> down </font><font size = 1, color=gray> story.<br </font><font size = 1, color=gray> /><br </font><font size = 1, color=gray> />--The </font><font size = 1, color=gray> monster </font><font size = 1, color=gray> looks </font><font size = 1, color=gray> just </font><font size = 3, color=red> pathetic, </font><font size = 1, color=gray> that </font><font size = 1, color=gray> is, </font><font size = 1, color=gray> when </font><font size = 1, color=gray> we </font><font size = 1, color=gray> are </font><font size = 1, color=gray> actually </font><font size = 1, color=gray> allowed </font><font size = 1, color=gray> to </font><font size = 1, color=gray> see </font><font size = 1, color=gray> the </font><font size = 1, color=gray> bloody </font><font size = 1, color=gray> thing. </font><font size = 1, color=gray> Its </font><font size = 1, color=gray> head </font><font size = 1, color=gray> is </font><font size = 1, color=gray> gigantically </font><font size = 1, color=gray> over-sized, </font><font size = 1, color=gray> the </font><font size = 1, color=gray> yellow </font><font size = 1, color=gray> eyes </font><font size = 1, color=gray> that </font><font size = 1, color=gray> were </font><font size = 1, color=gray> so </font><font size = 1, color=gray> much </font><font size = 1, color=gray> a </font><font size = 1, color=gray> part </font><font size = 1, color=gray> of </font><font size = 1, color=gray> the </font><font size = 1, color=gray> thing </font><font size = 1, color=gray> in </font><font size = 1, color=gray> the </font><font size = 1, color=gray> book </font><font size = 1, color=gray> are </font><font size = 1, color=gray> seen </font><font size = 1, color=gray> for </font><font size = 1, color=gray> no </font><font size = 1, color=gray> more </font><font size = 1, color=gray> than </font><font size = 1, color=gray> two </font><font size = 1, color=gray> seconds. </font><font size = 1, color=gray> Instead </font><font size = 1, color=gray> of </font><font size = 1, color=gray> a </font><font size = 1, color=gray> lean, </font><font size = 1, color=gray> powerful, </font><font size = 1, color=gray> fast, </font><font size = 1, color=gray> intelligent </font><font size = 1, color=gray> killing </font><font size = 1, color=gray> machine, </font><font size = 1, color=gray> we </font><font size = 1, color=gray> have </font><font size = 1, color=gray> some </font><font size = 1, color=gray> jackass </font><font size = 1, color=gray> in </font><font size = 1, color=gray> a </font><font size = 1, color=gray> puke-ugly </font><font size = 1, color=gray> monkey </font><font size = 1, color=gray> suit </font><font size = 1, color=gray> forced </font><font size = 1, color=gray> upon </font><font size = 1, color=gray> us.<br </font><font size = 1, color=gray> /><br </font><font size = 1, color=gray> />--Absolutely </font><font size = 1, color=gray> no </font><font size = 1, color=gray> character </font><font size = 1, color=gray> development.<br </font><font size = 1, color=gray> /><br </font><font size = 1, color=gray> />--Even </font><font size = 1, color=gray> the </font><font size = 1, color=gray> violence </font><font size = 1, color=gray> and </font><font size = 1, color=gray> gore </font><font size = 1, color=gray> are </font><font size = 1, color=gray> done </font><font size = 4, color=red> poorly, </font><font size = 1, color=gray> for </font><font size = 1, color=gray> f*ck </font><font size = 1, color=gray> sakes, </font><font size = 1, color=gray> this </font><font size = 1, color=gray> is </font><font size = 1, color=gray> supposed </font><font size = 1, color=gray> to </font><font size = 1, color=gray> be </font><font size = 1, color=gray> a </font><font size = 1, color=gray> HORROR </font><font size = 1, color=gray> film!! </font><font size = 1, color=gray> Usually </font><font size = 1, color=gray> violence </font><font size = 1, color=gray> is </font><font size = 1, color=gray> at </font><font size = 1, color=gray> least </font><font size = 1, color=gray> done </font><font size = 1, color=gray> well!<br </font><font size = 1, color=gray> /><br </font><font size = 1, color=gray> />The </font><font size = 1, color=gray> Ugly:<br </font><font size = 1, color=gray> /><br </font><font size = 1, color=gray> />--The </font><font size = 1, color=gray> idea </font><font size = 1, color=gray> that </font><font size = 1, color=gray> Dean </font><font size = 1, color=gray> Koontz </font><font size = 1, color=gray> whored </font><font size = 1, color=gray> out </font><font size = 1, color=gray> his </font><font size = 2, color=blue> brilliant </font><font size = 1, color=gray> novel </font><font size = 1, color=gray> to </font><font size = 1, color=gray> become </font><font size = 1, color=gray> this </font><font size = 1, color=gray> filthy </font><font size = 1, color=gray> f*cking </font><font size = 1, color=gray> piece </font><font size = 1, color=gray> of </font><font size = 1, color=gray> sh*t </font><font size = 1, color=gray> brings </font><font size = 1, color=gray> me </font><font size = 1, color=gray> dangerously </font><font size = 1, color=gray> close </font><font size = 1, color=gray> to </font><font size = 1, color=gray> vomiting </font><font size = 1, color=gray> all </font><font size = 1, color=gray> over </font><font size = 1, color=gray> myself </font><font size = 1, color=gray> and </font><font size = 1, color=gray> anyone </font><font size = 1, color=gray> near </font><font size = 1, color=gray> me. </font><font size = 1, color=gray> There </font><font size = 1, color=gray> are </font><font size = 1, color=gray> movies </font><font size = 2, color=red> worse </font><font size = 1, color=gray> than </font><font size = 1, color=gray> this </font><font size = 1, color=gray> (headache-inducing </font><font size = 1, color=gray> as </font><font size = 1, color=gray> that </font><font size = 1, color=gray> idea </font><font size = 1, color=gray> may </font><font size = 1, color=gray> seem), </font><font size = 1, color=gray> but </font><font size = 1, color=gray> so </font><font size = 1, color=gray> far, </font><font size = 1, color=gray> only </font><font size = 1, color=gray> \"Alien </font><font size = 1, color=gray> vs </font><font size = 1, color=gray> Predator,\" </font><font size = 1, color=gray> at </font><font size = 1, color=gray> least </font><font size = 1, color=gray> to </font><font size = 1, color=gray> me, </font><font size = 1, color=gray> is </font><font size = 1, color=gray> a </font><font size = 1, color=gray> bigger </font><font size = 1, color=gray> travesty </font><font size = 1, color=gray> and </font><font size = 1, color=gray> more </font><font size = 1, color=gray> painful </font><font size = 3, color=red> disappointment. </font><font size = 1, color=gray> <br </font><font size = 1, color=gray> /><br </font><font size = 1, color=gray> />Memorable </font><font size = 1, color=gray> Scene: </font><font size = 1, color=gray> Watching </font><font size = 1, color=gray> the </font><font size = 1, color=gray> end </font><font size = 1, color=gray> credits </font><font size = 1, color=gray> start.<br </font><font size = 1, color=gray> /><br </font><font size = 1, color=gray> />Acting: </font><font size = 6, color=red> 3/10 </font><font size = 1, color=gray> Story: </font><font size = 6, color=red> 4/10 </font><font size = 1, color=gray> (the </font><font size = 1, color=gray> novel </font><font size = 1, color=gray> was </font><font size = 1, color=gray> really </font><font size = 1, color=gray> good, </font><font size = 1, color=gray> this </font><font size = 1, color=gray> is </font><font size = 1, color=gray> just </font><font size = 2, color=red> terrible) </font><font size = 1, color=gray> Atmosphere: </font><font size = 1, color=blue> 5/10 </font><font size = 1, color=gray> Cinematography: </font><font size = 1, color=gray> 4/10 </font><font size = 1, color=gray> Character </font><font size = 1, color=gray> Development: </font><font size = 5, color=red> 1/10 </font><font size = 1, color=gray> Special </font><font size = 1, color=gray> Effects/Make-up: </font><font size = 1, color=gray> 4/10 </font><font size = 1, color=gray> Nudity/Sexuality: </font><font size = 1, color=gray> 0/10 </font><font size = 1, color=gray> Violence/Gore: </font><font size = 1, color=gray> 4/10 </font><font size = 1, color=gray> Music: </font><font size = 1, color=gray> 5/10 </font><font size = 1, color=gray> Direction: </font><font size = 1, color=gray> 3/10<br </font><font size = 1, color=gray> /><br </font><font size = 1, color=gray> />Cheesiness: </font><font size = 6, color=blue> 7/10 </font><font size = 1, color=gray> Crappiness: </font><font size = 4, color=blue> 9/10<br </font><font size = 1, color=gray> /><br </font><font size = 1, color=gray> />Overall: </font><font size = 1, color=gray> 3/10<br </font><font size = 1, color=gray> /><br </font><font size = 1, color=gray> />I </font><font size = 1, color=gray> would </font><font size = 1, color=gray> recommend </font><font size = 1, color=gray> that </font><font size = 1, color=gray> no </font><font size = 1, color=gray> one </font><font size = 1, color=gray> watch </font><font size = 1, color=gray> this </font><font size = 1, color=gray> movie </font><font size = 1, color=gray> ever, </font><font size = 1, color=gray> except </font><font size = 1, color=gray> for </font><font size = 1, color=gray> a </font><font size = 1, color=gray> few </font><font size = 1, color=gray> extreme </font><font size = 1, color=gray> die-hard </font><font size = 1, color=gray> horror </font><font size = 1, color=gray> fansÂ—and </font><font size = 1, color=gray> only </font><font size = 1, color=gray> if </font><font size = 1, color=gray> you </font><font size = 1, color=gray> haven't </font><font size = 1, color=gray> read </font><font size = 1, color=gray> the </font><font size = 1, color=gray> novel. </font><font size = 1, color=gray> Instead, </font><font size = 1, color=gray> I </font><font size = 1, color=gray> would </font><font size = 1, color=gray> recommend </font><font size = 1, color=gray> that </font><font size = 1, color=gray> anyone </font><font size = 1, color=gray> interested </font><font size = 1, color=gray> in </font><font size = 1, color=gray> this </font><font size = 2, color=red> avoid </font><font size = 1, color=gray> it </font><font size = 1, color=gray> entirely </font><font size = 1, color=gray> and </font><font size = 1, color=gray> buy/check/borrow </font><font size = 1, color=gray> the </font><font size = 1, color=gray> book.<br </font><font size = 1, color=gray> /><br </font><font size = 1, color=gray> />www.ResidentHazard.com </font>"
      ],
      "text/plain": [
       "<coloredweighteddoc.ColoredWeightedDoc at 0x259042b7b00>"
      ]
     },
     "metadata": {},
     "output_type": "display_data"
    }
   ],
   "source": [
    "j = np.argmax(total_abs_evi)\n",
    "print(probs[j])\n",
    "print(neg_evi[j])\n",
    "print(pos_evi[j])\n",
    "display.display(ColoredWeightedDoc(test_corpus[j], words, weights, token_pattern=tp, binary = True))"
   ]
  },
  {
   "cell_type": "markdown",
   "metadata": {
    "collapsed": true
   },
   "source": [
    "### Least-evidence"
   ]
  },
  {
   "cell_type": "code",
   "execution_count": 30,
   "metadata": {},
   "outputs": [
    {
     "name": "stdout",
     "output_type": "stream",
     "text": [
      "[ 0.44535359  0.55464641]\n",
      "0.0\n",
      "0.219462269995\n"
     ]
    },
    {
     "data": {
      "text/html": [
       "<font size = 1, color=gray> This </font><font size = 1, color=gray> German </font><font size = 1, color=gray> horror </font><font size = 1, color=gray> film </font><font size = 1, color=gray> has </font><font size = 1, color=gray> to </font><font size = 1, color=gray> be </font><font size = 1, color=gray> one </font><font size = 1, color=gray> of </font><font size = 1, color=gray> the </font><font size = 1, color=gray> weirdest </font><font size = 1, color=gray> I </font><font size = 1, color=gray> have </font><font size = 1, color=gray> seen.<br </font><font size = 1, color=gray> /><br </font><font size = 1, color=gray> />I </font><font size = 1, color=gray> was </font><font size = 1, color=gray> not </font><font size = 1, color=gray> aware </font><font size = 1, color=gray> of </font><font size = 1, color=gray> any </font><font size = 1, color=gray> connection </font><font size = 1, color=gray> between </font><font size = 1, color=gray> child </font><font size = 1, color=gray> abuse </font><font size = 1, color=gray> and </font><font size = 1, color=gray> vampirism, </font><font size = 1, color=gray> but </font><font size = 1, color=gray> this </font><font size = 1, color=gray> is </font><font size = 1, color=gray> supposed </font><font size = 1, color=gray> based </font><font size = 1, color=gray> upon </font><font size = 1, color=gray> a </font><font size = 1, color=gray> true </font><font size = 1, color=gray> character.<br </font><font size = 1, color=gray> /><br </font><font size = 1, color=gray> />Our </font><font size = 1, color=gray> hero </font><font size = 1, color=gray> is </font><font size = 1, color=gray> deaf </font><font size = 1, color=gray> and </font><font size = 1, color=gray> mute </font><font size = 1, color=gray> as </font><font size = 1, color=gray> a </font><font size = 1, color=gray> result </font><font size = 1, color=gray> of </font><font size = 1, color=gray> repeated </font><font size = 1, color=gray> beatings </font><font size = 1, color=gray> at </font><font size = 1, color=gray> the </font><font size = 1, color=gray> hands </font><font size = 1, color=gray> of </font><font size = 1, color=gray> his </font><font size = 1, color=gray> father. </font><font size = 1, color=gray> he </font><font size = 1, color=gray> also </font><font size = 1, color=gray> has </font><font size = 1, color=gray> a </font><font size = 1, color=gray> doll </font><font size = 1, color=gray> fetish, </font><font size = 1, color=gray> but </font><font size = 1, color=gray> I </font><font size = 1, color=gray> cannot </font><font size = 1, color=gray> figure </font><font size = 1, color=gray> out </font><font size = 1, color=gray> where </font><font size = 1, color=gray> that </font><font size = 1, color=gray> came </font><font size = 1, color=gray> from. </font><font size = 1, color=gray> His </font><font size = 1, color=gray> co-workers </font><font size = 1, color=gray> find </font><font size = 1, color=gray> out </font><font size = 1, color=gray> and </font><font size = 1, color=gray> tease </font><font size = 1, color=gray> him </font><font size = 1, color=gray> terribly.<br </font><font size = 1, color=gray> /><br </font><font size = 1, color=gray> />During </font><font size = 1, color=gray> the </font><font size = 1, color=gray> day </font><font size = 1, color=gray> a </font><font size = 1, color=gray> mild-manner </font><font size = 1, color=gray> accountant, </font><font size = 1, color=gray> and </font><font size = 1, color=gray> at </font><font size = 1, color=gray> night </font><font size = 1, color=gray> he </font><font size = 1, color=gray> breaks </font><font size = 1, color=gray> into </font><font size = 1, color=gray> cemeteries </font><font size = 1, color=gray> and </font><font size = 1, color=gray> funeral </font><font size = 1, color=gray> homes </font><font size = 1, color=gray> and </font><font size = 1, color=gray> drinks </font><font size = 1, color=gray> the </font><font size = 1, color=gray> blood </font><font size = 1, color=gray> of </font><font size = 1, color=gray> dead </font><font size = 1, color=gray> girls. </font><font size = 1, color=gray> They </font><font size = 1, color=gray> are </font><font size = 1, color=gray> all </font><font size = 1, color=gray> attractive, </font><font size = 1, color=gray> of </font><font size = 1, color=gray> course, </font><font size = 1, color=gray> else </font><font size = 1, color=gray> we </font><font size = 1, color=gray> wouldn't </font><font size = 1, color=gray> care </font><font size = 1, color=gray> about </font><font size = 1, color=gray> the </font><font size = 1, color=gray> fact </font><font size = 1, color=gray> that </font><font size = 1, color=gray> he </font><font size = 1, color=gray> usually </font><font size = 1, color=gray> tears </font><font size = 1, color=gray> their </font><font size = 1, color=gray> clothing </font><font size = 1, color=gray> down </font><font size = 1, color=gray> to </font><font size = 1, color=gray> the </font><font size = 1, color=gray> waist. </font><font size = 1, color=gray> He </font><font size = 1, color=gray> graduates </font><font size = 1, color=gray> eventually </font><font size = 1, color=gray> to </font><font size = 1, color=gray> actually </font><font size = 1, color=gray> killing, </font><font size = 1, color=gray> and </font><font size = 1, color=gray> that </font><font size = 1, color=gray> is </font><font size = 1, color=gray> what </font><font size = 1, color=gray> gets </font><font size = 1, color=gray> him </font><font size = 1, color=gray> caught.<br </font><font size = 1, color=gray> /><br </font><font size = 1, color=gray> />Like </font><font size = 1, color=gray> I </font><font size = 1, color=gray> said, </font><font size = 1, color=gray> a </font><font size = 1, color=gray> very </font><font size = 1, color=gray> strange </font><font size = 1, color=gray> movie </font><font size = 1, color=gray> that </font><font size = 1, color=gray> is </font><font size = 1, color=gray> dark </font><font size = 1, color=gray> and </font><font size = 1, color=gray> very </font><font size = 1, color=gray> slow </font><font size = 1, color=gray> as </font><font size = 1, color=gray> Werner </font><font size = 1, color=gray> Pochath </font><font size = 1, color=gray> never </font><font size = 1, color=gray> talks </font><font size = 1, color=gray> and </font><font size = 1, color=gray> just </font><font size = 1, color=gray> spends </font><font size = 1, color=gray> his </font><font size = 1, color=gray> time </font><font size = 1, color=gray> drinking </font><font size = 1, color=gray> blood. </font>"
      ],
      "text/plain": [
       "<coloredweighteddoc.ColoredWeightedDoc at 0x259042b7ac8>"
      ]
     },
     "metadata": {},
     "output_type": "display_data"
    }
   ],
   "source": [
    "j = np.argmin(total_abs_evi)\n",
    "print(probs[j])\n",
    "print(neg_evi[j])\n",
    "print(pos_evi[j])\n",
    "display.display(ColoredWeightedDoc(test_corpus[j], words, weights, token_pattern=tp, binary = True))"
   ]
  },
  {
   "cell_type": "markdown",
   "metadata": {},
   "source": [
    "## Bigrams"
   ]
  },
  {
   "cell_type": "code",
   "execution_count": 138,
   "metadata": {
    "collapsed": true
   },
   "outputs": [],
   "source": [
    "bigrams = load_vocabulary(\"imdb-bigrams.txt\")"
   ]
  },
  {
   "cell_type": "code",
   "execution_count": 141,
   "metadata": {},
   "outputs": [
    {
     "data": {
      "text/plain": [
       "54"
      ]
     },
     "execution_count": 141,
     "metadata": {},
     "output_type": "execute_result"
    }
   ],
   "source": [
    "len(bigrams)"
   ]
  },
  {
   "cell_type": "code",
   "execution_count": 32,
   "metadata": {
    "collapsed": true
   },
   "outputs": [],
   "source": [
    "vectorizer = CountVectorizer(lowercase=True, vocabulary=bigrams, ngram_range=(2,2), binary=True, token_pattern=tp)"
   ]
  },
  {
   "cell_type": "code",
   "execution_count": 33,
   "metadata": {
    "collapsed": true
   },
   "outputs": [],
   "source": [
    "X_train = vectorizer.fit_transform(train_corpus)\n",
    "X_test = vectorizer.transform(test_corpus)"
   ]
  },
  {
   "cell_type": "code",
   "execution_count": 34,
   "metadata": {
    "collapsed": true
   },
   "outputs": [],
   "source": [
    "words = vectorizer.get_feature_names()"
   ]
  },
  {
   "cell_type": "code",
   "execution_count": 35,
   "metadata": {
    "collapsed": true
   },
   "outputs": [],
   "source": [
    "freq = np.sum(X_train, axis=0)\n",
    "freq = freq.A1\n",
    "fi = np.argsort(freq)"
   ]
  },
  {
   "cell_type": "code",
   "execution_count": 36,
   "metadata": {
    "collapsed": true
   },
   "outputs": [],
   "source": [
    "clf = LogisticRegression(penalty='l1', C=0.5)\n",
    "clf.fit(X_train, y_train)\n",
    "weights = clf.coef_[0]\n",
    "bias = clf.intercept_[0]"
   ]
  },
  {
   "cell_type": "code",
   "execution_count": 37,
   "metadata": {},
   "outputs": [
    {
     "data": {
      "text/plain": [
       "0.65680000000000005"
      ]
     },
     "execution_count": 37,
     "metadata": {},
     "output_type": "execute_result"
    }
   ],
   "source": [
    "clf.score(X_train, y_train)"
   ]
  },
  {
   "cell_type": "code",
   "execution_count": 38,
   "metadata": {},
   "outputs": [
    {
     "data": {
      "text/plain": [
       "0.65259999999999996"
      ]
     },
     "execution_count": 38,
     "metadata": {},
     "output_type": "execute_result"
    }
   ],
   "source": [
    "clf.score(X_test, y_test)"
   ]
  },
  {
   "cell_type": "code",
   "execution_count": 39,
   "metadata": {
    "collapsed": true
   },
   "outputs": [],
   "source": [
    "wi = np.argsort(abs(weights))"
   ]
  },
  {
   "cell_type": "code",
   "execution_count": 40,
   "metadata": {},
   "outputs": [
    {
     "data": {
      "text/plain": [
       "[('the worst', 1820, -1.8669900901650722),\n",
       " ('so bad', 672, -1.74560860516686),\n",
       " ('an excellent', 532, 1.3505772179695021),\n",
       " ('a must', 438, 2.1315693517802758),\n",
       " ('i recommend', 383, 1.208512424826709),\n",
       " ('love this', 350, 1.4156881730977708),\n",
       " ('worst movie', 343, -1.6694442520267236),\n",
       " ('bad acting', 324, -2.1480098993190673),\n",
       " ('is excellent', 309, 1.6382002521731909),\n",
       " ('how bad', 271, -2.2561588430505677),\n",
       " ('loved it', 265, 1.7140276243895571),\n",
       " ('love it', 262, 1.0067052562314303),\n",
       " ('highly recommend', 255, 1.914453985389313),\n",
       " ('that bad', 238, -1.460581323125455),\n",
       " ('well worth', 237, 2.7428214927121783),\n",
       " ('avoid this', 221, -2.6906370602097032),\n",
       " ('great job', 218, 2.0046214856904307),\n",
       " ('not funny', 216, -2.273088383115998),\n",
       " ('highly recommended', 213, 2.8179902011556814),\n",
       " ('not worth', 208, -2.222313655626563),\n",
       " ('worst movies', 201, -1.9914049197154224),\n",
       " ('worst film', 194, -1.7652603187828542),\n",
       " ('is perfect', 188, 2.248306741366787),\n",
       " ('are great', 185, 1.0268669882469974),\n",
       " ('a horrible', 179, -1.429559902404052),\n",
       " ('is terrible', 177, -1.8791366282373358),\n",
       " ('is amazing', 171, 1.7705100800969527),\n",
       " ('top notch', 170, 1.5241865004086228),\n",
       " ('no plot', 166, -2.1171230652697401),\n",
       " ('loved this', 162, 2.2130920907761675),\n",
       " ('is awful', 158, -2.9733101553247931),\n",
       " ('feel good', 150, 1.3425751470826695),\n",
       " ('was terrible', 150, -2.4114692668426589),\n",
       " ('fast forward', 149, -1.9143544594341477),\n",
       " ('this crap', 144, -2.9739106471838048),\n",
       " ('very entertaining', 136, 1.7052037847989621),\n",
       " ('an awful', 132, -1.5073865161706228),\n",
       " ('was excellent', 132, 1.3054581725405596),\n",
       " ('definitely worth', 123, 2.9733291183297497),\n",
       " ('let down', 122, -1.0597734249287387),\n",
       " ('a mess', 122, -1.4065773480071078),\n",
       " ('a superb', 121, 1.5825768259273267),\n",
       " ('this mess', 119, -2.8709658366538204),\n",
       " ('a disappointment', 116, -1.9478505976489089),\n",
       " ('first rate', 112, 2.1502445074968461),\n",
       " ('skip this', 112, -2.5923307968732714),\n",
       " ('is horrible', 109, -1.8436357488910387),\n",
       " ('was awful', 107, -2.3246080589026747),\n",
       " ('poorly written', 106, -2.2573487429075079),\n",
       " ('worst films', 106, -1.9193690423741061),\n",
       " ('pleasantly surprised', 104, 1.8489900922315408),\n",
       " ('an enjoyable', 102, 1.2224923097269431),\n",
       " ('not recommend', 101, -2.1114629584970013),\n",
       " ('walked out', 100, -1.9054750873585171)]"
      ]
     },
     "execution_count": 40,
     "metadata": {},
     "output_type": "execute_result"
    }
   ],
   "source": [
    "[(words[i], freq[i], weights[i]) for i in fi[::-1]]"
   ]
  },
  {
   "cell_type": "code",
   "execution_count": 41,
   "metadata": {},
   "outputs": [
    {
     "data": {
      "text/plain": [
       "[('this crap', 144, -2.9739106471838048),\n",
       " ('definitely worth', 123, 2.9733291183297497),\n",
       " ('is awful', 158, -2.9733101553247931),\n",
       " ('this mess', 119, -2.8709658366538204),\n",
       " ('highly recommended', 213, 2.8179902011556814),\n",
       " ('well worth', 237, 2.7428214927121783),\n",
       " ('avoid this', 221, -2.6906370602097032),\n",
       " ('skip this', 112, -2.5923307968732714),\n",
       " ('was terrible', 150, -2.4114692668426589),\n",
       " ('was awful', 107, -2.3246080589026747),\n",
       " ('not funny', 216, -2.273088383115998),\n",
       " ('poorly written', 106, -2.2573487429075079),\n",
       " ('how bad', 271, -2.2561588430505677),\n",
       " ('is perfect', 188, 2.248306741366787),\n",
       " ('not worth', 208, -2.222313655626563),\n",
       " ('loved this', 162, 2.2130920907761675),\n",
       " ('first rate', 112, 2.1502445074968461),\n",
       " ('bad acting', 324, -2.1480098993190673),\n",
       " ('a must', 438, 2.1315693517802758),\n",
       " ('no plot', 166, -2.1171230652697401),\n",
       " ('not recommend', 101, -2.1114629584970013),\n",
       " ('great job', 218, 2.0046214856904307),\n",
       " ('worst movies', 201, -1.9914049197154224),\n",
       " ('a disappointment', 116, -1.9478505976489089),\n",
       " ('worst films', 106, -1.9193690423741061),\n",
       " ('highly recommend', 255, 1.914453985389313),\n",
       " ('fast forward', 149, -1.9143544594341477),\n",
       " ('walked out', 100, -1.9054750873585171),\n",
       " ('is terrible', 177, -1.8791366282373358),\n",
       " ('the worst', 1820, -1.8669900901650722),\n",
       " ('pleasantly surprised', 104, 1.8489900922315408),\n",
       " ('is horrible', 109, -1.8436357488910387),\n",
       " ('is amazing', 171, 1.7705100800969527),\n",
       " ('worst film', 194, -1.7652603187828542),\n",
       " ('so bad', 672, -1.74560860516686),\n",
       " ('loved it', 265, 1.7140276243895571),\n",
       " ('very entertaining', 136, 1.7052037847989621),\n",
       " ('worst movie', 343, -1.6694442520267236),\n",
       " ('is excellent', 309, 1.6382002521731909),\n",
       " ('a superb', 121, 1.5825768259273267),\n",
       " ('top notch', 170, 1.5241865004086228),\n",
       " ('an awful', 132, -1.5073865161706228),\n",
       " ('that bad', 238, -1.460581323125455),\n",
       " ('a horrible', 179, -1.429559902404052),\n",
       " ('love this', 350, 1.4156881730977708),\n",
       " ('a mess', 122, -1.4065773480071078),\n",
       " ('an excellent', 532, 1.3505772179695021),\n",
       " ('feel good', 150, 1.3425751470826695),\n",
       " ('was excellent', 132, 1.3054581725405596),\n",
       " ('an enjoyable', 102, 1.2224923097269431),\n",
       " ('i recommend', 383, 1.208512424826709),\n",
       " ('let down', 122, -1.0597734249287387),\n",
       " ('are great', 185, 1.0268669882469974),\n",
       " ('love it', 262, 1.0067052562314303)]"
      ]
     },
     "execution_count": 41,
     "metadata": {},
     "output_type": "execute_result"
    }
   ],
   "source": [
    "[(words[i], freq[i], weights[i]) for i in wi[::-1]]"
   ]
  },
  {
   "cell_type": "code",
   "execution_count": 42,
   "metadata": {
    "collapsed": true
   },
   "outputs": [],
   "source": [
    "from coloredweighteddoc import ColoredWeightedDocBigram"
   ]
  },
  {
   "cell_type": "code",
   "execution_count": 43,
   "metadata": {},
   "outputs": [
    {
     "data": {
      "text/html": [
       "<font size = 1, color=gray> [First of] </font><font size = 1, color=gray> [of all] </font><font size = 1, color=gray> [all I] </font><font size = 1, color=gray> [I hate] </font><font size = 1, color=gray> [hate those] </font><font size = 1, color=gray> [those moronic] </font><font size = 1, color=gray> [moronic rappers,] </font><font size = 1, color=gray> [rappers, who] </font><font size = 1, color=gray> [who could'nt] </font><font size = 1, color=gray> [could'nt act] </font><font size = 1, color=gray> [act if] </font><font size = 1, color=gray> [if they] </font><font size = 1, color=gray> [they had] </font><font size = 1, color=gray> [had a] </font><font size = 1, color=gray> [a gun] </font><font size = 1, color=gray> [gun pressed] </font><font size = 1, color=gray> [pressed against] </font><font size = 1, color=gray> [against their] </font><font size = 1, color=gray> [their foreheads.] </font><font size = 1, color=gray> [foreheads. All] </font><font size = 1, color=gray> [All they] </font><font size = 1, color=gray> [they do] </font><font size = 1, color=gray> [do is] </font><font size = 1, color=gray> [is curse] </font><font size = 1, color=gray> [curse and] </font><font size = 1, color=gray> [and shoot] </font><font size = 1, color=gray> [shoot each] </font><font size = 1, color=gray> [each other] </font><font size = 1, color=gray> [other and] </font><font size = 1, color=gray> [and acting] </font><font size = 1, color=gray> [acting like] </font><font size = 1, color=gray> [like clichÃ©'e] </font><font size = 1, color=gray> [clichÃ©'e version] </font><font size = 1, color=gray> [version of] </font><font size = 1, color=gray> [of gangsters.<br] </font><font size = 1, color=gray> [gangsters.<br /><br] </font><font size = 1, color=gray> [/><br />The] </font><font size = 1, color=gray> [/>The movie] </font><font size = 1, color=gray> [movie doesn't] </font><font size = 1, color=gray> [doesn't take] </font><font size = 1, color=gray> [take more] </font><font size = 1, color=gray> [more than] </font><font size = 1, color=gray> [than five] </font><font size = 1, color=gray> [five minutes] </font><font size = 1, color=gray> [minutes to] </font><font size = 1, color=gray> [to explain] </font><font size = 1, color=gray> [explain what] </font><font size = 1, color=gray> [what is] </font><font size = 1, color=gray> [is going] </font><font size = 1, color=gray> [going on] </font><font size = 1, color=gray> [on before] </font><font size = 1, color=gray> [before we're] </font><font size = 1, color=gray> [we're already] </font><font size = 1, color=gray> [already at] </font><font size = 1, color=gray> [at the] </font><font size = 1, color=gray> [the warehouse] </font><font size = 1, color=gray> [warehouse There] </font><font size = 1, color=gray> [There is] </font><font size = 1, color=gray> [is not] </font><font size = 1, color=gray> [not a] </font><font size = 1, color=gray> [a single] </font><font size = 1, color=gray> [single sympathetic] </font><font size = 1, color=gray> [sympathetic character] </font><font size = 1, color=gray> [character in] </font><font size = 1, color=gray> [in this] </font><font size = 1, color=gray> [this movie,] </font><font size = 1, color=gray> [movie, except] </font><font size = 1, color=gray> [except for] </font><font size = 1, color=gray> [for the] </font><font size = 1, color=gray> [the homeless] </font><font size = 1, color=gray> [homeless guy,] </font><font size = 1, color=gray> [guy, who] </font><font size = 1, color=gray> [who is] </font><font size = 1, color=gray> [is also] </font><font size = 1, color=gray> [also the] </font><font size = 1, color=gray> [the only] </font><font size = 1, color=gray> [only one] </font><font size = 1, color=gray> [one with] </font><font size = 1, color=gray> [with half] </font><font size = 1, color=gray> [half a] </font><font size = 1, color=gray> [a brain.<br] </font><font size = 1, color=gray> [brain.<br /><br] </font><font size = 1, color=gray> [/><br />Bill] </font><font size = 1, color=gray> [/>Bill Paxton] </font><font size = 1, color=gray> [Paxton and] </font><font size = 1, color=gray> [and William] </font><font size = 1, color=gray> [William Sadler] </font><font size = 1, color=gray> [Sadler are] </font><font size = 1, color=gray> [are both] </font><font size = 1, color=gray> [both hill] </font><font size = 1, color=gray> [hill billies] </font><font size = 1, color=gray> [billies and] </font><font size = 1, color=gray> [and Sadlers] </font><font size = 1, color=gray> [Sadlers character] </font><font size = 1, color=gray> [character is] </font><font size = 1, color=gray> [is just] </font><font size = 1, color=gray> [just as] </font><font size = 1, color=gray> [as much] </font><font size = 1, color=gray> [much a] </font><font size = 1, color=gray> [a villain] </font><font size = 1, color=gray> [villain as] </font><font size = 1, color=gray> [as the] </font><font size = 1, color=gray> [the gangsters.] </font><font size = 1, color=gray> [gangsters. I] </font><font size = 1, color=gray> [I did'nt] </font><font size = 1, color=gray> [did'nt like] </font><font size = 1, color=gray> [like him] </font><font size = 1, color=gray> [him right] </font><font size = 1, color=gray> [right from] </font><font size = 1, color=gray> [from the] </font><font size = 1, color=gray> [the start.<br] </font><font size = 1, color=gray> [start.<br /><br] </font><font size = 1, color=gray> [/><br />The] </font><font size = 1, color=gray> [/>The movie] </font><font size = 1, color=gray> [movie is] </font><font size = 1, color=gray> [is filled] </font><font size = 1, color=gray> [filled with] </font><font size = 1, color=gray> [with pointless] </font><font size = 1, color=gray> [pointless violence] </font><font size = 1, color=gray> [violence and] </font><font size = 1, color=gray> [and Walter] </font><font size = 1, color=gray> [Walter Hills] </font><font size = 1, color=gray> [Hills specialty:] </font><font size = 1, color=gray> [specialty: people] </font><font size = 1, color=gray> [people falling] </font><font size = 1, color=gray> [falling through] </font><font size = 1, color=gray> [through windows] </font><font size = 1, color=gray> [windows with] </font><font size = 1, color=gray> [with glass] </font><font size = 1, color=gray> [glass flying] </font><font size = 1, color=gray> [flying everywhere.] </font><font size = 1, color=gray> [everywhere. There] </font><font size = 1, color=gray> [There is] </font><font size = 1, color=gray> [is pretty] </font><font size = 1, color=gray> [pretty much] </font><font size = 1, color=gray> [much no] </font><font size = 5, color=red> [no plot] </font><font size = 1, color=gray> [plot and] </font><font size = 1, color=gray> [and it] </font><font size = 1, color=gray> [it is] </font><font size = 1, color=gray> [is a] </font><font size = 1, color=gray> [a big] </font><font size = 1, color=gray> [big problem] </font><font size = 1, color=gray> [problem when] </font><font size = 1, color=gray> [when you] </font><font size = 1, color=gray> [you root] </font><font size = 1, color=gray> [root for] </font><font size = 1, color=gray> [for no-one.] </font><font size = 1, color=gray> [no-one. Everybody] </font><font size = 1, color=gray> [Everybody dies,] </font><font size = 1, color=gray> [dies, except] </font><font size = 1, color=gray> [except from] </font><font size = 1, color=gray> [from Paxton] </font><font size = 1, color=gray> [Paxton and] </font><font size = 1, color=gray> [and the] </font><font size = 1, color=gray> [the homeless] </font><font size = 1, color=gray> [homeless guy] </font><font size = 1, color=gray> [guy and] </font><font size = 1, color=gray> [and everybody] </font><font size = 1, color=gray> [everybody get] </font><font size = 1, color=gray> [get what] </font><font size = 1, color=gray> [what they] </font><font size = 1, color=gray> [they deserve.<br] </font><font size = 1, color=gray> [deserve.<br /><br] </font><font size = 1, color=gray> [/><br />The] </font><font size = 1, color=gray> [/>The only] </font><font size = 1, color=gray> [only two] </font><font size = 1, color=gray> [two black] </font><font size = 1, color=gray> [black people] </font><font size = 1, color=gray> [people that] </font><font size = 1, color=gray> [that can] </font><font size = 1, color=gray> [can act] </font><font size = 1, color=gray> [act is] </font><font size = 1, color=gray> [is the] </font><font size = 1, color=gray> [the homeless] </font><font size = 1, color=gray> [homeless guy] </font><font size = 1, color=gray> [guy and] </font><font size = 1, color=gray> [and the] </font><font size = 1, color=gray> [the junkie] </font><font size = 1, color=gray> [junkie but] </font><font size = 1, color=gray> [but they're] </font><font size = 1, color=gray> [they're actors] </font><font size = 1, color=gray> [actors by] </font><font size = 1, color=gray> [by profession,] </font><font size = 1, color=gray> [profession, not] </font><font size = 1, color=gray> [not annoying] </font><font size = 1, color=gray> [annoying ugly] </font><font size = 1, color=gray> [ugly brain] </font><font size = 1, color=gray> [brain dead] </font><font size = 1, color=gray> [dead rappers.<br] </font><font size = 1, color=gray> [rappers.<br /><br] </font><font size = 1, color=gray> [/><br />Stay] </font><font size = 1, color=gray> [/>Stay away] </font><font size = 1, color=gray> [away from] </font><font size = 1, color=gray> [from this] </font><font size = 6, color=red> [this crap] </font><font size = 1, color=gray> [crap and] </font><font size = 1, color=gray> [and watch] </font><font size = 1, color=gray> [watch 48] </font><font size = 1, color=gray> [48 hours] </font><font size = 1, color=gray> [hours 1] </font><font size = 1, color=gray> [1 and] </font><font size = 1, color=gray> [and 2] </font><font size = 1, color=gray> [2 instead.] </font><font size = 1, color=gray> [instead. At] </font><font size = 1, color=gray> [At lest] </font><font size = 1, color=gray> [lest they] </font><font size = 1, color=gray> [they have] </font><font size = 1, color=gray> [have characters] </font><font size = 1, color=gray> [characters you] </font><font size = 1, color=gray> [you care] </font><font size = 1, color=gray> [care about,] </font><font size = 1, color=gray> [about, a] </font><font size = 1, color=gray> [a sense] </font><font size = 1, color=gray> [sense of] </font><font size = 1, color=gray> [of humor] </font><font size = 1, color=gray> [humor and] </font><font size = 1, color=gray> [and nothing] </font><font size = 1, color=gray> [nothing but] </font><font size = 1, color=gray> [but real] </font><font size = 1, color=gray> [real actors] </font><font size = 1, color=gray> [actors in] </font><font size = 1, color=gray> [in the] </font><font size = 1, color=gray> [the cast.] </font>"
      ],
      "text/plain": [
       "<coloredweighteddoc.ColoredWeightedDocBigram at 0x259042b7e10>"
      ]
     },
     "metadata": {},
     "output_type": "display_data"
    }
   ],
   "source": [
    "j=2\n",
    "display.display(ColoredWeightedDocBigram(test_corpus[j], words, weights, token_pattern=tp, binary = True))"
   ]
  },
  {
   "cell_type": "markdown",
   "metadata": {},
   "source": [
    "# Both"
   ]
  },
  {
   "cell_type": "code",
   "execution_count": 44,
   "metadata": {
    "collapsed": true
   },
   "outputs": [],
   "source": [
    "both = unigrams + bigrams"
   ]
  },
  {
   "cell_type": "code",
   "execution_count": 45,
   "metadata": {
    "collapsed": true
   },
   "outputs": [],
   "source": [
    "vectorizer = CountVectorizer(lowercase=True, vocabulary=both, ngram_range=(1,2), binary=True, token_pattern=tp)"
   ]
  },
  {
   "cell_type": "code",
   "execution_count": 46,
   "metadata": {
    "collapsed": true
   },
   "outputs": [],
   "source": [
    "X_train = vectorizer.fit_transform(train_corpus)\n",
    "X_test = vectorizer.transform(test_corpus)"
   ]
  },
  {
   "cell_type": "code",
   "execution_count": 47,
   "metadata": {
    "collapsed": true
   },
   "outputs": [],
   "source": [
    "words = vectorizer.get_feature_names()"
   ]
  },
  {
   "cell_type": "code",
   "execution_count": 48,
   "metadata": {
    "collapsed": true
   },
   "outputs": [],
   "source": [
    "freq = np.sum(X_train, axis=0)\n",
    "freq = freq.A1\n",
    "fi = np.argsort(freq)"
   ]
  },
  {
   "cell_type": "code",
   "execution_count": 49,
   "metadata": {
    "collapsed": true
   },
   "outputs": [],
   "source": [
    "clf = LogisticRegression(penalty='l1', C=0.5)\n",
    "clf.fit(X_train, y_train)\n",
    "weights = clf.coef_[0]\n",
    "bias = clf.intercept_[0]"
   ]
  },
  {
   "cell_type": "code",
   "execution_count": 50,
   "metadata": {},
   "outputs": [
    {
     "data": {
      "text/plain": [
       "0.83243999999999996"
      ]
     },
     "execution_count": 50,
     "metadata": {},
     "output_type": "execute_result"
    }
   ],
   "source": [
    "clf.score(X_train, y_train)"
   ]
  },
  {
   "cell_type": "code",
   "execution_count": 51,
   "metadata": {},
   "outputs": [
    {
     "data": {
      "text/plain": [
       "0.82776000000000005"
      ]
     },
     "execution_count": 51,
     "metadata": {},
     "output_type": "execute_result"
    }
   ],
   "source": [
    "clf.score(X_test, y_test)"
   ]
  },
  {
   "cell_type": "code",
   "execution_count": 52,
   "metadata": {
    "collapsed": true
   },
   "outputs": [],
   "source": [
    "wi = np.argsort(abs(weights))"
   ]
  },
  {
   "cell_type": "code",
   "execution_count": 53,
   "metadata": {},
   "outputs": [
    {
     "data": {
      "text/plain": [
       "[('great', 6311, 0.75969924382075549),\n",
       " ('bad', 5892, -0.78050325860243464),\n",
       " ('best', 4892, 0.75710935997331608),\n",
       " ('funny', 3136, 0.15008383892587471),\n",
       " ('worst', 2264, -1.3507447711836096),\n",
       " ('fun', 2138, 0.5547565164990903),\n",
       " ('the worst', 1820, -0.27598090917399953),\n",
       " ('beautiful', 1803, 0.73227380536238673),\n",
       " ('excellent', 1779, 1.2791283423502928),\n",
       " ('poor', 1597, -0.88681831736129335),\n",
       " ('boring', 1508, -1.057514637566966),\n",
       " ('awful', 1444, -1.5123245242977448),\n",
       " ('wonderful', 1440, 1.0995938887338348),\n",
       " ('perfect', 1358, 1.080237569744821),\n",
       " ('stupid', 1350, -1.1125308737372526),\n",
       " ('terrible', 1333, -0.87373518038249187),\n",
       " ('waste', 1302, -2.1690924033933685),\n",
       " ('worse', 1271, -0.94542796955805075),\n",
       " ('loved', 1245, 0.48124135478121743),\n",
       " ('unfortunately', 1242, -0.76558862313374243),\n",
       " ('enjoyed', 1141, 0.7103947327027017),\n",
       " ('amazing', 1109, 0.97512444626747408),\n",
       " ('favorite', 1086, 0.93228658370107231),\n",
       " ('brilliant', 1028, 0.82875878267079095),\n",
       " ('horrible', 1002, -1.192072700638674),\n",
       " ('annoying', 881, -0.96598311068830833),\n",
       " ('ridiculous', 876, -0.82195705451706702),\n",
       " ('disappointed', 857, -0.62898090159753473),\n",
       " ('cheap', 789, -0.81958955431296532),\n",
       " ('enjoyable', 785, 0.86648440683462569),\n",
       " ('predictable', 774, -0.66701336503810493),\n",
       " ('avoid', 728, -0.88469717446788376),\n",
       " ('fantastic', 712, 0.98841879539171462),\n",
       " ('dull', 706, -1.2766665637589882),\n",
       " ('so bad', 672, -0.73542270797757803),\n",
       " ('weak', 670, -0.71847506920208704),\n",
       " ('lame', 644, -1.3665572686486038),\n",
       " ('poorly', 629, -1.8476906380481228),\n",
       " ('superb', 621, 0.98967975329859115),\n",
       " ('badly', 593, -1.1035144682439713),\n",
       " ('mess', 592, -1.3276783713592635),\n",
       " ('perfectly', 591, 1.0471784859860724),\n",
       " ('fails', 562, -1.3217143642207543),\n",
       " ('sadly', 536, -0.67026996155526708),\n",
       " ('an excellent', 532, 0.016904311124429347),\n",
       " ('wasted', 524, -1.4366657189591039),\n",
       " ('incredible', 496, 0.95941817659896644),\n",
       " ('recommended', 484, 0.64452244078185139),\n",
       " ('solid', 468, 0.86857375797117276),\n",
       " ('pointless', 458, -1.6817752995964002),\n",
       " ('surprisingly', 439, 0.80435191952687546),\n",
       " ('a must', 438, 1.8855367732228165),\n",
       " ('pathetic', 433, -1.2937000212436804),\n",
       " ('beautifully', 413, 1.2251785525279977),\n",
       " ('rare', 413, 1.1371657034181475),\n",
       " ('subtle', 405, 0.88080545468434668),\n",
       " ('laughable', 398, -1.5929346472230965),\n",
       " ('disappointing', 394, -1.2294153540890047),\n",
       " ('disappointment', 388, -1.1592468743001094),\n",
       " ('i recommend', 383, 1.0275014689409858),\n",
       " ('fascinating', 362, 1.0763509246806966),\n",
       " ('love this', 350, 1.2130356244418454),\n",
       " ('mediocre', 346, -1.3313921809814666),\n",
       " ('worst movie', 343, -1.151717391835378),\n",
       " ('lacks', 341, -1.1287015251856023),\n",
       " ('gem', 340, 1.2591251828375094),\n",
       " ('funniest', 329, 1.0426561855154179),\n",
       " ('bad acting', 324, -1.0637659866781253),\n",
       " ('redeeming', 315, -1.5904108659489089),\n",
       " ('wonderfully', 312, 1.5910850187291428),\n",
       " ('is excellent', 309, 0.33602484817968631),\n",
       " ('noir', 273, 1.3431392008451526),\n",
       " ('how bad', 271, -1.2936474566891616),\n",
       " ('loved it', 265, 1.0751240019828601),\n",
       " ('love it', 262, 0.68810974090713628),\n",
       " ('bland', 257, -0.96295039762062939),\n",
       " ('10/10', 256, 2.2446002306678858),\n",
       " ('highly recommend', 255, 1.7006959972261282),\n",
       " ('that bad', 238, -0.42429198921850969),\n",
       " ('well worth', 237, 2.4611110639898448),\n",
       " ('unfunny', 233, -1.7829755077453804),\n",
       " ('dreadful', 224, -1.4069164808470469),\n",
       " ('8/10', 222, 3.0640787158833094),\n",
       " ('avoid this', 221, -1.1152819013762807),\n",
       " ('great job', 218, 1.3237884158745756),\n",
       " ('not funny', 216, -1.7533885589936742),\n",
       " ('highly recommended', 213, 1.7374117493429768),\n",
       " ('tedious', 210, -1.4213626969282431),\n",
       " ('not worth', 208, -1.7399759097157241),\n",
       " ('insult', 207, -1.2854926282633399),\n",
       " ('lousy', 202, -1.7224799650793685),\n",
       " ('worst movies', 201, -1.1036092608609887),\n",
       " ('7/10', 198, 4.3517849133830238),\n",
       " ('refreshing', 197, 1.6945515639669835),\n",
       " ('forgettable', 194, -1.3282905136207779),\n",
       " ('worst film', 194, -0.85950242198459326),\n",
       " ('is perfect', 188, 0.93265793567487409),\n",
       " ('are great', 185, 0.41311802149312954),\n",
       " ('a horrible', 179, -0.10976070068141178),\n",
       " ('is terrible', 177, -0.57195445062659334),\n",
       " ('4/10', 173, -4.1511388353914187),\n",
       " ('is amazing', 171, 0.6676660133402138),\n",
       " ('top notch', 170, 1.4312214884312722),\n",
       " ('3/10', 170, -3.5677310447750807),\n",
       " ('no plot', 166, -1.742404913244423),\n",
       " ('loved this', 162, 1.4853374794430554),\n",
       " ('1/10', 158, -2.7195584603459086),\n",
       " ('is awful', 158, -0.95209533699144311),\n",
       " ('obnoxious', 154, -1.076856970187942),\n",
       " ('9/10', 153, 2.1486879343361935),\n",
       " ('feel good', 150, 0.99275485763546789),\n",
       " ('was terrible', 150, -1.1643751573418648),\n",
       " ('fast forward', 149, -1.2334683159490103),\n",
       " ('this crap', 144, -2.5389668020261973),\n",
       " ('very entertaining', 136, 1.6512784210972082),\n",
       " ('was excellent', 132, 0.114899919689168),\n",
       " ('an awful', 132, 0.0),\n",
       " ('definitely worth', 123, 2.8401698233588051),\n",
       " ('a mess', 122, 0.0),\n",
       " ('let down', 122, -1.1584946223419808),\n",
       " ('2/10', 121, -2.1405949084163294),\n",
       " ('a superb', 121, 0.13292977247756946),\n",
       " ('this mess', 119, -1.2018077063690729),\n",
       " ('a disappointment', 116, -1.0254933328564224),\n",
       " ('mst3k', 112, -1.8159624939464181),\n",
       " ('first rate', 112, 1.9054242891732254),\n",
       " ('skip this', 112, -2.4097881383584481),\n",
       " ('is horrible', 109, -0.068078062415085364),\n",
       " ('was awful', 107, -0.57622527844258098),\n",
       " ('worst films', 106, -1.1389268998906825),\n",
       " ('poorly written', 106, 0.0),\n",
       " ('pleasantly surprised', 104, 2.4997076217998879),\n",
       " ('an enjoyable', 102, 0.54816324997470189),\n",
       " ('not recommend', 101, -2.0813803594130187),\n",
       " ('walked out', 100, -1.603207615188148),\n",
       " ('5/10', 90, 0.45127468198124959),\n",
       " ('6/10', 29, 0.0)]"
      ]
     },
     "execution_count": 53,
     "metadata": {},
     "output_type": "execute_result"
    }
   ],
   "source": [
    "[(words[i], freq[i], weights[i]) for i in fi[::-1]]"
   ]
  },
  {
   "cell_type": "code",
   "execution_count": 54,
   "metadata": {},
   "outputs": [
    {
     "data": {
      "text/plain": [
       "[('7/10', 198, 4.3517849133830238),\n",
       " ('4/10', 173, -4.1511388353914187),\n",
       " ('3/10', 170, -3.5677310447750807),\n",
       " ('8/10', 222, 3.0640787158833094),\n",
       " ('definitely worth', 123, 2.8401698233588051),\n",
       " ('1/10', 158, -2.7195584603459086),\n",
       " ('this crap', 144, -2.5389668020261973),\n",
       " ('pleasantly surprised', 104, 2.4997076217998879),\n",
       " ('well worth', 237, 2.4611110639898448),\n",
       " ('skip this', 112, -2.4097881383584481),\n",
       " ('10/10', 256, 2.2446002306678858),\n",
       " ('waste', 1302, -2.1690924033933685),\n",
       " ('9/10', 153, 2.1486879343361935),\n",
       " ('2/10', 121, -2.1405949084163294),\n",
       " ('not recommend', 101, -2.0813803594130187),\n",
       " ('first rate', 112, 1.9054242891732254),\n",
       " ('a must', 438, 1.8855367732228165),\n",
       " ('poorly', 629, -1.8476906380481228),\n",
       " ('mst3k', 112, -1.8159624939464181),\n",
       " ('unfunny', 233, -1.7829755077453804),\n",
       " ('not funny', 216, -1.7533885589936742),\n",
       " ('no plot', 166, -1.742404913244423),\n",
       " ('not worth', 208, -1.7399759097157241),\n",
       " ('highly recommended', 213, 1.7374117493429768),\n",
       " ('lousy', 202, -1.7224799650793685),\n",
       " ('highly recommend', 255, 1.7006959972261282),\n",
       " ('refreshing', 197, 1.6945515639669835),\n",
       " ('pointless', 458, -1.6817752995964002),\n",
       " ('very entertaining', 136, 1.6512784210972082),\n",
       " ('walked out', 100, -1.603207615188148),\n",
       " ('laughable', 398, -1.5929346472230965),\n",
       " ('wonderfully', 312, 1.5910850187291428),\n",
       " ('redeeming', 315, -1.5904108659489089),\n",
       " ('awful', 1444, -1.5123245242977448),\n",
       " ('loved this', 162, 1.4853374794430554),\n",
       " ('wasted', 524, -1.4366657189591039),\n",
       " ('top notch', 170, 1.4312214884312722),\n",
       " ('tedious', 210, -1.4213626969282431),\n",
       " ('dreadful', 224, -1.4069164808470469),\n",
       " ('lame', 644, -1.3665572686486038),\n",
       " ('worst', 2264, -1.3507447711836096),\n",
       " ('noir', 273, 1.3431392008451526),\n",
       " ('mediocre', 346, -1.3313921809814666),\n",
       " ('forgettable', 194, -1.3282905136207779),\n",
       " ('mess', 592, -1.3276783713592635),\n",
       " ('great job', 218, 1.3237884158745756),\n",
       " ('fails', 562, -1.3217143642207543),\n",
       " ('pathetic', 433, -1.2937000212436804),\n",
       " ('how bad', 271, -1.2936474566891616),\n",
       " ('insult', 207, -1.2854926282633399),\n",
       " ('excellent', 1779, 1.2791283423502928),\n",
       " ('dull', 706, -1.2766665637589882),\n",
       " ('gem', 340, 1.2591251828375094),\n",
       " ('fast forward', 149, -1.2334683159490103),\n",
       " ('disappointing', 394, -1.2294153540890047),\n",
       " ('beautifully', 413, 1.2251785525279977),\n",
       " ('love this', 350, 1.2130356244418454),\n",
       " ('this mess', 119, -1.2018077063690729),\n",
       " ('horrible', 1002, -1.192072700638674),\n",
       " ('was terrible', 150, -1.1643751573418648),\n",
       " ('disappointment', 388, -1.1592468743001094),\n",
       " ('let down', 122, -1.1584946223419808),\n",
       " ('worst movie', 343, -1.151717391835378),\n",
       " ('worst films', 106, -1.1389268998906825),\n",
       " ('rare', 413, 1.1371657034181475),\n",
       " ('lacks', 341, -1.1287015251856023),\n",
       " ('avoid this', 221, -1.1152819013762807),\n",
       " ('stupid', 1350, -1.1125308737372526),\n",
       " ('worst movies', 201, -1.1036092608609887),\n",
       " ('badly', 593, -1.1035144682439713),\n",
       " ('wonderful', 1440, 1.0995938887338348),\n",
       " ('perfect', 1358, 1.080237569744821),\n",
       " ('obnoxious', 154, -1.076856970187942),\n",
       " ('fascinating', 362, 1.0763509246806966),\n",
       " ('loved it', 265, 1.0751240019828601),\n",
       " ('bad acting', 324, -1.0637659866781253),\n",
       " ('boring', 1508, -1.057514637566966),\n",
       " ('perfectly', 591, 1.0471784859860724),\n",
       " ('funniest', 329, 1.0426561855154179),\n",
       " ('i recommend', 383, 1.0275014689409858),\n",
       " ('a disappointment', 116, -1.0254933328564224),\n",
       " ('feel good', 150, 0.99275485763546789),\n",
       " ('superb', 621, 0.98967975329859115),\n",
       " ('fantastic', 712, 0.98841879539171462),\n",
       " ('amazing', 1109, 0.97512444626747408),\n",
       " ('annoying', 881, -0.96598311068830833),\n",
       " ('bland', 257, -0.96295039762062939),\n",
       " ('incredible', 496, 0.95941817659896644),\n",
       " ('is awful', 158, -0.95209533699144311),\n",
       " ('worse', 1271, -0.94542796955805075),\n",
       " ('is perfect', 188, 0.93265793567487409),\n",
       " ('favorite', 1086, 0.93228658370107231),\n",
       " ('poor', 1597, -0.88681831736129335),\n",
       " ('avoid', 728, -0.88469717446788376),\n",
       " ('subtle', 405, 0.88080545468434668),\n",
       " ('terrible', 1333, -0.87373518038249187),\n",
       " ('solid', 468, 0.86857375797117276),\n",
       " ('enjoyable', 785, 0.86648440683462569),\n",
       " ('worst film', 194, -0.85950242198459326),\n",
       " ('brilliant', 1028, 0.82875878267079095),\n",
       " ('ridiculous', 876, -0.82195705451706702),\n",
       " ('cheap', 789, -0.81958955431296532),\n",
       " ('surprisingly', 439, 0.80435191952687546),\n",
       " ('bad', 5892, -0.78050325860243464),\n",
       " ('unfortunately', 1242, -0.76558862313374243),\n",
       " ('great', 6311, 0.75969924382075549),\n",
       " ('best', 4892, 0.75710935997331608),\n",
       " ('so bad', 672, -0.73542270797757803),\n",
       " ('beautiful', 1803, 0.73227380536238673),\n",
       " ('weak', 670, -0.71847506920208704),\n",
       " ('enjoyed', 1141, 0.7103947327027017),\n",
       " ('love it', 262, 0.68810974090713628),\n",
       " ('sadly', 536, -0.67026996155526708),\n",
       " ('is amazing', 171, 0.6676660133402138),\n",
       " ('predictable', 774, -0.66701336503810493),\n",
       " ('recommended', 484, 0.64452244078185139),\n",
       " ('disappointed', 857, -0.62898090159753473),\n",
       " ('was awful', 107, -0.57622527844258098),\n",
       " ('is terrible', 177, -0.57195445062659334),\n",
       " ('fun', 2138, 0.5547565164990903),\n",
       " ('an enjoyable', 102, 0.54816324997470189),\n",
       " ('loved', 1245, 0.48124135478121743),\n",
       " ('5/10', 90, 0.45127468198124959),\n",
       " ('that bad', 238, -0.42429198921850969),\n",
       " ('are great', 185, 0.41311802149312954),\n",
       " ('is excellent', 309, 0.33602484817968631),\n",
       " ('the worst', 1820, -0.27598090917399953),\n",
       " ('funny', 3136, 0.15008383892587471),\n",
       " ('a superb', 121, 0.13292977247756946),\n",
       " ('was excellent', 132, 0.114899919689168),\n",
       " ('a horrible', 179, -0.10976070068141178),\n",
       " ('is horrible', 109, -0.068078062415085364),\n",
       " ('an excellent', 532, 0.016904311124429347),\n",
       " ('poorly written', 106, 0.0),\n",
       " ('6/10', 29, 0.0),\n",
       " ('a mess', 122, 0.0),\n",
       " ('an awful', 132, 0.0)]"
      ]
     },
     "execution_count": 54,
     "metadata": {},
     "output_type": "execute_result"
    }
   ],
   "source": [
    "[(words[i], freq[i], weights[i]) for i in wi[::-1]]"
   ]
  },
  {
   "cell_type": "code",
   "execution_count": 55,
   "metadata": {},
   "outputs": [
    {
     "name": "stdout",
     "output_type": "stream",
     "text": [
      "Unigram\n"
     ]
    },
    {
     "data": {
      "text/html": [
       "<font size = 1, color=gray> Once </font><font size = 1, color=gray> again </font><font size = 1, color=gray> Mr. </font><font size = 1, color=gray> Costner </font><font size = 1, color=gray> has </font><font size = 1, color=gray> dragged </font><font size = 1, color=gray> out </font><font size = 1, color=gray> a </font><font size = 1, color=gray> movie </font><font size = 1, color=gray> for </font><font size = 1, color=gray> far </font><font size = 1, color=gray> longer </font><font size = 1, color=gray> than </font><font size = 1, color=gray> necessary. </font><font size = 1, color=gray> Aside </font><font size = 1, color=gray> from </font><font size = 1, color=gray> the </font><font size = 1, color=gray> terrific </font><font size = 1, color=gray> sea </font><font size = 1, color=gray> rescue </font><font size = 1, color=gray> sequences, </font><font size = 1, color=gray> of </font><font size = 1, color=gray> which </font><font size = 1, color=gray> there </font><font size = 1, color=gray> are </font><font size = 1, color=gray> very </font><font size = 1, color=gray> few </font><font size = 1, color=gray> I </font><font size = 1, color=gray> just </font><font size = 1, color=gray> did </font><font size = 1, color=gray> not </font><font size = 1, color=gray> care </font><font size = 1, color=gray> about </font><font size = 1, color=gray> any </font><font size = 1, color=gray> of </font><font size = 1, color=gray> the </font><font size = 1, color=gray> characters. </font><font size = 1, color=gray> Most </font><font size = 1, color=gray> of </font><font size = 1, color=gray> us </font><font size = 1, color=gray> have </font><font size = 1, color=gray> ghosts </font><font size = 1, color=gray> in </font><font size = 1, color=gray> the </font><font size = 1, color=gray> closet, </font><font size = 1, color=gray> and </font><font size = 1, color=gray> Costner's </font><font size = 1, color=gray> character </font><font size = 1, color=gray> are </font><font size = 1, color=gray> realized </font><font size = 1, color=gray> early </font><font size = 1, color=gray> on, </font><font size = 1, color=gray> and </font><font size = 1, color=gray> then </font><font size = 1, color=gray> forgotten </font><font size = 1, color=gray> until </font><font size = 1, color=gray> much </font><font size = 1, color=gray> later, </font><font size = 1, color=gray> by </font><font size = 1, color=gray> which </font><font size = 1, color=gray> time </font><font size = 1, color=gray> I </font><font size = 1, color=gray> did </font><font size = 1, color=gray> not </font><font size = 1, color=gray> care. </font><font size = 1, color=gray> The </font><font size = 1, color=gray> character </font><font size = 1, color=gray> we </font><font size = 1, color=gray> should </font><font size = 1, color=gray> really </font><font size = 1, color=gray> care </font><font size = 1, color=gray> about </font><font size = 1, color=gray> is </font><font size = 1, color=gray> a </font><font size = 1, color=gray> very </font><font size = 1, color=gray> cocky, </font><font size = 1, color=gray> overconfident </font><font size = 1, color=gray> Ashton </font><font size = 1, color=gray> Kutcher. </font><font size = 1, color=gray> The </font><font size = 1, color=gray> problem </font><font size = 1, color=gray> is </font><font size = 1, color=gray> he </font><font size = 1, color=gray> comes </font><font size = 1, color=gray> off </font><font size = 1, color=gray> as </font><font size = 1, color=gray> kid </font><font size = 1, color=gray> who </font><font size = 1, color=gray> thinks </font><font size = 1, color=gray> he's </font><font size = 1, color=gray> better </font><font size = 1, color=gray> than </font><font size = 1, color=gray> anyone </font><font size = 1, color=gray> else </font><font size = 1, color=gray> around </font><font size = 1, color=gray> him </font><font size = 1, color=gray> and </font><font size = 1, color=gray> shows </font><font size = 1, color=gray> no </font><font size = 1, color=gray> signs </font><font size = 1, color=gray> of </font><font size = 1, color=gray> a </font><font size = 1, color=gray> cluttered </font><font size = 1, color=gray> closet. </font><font size = 1, color=gray> His </font><font size = 1, color=gray> only </font><font size = 1, color=gray> obstacle </font><font size = 1, color=gray> appears </font><font size = 1, color=gray> to </font><font size = 1, color=gray> be </font><font size = 1, color=gray> winning </font><font size = 1, color=gray> over </font><font size = 1, color=gray> Costner. </font><font size = 1, color=gray> Finally </font><font size = 1, color=gray> when </font><font size = 1, color=gray> we </font><font size = 1, color=gray> are </font><font size = 1, color=gray> well </font><font size = 1, color=gray> past </font><font size = 1, color=gray> the </font><font size = 1, color=gray> half </font><font size = 1, color=gray> way </font><font size = 1, color=gray> point </font><font size = 1, color=gray> of </font><font size = 1, color=gray> this </font><font size = 1, color=gray> stinker, </font><font size = 1, color=gray> Costner </font><font size = 1, color=gray> tells </font><font size = 1, color=gray> us </font><font size = 1, color=gray> all </font><font size = 1, color=gray> about </font><font size = 1, color=gray> Kutcher's </font><font size = 1, color=gray> ghosts. </font><font size = 1, color=gray> We </font><font size = 1, color=gray> are </font><font size = 1, color=gray> told </font><font size = 1, color=gray> why </font><font size = 1, color=gray> Kutcher </font><font size = 1, color=gray> is </font><font size = 1, color=gray> driven </font><font size = 1, color=gray> to </font><font size = 1, color=gray> be </font><font size = 1, color=gray> the </font><font size = 2, color=blue> best </font><font size = 1, color=gray> with </font><font size = 1, color=gray> no </font><font size = 1, color=gray> prior </font><font size = 1, color=gray> inkling </font><font size = 1, color=gray> or </font><font size = 1, color=gray> foreshadowing. </font><font size = 1, color=gray> No </font><font size = 1, color=gray> magic </font><font size = 1, color=gray> here, </font><font size = 1, color=gray> it </font><font size = 1, color=gray> was </font><font size = 1, color=gray> all </font><font size = 1, color=gray> I </font><font size = 1, color=gray> could </font><font size = 1, color=gray> do </font><font size = 1, color=gray> to </font><font size = 1, color=gray> keep </font><font size = 1, color=gray> from </font><font size = 1, color=gray> turning </font><font size = 1, color=gray> it </font><font size = 1, color=gray> off </font><font size = 1, color=gray> an </font><font size = 1, color=gray> hour </font><font size = 1, color=gray> in. </font>"
      ],
      "text/plain": [
       "<coloredweighteddoc.ColoredWeightedDoc at 0x259042a2048>"
      ]
     },
     "metadata": {},
     "output_type": "display_data"
    },
    {
     "name": "stdout",
     "output_type": "stream",
     "text": [
      "\n",
      "\n",
      "Bigram\n"
     ]
    },
    {
     "data": {
      "text/html": [
       "<font size = 1, color=gray> [Once again] </font><font size = 1, color=gray> [again Mr.] </font><font size = 1, color=gray> [Mr. Costner] </font><font size = 1, color=gray> [Costner has] </font><font size = 1, color=gray> [has dragged] </font><font size = 1, color=gray> [dragged out] </font><font size = 1, color=gray> [out a] </font><font size = 1, color=gray> [a movie] </font><font size = 1, color=gray> [movie for] </font><font size = 1, color=gray> [for far] </font><font size = 1, color=gray> [far longer] </font><font size = 1, color=gray> [longer than] </font><font size = 1, color=gray> [than necessary.] </font><font size = 1, color=gray> [necessary. Aside] </font><font size = 1, color=gray> [Aside from] </font><font size = 1, color=gray> [from the] </font><font size = 1, color=gray> [the terrific] </font><font size = 1, color=gray> [terrific sea] </font><font size = 1, color=gray> [sea rescue] </font><font size = 1, color=gray> [rescue sequences,] </font><font size = 1, color=gray> [sequences, of] </font><font size = 1, color=gray> [of which] </font><font size = 1, color=gray> [which there] </font><font size = 1, color=gray> [there are] </font><font size = 1, color=gray> [are very] </font><font size = 1, color=gray> [very few] </font><font size = 1, color=gray> [few I] </font><font size = 1, color=gray> [I just] </font><font size = 1, color=gray> [just did] </font><font size = 1, color=gray> [did not] </font><font size = 1, color=gray> [not care] </font><font size = 1, color=gray> [care about] </font><font size = 1, color=gray> [about any] </font><font size = 1, color=gray> [any of] </font><font size = 1, color=gray> [of the] </font><font size = 1, color=gray> [the characters.] </font><font size = 1, color=gray> [characters. Most] </font><font size = 1, color=gray> [Most of] </font><font size = 1, color=gray> [of us] </font><font size = 1, color=gray> [us have] </font><font size = 1, color=gray> [have ghosts] </font><font size = 1, color=gray> [ghosts in] </font><font size = 1, color=gray> [in the] </font><font size = 1, color=gray> [the closet,] </font><font size = 1, color=gray> [closet, and] </font><font size = 1, color=gray> [and Costner's] </font><font size = 1, color=gray> [Costner's character] </font><font size = 1, color=gray> [character are] </font><font size = 1, color=gray> [are realized] </font><font size = 1, color=gray> [realized early] </font><font size = 1, color=gray> [early on,] </font><font size = 1, color=gray> [on, and] </font><font size = 1, color=gray> [and then] </font><font size = 1, color=gray> [then forgotten] </font><font size = 1, color=gray> [forgotten until] </font><font size = 1, color=gray> [until much] </font><font size = 1, color=gray> [much later,] </font><font size = 1, color=gray> [later, by] </font><font size = 1, color=gray> [by which] </font><font size = 1, color=gray> [which time] </font><font size = 1, color=gray> [time I] </font><font size = 1, color=gray> [I did] </font><font size = 1, color=gray> [did not] </font><font size = 1, color=gray> [not care.] </font><font size = 1, color=gray> [care. The] </font><font size = 1, color=gray> [The character] </font><font size = 1, color=gray> [character we] </font><font size = 1, color=gray> [we should] </font><font size = 1, color=gray> [should really] </font><font size = 1, color=gray> [really care] </font><font size = 1, color=gray> [care about] </font><font size = 1, color=gray> [about is] </font><font size = 1, color=gray> [is a] </font><font size = 1, color=gray> [a very] </font><font size = 1, color=gray> [very cocky,] </font><font size = 1, color=gray> [cocky, overconfident] </font><font size = 1, color=gray> [overconfident Ashton] </font><font size = 1, color=gray> [Ashton Kutcher.] </font><font size = 1, color=gray> [Kutcher. The] </font><font size = 1, color=gray> [The problem] </font><font size = 1, color=gray> [problem is] </font><font size = 1, color=gray> [is he] </font><font size = 1, color=gray> [he comes] </font><font size = 1, color=gray> [comes off] </font><font size = 1, color=gray> [off as] </font><font size = 1, color=gray> [as kid] </font><font size = 1, color=gray> [kid who] </font><font size = 1, color=gray> [who thinks] </font><font size = 1, color=gray> [thinks he's] </font><font size = 1, color=gray> [he's better] </font><font size = 1, color=gray> [better than] </font><font size = 1, color=gray> [than anyone] </font><font size = 1, color=gray> [anyone else] </font><font size = 1, color=gray> [else around] </font><font size = 1, color=gray> [around him] </font><font size = 1, color=gray> [him and] </font><font size = 1, color=gray> [and shows] </font><font size = 1, color=gray> [shows no] </font><font size = 1, color=gray> [no signs] </font><font size = 1, color=gray> [signs of] </font><font size = 1, color=gray> [of a] </font><font size = 1, color=gray> [a cluttered] </font><font size = 1, color=gray> [cluttered closet.] </font><font size = 1, color=gray> [closet. His] </font><font size = 1, color=gray> [His only] </font><font size = 1, color=gray> [only obstacle] </font><font size = 1, color=gray> [obstacle appears] </font><font size = 1, color=gray> [appears to] </font><font size = 1, color=gray> [to be] </font><font size = 1, color=gray> [be winning] </font><font size = 1, color=gray> [winning over] </font><font size = 1, color=gray> [over Costner.] </font><font size = 1, color=gray> [Costner. Finally] </font><font size = 1, color=gray> [Finally when] </font><font size = 1, color=gray> [when we] </font><font size = 1, color=gray> [we are] </font><font size = 1, color=gray> [are well] </font><font size = 1, color=gray> [well past] </font><font size = 1, color=gray> [past the] </font><font size = 1, color=gray> [the half] </font><font size = 1, color=gray> [half way] </font><font size = 1, color=gray> [way point] </font><font size = 1, color=gray> [point of] </font><font size = 1, color=gray> [of this] </font><font size = 1, color=gray> [this stinker,] </font><font size = 1, color=gray> [stinker, Costner] </font><font size = 1, color=gray> [Costner tells] </font><font size = 1, color=gray> [tells us] </font><font size = 1, color=gray> [us all] </font><font size = 1, color=gray> [all about] </font><font size = 1, color=gray> [about Kutcher's] </font><font size = 1, color=gray> [Kutcher's ghosts.] </font><font size = 1, color=gray> [ghosts. We] </font><font size = 1, color=gray> [We are] </font><font size = 1, color=gray> [are told] </font><font size = 1, color=gray> [told why] </font><font size = 1, color=gray> [why Kutcher] </font><font size = 1, color=gray> [Kutcher is] </font><font size = 1, color=gray> [is driven] </font><font size = 1, color=gray> [driven to] </font><font size = 1, color=gray> [to be] </font><font size = 1, color=gray> [be the] </font><font size = 1, color=gray> [the best] </font><font size = 1, color=gray> [best with] </font><font size = 1, color=gray> [with no] </font><font size = 1, color=gray> [no prior] </font><font size = 1, color=gray> [prior inkling] </font><font size = 1, color=gray> [inkling or] </font><font size = 1, color=gray> [or foreshadowing.] </font><font size = 1, color=gray> [foreshadowing. No] </font><font size = 1, color=gray> [No magic] </font><font size = 1, color=gray> [magic here,] </font><font size = 1, color=gray> [here, it] </font><font size = 1, color=gray> [it was] </font><font size = 1, color=gray> [was all] </font><font size = 1, color=gray> [all I] </font><font size = 1, color=gray> [I could] </font><font size = 1, color=gray> [could do] </font><font size = 1, color=gray> [do to] </font><font size = 1, color=gray> [to keep] </font><font size = 1, color=gray> [keep from] </font><font size = 1, color=gray> [from turning] </font><font size = 1, color=gray> [turning it] </font><font size = 1, color=gray> [it off] </font><font size = 1, color=gray> [off an] </font><font size = 1, color=gray> [an hour] </font><font size = 1, color=gray> [hour in.] </font>"
      ],
      "text/plain": [
       "<coloredweighteddoc.ColoredWeightedDocBigram at 0x259042a2048>"
      ]
     },
     "metadata": {},
     "output_type": "display_data"
    }
   ],
   "source": [
    "j=0\n",
    "print(\"Unigram\")\n",
    "display.display(ColoredWeightedDoc(test_corpus[j], words, weights, token_pattern=tp, binary = True))\n",
    "print(\"\\n\\nBigram\")\n",
    "display.display(ColoredWeightedDocBigram(test_corpus[j], words, weights, token_pattern=tp, binary = True))"
   ]
  },
  {
   "cell_type": "markdown",
   "metadata": {},
   "source": [
    "# Documents that have zero words/phrases"
   ]
  },
  {
   "cell_type": "code",
   "execution_count": 155,
   "metadata": {
    "collapsed": true
   },
   "outputs": [],
   "source": [
    "counts = np.sum(X_train, axis=1)"
   ]
  },
  {
   "cell_type": "code",
   "execution_count": 156,
   "metadata": {},
   "outputs": [],
   "source": [
    "counts = counts.A1"
   ]
  },
  {
   "cell_type": "code",
   "execution_count": 157,
   "metadata": {},
   "outputs": [
    {
     "data": {
      "text/plain": [
       "2001"
      ]
     },
     "execution_count": 157,
     "metadata": {},
     "output_type": "execute_result"
    }
   ],
   "source": [
    "np.sum(counts==0)"
   ]
  },
  {
   "cell_type": "code",
   "execution_count": 158,
   "metadata": {
    "collapsed": true
   },
   "outputs": [],
   "source": [
    "vectorizer = CountVectorizer(lowercase=True, min_df = 10, ngram_range=(1,2), binary=True, token_pattern=tp)"
   ]
  },
  {
   "cell_type": "code",
   "execution_count": 159,
   "metadata": {
    "collapsed": true
   },
   "outputs": [],
   "source": [
    "X_empty = vectorizer.fit_transform(train_corpus[counts==0])"
   ]
  },
  {
   "cell_type": "code",
   "execution_count": 160,
   "metadata": {
    "collapsed": true
   },
   "outputs": [],
   "source": [
    "words = vectorizer.get_feature_names()"
   ]
  },
  {
   "cell_type": "code",
   "execution_count": 161,
   "metadata": {},
   "outputs": [],
   "source": [
    "clf = LogisticRegression(penalty='l1', C=0.5)\n",
    "clf.fit(X_empty, y_train[counts==0])\n",
    "weights = clf.coef_[0]\n",
    "bias = clf.intercept_[0]"
   ]
  },
  {
   "cell_type": "code",
   "execution_count": 162,
   "metadata": {},
   "outputs": [
    {
     "data": {
      "text/plain": [
       "693"
      ]
     },
     "execution_count": 162,
     "metadata": {},
     "output_type": "execute_result"
    }
   ],
   "source": [
    "np.sum(weights!=0)"
   ]
  },
  {
   "cell_type": "code",
   "execution_count": 163,
   "metadata": {
    "collapsed": true
   },
   "outputs": [],
   "source": [
    "wi = np.argsort(abs(weights))"
   ]
  },
  {
   "cell_type": "code",
   "execution_count": 164,
   "metadata": {
    "collapsed": true
   },
   "outputs": [],
   "source": [
    "freq = np.sum(X_empty, axis=0)\n",
    "freq = freq.A1"
   ]
  },
  {
   "cell_type": "code",
   "execution_count": 165,
   "metadata": {},
   "outputs": [
    {
     "data": {
      "text/plain": [
       "[('oh', 56, -1.852160102352566),\n",
       " ('outstanding', 29, 1.4549736736742811),\n",
       " ('money', 91, -1.3536988703125243),\n",
       " ('nothing', 171, -1.2117504479141665),\n",
       " ('co', 33, -1.178242904327063),\n",
       " ('the us', 15, -1.1769631659552784),\n",
       " ('on dvd', 34, 1.1034627689293059),\n",
       " ('think the', 41, 1.0901622350942839),\n",
       " (\"don't go\", 12, -1.0209021772790512),\n",
       " ('okay', 29, -1.0071936768102998),\n",
       " ('material', 28, -0.94951546025153677),\n",
       " ('and to', 34, 0.90698344491712557),\n",
       " ('a way', 39, 0.8916700783541528),\n",
       " ('rape', 23, -0.88349961337916327),\n",
       " ('grade', 34, -0.87903573349085939),\n",
       " ('stands', 21, 0.87839158206514156),\n",
       " ('theme', 32, 0.87708317849462392),\n",
       " ('pass', 23, -0.83404556370827032),\n",
       " ('bored', 28, -0.81828006267770104),\n",
       " ('to find', 71, 0.81326958477101485),\n",
       " (\"don't\", 383, -0.80653757969418727),\n",
       " ('storyline', 29, -0.79906371319927694),\n",
       " ('effort', 32, -0.78314686926460308),\n",
       " ('him in', 34, 0.77039812915087758),\n",
       " ('memorable', 29, 0.76132327901339314),\n",
       " ('ten', 34, -0.75905259534558145),\n",
       " ('4', 56, -0.75725690381995914),\n",
       " ('culture', 27, 0.75497653042620561),\n",
       " ('any', 321, -0.75277081495152576),\n",
       " ('producers', 30, -0.73030520538459998),\n",
       " ('little too', 10, -0.72908118495200258),\n",
       " ('become', 74, 0.72866966639073605),\n",
       " ('teeth', 12, -0.72413276528762716),\n",
       " ('liked', 80, 0.72164698441054298),\n",
       " ('a big', 56, 0.7212870533138438),\n",
       " ('bit', 154, 0.71992777456599433),\n",
       " ('honestly', 20, -0.71472018315287278),\n",
       " ('obvious', 45, -0.7130781683582389),\n",
       " ('reason', 89, -0.71209214017653677),\n",
       " ('short', 81, 0.71035007766997904),\n",
       " ('think about', 21, 0.70624969675887239),\n",
       " ('enough', 148, -0.7003361423888157),\n",
       " ('minutes', 108, -0.69309877435635936),\n",
       " ('women', 77, -0.69127970492502877),\n",
       " ('keeps', 41, 0.69029033687581121),\n",
       " ('after the', 60, 0.68875341229144149),\n",
       " ('actor', 79, -0.68731138715564333),\n",
       " ('fate', 19, 0.67765715493233114),\n",
       " ('searching for', 13, 0.67099549810459258),\n",
       " ('even the', 35, -0.66892531639679009),\n",
       " ('missed', 26, 0.66747343354074207),\n",
       " ('both', 172, 0.66510341342709345),\n",
       " ('job', 84, 0.65438768418051596),\n",
       " ('gore', 33, -0.65145942915561261),\n",
       " ('11', 20, 0.65124137275517535),\n",
       " ('ok', 41, -0.64805440725219532),\n",
       " ('propaganda', 20, -0.64371594737239279),\n",
       " ('particularly', 53, -0.64163830704336811),\n",
       " ('save', 46, -0.63175105281199018),\n",
       " ('clichã', 22, -0.63160518839808877),\n",
       " ('shows', 126, 0.63061210873583873),\n",
       " ('blonde', 18, -0.62759349545451759),\n",
       " ('the idea', 44, -0.62726592405852732),\n",
       " ('a complete', 12, -0.62393303564782632),\n",
       " ('entire', 72, -0.61890951326425492),\n",
       " ('true', 140, 0.60323943872483687),\n",
       " ('always', 121, 0.60039635384903312),\n",
       " ('plot', 257, -0.59976122338615756),\n",
       " ('that the', 245, -0.59954371528233685),\n",
       " ('up and', 53, 0.59874168437414221),\n",
       " ('sex', 69, -0.5889683933799903),\n",
       " ('the dvd', 46, -0.5850348853578643),\n",
       " ('magic', 22, 0.58178787968992107),\n",
       " ('expect', 51, 0.57995339472238505),\n",
       " ('mean', 75, -0.57584375214661343),\n",
       " ('better', 255, -0.57474409052135722),\n",
       " ('sorry', 33, -0.57260735509521898),\n",
       " ('obviously', 67, -0.56254252630946744),\n",
       " ('moving', 59, 0.55809610410777033),\n",
       " ('above', 35, 0.55489084177405956),\n",
       " ('close', 71, 0.55301926964751524),\n",
       " (\"and i'm\", 22, 0.55208765503937596),\n",
       " ('share', 23, 0.54983973648317841),\n",
       " (\"it's a\", 98, 0.54922725784970849),\n",
       " ('by her', 21, -0.54328675381351632),\n",
       " ('without', 152, 0.5412546163539268),\n",
       " ('guy', 88, -0.5398625701094939),\n",
       " ('maybe', 142, -0.53968777015316693),\n",
       " ('editing', 30, -0.53757398771649578),\n",
       " ('you can', 99, 0.5373157616659),\n",
       " ('as it', 70, 0.53577355010803018),\n",
       " ('wow', 23, -0.53370705359545079),\n",
       " ('of those', 69, -0.52897047308419587),\n",
       " ('have any', 22, 0.52865278074869937),\n",
       " ('i remember', 46, 0.52715825809722683),\n",
       " ('still', 277, 0.52687140040214731),\n",
       " ('and it', 108, 0.5267420258774006),\n",
       " ('enjoy', 85, 0.52127456966566099),\n",
       " ('appreciate', 31, 0.51866682035542078),\n",
       " ('today', 72, 0.51680235735089231),\n",
       " ('lives', 82, 0.51317252477710484),\n",
       " ('nature', 45, 0.51136086313781282),\n",
       " ('the big', 43, -0.50823344415010485),\n",
       " ('responsible', 16, -0.50616322603732322),\n",
       " ('then i', 21, 0.50373172794741816),\n",
       " ('watch this', 69, -0.50050598918100497),\n",
       " ('anything', 146, -0.50047988461518278),\n",
       " ('freedom', 19, 0.49705803568902779),\n",
       " ('form', 44, 0.4962243861364764),\n",
       " ('to take', 46, 0.49374916913224798),\n",
       " ('the', 1968, 0.49341422823892139),\n",
       " ('feelings', 26, 0.49190705112263816),\n",
       " ('oscar', 27, 0.48812038445690231),\n",
       " ('saw', 188, 0.48479891138472686),\n",
       " ('frank', 19, 0.48424557004598801),\n",
       " ('that we', 49, 0.48399437610764851),\n",
       " ('feature', 37, -0.47791956227806437),\n",
       " ('powerful', 30, 0.47718105963803958),\n",
       " ('not even', 32, -0.47538800835587508),\n",
       " ('should have', 59, -0.47523272995430049),\n",
       " ('light', 43, 0.46757913576847798),\n",
       " ('genius', 27, 0.46471534591643732),\n",
       " ('such a', 78, -0.46301629730398497),\n",
       " ('found', 112, -0.46212498471733743),\n",
       " ('what we', 23, 0.45968963121153666),\n",
       " ('the rest', 71, -0.45946507770980466),\n",
       " ('people are', 17, 0.45597862248130711),\n",
       " ('when you', 45, 0.45130785585489358),\n",
       " ('along', 89, 0.45072965313530539),\n",
       " ('no', 480, -0.45007682614095795),\n",
       " ('joe', 24, 0.44530173302530129),\n",
       " ('of both', 12, -0.44254879085516291),\n",
       " ('piece', 62, -0.44030983972492704),\n",
       " ('to this', 68, -0.43612704503347682),\n",
       " ('tragedy', 22, 0.43605822650948983),\n",
       " ('store', 29, -0.43260144997906275),\n",
       " ('but there', 26, -0.43035201577156429),\n",
       " ('the fact', 70, 0.42922882999220807),\n",
       " ('copy', 40, 0.42892800457997365),\n",
       " ('different', 115, 0.42797412473654645),\n",
       " ('unless', 32, -0.42388289493292386),\n",
       " ('definitely', 60, 0.42331342297499669),\n",
       " ('seem to', 44, -0.42030144520420448),\n",
       " ('now', 216, 0.40405566258957337),\n",
       " ('character', 249, -0.39516485399217033),\n",
       " ('why', 220, -0.39471769880179075),\n",
       " ('through', 237, -0.39441478545129394),\n",
       " ('final', 64, 0.3935859250883566),\n",
       " ('others', 71, 0.39271172855143388),\n",
       " ('the very', 48, 0.38853640582520371),\n",
       " ('of what', 42, 0.38789809029595956),\n",
       " ('does', 268, -0.38546390018830212),\n",
       " ('silly', 26, -0.38541140028792797),\n",
       " ('review', 39, -0.38486826351385151),\n",
       " ('script', 70, -0.38447579583796537),\n",
       " ('in your', 26, 0.38418048517597714),\n",
       " ('about it', 71, 0.38402569539639547),\n",
       " ('group of', 35, -0.38003983842246503),\n",
       " ('jesus', 14, -0.37717494184527461),\n",
       " ('trash', 16, -0.37179667571305852),\n",
       " ('that this', 97, -0.37121081423920838),\n",
       " ('future', 50, 0.36981189841000611),\n",
       " ('the way', 142, 0.3686781629890149),\n",
       " ('failed', 24, -0.36786770061846635),\n",
       " ('like it', 39, 0.36776529378296618),\n",
       " ('hand', 45, -0.36762436790455677),\n",
       " ('here', 237, 0.3673778775707538),\n",
       " ('type', 66, 0.36674688744279166),\n",
       " ('anti', 23, -0.3640370219570403),\n",
       " ('story with', 15, 0.36005966699081671),\n",
       " ('self', 73, -0.35461097776438566),\n",
       " ('happens to', 16, -0.35405152022374059),\n",
       " ('lifetime', 19, -0.35215812104919797),\n",
       " ('creature', 17, -0.35174966311995814),\n",
       " ('a real', 71, 0.35092531397162952),\n",
       " ('my', 448, 0.35006689885570841),\n",
       " ('it in', 66, -0.34936859488884459),\n",
       " ('yet', 131, -0.34658047066932063),\n",
       " ('comment', 50, 0.34655316025257166),\n",
       " ('complete', 42, -0.34273017600638328),\n",
       " ('fan', 83, 0.34101874557945927),\n",
       " ('in my', 91, 0.33980946158027425),\n",
       " ('most of', 109, -0.33914590615878726),\n",
       " ('them', 319, -0.33773688934290541),\n",
       " ('were', 409, -0.33772361509922461),\n",
       " ('reviewers', 14, -0.33761869550925322),\n",
       " ('just', 595, -0.33675548430758789),\n",
       " ('used', 104, -0.33505683815821374),\n",
       " ('right', 141, 0.3340323197977309),\n",
       " ('series', 121, 0.33277389163100085),\n",
       " ('not only', 42, 0.33251942577622695),\n",
       " ('slow', 65, -0.33245928508546863),\n",
       " ('female', 46, -0.33146034465309376),\n",
       " ('going on', 36, 0.32992494773750086),\n",
       " (\"you're\", 75, -0.32947076387676499),\n",
       " ('f', 20, -0.3293242053932724),\n",
       " ('the same', 180, -0.32810221722098498),\n",
       " ('might have', 37, -0.32691276544495312),\n",
       " ('br the', 295, 0.32570214063931019),\n",
       " ('you want', 45, -0.32429920693099484),\n",
       " ('try to', 46, 0.32372258980326468),\n",
       " ('is a', 506, 0.32205025996891368),\n",
       " ('french', 42, 0.32203679160854737),\n",
       " ('actually', 167, -0.3217413834849614),\n",
       " (\"but it's\", 45, 0.31978024405402228),\n",
       " ('as an', 64, -0.31596952958575114),\n",
       " (\"he's\", 74, -0.31537369802622672),\n",
       " ('this a', 26, -0.31365692623761843),\n",
       " (\"just doesn't\", 13, -0.31289985926783348),\n",
       " ('this film', 451, 0.31251968659120682),\n",
       " ('action', 116, 0.31129189635886662),\n",
       " ('glad', 20, 0.31047086451575812),\n",
       " ('walk', 31, -0.30913646725340121),\n",
       " (\"can't\", 137, -0.30861823104556746),\n",
       " (\"i don't\", 149, 0.30785251472611197),\n",
       " ('cinema', 66, 0.3076645821765136),\n",
       " ('masterpiece', 21, 0.30735623268496065),\n",
       " ('years', 277, 0.30719108219619262),\n",
       " ('beauty', 38, 0.30683990248124671),\n",
       " ('in', 1665, 0.30555458684648579),\n",
       " ('crap', 26, -0.304845204638657),\n",
       " ('director', 151, -0.30340820790055351),\n",
       " ('seems', 156, -0.30013834573944109),\n",
       " ('more than', 106, 0.29847165371167234),\n",
       " ('thriller', 50, 0.29769618479212656),\n",
       " ('everything', 99, 0.29753537748031172),\n",
       " ('far as', 31, -0.29742195304126712),\n",
       " ('very', 494, 0.29693388362386475),\n",
       " ('way too', 19, -0.29576192598532497),\n",
       " ('and his', 109, 0.29561873534891137),\n",
       " ('this is', 420, 0.29557568748313529),\n",
       " ('victims', 30, -0.29499467935911139),\n",
       " ('last', 136, 0.2945454385019024),\n",
       " ('seen', 260, 0.29362749852653675),\n",
       " ('br br', 960, -0.29298177030911038),\n",
       " ('looked', 35, -0.29289843483142108),\n",
       " ('christian', 16, -0.29207607786650441),\n",
       " ('manages', 33, 0.29141496387734406),\n",
       " ('heaven', 16, 0.29132727073966191),\n",
       " ('happens', 51, -0.28776172285609408),\n",
       " ('episode', 71, 0.28694183883156593),\n",
       " ('nasty', 21, -0.28642844102555326),\n",
       " ('but it', 161, 0.28630570723624188),\n",
       " ('trying', 113, -0.28298959103887988),\n",
       " ('interesting', 195, -0.28214796815561127),\n",
       " ('fiction', 24, 0.28141533289282344),\n",
       " ('film and', 69, 0.28109093404789631),\n",
       " ('three', 114, -0.27601947548350309),\n",
       " ('and a', 186, 0.2754875836517795),\n",
       " ('watch', 293, 0.27515775513669566),\n",
       " ('3', 69, -0.27475118093625567),\n",
       " ('i like', 50, 0.27422657243556664),\n",
       " ('going', 208, -0.27393102847546213),\n",
       " ('was also', 25, 0.2721669266201735),\n",
       " ('herself', 47, 0.27110267411116773),\n",
       " ('captured', 16, 0.2699808745499685),\n",
       " ('unbelievable', 25, -0.26898096556301093),\n",
       " ('is one', 97, 0.26777376010494025),\n",
       " ('end', 299, 0.26711187511781537),\n",
       " ('bunch', 35, -0.26607832439654461),\n",
       " ('besides the', 11, -0.26591172699326238),\n",
       " (\"i'm\", 196, -0.26032896294446345),\n",
       " ('i actually', 21, -0.26009452685150131),\n",
       " ('for the', 376, 0.25966704826500653),\n",
       " ('nicely', 15, 0.25955210948412843),\n",
       " ('if i', 44, -0.25832483896065184),\n",
       " ('with no', 29, -0.25828825536064526),\n",
       " ('night', 94, 0.25764310119562051),\n",
       " ('of this', 202, -0.25707685739556257),\n",
       " ('system', 33, -0.25492153298503689),\n",
       " ('performance', 103, 0.25417701322810127),\n",
       " ('the movie', 407, -0.2535689198433409),\n",
       " ('mind', 111, 0.2529865980549586),\n",
       " ('good and', 31, 0.2523387718827238),\n",
       " ('movie is', 189, -0.24964949248729065),\n",
       " ('thought', 160, 0.24944308525173284),\n",
       " ('instead', 97, -0.2486780494361272),\n",
       " ('you', 820, 0.24815434873600159),\n",
       " ('however', 166, -0.24652567831667965),\n",
       " ('films', 242, 0.24593280131901524),\n",
       " ('movie but', 45, -0.24398993002167227),\n",
       " ('as the', 262, 0.24374230194919055),\n",
       " ('had been', 32, -0.24214268402380715),\n",
       " ('have to', 166, -0.24094708512229146),\n",
       " ('he can', 20, -0.23746086161311672),\n",
       " ('either', 69, -0.23722124210535506),\n",
       " ('has', 614, 0.23659820231453071),\n",
       " ('should', 211, -0.23479664987206061),\n",
       " ('though it', 22, 0.23470439763918188),\n",
       " ('love', 230, 0.23349648912383275),\n",
       " ('1', 72, -0.23244334774228623),\n",
       " ('king', 31, -0.23242723360693149),\n",
       " ('tv', 164, -0.23030815633700963),\n",
       " ('huge', 37, -0.22945831883330581),\n",
       " ('he', 603, 0.22888815455184022),\n",
       " ('these days', 17, 0.22650042674344467),\n",
       " ('john', 85, 0.22599020648026608),\n",
       " ('time', 486, 0.22566864472870576),\n",
       " ('boat', 11, -0.22321498811591931),\n",
       " ('ground', 22, 0.22173177326551782),\n",
       " ('easily', 45, 0.22053961611536618),\n",
       " (\"i didn't\", 48, -0.21963225133991582),\n",
       " ('as he', 44, 0.21876509415811449),\n",
       " ('happened', 73, -0.21719977648999081),\n",
       " ('like a', 111, -0.21638774559534016),\n",
       " ('next', 82, 0.21609743084842672),\n",
       " ('creepy', 38, -0.21580768590143581),\n",
       " ('to bring', 26, -0.21555604454039173),\n",
       " ('problem', 71, -0.21360489749942652),\n",
       " ('kids', 85, -0.21357459891119249),\n",
       " ('a group', 25, -0.21282799898216831),\n",
       " ('times', 166, 0.21261092411539737),\n",
       " ('wife', 101, -0.21015599408060409),\n",
       " ('during', 114, -0.20901628873418385),\n",
       " ('gives', 81, 0.20855629790854147),\n",
       " ('someone', 108, -0.20732732028728315),\n",
       " ('this movie', 532, 0.20721032989418908),\n",
       " ('characters', 273, 0.20677468994256301),\n",
       " ('story', 448, 0.20640003520503458),\n",
       " ('how', 397, 0.20631488854317537),\n",
       " ('it is', 389, 0.20539717008677125),\n",
       " ('way i', 17, 0.20495827881914569),\n",
       " ('grand', 23, 0.20333351342483097),\n",
       " ('not like', 17, 0.20267637501283389),\n",
       " ('movie on', 19, 0.20254092409901436),\n",
       " ('on a', 163, -0.20198171354788907),\n",
       " ('viewing', 43, 0.20089324580994658),\n",
       " ('and that', 85, -0.2005355838934415),\n",
       " ('care about', 16, -0.20000765393290987),\n",
       " ('history', 75, 0.19789414360540711),\n",
       " ('on the', 414, 0.19732827368851147),\n",
       " ('ron', 10, -0.19647195014061752),\n",
       " (\"wouldn't\", 62, -0.19586488378790404),\n",
       " ('effect', 44, 0.19537951163420467),\n",
       " ('with this', 70, -0.19448950617376881),\n",
       " ('to the', 524, 0.19448874475269828),\n",
       " ('want', 180, -0.19271052911712502),\n",
       " ('past', 88, 0.19183102368747601),\n",
       " ('to be', 478, -0.19161249247831263),\n",
       " ('set in', 26, 0.19147854224193747),\n",
       " ('entertainment', 47, 0.18974158017176054),\n",
       " ('like this', 75, 0.18967060723989179),\n",
       " ('designed', 12, -0.18963271596933115),\n",
       " ('begins', 35, 0.18953347665453324),\n",
       " ('brother', 61, 0.1889277120918815),\n",
       " ('this', 1697, -0.18813844205660071),\n",
       " ('often', 62, 0.18782791184139228),\n",
       " ('romantic', 38, 0.18762111724598479),\n",
       " ('get', 409, 0.1874944533331909),\n",
       " ('world', 199, 0.18592880498040537),\n",
       " ('guys', 36, 0.18571617139194779),\n",
       " ('soldier', 12, -0.18565358197182247),\n",
       " ('done', 149, 0.18446102060426664),\n",
       " (\"isn't\", 110, -0.18432788009879622),\n",
       " ('credits', 26, -0.18393054031335312),\n",
       " ('been a', 52, 0.18133039274153739),\n",
       " ('in fact', 73, -0.18113324040437948),\n",
       " ('are', 851, -0.18109642697824818),\n",
       " ('be a', 133, -0.1773246639841439),\n",
       " ('many people', 28, 0.17615946762969448),\n",
       " ('to work', 26, -0.1757882756382968),\n",
       " ('confusing', 21, -0.17547497262839534),\n",
       " ('present', 37, 0.17467697040939639),\n",
       " ('to escape', 11, -0.17331618545440863),\n",
       " ('do with', 39, 0.17251350967926712),\n",
       " ('is really', 37, -0.17091994689840009),\n",
       " ('chance', 59, 0.16955815098512858),\n",
       " ('takes', 115, -0.16860175229871477),\n",
       " ('you have', 93, 0.16844432093477812),\n",
       " ('really', 400, -0.16844299910415625),\n",
       " ('show', 199, -0.16832227541788264),\n",
       " ('animal', 26, -0.16753008849675266),\n",
       " ('far', 127, 0.16604534706271856),\n",
       " ('want to', 135, -0.16569949921549243),\n",
       " ('other', 369, 0.16554893785622174),\n",
       " ('rented', 23, -0.16437310166818292),\n",
       " ('which', 474, -0.16426189899986593),\n",
       " ('around the', 33, 0.16408833058038802),\n",
       " ('human', 84, 0.16318356047553995),\n",
       " ('two', 277, 0.16247980532993939),\n",
       " ('supposed to', 63, -0.16167336254905185),\n",
       " ('the last', 77, 0.16117813109235682),\n",
       " ('use', 100, -0.16110850663951534),\n",
       " ('the set', 14, -0.16044365783214598),\n",
       " (\"if you're\", 39, -0.15983618268680061),\n",
       " ('look', 200, -0.15843359799358622),\n",
       " ('was shot', 12, -0.15821133553523842),\n",
       " ('would', 510, -0.15813169720246967),\n",
       " ('place', 114, -0.15757631132426611),\n",
       " ('good', 548, 0.15743369824062317),\n",
       " ('documentary', 57, -0.1564158075761754),\n",
       " ('the power', 18, 0.15558071785520938),\n",
       " ('i would', 143, 0.15509438349550891),\n",
       " (\"80's\", 14, 0.15482166021609584),\n",
       " ('because', 347, -0.15462742312619321),\n",
       " ('br', 960, -0.15452445997407177),\n",
       " ('named', 29, -0.15451081415923923),\n",
       " ('word', 53, -0.1539701260456369),\n",
       " ('for those', 38, 0.15336747716284826),\n",
       " ('it has', 83, 0.15317952448200911),\n",
       " ('woman', 111, -0.15229809538252004),\n",
       " ('such', 213, 0.15222178964840774),\n",
       " ('family', 151, 0.15113891623165784),\n",
       " ('to have', 92, -0.15109235153029241),\n",
       " ('daughter', 54, -0.15096949423248834),\n",
       " ('part of', 82, 0.1506079842187551),\n",
       " ('watching', 201, 0.14980593419152108),\n",
       " (\"couldn't\", 68, -0.14882455545109136),\n",
       " ('similar', 55, 0.14818744688475255),\n",
       " ('held', 19, 0.14816486257133235),\n",
       " ('may', 172, 0.14722496285930109),\n",
       " ('s', 83, -0.14720851060865717),\n",
       " ('see', 502, 0.1454618302126699),\n",
       " ('crew', 36, 0.14498172750786179),\n",
       " ('when i', 99, -0.14404892864694538),\n",
       " ('pretty good', 35, 0.14323412197932586),\n",
       " ('of 10', 56, 0.14187311541634248),\n",
       " ('town', 73, -0.14131348230511603),\n",
       " ('nice', 89, 0.14126084551551127),\n",
       " ('her', 416, -0.14087758285113033),\n",
       " ('sounds', 24, -0.13928538071957466),\n",
       " ('made', 348, -0.13876808447091546),\n",
       " ('mouth', 17, -0.13868969549124252),\n",
       " ('some', 536, -0.13860690056143715),\n",
       " ('somewhat', 45, 0.13856673305017889),\n",
       " ('long', 176, 0.13802940293401278),\n",
       " ('pretentious', 12, -0.13727797985953272),\n",
       " ('they', 636, -0.13655885104205792),\n",
       " ('liked this', 19, 0.1362002138378936),\n",
       " (\"doesn't seem\", 12, -0.13600754934661613),\n",
       " ('please', 59, -0.13595266398108263),\n",
       " ('it may', 33, -0.1345548077652802),\n",
       " ('a small', 45, 0.13405078219341759),\n",
       " ('major', 38, -0.13277738738961942),\n",
       " ('given', 85, -0.13275315334568377),\n",
       " ('again', 183, 0.13224624832963067),\n",
       " ('emotional', 30, 0.13107200621020113),\n",
       " ('been', 393, -0.13092178765538706),\n",
       " ('though', 173, -0.13067029192691978),\n",
       " ('paid', 20, -0.12994170539792338),\n",
       " ('believable', 38, 0.12980291874339064),\n",
       " ('and their', 35, 0.12977145628256406),\n",
       " ('b', 52, 0.12951698255905489),\n",
       " ('out and', 41, 0.12946187207744109),\n",
       " ('south', 26, 0.12941824103637278),\n",
       " ('sense', 87, -0.12891284683714993),\n",
       " ('worth', 98, 0.12793517959982981),\n",
       " ('aired', 13, 0.12757588523583621),\n",
       " ('simply', 62, -0.12748626368030833),\n",
       " ('heart', 66, 0.12737158536013088),\n",
       " ('tell', 87, 0.12690651607800174),\n",
       " ('needs', 42, 0.12687558153977227),\n",
       " ('it can', 19, 0.12613338987629985),\n",
       " ('otherwise', 27, -0.1260774254520608),\n",
       " ('making', 121, -0.12586393324309558),\n",
       " ('and they', 42, -0.12585642378297912),\n",
       " ('i love', 37, 0.12561327484554913),\n",
       " ('cast', 139, -0.12490771373204966),\n",
       " ('on', 1080, -0.124873765957732),\n",
       " ('up', 568, 0.12393564390293682),\n",
       " ('about the', 168, 0.12352938182488414),\n",
       " ('beginning', 91, 0.12338825653305253),\n",
       " ('friend', 45, 0.12196996246803458),\n",
       " ('to do', 131, 0.12063934434059009),\n",
       " ('i say', 31, 0.12056285857122033),\n",
       " ('it br', 47, 0.12047740263934974),\n",
       " ('first', 377, 0.11917523084301647),\n",
       " ('those', 247, -0.1166670134910751),\n",
       " ('innocent', 29, 0.11629712071263676),\n",
       " ('we have', 43, -0.11527597703720306),\n",
       " ('will', 403, 0.11484635604441097),\n",
       " ('was', 1069, -0.11480951573402029),\n",
       " ('people who', 62, -0.11350898390116292),\n",
       " ('but', 1198, -0.11314478460779788),\n",
       " ('who', 775, 0.11255173282842151),\n",
       " ('film', 927, 0.11212526434807353),\n",
       " ('dancing', 20, 0.10917390062510894),\n",
       " ('film to', 36, 0.1085541420350729),\n",
       " ('believe', 133, -0.10808376797572487),\n",
       " ('plot is', 40, 0.10716116133447859),\n",
       " ('easy', 36, 0.10702770629301778),\n",
       " ('together', 95, 0.10618898722137332),\n",
       " ('although', 125, 0.10574596795146711),\n",
       " ('starring', 29, 0.10546990677285764),\n",
       " ('think', 350, 0.10477398216442552),\n",
       " ('90', 23, -0.1047729555106109),\n",
       " ('one of', 283, 0.10386326337494987),\n",
       " ('big', 181, -0.10346742822548943),\n",
       " ('could be', 58, 0.10269876105473626),\n",
       " ('supposed', 78, -0.10174400586560947),\n",
       " ('the role', 34, -0.10099491946006647),\n",
       " ('make a', 65, -0.10064332043474188),\n",
       " ('when the', 95, -0.10029100620700722),\n",
       " ('their', 429, -0.099936655389938386),\n",
       " ('group', 57, -0.0992536029183613),\n",
       " ('also', 360, -0.099172558883431516),\n",
       " ('by', 765, -0.098775353948446942),\n",
       " ('good but', 26, -0.097411570493821042),\n",
       " ('disgusting', 12, -0.097057594175721698),\n",
       " ('for years', 18, -0.096768085077092073),\n",
       " ('into a', 86, -0.096676567555259968),\n",
       " ('sort', 55, -0.096529567591978796),\n",
       " ('into the', 115, 0.095910515104985938),\n",
       " ('i had', 88, -0.095764338744974975),\n",
       " ('i have', 206, 0.095475374891417317),\n",
       " ('if you', 282, 0.095012968367859024),\n",
       " ('so', 676, -0.094905782391681043),\n",
       " ('and for', 25, 0.094697241189326098),\n",
       " ('like to', 69, -0.094197961619674808),\n",
       " ('some of', 108, 0.094126793284364921),\n",
       " ('it will', 35, 0.093824793137901513),\n",
       " ('there is', 192, 0.093408934074924302),\n",
       " ('likes', 25, 0.092724406959395544),\n",
       " (\"didn't\", 191, -0.09242697946031625),\n",
       " ('me', 437, 0.091922289804433011),\n",
       " ('lead', 71, 0.09084649800550168),\n",
       " ('ending', 105, -0.089911109611397311),\n",
       " ('danny', 17, 0.089770749419157608),\n",
       " ('fast', 36, 0.089140314690720493),\n",
       " ('overall', 52, 0.088225023121715387),\n",
       " ('movie and', 85, 0.086486945004439902),\n",
       " ('little', 301, -0.085934349152768055),\n",
       " ('it comes', 21, 0.085641646244043412),\n",
       " ('robert', 45, -0.085317844036292029),\n",
       " ('day', 149, 0.085077032498846142),\n",
       " ('the only', 151, -0.084593424769271022),\n",
       " ('i just', 43, -0.083634948348686552),\n",
       " ('i liked', 37, 0.083134141184607602),\n",
       " ('your', 261, 0.08238173078630881),\n",
       " ('could', 323, -0.081857859370453617),\n",
       " ('the picture', 19, -0.081556181393040897),\n",
       " ('in a', 387, 0.081287038080393281),\n",
       " ('the one', 64, 0.080583331858709722),\n",
       " ('national', 19, 0.078597813556299453),\n",
       " ('br as', 37, -0.078313975197854602),\n",
       " ('time to', 37, 0.078184004110404437),\n",
       " ('even', 409, -0.077035985079320385),\n",
       " ('not to', 71, 0.076879803806357755),\n",
       " ('impressed', 21, 0.076527587270262779),\n",
       " ('full of', 34, -0.075517975166003518),\n",
       " ('care', 74, -0.075408323221648907),\n",
       " ('7', 47, 0.074322834103416613),\n",
       " ('the next', 45, 0.074258152765917032),\n",
       " ('with', 1168, 0.073964630456345409),\n",
       " ('age', 72, 0.073469626467362367),\n",
       " ('60s', 14, -0.072771725068286303),\n",
       " ('make', 344, -0.071388780534185778),\n",
       " ('roles', 45, 0.070304527252512586),\n",
       " ('racial', 11, -0.070213382867630666),\n",
       " ('came', 86, 0.068501175180885651),\n",
       " ('especially', 117, 0.068306286690184945),\n",
       " ('of these', 42, -0.067380008059163929),\n",
       " ('in the', 917, -0.066269761693334261),\n",
       " ('br i', 165, 0.066091564999949823),\n",
       " ('has been', 80, 0.065840964439093527),\n",
       " ('company', 30, -0.06469136059378254),\n",
       " ('under', 80, 0.064473178174286605),\n",
       " ('hell', 54, -0.0641707070671797),\n",
       " ('there', 616, 0.063151769543221173),\n",
       " ('recommend', 56, 0.062133075191271661),\n",
       " ('know', 313, 0.061987437229782304),\n",
       " ('its', 321, 0.061930860396164238),\n",
       " ('even though', 51, 0.060964954079614712),\n",
       " ('but if', 45, 0.060497197633653639),\n",
       " ('the book', 44, -0.060323291905485125),\n",
       " ('entertaining', 65, 0.059097070672482072),\n",
       " ('it did', 19, -0.058700813020952335),\n",
       " ('tell you', 27, 0.057958338579675056),\n",
       " ('what the', 71, -0.056891352426097226),\n",
       " ('than what', 10, 0.056743715252951625),\n",
       " ('that was', 83, -0.05585876967547114),\n",
       " ('out of', 232, -0.055558693593799398),\n",
       " ('body', 45, -0.055242030741419826),\n",
       " ('sort of', 47, -0.054793664042967538),\n",
       " ('in that', 44, 0.054713258261744092),\n",
       " ('much', 408, -0.054647595638036339),\n",
       " ('decides', 27, -0.054050959059056998),\n",
       " ('the show', 46, 0.053980479840985439),\n",
       " ('it as', 45, -0.053810259821739828),\n",
       " ('with the', 348, -0.053780140289347508),\n",
       " ('and the', 493, 0.053346545772141589),\n",
       " ('heads', 15, -0.052905274584699444),\n",
       " ('turn', 64, -0.052382451249234685),\n",
       " ('it', 1523, 0.052071676141008154),\n",
       " ('follows', 25, 0.052053391287021321),\n",
       " ('house', 78, -0.050729789394678516),\n",
       " ('not just', 20, 0.050117647342329659),\n",
       " ('taking', 51, 0.04948600332820647),\n",
       " ('such as', 46, 0.049445139540232115),\n",
       " ('kept', 44, 0.048606282130157503),\n",
       " ('has a', 114, -0.047976136112836416),\n",
       " ('it all', 47, -0.047914650051425298),\n",
       " ('think this', 21, 0.047806998144917227),\n",
       " ('high', 112, -0.047751953858893137),\n",
       " ('i', 1290, 0.047245429248002374),\n",
       " ('art', 45, 0.046979425513130349),\n",
       " ('because i', 40, -0.046773020327281097),\n",
       " ('wrote', 32, -0.045794303292951831),\n",
       " ('audience', 105, 0.0446331913399933),\n",
       " (\"isn't a\", 19, 0.044399943336685718),\n",
       " ('mostly', 35, -0.043325909595889278),\n",
       " ('ever', 213, -0.042998811326171046),\n",
       " ('the family', 35, 0.042988832417614711),\n",
       " ('dead', 86, 0.042844735416588849),\n",
       " ('soundtrack', 30, 0.042818802263990166),\n",
       " ('not', 977, -0.042653990358934517),\n",
       " (\"the film's\", 38, -0.042402390936429217),\n",
       " ('ex', 19, -0.04205391249574552),\n",
       " ('hollywood', 88, -0.041384931632450224),\n",
       " ('put', 126, 0.040918374768164491),\n",
       " ('early', 83, -0.039826521894895231),\n",
       " ('point of', 47, -0.039215214293156449),\n",
       " ('8', 39, 0.03909799021762668),\n",
       " ('out', 663, -0.039085443330400198),\n",
       " ('where', 270, 0.037750193806723092),\n",
       " ('tells', 43, 0.037209387324898036),\n",
       " ('did not', 57, -0.035480516033299422),\n",
       " ('at all', 69, -0.034110877007317617),\n",
       " ('from', 781, -0.033909723529835629),\n",
       " ('filmed', 46, 0.032389046985395742),\n",
       " ('black', 88, 0.03229028018830124),\n",
       " ('small', 90, 0.031784233781085719),\n",
       " ('do', 399, -0.03146610467866312),\n",
       " ('had', 430, -0.030628208145053536),\n",
       " ('example', 58, -0.030067973704708574),\n",
       " ('when she', 32, 0.030020098286653765),\n",
       " ('star', 78, 0.029806092810484543),\n",
       " ('every', 149, -0.029439603369987785),\n",
       " ('young', 182, 0.029031155952837208),\n",
       " ('wish', 61, -0.02882971832410083),\n",
       " ('might', 150, -0.028310603087982215),\n",
       " ('as his', 21, 0.028247178267399468),\n",
       " ('dialogue', 53, -0.028152438204759468),\n",
       " ('in this', 293, -0.028151238395597654),\n",
       " ('idea', 106, -0.027953461072108037),\n",
       " ('scientist', 19, -0.027631101900334864),\n",
       " ('perhaps', 85, 0.027542044225800554),\n",
       " ('it and', 76, 0.027021242775546666),\n",
       " ('i was', 260, -0.027003401114561856),\n",
       " ('amusing', 26, -0.026663428784018138),\n",
       " ('well', 442, -0.026632326254509144),\n",
       " ('already', 73, 0.026311285505364927),\n",
       " ('help', 79, 0.025759526792701201),\n",
       " ('six', 17, -0.023926085582274645),\n",
       " ('right to', 13, 0.022019027623403548),\n",
       " ('to know', 47, 0.021853672980827438),\n",
       " ('least', 129, -0.021495267990407334),\n",
       " (\"aren't\", 32, -0.020985343256962923),\n",
       " (\"there's\", 141, -0.020977966721743378),\n",
       " ('and what', 37, 0.020799188231069899),\n",
       " ('and how', 37, 0.020069909296132352),\n",
       " ('chemistry', 15, -0.019628328141668927),\n",
       " ('humor', 61, 0.019292692356561902),\n",
       " ('and i', 196, 0.01900023863307844),\n",
       " ('spirit', 34, 0.01861427131979437),\n",
       " ('an', 797, -0.018141384960481337),\n",
       " ('can', 467, 0.017507996929656683),\n",
       " ('for a', 215, 0.017029466835491142),\n",
       " ('life', 294, 0.016836546639502823),\n",
       " ('realistic', 40, 0.016397529783982952),\n",
       " ('spend', 24, -0.016083843847327091),\n",
       " ('behavior', 23, -0.01577467449916314),\n",
       " ('budget', 69, -0.015488472257454765),\n",
       " ('things', 153, 0.015167223587438383),\n",
       " ('touching', 22, 0.015068222379815454),\n",
       " ('on this', 60, -0.014699910158519054),\n",
       " ('i think', 156, 0.014662383724586473),\n",
       " ('possible', 61, -0.01341035081062586),\n",
       " ('to get', 149, 0.013102258767026526),\n",
       " ('pick', 24, 0.012633846584616516),\n",
       " ('another', 216, 0.012019821700679173),\n",
       " ('more', 562, 0.011740471785489022),\n",
       " ('current', 21, 0.011710496334223426),\n",
       " ('spot', 21, 0.0080786128924381587),\n",
       " ('behind the', 21, -0.0078559282390096522),\n",
       " ('this was', 108, -0.0076313204220909295),\n",
       " ('that i', 150, 0.0074043059994311541),\n",
       " ('of the', 1060, 0.0064410328277362131),\n",
       " ('later', 112, 0.0063104150032357005),\n",
       " ('this one', 133, -0.006261140815207596),\n",
       " ('act', 62, 0.0062004975848992394),\n",
       " ('is the', 334, -0.0061307873204266908),\n",
       " ('stunning', 18, 0.0060815065350126561),\n",
       " ('truly', 60, 0.0054787104452482032),\n",
       " (\"it's\", 507, 0.0053918367435972182),\n",
       " ('point', 158, -0.0051565397128375042),\n",
       " ('of history', 10, -0.0041185744234666557),\n",
       " ('and is', 60, 0.0040254113643074761),\n",
       " ('for', 1255, -0.002997356592180356),\n",
       " ('something', 209, 0.0024671435906722769),\n",
       " ('famous', 43, 0.0011421593109347647),\n",
       " ('each', 110, 0.00080596739497962419),\n",
       " ('like', 734, 0.0001615209690751445),\n",
       " ('favorites', 14, 0.0),\n",
       " ('father is', 10, 0.0),\n",
       " ('favourite', 15, 0.0),\n",
       " ('giving', 37, 0.0),\n",
       " ('favor', 15, 0.0),\n",
       " ('film a', 20, 0.0),\n",
       " ('fear', 23, 0.0),\n",
       " ('film about', 23, 0.0),\n",
       " ('fault', 10, 0.0),\n",
       " ('features', 25, 0.0),\n",
       " ('featuring', 19, 0.0),\n",
       " ('film also', 13, 0.0),\n",
       " ('global', 15, 0.0),\n",
       " ('go', 239, 0.0),\n",
       " ('fashioned', 12, 0.0),\n",
       " ('get the', 40, 0.0),\n",
       " ('get this', 15, 0.0),\n",
       " ('goes on', 20, 0.0),\n",
       " ('goes', 103, 0.0),\n",
       " ('film are', 11, 0.0),\n",
       " ('god and', 10, 0.0),\n",
       " ('god', 51, 0.0),\n",
       " ('go to', 45, 0.0),\n",
       " ('go through', 10, 0.0),\n",
       " ('kept me', 11, 0.0),\n",
       " ('father', 86, 0.0),\n",
       " ('go out', 16, 0.0),\n",
       " ('go on', 13, 0.0),\n",
       " ('father and', 19, 0.0),\n",
       " ('go back', 17, 0.0),\n",
       " ('feel', 111, 0.0),\n",
       " ('filled with', 26, 0.0),\n",
       " ('field', 20, 0.0),\n",
       " ('filled', 36, 0.0),\n",
       " ('girls', 44, 0.0),\n",
       " ('felt', 65, 0.0),\n",
       " ('felt like', 10, 0.0),\n",
       " ('give this', 22, 0.0),\n",
       " ('fight', 43, 0.0),\n",
       " ('festival', 21, 0.0),\n",
       " ('give the', 22, 0.0),\n",
       " ('give it', 33, 0.0),\n",
       " ('give', 160, 0.0),\n",
       " ('girlfriend', 33, 0.0),\n",
       " ('gives the', 13, 0.0),\n",
       " ('girl who', 15, 0.0),\n",
       " ('few', 184, 0.0),\n",
       " ('girl and', 13, 0.0),\n",
       " ('few years', 23, 0.0),\n",
       " ('girl', 129, 0.0),\n",
       " ('giant', 15, 0.0),\n",
       " ('ghost', 21, 0.0),\n",
       " ('getting', 94, 0.0),\n",
       " ('fighting', 23, 0.0),\n",
       " ('gets a', 12, 0.0),\n",
       " ('given a', 15, 0.0),\n",
       " ('given the', 11, 0.0),\n",
       " ('feel like', 18, 0.0),\n",
       " ('gives a', 21, 0.0),\n",
       " ('feel that', 10, 0.0),\n",
       " ('fi', 23, 0.0),\n",
       " ('feeling', 58, 0.0),\n",
       " ('feeling of', 21, 0.0),\n",
       " ('figured', 14, 0.0),\n",
       " ('feels', 44, 0.0),\n",
       " ('feels like', 14, 0.0),\n",
       " ('feet', 16, 0.0),\n",
       " ('figure out', 16, 0.0),\n",
       " ('figure', 36, 0.0),\n",
       " ('get to', 38, 0.0),\n",
       " ('fell', 18, 0.0),\n",
       " ('gets', 131, 0.0),\n",
       " ('fights', 14, 0.0),\n",
       " ('fellow', 18, 0.0),\n",
       " ('kevin', 19, 0.0),\n",
       " ('keep', 92, 0.0),\n",
       " ('fashion', 18, 0.0),\n",
       " ('got it', 14, 0.0),\n",
       " ('explanation', 19, 0.0),\n",
       " ('exploitation', 13, 0.0),\n",
       " ('government', 26, 0.0),\n",
       " ('justice', 23, 0.0),\n",
       " ('explore', 11, 0.0),\n",
       " ('gotten', 16, 0.0),\n",
       " ('got to', 23, 0.0),\n",
       " ('explosion', 10, 0.0),\n",
       " ('extended', 10, 0.0),\n",
       " ('got the', 13, 0.0),\n",
       " ('got a', 23, 0.0),\n",
       " ('key', 19, 0.0),\n",
       " ('extra', 23, 0.0),\n",
       " ('got', 168, 0.0),\n",
       " ('extras', 11, 0.0),\n",
       " ('extreme', 16, 0.0),\n",
       " ('extremely', 44, 0.0),\n",
       " ('eye', 45, 0.0),\n",
       " ('gory', 12, 0.0),\n",
       " ('gorgeous', 14, 0.0),\n",
       " ('eyes', 58, 0.0),\n",
       " ('face', 70, 0.0),\n",
       " ('explains', 13, 0.0),\n",
       " ('explained', 14, 0.0),\n",
       " ('explain', 26, 0.0),\n",
       " ('grace', 15, 0.0),\n",
       " ('excitement', 10, 0.0),\n",
       " ('green', 26, 0.0),\n",
       " ('exciting', 16, 0.0),\n",
       " ('executive', 10, 0.0),\n",
       " ('exercise', 11, 0.0),\n",
       " ('exist', 18, 0.0),\n",
       " ('existence', 14, 0.0),\n",
       " ('expectations', 16, 0.0),\n",
       " ('greatest', 39, 0.0),\n",
       " ('greater', 11, 0.0),\n",
       " ('expected', 33, 0.0),\n",
       " ('expecting', 25, 0.0),\n",
       " ('graphic', 14, 0.0),\n",
       " ('granted', 12, 0.0),\n",
       " ('grant', 13, 0.0),\n",
       " ('experience', 53, 0.0),\n",
       " ('experienced', 12, 0.0),\n",
       " ('experiences', 12, 0.0),\n",
       " ('experiment', 11, 0.0),\n",
       " ('just too', 10, 0.0),\n",
       " ('expert', 10, 0.0),\n",
       " ('good to', 12, 0.0),\n",
       " ('good the', 13, 0.0),\n",
       " ('faced', 15, 0.0),\n",
       " ('falls', 33, 0.0),\n",
       " ('good as', 36, 0.0),\n",
       " ('fame', 13, 0.0),\n",
       " ('familiar', 31, 0.0),\n",
       " ('good acting', 12, 0.0),\n",
       " ('familiar with', 10, 0.0),\n",
       " ('families', 18, 0.0),\n",
       " ('gone', 41, 0.0),\n",
       " ('family and', 13, 0.0),\n",
       " ('golden', 10, 0.0),\n",
       " ('family is', 11, 0.0),\n",
       " ('gold', 17, 0.0),\n",
       " ('going to', 95, 0.0),\n",
       " ('going through', 11, 0.0),\n",
       " ('fan of', 47, 0.0),\n",
       " ('film because', 10, 0.0),\n",
       " ('fans', 50, 0.0),\n",
       " ('fantasy', 27, 0.0),\n",
       " ('far from', 10, 0.0),\n",
       " ('far more', 16, 0.0),\n",
       " ('fare', 12, 0.0),\n",
       " ('goes to', 16, 0.0),\n",
       " ('false', 14, 0.0),\n",
       " ('falling', 21, 0.0),\n",
       " ('good story', 13, 0.0),\n",
       " ('fallen', 11, 0.0),\n",
       " ('faces', 13, 0.0),\n",
       " ('fact', 154, 0.0),\n",
       " ('fact i', 10, 0.0),\n",
       " ('good old', 10, 0.0),\n",
       " ('good movie', 40, 0.0),\n",
       " ('fact that', 63, 0.0),\n",
       " ('fact the', 16, 0.0),\n",
       " ('good job', 16, 0.0),\n",
       " ('facts', 13, 0.0),\n",
       " ('good in', 11, 0.0),\n",
       " ('good for', 12, 0.0),\n",
       " ('good film', 24, 0.0),\n",
       " ('good enough', 13, 0.0),\n",
       " ('fail', 11, 0.0),\n",
       " ('fair', 21, 0.0),\n",
       " ('fairly', 32, 0.0),\n",
       " ('faith', 13, 0.0),\n",
       " ('fake', 16, 0.0),\n",
       " ('fall', 40, 0.0),\n",
       " ('fall in', 11, 0.0),\n",
       " ('good br', 10, 0.0),\n",
       " ('film as', 17, 0.0),\n",
       " ('get in', 15, 0.0),\n",
       " ('film br', 41, 0.0),\n",
       " ('k', 12, 0.0),\n",
       " ('flick', 49, 0.0),\n",
       " ('free', 42, 0.0),\n",
       " ('flight', 12, 0.0),\n",
       " ('fred', 12, 0.0),\n",
       " ('floor', 12, 0.0),\n",
       " ('fly', 10, 0.0),\n",
       " ('flying', 17, 0.0),\n",
       " ('frankly', 15, 0.0),\n",
       " ('focus', 26, 0.0),\n",
       " ('focuses', 11, 0.0),\n",
       " ('folks', 25, 0.0),\n",
       " ('follow', 43, 0.0),\n",
       " ('france', 23, 0.0),\n",
       " ('follow the', 10, 0.0),\n",
       " ('frame', 12, 0.0),\n",
       " ('fox', 16, 0.0),\n",
       " ('grew', 22, 0.0),\n",
       " ('following', 42, 0.0),\n",
       " ('food', 14, 0.0),\n",
       " ('four', 31, 0.0),\n",
       " ('footage', 27, 0.0),\n",
       " ('flesh', 11, 0.0),\n",
       " ('flaws', 13, 0.0),\n",
       " ('flat', 28, 0.0),\n",
       " ('first saw', 15, 0.0),\n",
       " ('finished', 15, 0.0),\n",
       " ('friends and', 13, 0.0),\n",
       " ('fire', 29, 0.0),\n",
       " ('first film', 14, 0.0),\n",
       " ('first movie', 16, 0.0),\n",
       " ('friends', 78, 0.0),\n",
       " ('first of', 19, 0.0),\n",
       " ('friend and', 10, 0.0),\n",
       " ('first place', 10, 0.0),\n",
       " ('first time', 36, 0.0),\n",
       " ('frequently', 10, 0.0),\n",
       " ('fish', 10, 0.0),\n",
       " ('fit', 25, 0.0),\n",
       " ('five', 40, 0.0),\n",
       " ('five minutes', 10, 0.0),\n",
       " ('friday', 11, 0.0),\n",
       " ('fresh', 17, 0.0),\n",
       " ('flashback', 11, 0.0),\n",
       " ('flashbacks', 18, 0.0),\n",
       " ('keep the', 10, 0.0),\n",
       " ('found this', 10, 0.0),\n",
       " ('found the', 19, 0.0),\n",
       " ('found it', 16, 0.0),\n",
       " ('for no', 10, 0.0),\n",
       " ('forget', 42, 0.0),\n",
       " ('forever', 16, 0.0),\n",
       " ('for me', 72, 0.0),\n",
       " ('foreign', 11, 0.0),\n",
       " ('forces', 18, 0.0),\n",
       " ('forced to', 14, 0.0),\n",
       " ('forced', 24, 0.0),\n",
       " ('for more', 11, 0.0),\n",
       " ('for my', 13, 0.0),\n",
       " ('for one', 15, 0.0),\n",
       " ('forgotten', 25, 0.0),\n",
       " ('for some', 24, 0.0),\n",
       " ('for that', 36, 0.0),\n",
       " ('force', 29, 0.0),\n",
       " ('for their', 30, 0.0),\n",
       " ('for them', 11, 0.0),\n",
       " ('for this', 86, 0.0),\n",
       " ('for tv', 17, 0.0),\n",
       " ('for yourself', 13, 0.0),\n",
       " ('for you', 42, 0.0),\n",
       " ('forgot', 10, 0.0),\n",
       " ('for many', 10, 0.0),\n",
       " ('for all', 19, 0.0),\n",
       " ('for example', 30, 0.0),\n",
       " ('forward to', 12, 0.0),\n",
       " ('for an', 36, 0.0),\n",
       " ('for another', 12, 0.0),\n",
       " ('for any', 17, 0.0),\n",
       " ('forward', 33, 0.0),\n",
       " ('for anyone', 10, 0.0),\n",
       " ('fortunately', 11, 0.0),\n",
       " ('for everyone', 12, 0.0),\n",
       " ('forth', 16, 0.0),\n",
       " ('for her', 37, 0.0),\n",
       " ('for its', 23, 0.0),\n",
       " ('formula', 15, 0.0),\n",
       " ('former', 24, 0.0),\n",
       " ('for him', 17, 0.0),\n",
       " ('format', 18, 0.0),\n",
       " ('for his', 44, 0.0),\n",
       " ('form of', 20, 0.0),\n",
       " ('kate', 17, 0.0),\n",
       " ('for instance', 10, 0.0),\n",
       " ('for it', 37, 0.0),\n",
       " ('friendship', 12, 0.0),\n",
       " ('finest', 12, 0.0),\n",
       " ('get out', 10, 0.0),\n",
       " ('fine', 73, 0.0),\n",
       " ('film on', 15, 0.0),\n",
       " ('genuine', 18, 0.0),\n",
       " ('genre', 41, 0.0),\n",
       " ('film so', 10, 0.0),\n",
       " ('film that', 63, 0.0),\n",
       " ('generation', 14, 0.0),\n",
       " ('generally', 22, 0.0),\n",
       " ('film the', 41, 0.0),\n",
       " ('general', 34, 0.0),\n",
       " ('film there', 10, 0.0),\n",
       " ('film was', 62, 0.0),\n",
       " ('film we', 12, 0.0),\n",
       " ('film which', 26, 0.0),\n",
       " ('gene', 11, 0.0),\n",
       " ('film will', 11, 0.0),\n",
       " ('gay', 22, 0.0),\n",
       " ('gave the', 10, 0.0),\n",
       " ('film with', 30, 0.0),\n",
       " ('gave it', 12, 0.0),\n",
       " ('gave', 68, 0.0),\n",
       " ('gas', 10, 0.0),\n",
       " ('film of', 22, 0.0),\n",
       " ('genuinely', 11, 0.0),\n",
       " ('george', 43, 0.0),\n",
       " ('get into', 12, 0.0),\n",
       " ('film but', 35, 0.0),\n",
       " ('film could', 11, 0.0),\n",
       " ('get me', 12, 0.0),\n",
       " ('film does', 16, 0.0),\n",
       " ('film festival', 14, 0.0),\n",
       " ('film for', 33, 0.0),\n",
       " ...]"
      ]
     },
     "execution_count": 165,
     "metadata": {},
     "output_type": "execute_result"
    }
   ],
   "source": [
    "[(words[i], freq[i], weights[i]) for i in wi[::-1]]"
   ]
  },
  {
   "cell_type": "code",
   "execution_count": null,
   "metadata": {
    "collapsed": true
   },
   "outputs": [],
   "source": []
  }
 ],
 "metadata": {
  "kernelspec": {
   "display_name": "Python 3",
   "language": "python",
   "name": "python3"
  },
  "language_info": {
   "codemirror_mode": {
    "name": "ipython",
    "version": 3
   },
   "file_extension": ".py",
   "mimetype": "text/x-python",
   "name": "python",
   "nbconvert_exporter": "python",
   "pygments_lexer": "ipython3",
   "version": "3.6.4"
  }
 },
 "nbformat": 4,
 "nbformat_minor": 2
}
