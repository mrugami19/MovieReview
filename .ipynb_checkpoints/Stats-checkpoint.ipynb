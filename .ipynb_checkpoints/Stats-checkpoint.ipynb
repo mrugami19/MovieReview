{
 "cells": [
  {
   "cell_type": "code",
   "execution_count": null,
   "metadata": {
    "collapsed": true
   },
   "outputs": [],
   "source": [
    "import os\n",
    "import sys"
   ]
  },
  {
   "cell_type": "code",
   "execution_count": null,
   "metadata": {},
   "outputs": [],
   "source": [
    "#check if it goes through all the files successfully\n",
    "directory = os.path.normpath(\"C:/Users/meghu/Desktop/train/neg\")\n",
    "counter=0\n",
    "\n",
    "for subdir, dirs, files in os.walk(directory):\n",
    "    for file in files:\n",
    "        if file.endswith(\".txt\"):\n",
    "            f=open(os.path.join(subdir, file),'r')\n",
    "            try:\n",
    "                a = f.read()\n",
    "                    \n",
    "            except:\n",
    "                pass\n",
    "            counter+=1\n",
    "            print(counter)\n",
    "            f.close()\n"
   ]
  },
  {
   "cell_type": "code",
   "execution_count": null,
   "metadata": {
    "collapsed": true
   },
   "outputs": [],
   "source": [
    "import csv"
   ]
  },
  {
   "cell_type": "code",
   "execution_count": null,
   "metadata": {},
   "outputs": [],
   "source": [
    "#parsing negative phrases\n",
    "with open('Negative.tsv') as csvfile:\n",
    "    reader=csv.reader(csvfile, delimiter='\\t')\n",
    "    collect={} # key:phrase value:number of times appeared in the collection\n",
    "    for row in reader:\n",
    "        for i in row:\n",
    "            if i is not \"\":\n",
    "                if i not in collect:\n",
    "                    collect[i]=1\n",
    "                else:\n",
    "                    collect[i]+=1  \n",
    "    #printing stats\n",
    "    for count in range(0,2):\n",
    "        print('\\n')\n",
    "        print(\"Phrases that appear \",count+1,\" times:\")\n",
    "        print('\\n')\n",
    "        for z in collect:\n",
    "            if(collect[z]==count+1):\n",
    "                print(z)\n",
    "\n"
   ]
  },
  {
   "cell_type": "code",
   "execution_count": null,
   "metadata": {},
   "outputs": [],
   "source": [
    "#parsing positive phrases\n",
    "with open('Positive.tsv') as csvfile:\n",
    "    reader=csv.reader(csvfile, delimiter='\\t')\n",
    "    collect2={} # key:phrase value:number of times appeared in the collection\n",
    "    for row in reader:\n",
    "        for i in row:\n",
    "            if i is not \"\":\n",
    "                if i not in collect2:\n",
    "                    collect2[i]=1\n",
    "                else:\n",
    "                    collect2[i]+=1  \n",
    "    #printing stats\n",
    "    for count in range(0,2):\n",
    "        print('\\n')\n",
    "        print(\"Phrases that appear \",count+1,\" times:\")\n",
    "        print('\\n')\n",
    "        for z in collect2:\n",
    "            if(collect2[z]==count+1):\n",
    "                print(z)"
   ]
  },
  {
   "cell_type": "code",
   "execution_count": null,
   "metadata": {
    "collapsed": true
   },
   "outputs": [],
   "source": [
    "#counting negative phrases in negative training set\n",
    "#sort based on counts\n",
    "directory = os.path.normpath(\"C:/Users/meghu/Desktop/train/neg\")\n",
    "NegStat=collect\n",
    "\n",
    "for d in NegStat:\n",
    "    NegStat[d]=0\n",
    "for subdir, dirs, files in os.walk(directory):\n",
    "    for file in files:\n",
    "        if file.endswith(\".txt\"):\n",
    "            f=open(os.path.join(subdir, file),'r')\n",
    "            try:\n",
    "                a = f.read()\n",
    "            except:\n",
    "                pass\n",
    "            for keys in collect:\n",
    "                if keys in a:\n",
    "                    NegStat[keys]+=1\n",
    "            f.close()\n",
    "\n",
    "\n",
    "\n"
   ]
  },
  {
   "cell_type": "code",
   "execution_count": null,
   "metadata": {
    "collapsed": true
   },
   "outputs": [],
   "source": [
    "#counting positive phrases in positive training set\n",
    "directory = os.path.normpath(\"C:/Users/meghu/Desktop/train/pos\")\n",
    "PosStat=collect2\n",
    "for d in PosStat:\n",
    "    PosStat[d]=0\n",
    "for subdir, dirs, files in os.walk(directory):\n",
    "    for file in files:\n",
    "        if file.endswith(\".txt\"):\n",
    "            f=open(os.path.join(subdir, file),'r')\n",
    "            try:\n",
    "                a = f.read()\n",
    "            except:\n",
    "                pass\n",
    "            for keys in collect2:\n",
    "                if keys in a:\n",
    "                    PosStat[keys]+=1\n",
    "                    break\n",
    "            f.close()"
   ]
  },
  {
   "cell_type": "code",
   "execution_count": null,
   "metadata": {
    "collapsed": true
   },
   "outputs": [],
   "source": [
    "#counting how many timmes negative phrases appear in positive files throughout\n",
    "directory = os.path.normpath(\"C:/Users/meghu/Desktop/train/pos\")\n",
    "NegInPos=collect\n",
    "doc2=[]\n",
    "for d in NegInPos:\n",
    "    NegInPos[d]=0\n",
    "for subdir, dirs, files in os.walk(directory):\n",
    "    for file in files:\n",
    "        if file.endswith(\".txt\"):\n",
    "            f=open(os.path.join(subdir, file),'r')\n",
    "            try:\n",
    "                a = f.read()\n",
    "                doc2.append(a)\n",
    "            except:\n",
    "                pass\n",
    "            for keys in NegInPos:\n",
    "                if keys in a:\n",
    "                    NegInPos[keys]+=1\n",
    "                    break\n",
    "            f.close()\n"
   ]
  },
  {
   "cell_type": "code",
   "execution_count": null,
   "metadata": {
    "collapsed": true
   },
   "outputs": [],
   "source": [
    "print(NegAll)"
   ]
  },
  {
   "cell_type": "code",
   "execution_count": null,
   "metadata": {
    "collapsed": true
   },
   "outputs": [],
   "source": [
    "#counting how many timmes positive phrases appear in negative files throughout\n",
    "directory = os.path.normpath(\"C:/Users/meghu/Desktop/train/neg\")\n",
    "PosInNeg=collect2\n",
    "for d in PosInNeg:\n",
    "    PosInNeg[d]=0\n",
    "for subdir, dirs, files in os.walk(directory):\n",
    "    for file in files:\n",
    "        if file.endswith(\".txt\"):\n",
    "            f=open(os.path.join(subdir, file),'r')\n",
    "            try:\n",
    "                a = f.read()\n",
    "            except:\n",
    "                pass\n",
    "            for keys in PosInNeg:\n",
    "                if keys in a:\n",
    "                    PosInNeg[keys]+=1\n",
    "                    break\n",
    "            f.close()"
   ]
  },
  {
   "cell_type": "code",
   "execution_count": null,
   "metadata": {
    "collapsed": true
   },
   "outputs": [],
   "source": [
    "print(PosInNeg)"
   ]
  },
  {
   "cell_type": "code",
   "execution_count": null,
   "metadata": {},
   "outputs": [],
   "source": [
    "#Lowercase negative phrases\n",
    "NegphraseL=[]\n",
    "for x in collect: \n",
    "    NegphraseL.append(x.lower())\n",
    "newList=[]\n",
    "for y in NegphraseL:\n",
    "    if y not in newList:\n",
    "        newList.append(y)\n",
    "print(newList)"
   ]
  },
  {
   "cell_type": "code",
   "execution_count": null,
   "metadata": {
    "collapsed": true
   },
   "outputs": [],
   "source": [
    "from sklearn.feature_extraction.text import CountVectorizer\n",
    "import numpy as np"
   ]
  },
  {
   "cell_type": "code",
   "execution_count": null,
   "metadata": {
    "collapsed": true
   },
   "outputs": [],
   "source": [
    "\n",
    "vect = CountVectorizer(ngram_range=(1,20))\n",
    "V=vect.fit(newList)\n",
    "X=V.transform(doc)"
   ]
  },
  {
   "cell_type": "code",
   "execution_count": null,
   "metadata": {
    "collapsed": true
   },
   "outputs": [],
   "source": [
    "directory = os.path.normpath(\"C:/Users/meghu/Desktop/train/neg\")\n",
    "counter=0\n",
    "doc=[]\n",
    "for subdir, dirs, files in os.walk(directory):\n",
    "    for file in files:\n",
    "        if file.endswith(\".txt\"):\n",
    "            f=open(os.path.join(subdir, file),'r')\n",
    "            try:\n",
    "                a = f.read() \n",
    "                doc.append(a)\n",
    "            except:\n",
    "                pass\n",
    "            counter+=1\n",
    "            #print(counter)\n",
    "            f.close()\n",
    "#print(doc[1])"
   ]
  },
  {
   "cell_type": "code",
   "execution_count": null,
   "metadata": {},
   "outputs": [],
   "source": [
    "X"
   ]
  },
  {
   "cell_type": "code",
   "execution_count": null,
   "metadata": {},
   "outputs": [],
   "source": [
    "vect.get_feature_names()"
   ]
  },
  {
   "cell_type": "code",
   "execution_count": null,
   "metadata": {},
   "outputs": [],
   "source": [
    "np.sum(X, axis=0)"
   ]
  },
  {
   "cell_type": "code",
   "execution_count": null,
   "metadata": {},
   "outputs": [],
   "source": [
    "X[3].indices"
   ]
  },
  {
   "cell_type": "code",
   "execution_count": null,
   "metadata": {},
   "outputs": [],
   "source": [
    "np.sum(X, axis=1)"
   ]
  },
  {
   "cell_type": "code",
   "execution_count": null,
   "metadata": {},
   "outputs": [],
   "source": [
    "X[0].indices"
   ]
  },
  {
   "cell_type": "code",
   "execution_count": null,
   "metadata": {
    "collapsed": true
   },
   "outputs": [],
   "source": [
    "CV=CountVectorizer(ngram_range=(2,20))"
   ]
  },
  {
   "cell_type": "code",
   "execution_count": null,
   "metadata": {
    "collapsed": true
   },
   "outputs": [],
   "source": [
    "dict=CV.fit(newList).vocabulary_"
   ]
  },
  {
   "cell_type": "code",
   "execution_count": null,
   "metadata": {},
   "outputs": [],
   "source": [
    "len(dict)"
   ]
  },
  {
   "cell_type": "code",
   "execution_count": null,
   "metadata": {},
   "outputs": [],
   "source": [
    "print(dict)\n"
   ]
  },
  {
   "cell_type": "code",
   "execution_count": null,
   "metadata": {
    "collapsed": true
   },
   "outputs": [],
   "source": [
    "#trying to see for a smaller number of documents\n",
    "directory = os.path.normpath(\"C:/Users/meghu/Desktop/small pos\")\n",
    "counter=0\n",
    "doc=[]\n",
    "for subdir, dirs, files in os.walk(directory):\n",
    "    for file in files:\n",
    "        if file.endswith(\".txt\"):\n",
    "            f=open(os.path.join(subdir, file),'r')\n",
    "            try:\n",
    "                a = f.read() \n",
    "                doc.append(a)\n",
    "            except:\n",
    "                pass\n",
    "            counter+=1\n",
    "            #print(counter)\n",
    "            f.close()\n",
    "#print(doc[1])"
   ]
  },
  {
   "cell_type": "code",
   "execution_count": null,
   "metadata": {
    "collapsed": true
   },
   "outputs": [],
   "source": [
    "#counting how many times an ngram appears in the documents\n",
    "countDict={}\n",
    "for x in dict:\n",
    "    countDict[x]=0\n",
    "    for y in doc:\n",
    "        if x in y:\n",
    "            countDict[x]+=1\n",
    "\n",
    "            "
   ]
  },
  {
   "cell_type": "code",
   "execution_count": null,
   "metadata": {},
   "outputs": [],
   "source": [
    "print (countDict)"
   ]
  },
  {
   "cell_type": "code",
   "execution_count": null,
   "metadata": {
    "collapsed": true
   },
   "outputs": [],
   "source": [
    "#counting how many times an ngram does not appear in a document\n",
    "countDict={}\n",
    "for x in dict:\n",
    "    countDict[x]=0\n",
    "    for y in doc:\n",
    "        if x not in y:\n",
    "            countDict[x]+=1\n",
    "\n",
    "            "
   ]
  },
  {
   "cell_type": "code",
   "execution_count": null,
   "metadata": {},
   "outputs": [],
   "source": [
    "print(countDict)"
   ]
  },
  {
   "cell_type": "code",
   "execution_count": null,
   "metadata": {},
   "outputs": [],
   "source": [
    "PosphraseL=[]\n",
    "for x in collect2: \n",
    "    PosphraseL.append(x.lower())\n",
    "#print(PosphraseL)\n",
    "newList2=[]\n",
    "for y in PosphraseL:\n",
    "    if y not in newList2:\n",
    "        newList2.append(y)\n",
    "print(newList2)"
   ]
  },
  {
   "cell_type": "code",
   "execution_count": null,
   "metadata": {
    "collapsed": true
   },
   "outputs": [],
   "source": [
    "directory = os.path.normpath(\"C:/Users/meghu/Desktop/train/pos\")\n",
    "counter=0\n",
    "doc2=[]\n",
    "for subdir, dirs, files in os.walk(directory):\n",
    "    for file in files:\n",
    "        if file.endswith(\".txt\"):\n",
    "            f=open(os.path.join(subdir, file),'r')\n",
    "            try:\n",
    "                a = f.read() \n",
    "                doc2.append(a)\n",
    "            except:\n",
    "                pass\n",
    "            counter+=1\n",
    "            #print(counter)\n",
    "            f.close()\n",
    "#print(doc2[1])"
   ]
  },
  {
   "cell_type": "code",
   "execution_count": null,
   "metadata": {
    "collapsed": true
   },
   "outputs": [],
   "source": [
    "CV2=CountVectorizer(ngram_range=(2,20))"
   ]
  },
  {
   "cell_type": "code",
   "execution_count": null,
   "metadata": {
    "collapsed": true
   },
   "outputs": [],
   "source": [
    "posdict=CV.fit(newList2).vocabulary_"
   ]
  },
  {
   "cell_type": "code",
   "execution_count": null,
   "metadata": {},
   "outputs": [],
   "source": [
    "print(posdict)"
   ]
  },
  {
   "cell_type": "code",
   "execution_count": null,
   "metadata": {
    "collapsed": true
   },
   "outputs": [],
   "source": [
    "#counting how many times an ngram does not appear in a document\n",
    "poscountDict={}\n",
    "for x in posdict:\n",
    "    poscountDict[x]=0\n",
    "    for y in doc2:\n",
    "        if x not in y:\n",
    "            poscountDict[x]+=1"
   ]
  },
  {
   "cell_type": "code",
   "execution_count": null,
   "metadata": {},
   "outputs": [],
   "source": [
    "print(poscountDict)"
   ]
  },
  {
   "cell_type": "code",
   "execution_count": null,
   "metadata": {
    "collapsed": true
   },
   "outputs": [],
   "source": [
    "#counting how many times an ngram appears in the documents\n",
    "poscountDict={}\n",
    "for x in posdict:\n",
    "    poscountDict[x]=0\n",
    "    for y in doc2:\n",
    "        if x in y:\n",
    "            poscountDict[x]+=1"
   ]
  },
  {
   "cell_type": "code",
   "execution_count": null,
   "metadata": {},
   "outputs": [],
   "source": [
    "print(poscountDict)"
   ]
  },
  {
   "cell_type": "code",
   "execution_count": null,
   "metadata": {
    "collapsed": true
   },
   "outputs": [],
   "source": []
  }
 ],
 "metadata": {
  "kernelspec": {
   "display_name": "Python 3",
   "language": "python",
   "name": "python3"
  },
  "language_info": {
   "codemirror_mode": {
    "name": "ipython",
    "version": 3
   },
   "file_extension": ".py",
   "mimetype": "text/x-python",
   "name": "python",
   "nbconvert_exporter": "python",
   "pygments_lexer": "ipython3",
   "version": "3.6.4"
  }
 },
 "nbformat": 4,
 "nbformat_minor": 2
}
